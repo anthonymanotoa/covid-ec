{
 "cells": [
  {
   "cell_type": "markdown",
   "source": "# Análisis exploratorio de datos - Covid",
   "metadata": {
    "tags": [],
    "cell_id": "00000-2201a579-aafd-4345-9156-23ea98526156",
    "deepnote_cell_type": "markdown"
   }
  },
  {
   "cell_type": "code",
   "metadata": {
    "tags": [],
    "cell_id": "00001-577aa392-fe8a-469e-853b-232fc0185282",
    "deepnote_to_be_reexecuted": false,
    "source_hash": "a7811e07",
    "execution_start": 1641348426389,
    "execution_millis": 1917,
    "deepnote_cell_type": "code"
   },
   "source": "import pandas as pd\nimport matplotlib.pyplot as plt\nimport seaborn as sns\nimport os",
   "execution_count": 1,
   "outputs": []
  },
  {
   "cell_type": "code",
   "metadata": {
    "tags": [],
    "cell_id": "00002-85c3b095-a053-4aa2-9237-834a64ce63e6",
    "deepnote_to_be_reexecuted": false,
    "source_hash": "f2f79983",
    "execution_start": 1641348428314,
    "execution_millis": 4,
    "deepnote_cell_type": "code"
   },
   "source": "sns.set_theme()",
   "execution_count": 2,
   "outputs": []
  },
  {
   "cell_type": "code",
   "metadata": {
    "tags": [],
    "cell_id": "00002-2d334267-a14f-4256-a94a-b507312eb7c3",
    "deepnote_to_be_reexecuted": false,
    "source_hash": "752092c",
    "execution_start": 1641348428323,
    "execution_millis": 20,
    "deepnote_cell_type": "code"
   },
   "source": "# Load data\npath = os.path.join(os.getcwd(), os.pardir, 'data', 'processed')\n\npositives = pd.read_pickle(os.path.join(path, 'positives.pkl'))\nvaccines = pd.read_pickle(os.path.join(path, 'vaccines.pkl'))\ndeaths = pd.read_pickle(os.path.join(path, 'deaths.pkl'))",
   "execution_count": 3,
   "outputs": []
  },
  {
   "cell_type": "markdown",
   "source": "## Positives\n\n### Visión general",
   "metadata": {
    "tags": [],
    "cell_id": "00003-86435c5d-fb56-408a-a385-2461e371eb10",
    "deepnote_cell_type": "markdown"
   }
  },
  {
   "cell_type": "code",
   "metadata": {
    "tags": [],
    "cell_id": "00004-3e5252b4-6b40-4336-b864-778c0518351c",
    "deepnote_to_be_reexecuted": false,
    "source_hash": "b5756865",
    "execution_start": 1641348428363,
    "execution_millis": 7,
    "deepnote_cell_type": "code"
   },
   "source": "positives.info()",
   "execution_count": 4,
   "outputs": [
    {
     "name": "stdout",
     "text": "<class 'pandas.core.frame.DataFrame'>\nInt64Index: 15888 entries, 0 to 71\nData columns (total 6 columns):\n #   Column                Non-Null Count  Dtype         \n---  ------                --------------  -----         \n 0   provincia             15888 non-null  object        \n 1   poblacion             15888 non-null  int64         \n 2   acumulados_provincia  15888 non-null  int64         \n 3   nuevas                15888 non-null  int64         \n 4   created_at            15888 non-null  datetime64[ns]\n 5   acumulados            15888 non-null  int64         \ndtypes: datetime64[ns](1), int64(4), object(1)\nmemory usage: 868.9+ KB\n",
     "output_type": "stream",
     "data": {}
    }
   ]
  },
  {
   "cell_type": "code",
   "metadata": {
    "tags": [],
    "cell_id": "00007-ad80a866-b730-468d-adf1-c3b1d9c36673",
    "deepnote_to_be_reexecuted": false,
    "source_hash": "3553166a",
    "execution_start": 1641348428383,
    "execution_millis": 59,
    "deepnote_cell_type": "code"
   },
   "source": "positives.describe()",
   "execution_count": 5,
   "outputs": [
    {
     "output_type": "execute_result",
     "execution_count": 5,
     "data": {
      "application/vnd.deepnote.dataframe.v3+json": {
       "column_count": 4,
       "row_count": 8,
       "columns": [
        {
         "name": "poblacion",
         "dtype": "float64",
         "stats": {
          "unique_count": 8,
          "nan_count": 0,
          "min": "15888.0",
          "max": "4387434.0",
          "histogram": [
           {
            "bin_start": 15888,
            "bin_end": 453042.6,
            "count": 3
           },
           {
            "bin_start": 453042.6,
            "bin_end": 890197.2,
            "count": 3
           },
           {
            "bin_start": 890197.2,
            "bin_end": 1327351.7999999998,
            "count": 1
           },
           {
            "bin_start": 1327351.7999999998,
            "bin_end": 1764506.4,
            "count": 0
           },
           {
            "bin_start": 1764506.4,
            "bin_end": 2201661,
            "count": 0
           },
           {
            "bin_start": 2201661,
            "bin_end": 2638815.5999999996,
            "count": 0
           },
           {
            "bin_start": 2638815.5999999996,
            "bin_end": 3075970.1999999997,
            "count": 0
           },
           {
            "bin_start": 3075970.1999999997,
            "bin_end": 3513124.8,
            "count": 0
           },
           {
            "bin_start": 3513124.8,
            "bin_end": 3950279.4,
            "count": 0
           },
           {
            "bin_start": 3950279.4,
            "bin_end": 4387434,
            "count": 1
           }
          ]
         }
        },
        {
         "name": "acumulados_provincia",
         "dtype": "float64",
         "stats": {
          "unique_count": 8,
          "nan_count": 0,
          "min": "0.0",
          "max": "203592.0",
          "histogram": [
           {
            "bin_start": 0,
            "bin_end": 20359.2,
            "count": 6
           },
           {
            "bin_start": 20359.2,
            "bin_end": 40718.4,
            "count": 1
           },
           {
            "bin_start": 40718.4,
            "bin_end": 61077.600000000006,
            "count": 0
           },
           {
            "bin_start": 61077.600000000006,
            "bin_end": 81436.8,
            "count": 0
           },
           {
            "bin_start": 81436.8,
            "bin_end": 101796,
            "count": 0
           },
           {
            "bin_start": 101796,
            "bin_end": 122155.20000000001,
            "count": 0
           },
           {
            "bin_start": 122155.20000000001,
            "bin_end": 142514.4,
            "count": 0
           },
           {
            "bin_start": 142514.4,
            "bin_end": 162873.6,
            "count": 0
           },
           {
            "bin_start": 162873.6,
            "bin_end": 183232.80000000002,
            "count": 0
           },
           {
            "bin_start": 183232.80000000002,
            "bin_end": 203592,
            "count": 1
           }
          ]
         }
        },
        {
         "name": "nuevas",
         "dtype": "float64",
         "stats": {
          "unique_count": 8,
          "nan_count": 0,
          "min": "0.0",
          "max": "15888.0",
          "histogram": [
           {
            "bin_start": 0,
            "bin_end": 1588.8,
            "count": 6
           },
           {
            "bin_start": 1588.8,
            "bin_end": 3177.6,
            "count": 0
           },
           {
            "bin_start": 3177.6,
            "bin_end": 4766.4,
            "count": 1
           },
           {
            "bin_start": 4766.4,
            "bin_end": 6355.2,
            "count": 0
           },
           {
            "bin_start": 6355.2,
            "bin_end": 7944,
            "count": 0
           },
           {
            "bin_start": 7944,
            "bin_end": 9532.8,
            "count": 0
           },
           {
            "bin_start": 9532.8,
            "bin_end": 11121.6,
            "count": 0
           },
           {
            "bin_start": 11121.6,
            "bin_end": 12710.4,
            "count": 0
           },
           {
            "bin_start": 12710.4,
            "bin_end": 14299.199999999999,
            "count": 0
           },
           {
            "bin_start": 14299.199999999999,
            "bin_end": 15888,
            "count": 1
           }
          ]
         }
        },
        {
         "name": "acumulados",
         "dtype": "float64",
         "stats": {
          "unique_count": 8,
          "nan_count": 0,
          "min": "0.0",
          "max": "562723.0",
          "histogram": [
           {
            "bin_start": 0,
            "bin_end": 56272.3,
            "count": 2
           },
           {
            "bin_start": 56272.3,
            "bin_end": 112544.6,
            "count": 1
           },
           {
            "bin_start": 112544.6,
            "bin_end": 168816.90000000002,
            "count": 0
           },
           {
            "bin_start": 168816.90000000002,
            "bin_end": 225089.2,
            "count": 1
           },
           {
            "bin_start": 225089.2,
            "bin_end": 281361.5,
            "count": 1
           },
           {
            "bin_start": 281361.5,
            "bin_end": 337633.80000000005,
            "count": 1
           },
           {
            "bin_start": 337633.80000000005,
            "bin_end": 393906.10000000003,
            "count": 0
           },
           {
            "bin_start": 393906.10000000003,
            "bin_end": 450178.4,
            "count": 0
           },
           {
            "bin_start": 450178.4,
            "bin_end": 506450.7,
            "count": 1
           },
           {
            "bin_start": 506450.7,
            "bin_end": 562723,
            "count": 1
           }
          ]
         }
        },
        {
         "name": "_deepnote_index_column",
         "dtype": "object"
        }
       ],
       "rows": [
        {
         "poblacion": 15888,
         "acumulados_provincia": 15888,
         "nuevas": 15888,
         "acumulados": 15888,
         "_deepnote_index_column": "count"
        },
        {
         "poblacion": 727864,
         "acumulados_provincia": 11502.370971802618,
         "nuevas": 35.418114300100704,
         "acumulados": 284182.94637462235,
         "_deepnote_index_column": "mean"
        },
        {
         "poblacion": 999819.3696686008,
         "acumulados_provincia": 25393.282824350175,
         "nuevas": 108.98189543332633,
         "acumulados": 188465.0765819028,
         "_deepnote_index_column": "std"
        },
        {
         "poblacion": 33042,
         "acumulados_provincia": 0,
         "nuevas": 0,
         "acumulados": 0,
         "_deepnote_index_column": "min"
        },
        {
         "poblacion": 194118.5,
         "acumulados_provincia": 1684,
         "nuevas": 1,
         "acumulados": 109017,
         "_deepnote_index_column": "25%"
        },
        {
         "poblacion": 482486.5,
         "acumulados_provincia": 4408,
         "nuevas": 8,
         "acumulados": 266448.5,
         "_deepnote_index_column": "50%"
        },
        {
         "poblacion": 622250,
         "acumulados_provincia": 10507.75,
         "nuevas": 28.25,
         "acumulados": 488383,
         "_deepnote_index_column": "75%"
        },
        {
         "poblacion": 4387434,
         "acumulados_provincia": 203592,
         "nuevas": 3388,
         "acumulados": 562723,
         "_deepnote_index_column": "max"
        }
       ]
      },
      "text/plain": "          poblacion  acumulados_provincia        nuevas     acumulados\ncount  1.588800e+04          15888.000000  15888.000000   15888.000000\nmean   7.278640e+05          11502.370972     35.418114  284182.946375\nstd    9.998194e+05          25393.282824    108.981895  188465.076582\nmin    3.304200e+04              0.000000      0.000000       0.000000\n25%    1.941185e+05           1684.000000      1.000000  109017.000000\n50%    4.824865e+05           4408.000000      8.000000  266448.500000\n75%    6.222500e+05          10507.750000     28.250000  488383.000000\nmax    4.387434e+06         203592.000000   3388.000000  562723.000000",
      "text/html": "<div>\n<style scoped>\n    .dataframe tbody tr th:only-of-type {\n        vertical-align: middle;\n    }\n\n    .dataframe tbody tr th {\n        vertical-align: top;\n    }\n\n    .dataframe thead th {\n        text-align: right;\n    }\n</style>\n<table border=\"1\" class=\"dataframe\">\n  <thead>\n    <tr style=\"text-align: right;\">\n      <th></th>\n      <th>poblacion</th>\n      <th>acumulados_provincia</th>\n      <th>nuevas</th>\n      <th>acumulados</th>\n    </tr>\n  </thead>\n  <tbody>\n    <tr>\n      <th>count</th>\n      <td>1.588800e+04</td>\n      <td>15888.000000</td>\n      <td>15888.000000</td>\n      <td>15888.000000</td>\n    </tr>\n    <tr>\n      <th>mean</th>\n      <td>7.278640e+05</td>\n      <td>11502.370972</td>\n      <td>35.418114</td>\n      <td>284182.946375</td>\n    </tr>\n    <tr>\n      <th>std</th>\n      <td>9.998194e+05</td>\n      <td>25393.282824</td>\n      <td>108.981895</td>\n      <td>188465.076582</td>\n    </tr>\n    <tr>\n      <th>min</th>\n      <td>3.304200e+04</td>\n      <td>0.000000</td>\n      <td>0.000000</td>\n      <td>0.000000</td>\n    </tr>\n    <tr>\n      <th>25%</th>\n      <td>1.941185e+05</td>\n      <td>1684.000000</td>\n      <td>1.000000</td>\n      <td>109017.000000</td>\n    </tr>\n    <tr>\n      <th>50%</th>\n      <td>4.824865e+05</td>\n      <td>4408.000000</td>\n      <td>8.000000</td>\n      <td>266448.500000</td>\n    </tr>\n    <tr>\n      <th>75%</th>\n      <td>6.222500e+05</td>\n      <td>10507.750000</td>\n      <td>28.250000</td>\n      <td>488383.000000</td>\n    </tr>\n    <tr>\n      <th>max</th>\n      <td>4.387434e+06</td>\n      <td>203592.000000</td>\n      <td>3388.000000</td>\n      <td>562723.000000</td>\n    </tr>\n  </tbody>\n</table>\n</div>"
     },
     "metadata": {}
    }
   ]
  },
  {
   "cell_type": "markdown",
   "source": "### Análisis unidimensional",
   "metadata": {
    "tags": [],
    "cell_id": "00008-923d418b-11a4-4726-90d6-b44540ac7fae",
    "deepnote_cell_type": "markdown"
   }
  },
  {
   "cell_type": "markdown",
   "source": "¿Cuántos casos positivos hay al día quitando los outliers?",
   "metadata": {
    "tags": [],
    "cell_id": "00009-d34c168a-3637-4b0c-89d9-0b366fd8ab14",
    "deepnote_to_be_reexecuted": false,
    "source_hash": "d784b44a",
    "execution_start": 1640122969739,
    "deepnote_cell_type": "markdown"
   }
  },
  {
   "cell_type": "code",
   "metadata": {
    "tags": [],
    "cell_id": "00009-c639a1bf-6c00-4215-b52f-9a11d4b459c0",
    "deepnote_to_be_reexecuted": false,
    "source_hash": "eb83a536",
    "execution_start": 1641348428444,
    "execution_millis": 587,
    "deepnote_output_heights": [
     269.984375
    ],
    "deepnote_cell_type": "code"
   },
   "source": "plt.figure(figsize=[12, 4])\ndata_p = positives[positives['nuevas'] < positives['nuevas'].quantile(0.95)]['nuevas']\nsns.histplot(data=data_p)\nplt.show()",
   "execution_count": 6,
   "outputs": [
    {
     "data": {
      "text/plain": "<Figure size 864x288 with 1 Axes>",
      "image/png": "[encoded data removed]"
     },
     "metadata": {
      "image/png": {
       "width": 738,
       "height": 268
      }
     },
     "output_type": "display_data"
    }
   ]
  },
  {
   "cell_type": "markdown",
   "source": "### Análisis multidimensional",
   "metadata": {
    "tags": [],
    "cell_id": "00004-8754b6ae-5c2e-449c-9640-59acbd6ab937",
    "deepnote_cell_type": "markdown"
   }
  },
  {
   "cell_type": "code",
   "metadata": {
    "tags": [],
    "cell_id": "00004-2c603f63-2f6c-460e-9ff1-e27c1745fa0e",
    "deepnote_to_be_reexecuted": false,
    "source_hash": "208a563d",
    "execution_start": 1641348429106,
    "execution_millis": 547,
    "deepnote_output_heights": [
     304.984375
    ],
    "deepnote_cell_type": "code"
   },
   "source": "plt.plot(positives.created_at, positives.acumulados)\nplt.xticks(rotation=90)\nplt.title('Positivos acumulados totales')\nplt.show()",
   "execution_count": 7,
   "outputs": [
    {
     "data": {
      "text/plain": "<Figure size 432x288 with 1 Axes>",
      "image/png": "[encoded data removed]"
     },
     "metadata": {
      "image/png": {
       "width": 400,
       "height": 303
      }
     },
     "output_type": "display_data"
    }
   ]
  },
  {
   "cell_type": "markdown",
   "source": "## Vaccines\n\n### Visión general",
   "metadata": {
    "tags": [],
    "cell_id": "00004-230b248d-4d65-4426-b205-e4638fcde904",
    "deepnote_cell_type": "markdown"
   }
  },
  {
   "cell_type": "code",
   "metadata": {
    "tags": [],
    "cell_id": "00013-c9757c99-9200-4e8c-a43c-ec6a3dcf90d5",
    "deepnote_to_be_reexecuted": false,
    "source_hash": "14aa39b5",
    "execution_start": 1641348429531,
    "execution_millis": 123,
    "deepnote_cell_type": "code"
   },
   "source": "vaccines.info()",
   "execution_count": 8,
   "outputs": [
    {
     "name": "stdout",
     "text": "<class 'pandas.core.frame.DataFrame'>\nInt64Index: 260 entries, 0 to 259\nData columns (total 5 columns):\n #   Column         Non-Null Count  Dtype         \n---  ------         --------------  -----         \n 0   fecha          260 non-null    datetime64[ns]\n 1   dosis_total    260 non-null    int64         \n 2   primera_dosis  260 non-null    int64         \n 3   segunda_dosis  260 non-null    int64         \n 4   refuerzo       260 non-null    int64         \ndtypes: datetime64[ns](1), int64(4)\nmemory usage: 12.2 KB\n",
     "output_type": "stream",
     "data": {}
    }
   ]
  },
  {
   "cell_type": "code",
   "metadata": {
    "tags": [],
    "cell_id": "00015-21177491-bf0b-4aff-9eda-03640ec130a9",
    "deepnote_to_be_reexecuted": false,
    "source_hash": "15a4cdfb",
    "execution_start": 1641348429565,
    "execution_millis": 90,
    "deepnote_cell_type": "code"
   },
   "source": "vaccines.describe()",
   "execution_count": 9,
   "outputs": [
    {
     "output_type": "execute_result",
     "execution_count": 9,
     "data": {
      "application/vnd.deepnote.dataframe.v3+json": {
       "column_count": 4,
       "row_count": 8,
       "columns": [
        {
         "name": "dosis_total",
         "dtype": "float64",
         "stats": {
          "unique_count": 8,
          "nan_count": 0,
          "min": "0.0",
          "max": "27574141.0",
          "histogram": [
           {
            "bin_start": 0,
            "bin_end": 2757414.1,
            "count": 3
           },
           {
            "bin_start": 2757414.1,
            "bin_end": 5514828.2,
            "count": 0
           },
           {
            "bin_start": 5514828.2,
            "bin_end": 8272242.300000001,
            "count": 0
           },
           {
            "bin_start": 8272242.300000001,
            "bin_end": 11029656.4,
            "count": 1
           },
           {
            "bin_start": 11029656.4,
            "bin_end": 13787070.5,
            "count": 1
           },
           {
            "bin_start": 13787070.5,
            "bin_end": 16544484.600000001,
            "count": 1
           },
           {
            "bin_start": 16544484.600000001,
            "bin_end": 19301898.7,
            "count": 0
           },
           {
            "bin_start": 19301898.7,
            "bin_end": 22059312.8,
            "count": 0
           },
           {
            "bin_start": 22059312.8,
            "bin_end": 24816726.900000002,
            "count": 1
           },
           {
            "bin_start": 24816726.900000002,
            "bin_end": 27574141,
            "count": 1
           }
          ]
         }
        },
        {
         "name": "primera_dosis",
         "dtype": "float64",
         "stats": {
          "unique_count": 8,
          "nan_count": 0,
          "min": "0.0",
          "max": "13749103.0",
          "histogram": [
           {
            "bin_start": 0,
            "bin_end": 1374910.3,
            "count": 2
           },
           {
            "bin_start": 1374910.3,
            "bin_end": 2749820.6,
            "count": 1
           },
           {
            "bin_start": 2749820.6,
            "bin_end": 4124730.9000000004,
            "count": 0
           },
           {
            "bin_start": 4124730.9000000004,
            "bin_end": 5499641.2,
            "count": 1
           },
           {
            "bin_start": 5499641.2,
            "bin_end": 6874551.5,
            "count": 0
           },
           {
            "bin_start": 6874551.5,
            "bin_end": 8249461.800000001,
            "count": 1
           },
           {
            "bin_start": 8249461.800000001,
            "bin_end": 9624372.1,
            "count": 0
           },
           {
            "bin_start": 9624372.1,
            "bin_end": 10999282.4,
            "count": 1
           },
           {
            "bin_start": 10999282.4,
            "bin_end": 12374192.700000001,
            "count": 1
           },
           {
            "bin_start": 12374192.700000001,
            "bin_end": 13749103,
            "count": 1
           }
          ]
         }
        },
        {
         "name": "segunda_dosis",
         "dtype": "float64",
         "stats": {
          "unique_count": 8,
          "nan_count": 0,
          "min": "0.0",
          "max": "12692500.0",
          "histogram": [
           {
            "bin_start": 0,
            "bin_end": 1269250,
            "count": 3
           },
           {
            "bin_start": 1269250,
            "bin_end": 2538500,
            "count": 0
           },
           {
            "bin_start": 2538500,
            "bin_end": 3807750,
            "count": 0
           },
           {
            "bin_start": 3807750,
            "bin_end": 5077000,
            "count": 2
           },
           {
            "bin_start": 5077000,
            "bin_end": 6346250,
            "count": 1
           },
           {
            "bin_start": 6346250,
            "bin_end": 7615500,
            "count": 0
           },
           {
            "bin_start": 7615500,
            "bin_end": 8884750,
            "count": 0
           },
           {
            "bin_start": 8884750,
            "bin_end": 10154000,
            "count": 0
           },
           {
            "bin_start": 10154000,
            "bin_end": 11423250,
            "count": 1
           },
           {
            "bin_start": 11423250,
            "bin_end": 12692500,
            "count": 1
           }
          ]
         }
        },
        {
         "name": "refuerzo",
         "dtype": "float64",
         "stats": {
          "unique_count": 6,
          "nan_count": 0,
          "min": "0.0",
          "max": "1132538.0",
          "histogram": [
           {
            "bin_start": 0,
            "bin_end": 113253.8,
            "count": 5
           },
           {
            "bin_start": 113253.8,
            "bin_end": 226507.6,
            "count": 1
           },
           {
            "bin_start": 226507.6,
            "bin_end": 339761.4,
            "count": 1
           },
           {
            "bin_start": 339761.4,
            "bin_end": 453015.2,
            "count": 0
           },
           {
            "bin_start": 453015.2,
            "bin_end": 566269,
            "count": 0
           },
           {
            "bin_start": 566269,
            "bin_end": 679522.8,
            "count": 0
           },
           {
            "bin_start": 679522.8,
            "bin_end": 792776.6,
            "count": 0
           },
           {
            "bin_start": 792776.6,
            "bin_end": 906030.4,
            "count": 0
           },
           {
            "bin_start": 906030.4,
            "bin_end": 1019284.2000000001,
            "count": 0
           },
           {
            "bin_start": 1019284.2000000001,
            "bin_end": 1132538,
            "count": 1
           }
          ]
         }
        },
        {
         "name": "_deepnote_index_column",
         "dtype": "object"
        }
       ],
       "rows": [
        {
         "dosis_total": 260,
         "primera_dosis": 260,
         "segunda_dosis": 260,
         "refuerzo": 260,
         "_deepnote_index_column": "count"
        },
        {
         "dosis_total": 13139786.003846154,
         "primera_dosis": 7372607.819230769,
         "segunda_dosis": 5638591.142307692,
         "refuerzo": 128440.12307692308,
         "_deepnote_index_column": "mean"
        },
        {
         "dosis_total": 10103460.732251268,
         "primera_dosis": 5195232.919659946,
         "segunda_dosis": 4866388.9730583215,
         "refuerzo": 283184.0499185886,
         "_deepnote_index_column": "std"
        },
        {
         "dosis_total": 0,
         "primera_dosis": 0,
         "segunda_dosis": 0,
         "refuerzo": 0,
         "_deepnote_index_column": "min"
        },
        {
         "dosis_total": 2157073,
         "primera_dosis": 1535357.25,
         "segunda_dosis": 621715.75,
         "refuerzo": 0,
         "_deepnote_index_column": "25%"
        },
        {
         "dosis_total": 14631320,
         "primera_dosis": 9955870.5,
         "segunda_dosis": 4675449.5,
         "refuerzo": 0,
         "_deepnote_index_column": "50%"
        },
        {
         "dosis_total": 22379669.75,
         "primera_dosis": 12073975,
         "segunda_dosis": 10260263.75,
         "refuerzo": 45431,
         "_deepnote_index_column": "75%"
        },
        {
         "dosis_total": 27574141,
         "primera_dosis": 13749103,
         "segunda_dosis": 12692500,
         "refuerzo": 1132538,
         "_deepnote_index_column": "max"
        }
       ]
      },
      "text/plain": "        dosis_total  primera_dosis  segunda_dosis      refuerzo\ncount  2.600000e+02   2.600000e+02   2.600000e+02  2.600000e+02\nmean   1.313979e+07   7.372608e+06   5.638591e+06  1.284401e+05\nstd    1.010346e+07   5.195233e+06   4.866389e+06  2.831840e+05\nmin    0.000000e+00   0.000000e+00   0.000000e+00  0.000000e+00\n25%    2.157073e+06   1.535357e+06   6.217158e+05  0.000000e+00\n50%    1.463132e+07   9.955870e+06   4.675450e+06  0.000000e+00\n75%    2.237967e+07   1.207398e+07   1.026026e+07  4.543100e+04\nmax    2.757414e+07   1.374910e+07   1.269250e+07  1.132538e+06",
      "text/html": "<div>\n<style scoped>\n    .dataframe tbody tr th:only-of-type {\n        vertical-align: middle;\n    }\n\n    .dataframe tbody tr th {\n        vertical-align: top;\n    }\n\n    .dataframe thead th {\n        text-align: right;\n    }\n</style>\n<table border=\"1\" class=\"dataframe\">\n  <thead>\n    <tr style=\"text-align: right;\">\n      <th></th>\n      <th>dosis_total</th>\n      <th>primera_dosis</th>\n      <th>segunda_dosis</th>\n      <th>refuerzo</th>\n    </tr>\n  </thead>\n  <tbody>\n    <tr>\n      <th>count</th>\n      <td>2.600000e+02</td>\n      <td>2.600000e+02</td>\n      <td>2.600000e+02</td>\n      <td>2.600000e+02</td>\n    </tr>\n    <tr>\n      <th>mean</th>\n      <td>1.313979e+07</td>\n      <td>7.372608e+06</td>\n      <td>5.638591e+06</td>\n      <td>1.284401e+05</td>\n    </tr>\n    <tr>\n      <th>std</th>\n      <td>1.010346e+07</td>\n      <td>5.195233e+06</td>\n      <td>4.866389e+06</td>\n      <td>2.831840e+05</td>\n    </tr>\n    <tr>\n      <th>min</th>\n      <td>0.000000e+00</td>\n      <td>0.000000e+00</td>\n      <td>0.000000e+00</td>\n      <td>0.000000e+00</td>\n    </tr>\n    <tr>\n      <th>25%</th>\n      <td>2.157073e+06</td>\n      <td>1.535357e+06</td>\n      <td>6.217158e+05</td>\n      <td>0.000000e+00</td>\n    </tr>\n    <tr>\n      <th>50%</th>\n      <td>1.463132e+07</td>\n      <td>9.955870e+06</td>\n      <td>4.675450e+06</td>\n      <td>0.000000e+00</td>\n    </tr>\n    <tr>\n      <th>75%</th>\n      <td>2.237967e+07</td>\n      <td>1.207398e+07</td>\n      <td>1.026026e+07</td>\n      <td>4.543100e+04</td>\n    </tr>\n    <tr>\n      <th>max</th>\n      <td>2.757414e+07</td>\n      <td>1.374910e+07</td>\n      <td>1.269250e+07</td>\n      <td>1.132538e+06</td>\n    </tr>\n  </tbody>\n</table>\n</div>"
     },
     "metadata": {}
    }
   ]
  },
  {
   "cell_type": "markdown",
   "source": "### Análisis multidimensional",
   "metadata": {
    "tags": [],
    "cell_id": "00016-b06d870c-abf8-4733-9b10-c1e991a9e240",
    "deepnote_cell_type": "markdown"
   }
  },
  {
   "cell_type": "code",
   "metadata": {
    "tags": [],
    "cell_id": "00005-85b9c127-538b-49cd-879c-0a5991632b4b",
    "deepnote_to_be_reexecuted": false,
    "source_hash": "6136e026",
    "execution_start": 1641348429684,
    "execution_millis": 622,
    "deepnote_output_heights": [
     423.96875
    ],
    "deepnote_cell_type": "code"
   },
   "source": "plt.figure(figsize=[12, 6])\nsns.lineplot(data=vaccines, x='fecha', y='dosis_total',  label='Totales')\nsns.lineplot(data=vaccines, x='fecha', y='primera_dosis', label='Primera')\nsns.lineplot(data=vaccines, x='fecha', y='segunda_dosis', label='Segunda')\nsns.lineplot(data=vaccines, x='fecha', y='refuerzo', label='Refuerzo')\nplt.xticks(rotation=60)\nplt.show()",
   "execution_count": 10,
   "outputs": [
    {
     "data": {
      "text/plain": "<Figure size 864x432 with 1 Axes>",
      "image/png": "[encoded data removed]"
     },
     "metadata": {
      "image/png": {
       "width": 727,
       "height": 422
      }
     },
     "output_type": "display_data"
    }
   ]
  },
  {
   "cell_type": "markdown",
   "source": "## Deaths\n\n### Visión general",
   "metadata": {
    "tags": [],
    "cell_id": "00005-3b89aa43-1067-432e-9e3e-9d5338008388",
    "deepnote_cell_type": "markdown"
   }
  },
  {
   "cell_type": "code",
   "metadata": {
    "tags": [],
    "cell_id": "00019-41411124-01e9-4176-83ae-6ab6c3d14bf8",
    "deepnote_to_be_reexecuted": false,
    "source_hash": "32920a1e",
    "execution_start": 1641348430358,
    "execution_millis": 2,
    "deepnote_cell_type": "code"
   },
   "source": "deaths.info()",
   "execution_count": 11,
   "outputs": [
    {
     "name": "stdout",
     "text": "<class 'pandas.core.frame.DataFrame'>\nRangeIndex: 713 entries, 0 to 712\nData columns (total 3 columns):\n #   Column       Non-Null Count  Dtype         \n---  ------       --------------  -----         \n 0   date         713 non-null    datetime64[ns]\n 1   accumulated  713 non-null    int64         \n 2   new          712 non-null    float64       \ndtypes: datetime64[ns](1), float64(1), int64(1)\nmemory usage: 16.8 KB\n",
     "output_type": "stream",
     "data": {}
    }
   ]
  },
  {
   "cell_type": "code",
   "metadata": {
    "tags": [],
    "cell_id": "00021-3be4fff7-3ef1-4fa4-9162-16417506f281",
    "deepnote_to_be_reexecuted": false,
    "source_hash": "42be85c8",
    "execution_start": 1641348430399,
    "execution_millis": 2,
    "deepnote_cell_type": "code"
   },
   "source": "deaths.describe()",
   "execution_count": 12,
   "outputs": [
    {
     "output_type": "execute_result",
     "execution_count": 12,
     "data": {
      "application/vnd.deepnote.dataframe.v3+json": {
       "column_count": 2,
       "row_count": 8,
       "columns": [
        {
         "name": "accumulated",
         "dtype": "float64",
         "stats": {
          "unique_count": 8,
          "nan_count": 0,
          "min": "0.0",
          "max": "33686.0",
          "histogram": [
           {
            "bin_start": 0,
            "bin_end": 3368.6,
            "count": 2
           },
           {
            "bin_start": 3368.6,
            "bin_end": 6737.2,
            "count": 1
           },
           {
            "bin_start": 6737.2,
            "bin_end": 10105.8,
            "count": 0
           },
           {
            "bin_start": 10105.8,
            "bin_end": 13474.4,
            "count": 1
           },
           {
            "bin_start": 13474.4,
            "bin_end": 16843,
            "count": 2
           },
           {
            "bin_start": 16843,
            "bin_end": 20211.6,
            "count": 0
           },
           {
            "bin_start": 20211.6,
            "bin_end": 23580.2,
            "count": 1
           },
           {
            "bin_start": 23580.2,
            "bin_end": 26948.8,
            "count": 0
           },
           {
            "bin_start": 26948.8,
            "bin_end": 30317.399999999998,
            "count": 0
           },
           {
            "bin_start": 30317.399999999998,
            "bin_end": 33686,
            "count": 1
           }
          ]
         }
        },
        {
         "name": "new",
         "dtype": "float64",
         "stats": {
          "unique_count": 8,
          "nan_count": 0,
          "min": "0.0",
          "max": "8786.0",
          "histogram": [
           {
            "bin_start": 0,
            "bin_end": 878.6,
            "count": 7
           },
           {
            "bin_start": 878.6,
            "bin_end": 1757.2,
            "count": 0
           },
           {
            "bin_start": 1757.2,
            "bin_end": 2635.8,
            "count": 0
           },
           {
            "bin_start": 2635.8,
            "bin_end": 3514.4,
            "count": 0
           },
           {
            "bin_start": 3514.4,
            "bin_end": 4393,
            "count": 0
           },
           {
            "bin_start": 4393,
            "bin_end": 5271.6,
            "count": 0
           },
           {
            "bin_start": 5271.6,
            "bin_end": 6150.2,
            "count": 0
           },
           {
            "bin_start": 6150.2,
            "bin_end": 7028.8,
            "count": 0
           },
           {
            "bin_start": 7028.8,
            "bin_end": 7907.400000000001,
            "count": 0
           },
           {
            "bin_start": 7907.400000000001,
            "bin_end": 8786,
            "count": 1
           }
          ]
         }
        },
        {
         "name": "_deepnote_index_column",
         "dtype": "object"
        }
       ],
       "rows": [
        {
         "accumulated": 713,
         "new": 712,
         "_deepnote_index_column": "count"
        },
        {
         "accumulated": 15593.427769985974,
         "new": 47.311797752808985,
         "_deepnote_index_column": "mean"
        },
        {
         "accumulated": 11402.93281516915,
         "new": 361.02935113117627,
         "_deepnote_index_column": "std"
        },
        {
         "accumulated": 0,
         "new": 0,
         "_deepnote_index_column": "min"
        },
        {
         "accumulated": 5282,
         "new": 1,
         "_deepnote_index_column": "25%"
        },
        {
         "accumulated": 14196,
         "new": 19,
         "_deepnote_index_column": "50%"
        },
        {
         "accumulated": 21803,
         "new": 41.25,
         "_deepnote_index_column": "75%"
        },
        {
         "accumulated": 33686,
         "new": 8786,
         "_deepnote_index_column": "max"
        }
       ]
      },
      "text/plain": "        accumulated          new\ncount    713.000000   712.000000\nmean   15593.427770    47.311798\nstd    11402.932815   361.029351\nmin        0.000000     0.000000\n25%     5282.000000     1.000000\n50%    14196.000000    19.000000\n75%    21803.000000    41.250000\nmax    33686.000000  8786.000000",
      "text/html": "<div>\n<style scoped>\n    .dataframe tbody tr th:only-of-type {\n        vertical-align: middle;\n    }\n\n    .dataframe tbody tr th {\n        vertical-align: top;\n    }\n\n    .dataframe thead th {\n        text-align: right;\n    }\n</style>\n<table border=\"1\" class=\"dataframe\">\n  <thead>\n    <tr style=\"text-align: right;\">\n      <th></th>\n      <th>accumulated</th>\n      <th>new</th>\n    </tr>\n  </thead>\n  <tbody>\n    <tr>\n      <th>count</th>\n      <td>713.000000</td>\n      <td>712.000000</td>\n    </tr>\n    <tr>\n      <th>mean</th>\n      <td>15593.427770</td>\n      <td>47.311798</td>\n    </tr>\n    <tr>\n      <th>std</th>\n      <td>11402.932815</td>\n      <td>361.029351</td>\n    </tr>\n    <tr>\n      <th>min</th>\n      <td>0.000000</td>\n      <td>0.000000</td>\n    </tr>\n    <tr>\n      <th>25%</th>\n      <td>5282.000000</td>\n      <td>1.000000</td>\n    </tr>\n    <tr>\n      <th>50%</th>\n      <td>14196.000000</td>\n      <td>19.000000</td>\n    </tr>\n    <tr>\n      <th>75%</th>\n      <td>21803.000000</td>\n      <td>41.250000</td>\n    </tr>\n    <tr>\n      <th>max</th>\n      <td>33686.000000</td>\n      <td>8786.000000</td>\n    </tr>\n  </tbody>\n</table>\n</div>"
     },
     "metadata": {}
    }
   ]
  },
  {
   "cell_type": "markdown",
   "source": "### Análisis unidimensional\n\nData sin outliers",
   "metadata": {
    "tags": [],
    "cell_id": "00020-f24de2b7-d714-4b4c-9b05-19d84e7ab5b5",
    "deepnote_cell_type": "markdown"
   }
  },
  {
   "cell_type": "code",
   "metadata": {
    "tags": [],
    "cell_id": "00021-0499c094-222e-4147-b854-1566eac3c3db",
    "deepnote_to_be_reexecuted": false,
    "source_hash": "60a3a98b",
    "execution_start": 1641348430402,
    "execution_millis": 317,
    "deepnote_output_heights": [
     269.984375
    ],
    "deepnote_cell_type": "code"
   },
   "source": "data_d = deaths[deaths['new'] < deaths['new'].quantile(0.95)]['new']\nsns.histplot(data=data_d)\nplt.show()",
   "execution_count": 13,
   "outputs": [
    {
     "data": {
      "text/plain": "<Figure size 432x288 with 1 Axes>",
      "image/png": "[encoded data removed]"
     },
     "metadata": {
      "image/png": {
       "width": 396,
       "height": 268
      }
     },
     "output_type": "display_data"
    }
   ]
  },
  {
   "cell_type": "markdown",
   "source": "### Análisis multidimensional",
   "metadata": {
    "tags": [],
    "cell_id": "00022-ed55dd44-f078-49da-9e4d-ff606f0482b4",
    "deepnote_cell_type": "markdown"
   }
  },
  {
   "cell_type": "code",
   "metadata": {
    "tags": [],
    "cell_id": "00006-fc12bb71-833a-44f9-9abb-37b40581047a",
    "deepnote_to_be_reexecuted": false,
    "source_hash": "897318bf",
    "execution_start": 1641348430822,
    "execution_millis": 395,
    "deepnote_output_heights": [
     358.96875
    ],
    "deepnote_cell_type": "code"
   },
   "source": "plt.figure(figsize=[10,5])\nplt.plot(deaths.date, deaths.accumulated)\nplt.title('Fallecimientos por Covid-19 acumulados')\nplt.xticks(rotation=90)\nplt.show()",
   "execution_count": 14,
   "outputs": [
    {
     "data": {
      "text/plain": "<Figure size 720x360 with 1 Axes>",
      "image/png": "[encoded data removed]"
     },
     "metadata": {
      "image/png": {
       "width": 616,
       "height": 357
      }
     },
     "output_type": "display_data"
    }
   ]
  },
  {
   "cell_type": "markdown",
   "source": "Correlaciones entre variables:",
   "metadata": {
    "tags": [],
    "cell_id": "00024-10b0514e-7606-4fc3-8d1b-bdbbd08976e4",
    "deepnote_cell_type": "markdown"
   }
  },
  {
   "cell_type": "code",
   "metadata": {
    "tags": [],
    "cell_id": "00024-641045a0-74e3-4608-87a2-921715ca6dd0",
    "deepnote_to_be_reexecuted": false,
    "source_hash": "78ac0c27",
    "execution_start": 1641348431266,
    "execution_millis": 281,
    "deepnote_table_state": {
     "pageSize": 10,
     "pageIndex": 1551,
     "filters": [],
     "sortBy": []
    },
    "deepnote_table_loading": false,
    "deepnote_output_heights": [
     256.984375
    ],
    "deepnote_cell_type": "code"
   },
   "source": "positives_deaths = pd.merge_ordered(positives, deaths, left_on='created_at', right_on='date', how='left', fill_method='ffill')\ncolumns = ['created_at', 'acumulados', 'accumulated']\npositives_deaths = positives_deaths[columns].rename(columns={'acumulados': 'positivos', 'accumulated': 'fallecimientos'})\nsns.heatmap(positives_deaths.corr(), annot=True)\nplt.show()",
   "execution_count": 15,
   "outputs": [
    {
     "data": {
      "text/plain": "<Figure size 432x288 with 2 Axes>",
      "image/png": "[encoded data removed]"
     },
     "metadata": {
      "image/png": {
       "width": 370,
       "height": 255
      }
     },
     "output_type": "display_data"
    }
   ]
  },
  {
   "cell_type": "markdown",
   "source": "<a style='text-decoration:none;line-height:16px;display:flex;color:#5B5B62;padding:10px;justify-content:end;' href='https://deepnote.com?utm_source=created-in-deepnote-cell&projectId=e7b048df-fc9b-4970-aa88-df153b270a6f' target=\"_blank\">\n<img alt='Created in deepnote.com' style='display:inline;max-height:16px;margin:0px;margin-right:7.5px;' src='data:image/svg+xml;base64,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' > </img>\nCreated in <span style='font-weight:600;margin-left:4px;'>Deepnote</span></a>",
   "metadata": {
    "tags": [],
    "created_in_deepnote_cell": true,
    "deepnote_cell_type": "markdown"
   }
  }
 ],
 "nbformat": 4,
 "nbformat_minor": 2,
 "metadata": {
  "orig_nbformat": 2,
  "deepnote": {
   "is_reactive": false
  },
  "deepnote_notebook_id": "f79b994c-27b9-491c-a9d5-5725b521f59f",
  "deepnote_execution_queue": []
 }
}