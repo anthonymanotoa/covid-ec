{
 "cells": [
  {
   "cell_type": "markdown",
   "source": "# Análisis exploratorio de datos - Covid\nVe de lo más general a lo más específico.\n\nPasos a seguir:\n1. Entiende unimensionalmente los datos y sus patrones (conteos, estadística, histogramas, etc.). Una por una.\n2. Combina variables para ver cómo están correlacionadas (gráficas de correlación). Impacto de una en otra.\n3. Cómo una variable categórica impacta a otra.\n\nExtras:\n- Si te faltan datos, búscalos y enriquéselos\n- ",
   "metadata": {
    "tags": [],
    "cell_id": "00000-2201a579-aafd-4345-9156-23ea98526156",
    "deepnote_cell_type": "markdown"
   }
  },
  {
   "cell_type": "code",
   "metadata": {
    "tags": [],
    "cell_id": "00001-577aa392-fe8a-469e-853b-232fc0185282",
    "deepnote_to_be_reexecuted": false,
    "source_hash": "3bc44cd8",
    "execution_start": 1640122967101,
    "execution_millis": 2383,
    "deepnote_cell_type": "code"
   },
   "source": "import pandas as pd\nimport matplotlib.pyplot as plt\nimport seaborn as sns",
   "execution_count": 1,
   "outputs": []
  },
  {
   "cell_type": "code",
   "source": "sns.set_theme()",
   "metadata": {
    "tags": [],
    "cell_id": "00002-85c3b095-a053-4aa2-9237-834a64ce63e6",
    "deepnote_to_be_reexecuted": false,
    "source_hash": "f2f79983",
    "execution_start": 1640122969496,
    "execution_millis": 2,
    "deepnote_cell_type": "code"
   },
   "outputs": [],
   "execution_count": 2
  },
  {
   "cell_type": "code",
   "metadata": {
    "tags": [],
    "cell_id": "00002-2d334267-a14f-4256-a94a-b507312eb7c3",
    "deepnote_to_be_reexecuted": false,
    "source_hash": "86a930aa",
    "execution_start": 1640122969506,
    "execution_millis": 30,
    "deepnote_cell_type": "code"
   },
   "source": "# Load data\npath = '/work/covid-ec/data/processed/'\n\npositives = pd.read_csv(path + 'positives.csv')\nvaccines = pd.read_csv(path + 'vaccines.csv')\ndeaths = pd.read_csv(path + 'deaths.csv')",
   "execution_count": 3,
   "outputs": []
  },
  {
   "cell_type": "markdown",
   "source": "Las columnas de fecha son tipo `object` de nuevo. Se hace la transformación.",
   "metadata": {
    "tags": [],
    "cell_id": "00003-875e7bda-6985-462d-a474-ba029f8487f9",
    "deepnote_cell_type": "markdown"
   }
  },
  {
   "cell_type": "code",
   "metadata": {
    "tags": [],
    "cell_id": "00003-7085d325-382d-438d-81f1-9323c7e61706",
    "deepnote_to_be_reexecuted": false,
    "source_hash": "e42b5b9c",
    "execution_start": 1640122969560,
    "execution_millis": 7,
    "deepnote_cell_type": "code"
   },
   "source": "positives['created_at'] = pd.to_datetime(positives['created_at'])\nvaccines['fecha'] = pd.to_datetime(vaccines['fecha'])\ndeaths['date'] = pd.to_datetime(deaths['date'])",
   "execution_count": 4,
   "outputs": []
  },
  {
   "cell_type": "markdown",
   "source": "## Positives\n\n### Visión general",
   "metadata": {
    "tags": [],
    "cell_id": "00003-86435c5d-fb56-408a-a385-2461e371eb10",
    "deepnote_cell_type": "markdown"
   }
  },
  {
   "cell_type": "code",
   "metadata": {
    "tags": [],
    "cell_id": "00004-3e5252b4-6b40-4336-b864-778c0518351c",
    "deepnote_to_be_reexecuted": false,
    "source_hash": "b5756865",
    "execution_start": 1640122969575,
    "execution_millis": 71,
    "deepnote_cell_type": "code"
   },
   "source": "positives.info()",
   "execution_count": 5,
   "outputs": [
    {
     "name": "stdout",
     "text": "<class 'pandas.core.frame.DataFrame'>\nRangeIndex: 15528 entries, 0 to 15527\nData columns (total 6 columns):\n #   Column                Non-Null Count  Dtype         \n---  ------                --------------  -----         \n 0   provincia             15528 non-null  object        \n 1   poblacion             15528 non-null  int64         \n 2   acumulados_provincia  15528 non-null  int64         \n 3   nuevas                15528 non-null  int64         \n 4   created_at            15528 non-null  datetime64[ns]\n 5   acumulados            15528 non-null  int64         \ndtypes: datetime64[ns](1), int64(4), object(1)\nmemory usage: 728.0+ KB\n",
     "output_type": "stream",
     "data": {}
    }
   ]
  },
  {
   "cell_type": "code",
   "metadata": {
    "tags": [],
    "cell_id": "00007-ad80a866-b730-468d-adf1-c3b1d9c36673",
    "deepnote_to_be_reexecuted": false,
    "source_hash": "3553166a",
    "execution_start": 1640122969645,
    "execution_millis": 33,
    "deepnote_cell_type": "code"
   },
   "source": "positives.describe()",
   "execution_count": 6,
   "outputs": [
    {
     "output_type": "execute_result",
     "execution_count": 6,
     "data": {
      "application/vnd.deepnote.dataframe.v3+json": {
       "column_count": 4,
       "row_count": 8,
       "columns": [
        {
         "name": "poblacion",
         "dtype": "float64",
         "stats": {
          "unique_count": 8,
          "nan_count": 0,
          "min": "15528.0",
          "max": "4387434.0",
          "histogram": [
           {
            "bin_start": 15528,
            "bin_end": 452718.6,
            "count": 3
           },
           {
            "bin_start": 452718.6,
            "bin_end": 889909.2,
            "count": 3
           },
           {
            "bin_start": 889909.2,
            "bin_end": 1327099.7999999998,
            "count": 1
           },
           {
            "bin_start": 1327099.7999999998,
            "bin_end": 1764290.4,
            "count": 0
           },
           {
            "bin_start": 1764290.4,
            "bin_end": 2201481,
            "count": 0
           },
           {
            "bin_start": 2201481,
            "bin_end": 2638671.5999999996,
            "count": 0
           },
           {
            "bin_start": 2638671.5999999996,
            "bin_end": 3075862.1999999997,
            "count": 0
           },
           {
            "bin_start": 3075862.1999999997,
            "bin_end": 3513052.8,
            "count": 0
           },
           {
            "bin_start": 3513052.8,
            "bin_end": 3950243.4,
            "count": 0
           },
           {
            "bin_start": 3950243.4,
            "bin_end": 4387434,
            "count": 1
           }
          ]
         }
        },
        {
         "name": "acumulados_provincia",
         "dtype": "float64",
         "stats": {
          "unique_count": 8,
          "nan_count": 0,
          "min": "0.0",
          "max": "199324.0",
          "histogram": [
           {
            "bin_start": 0,
            "bin_end": 19932.4,
            "count": 6
           },
           {
            "bin_start": 19932.4,
            "bin_end": 39864.8,
            "count": 1
           },
           {
            "bin_start": 39864.8,
            "bin_end": 59797.200000000004,
            "count": 0
           },
           {
            "bin_start": 59797.200000000004,
            "bin_end": 79729.6,
            "count": 0
           },
           {
            "bin_start": 79729.6,
            "bin_end": 99662,
            "count": 0
           },
           {
            "bin_start": 99662,
            "bin_end": 119594.40000000001,
            "count": 0
           },
           {
            "bin_start": 119594.40000000001,
            "bin_end": 139526.80000000002,
            "count": 0
           },
           {
            "bin_start": 139526.80000000002,
            "bin_end": 159459.2,
            "count": 0
           },
           {
            "bin_start": 159459.2,
            "bin_end": 179391.6,
            "count": 0
           },
           {
            "bin_start": 179391.6,
            "bin_end": 199324,
            "count": 1
           }
          ]
         }
        },
        {
         "name": "nuevas",
         "dtype": "float64",
         "stats": {
          "unique_count": 8,
          "nan_count": 0,
          "min": "0.0",
          "max": "15528.0",
          "histogram": [
           {
            "bin_start": 0,
            "bin_end": 1552.8,
            "count": 6
           },
           {
            "bin_start": 1552.8,
            "bin_end": 3105.6,
            "count": 0
           },
           {
            "bin_start": 3105.6,
            "bin_end": 4658.4,
            "count": 1
           },
           {
            "bin_start": 4658.4,
            "bin_end": 6211.2,
            "count": 0
           },
           {
            "bin_start": 6211.2,
            "bin_end": 7764,
            "count": 0
           },
           {
            "bin_start": 7764,
            "bin_end": 9316.8,
            "count": 0
           },
           {
            "bin_start": 9316.8,
            "bin_end": 10869.6,
            "count": 0
           },
           {
            "bin_start": 10869.6,
            "bin_end": 12422.4,
            "count": 0
           },
           {
            "bin_start": 12422.4,
            "bin_end": 13975.199999999999,
            "count": 0
           },
           {
            "bin_start": 13975.199999999999,
            "bin_end": 15528,
            "count": 1
           }
          ]
         }
        },
        {
         "name": "acumulados",
         "dtype": "float64",
         "stats": {
          "unique_count": 8,
          "nan_count": 0,
          "min": "0.0",
          "max": "546554.0",
          "histogram": [
           {
            "bin_start": 0,
            "bin_end": 54655.4,
            "count": 2
           },
           {
            "bin_start": 54655.4,
            "bin_end": 109310.8,
            "count": 1
           },
           {
            "bin_start": 109310.8,
            "bin_end": 163966.2,
            "count": 0
           },
           {
            "bin_start": 163966.2,
            "bin_end": 218621.6,
            "count": 1
           },
           {
            "bin_start": 218621.6,
            "bin_end": 273277,
            "count": 1
           },
           {
            "bin_start": 273277,
            "bin_end": 327932.4,
            "count": 1
           },
           {
            "bin_start": 327932.4,
            "bin_end": 382587.8,
            "count": 0
           },
           {
            "bin_start": 382587.8,
            "bin_end": 437243.2,
            "count": 0
           },
           {
            "bin_start": 437243.2,
            "bin_end": 491898.60000000003,
            "count": 1
           },
           {
            "bin_start": 491898.60000000003,
            "bin_end": 546554,
            "count": 1
           }
          ]
         }
        },
        {
         "name": "_deepnote_index_column",
         "dtype": "object"
        }
       ],
       "rows": [
        {
         "poblacion": 15528,
         "acumulados_provincia": 15528,
         "nuevas": 15528,
         "acumulados": 15528,
         "_deepnote_index_column": "count"
        },
        {
         "poblacion": 727864,
         "acumulados_provincia": 11243.087970118495,
         "nuevas": 35.19796496651211,
         "acumulados": 277940.4321226172,
         "_deepnote_index_column": "mean"
        },
        {
         "poblacion": 999820.0991884429,
         "acumulados_provincia": 24881.103265075937,
         "nuevas": 109.15790290011016,
         "acumulados": 186070.14535352634,
         "_deepnote_index_column": "std"
        },
        {
         "poblacion": 33042,
         "acumulados_provincia": 0,
         "nuevas": 0,
         "acumulados": 0,
         "_deepnote_index_column": "min"
        },
        {
         "poblacion": 194118.5,
         "acumulados_provincia": 1636,
         "nuevas": 1,
         "acumulados": 106644.25,
         "_deepnote_index_column": "25%"
        },
        {
         "poblacion": 482486.5,
         "acumulados_provincia": 4304,
         "nuevas": 8,
         "acumulados": 257334.5,
         "_deepnote_index_column": "50%"
        },
        {
         "poblacion": 622250,
         "acumulados_provincia": 10162.25,
         "nuevas": 28,
         "acumulados": 477316.25,
         "_deepnote_index_column": "75%"
        },
        {
         "poblacion": 4387434,
         "acumulados_provincia": 199324,
         "nuevas": 3388,
         "acumulados": 546554,
         "_deepnote_index_column": "max"
        }
       ]
      },
      "text/plain": "          poblacion  acumulados_provincia        nuevas     acumulados\ncount  1.552800e+04          15528.000000  15528.000000   15528.000000\nmean   7.278640e+05          11243.087970     35.197965  277940.432123\nstd    9.998201e+05          24881.103265    109.157903  186070.145354\nmin    3.304200e+04              0.000000      0.000000       0.000000\n25%    1.941185e+05           1636.000000      1.000000  106644.250000\n50%    4.824865e+05           4304.000000      8.000000  257334.500000\n75%    6.222500e+05          10162.250000     28.000000  477316.250000\nmax    4.387434e+06         199324.000000   3388.000000  546554.000000",
      "text/html": "<div>\n<style scoped>\n    .dataframe tbody tr th:only-of-type {\n        vertical-align: middle;\n    }\n\n    .dataframe tbody tr th {\n        vertical-align: top;\n    }\n\n    .dataframe thead th {\n        text-align: right;\n    }\n</style>\n<table border=\"1\" class=\"dataframe\">\n  <thead>\n    <tr style=\"text-align: right;\">\n      <th></th>\n      <th>poblacion</th>\n      <th>acumulados_provincia</th>\n      <th>nuevas</th>\n      <th>acumulados</th>\n    </tr>\n  </thead>\n  <tbody>\n    <tr>\n      <th>count</th>\n      <td>1.552800e+04</td>\n      <td>15528.000000</td>\n      <td>15528.000000</td>\n      <td>15528.000000</td>\n    </tr>\n    <tr>\n      <th>mean</th>\n      <td>7.278640e+05</td>\n      <td>11243.087970</td>\n      <td>35.197965</td>\n      <td>277940.432123</td>\n    </tr>\n    <tr>\n      <th>std</th>\n      <td>9.998201e+05</td>\n      <td>24881.103265</td>\n      <td>109.157903</td>\n      <td>186070.145354</td>\n    </tr>\n    <tr>\n      <th>min</th>\n      <td>3.304200e+04</td>\n      <td>0.000000</td>\n      <td>0.000000</td>\n      <td>0.000000</td>\n    </tr>\n    <tr>\n      <th>25%</th>\n      <td>1.941185e+05</td>\n      <td>1636.000000</td>\n      <td>1.000000</td>\n      <td>106644.250000</td>\n    </tr>\n    <tr>\n      <th>50%</th>\n      <td>4.824865e+05</td>\n      <td>4304.000000</td>\n      <td>8.000000</td>\n      <td>257334.500000</td>\n    </tr>\n    <tr>\n      <th>75%</th>\n      <td>6.222500e+05</td>\n      <td>10162.250000</td>\n      <td>28.000000</td>\n      <td>477316.250000</td>\n    </tr>\n    <tr>\n      <th>max</th>\n      <td>4.387434e+06</td>\n      <td>199324.000000</td>\n      <td>3388.000000</td>\n      <td>546554.000000</td>\n    </tr>\n  </tbody>\n</table>\n</div>"
     },
     "metadata": {}
    }
   ]
  },
  {
   "cell_type": "markdown",
   "source": "### Análisis unidimensional",
   "metadata": {
    "tags": [],
    "cell_id": "00008-923d418b-11a4-4726-90d6-b44540ac7fae",
    "deepnote_cell_type": "markdown"
   }
  },
  {
   "cell_type": "markdown",
   "source": "¿Cuántos casos positivos hay al día quitando los outliers?",
   "metadata": {
    "tags": [],
    "cell_id": "00009-d34c168a-3637-4b0c-89d9-0b366fd8ab14",
    "deepnote_to_be_reexecuted": false,
    "source_hash": "d784b44a",
    "execution_start": 1640122969739,
    "deepnote_cell_type": "markdown"
   },
   "outputs": [],
   "execution_count": 7
  },
  {
   "cell_type": "code",
   "metadata": {
    "tags": [],
    "cell_id": "00009-c639a1bf-6c00-4215-b52f-9a11d4b459c0",
    "deepnote_to_be_reexecuted": false,
    "source_hash": "eb83a536",
    "execution_start": 1640124264234,
    "execution_millis": 641,
    "deepnote_output_heights": [
     269.984375
    ],
    "deepnote_cell_type": "code"
   },
   "source": "plt.figure(figsize=[12, 4])\ndata_p = positives[positives['nuevas'] < positives['nuevas'].quantile(0.95)]['nuevas']\nsns.histplot(data=data_p)\nplt.show()",
   "execution_count": 40,
   "outputs": [
    {
     "data": {
      "text/plain": "<Figure size 864x288 with 1 Axes>",
      "image/png": "[encoded data removed]"
     },
     "metadata": {
      "image/png": {
       "width": 741,
       "height": 268
      }
     },
     "output_type": "display_data"
    }
   ]
  },
  {
   "cell_type": "markdown",
   "source": "### Análisis multidimensional",
   "metadata": {
    "tags": [],
    "cell_id": "00004-8754b6ae-5c2e-449c-9640-59acbd6ab937",
    "deepnote_cell_type": "markdown"
   }
  },
  {
   "cell_type": "code",
   "metadata": {
    "tags": [],
    "cell_id": "00004-2c603f63-2f6c-460e-9ff1-e27c1745fa0e",
    "deepnote_to_be_reexecuted": false,
    "source_hash": "6f2b0fd5",
    "execution_start": 1640122970242,
    "execution_millis": 2836,
    "deepnote_output_heights": [
     21.078125,
     416.984375
    ],
    "deepnote_cell_type": "code"
   },
   "source": "sns.lineplot(data=positives, x='created_at', y='nuevas', hue='provincia')",
   "execution_count": 9,
   "outputs": [
    {
     "output_type": "execute_result",
     "execution_count": 9,
     "data": {
      "text/plain": "<AxesSubplot:xlabel='created_at', ylabel='nuevas'>"
     },
     "metadata": {}
    },
    {
     "data": {
      "text/plain": "<Figure size 432x288 with 1 Axes>",
      "image/png": "[encoded data removed]"
     },
     "metadata": {
      "image/png": {
       "width": 417,
       "height": 415
      }
     },
     "output_type": "display_data"
    }
   ]
  },
  {
   "cell_type": "markdown",
   "source": "## Vaccines\n\n### Visión general",
   "metadata": {
    "tags": [],
    "cell_id": "00004-230b248d-4d65-4426-b205-e4638fcde904",
    "deepnote_cell_type": "markdown"
   }
  },
  {
   "cell_type": "code",
   "metadata": {
    "tags": [],
    "cell_id": "00013-c9757c99-9200-4e8c-a43c-ec6a3dcf90d5",
    "deepnote_to_be_reexecuted": false,
    "source_hash": "14aa39b5",
    "execution_start": 1640122973135,
    "execution_millis": 2,
    "deepnote_cell_type": "code"
   },
   "source": "vaccines.info()",
   "execution_count": 10,
   "outputs": [
    {
     "name": "stdout",
     "text": "<class 'pandas.core.frame.DataFrame'>\nRangeIndex: 243 entries, 0 to 242\nData columns (total 5 columns):\n #   Column         Non-Null Count  Dtype         \n---  ------         --------------  -----         \n 0   fecha          243 non-null    datetime64[ns]\n 1   dosis_total    243 non-null    int64         \n 2   primera_dosis  243 non-null    int64         \n 3   segunda_dosis  243 non-null    int64         \n 4   refuerzo       243 non-null    int64         \ndtypes: datetime64[ns](1), int64(4)\nmemory usage: 9.6 KB\n",
     "output_type": "stream",
     "data": {}
    }
   ]
  },
  {
   "cell_type": "code",
   "source": "vaccines.describe()",
   "metadata": {
    "tags": [],
    "cell_id": "00015-21177491-bf0b-4aff-9eda-03640ec130a9",
    "deepnote_to_be_reexecuted": false,
    "source_hash": "15a4cdfb",
    "execution_start": 1640122973168,
    "execution_millis": 6,
    "deepnote_cell_type": "code"
   },
   "outputs": [
    {
     "output_type": "execute_result",
     "execution_count": 11,
     "data": {
      "application/vnd.deepnote.dataframe.v3+json": {
       "column_count": 4,
       "row_count": 8,
       "columns": [
        {
         "name": "dosis_total",
         "dtype": "float64",
         "stats": {
          "unique_count": 8,
          "nan_count": 0,
          "min": "0.0",
          "max": "26588158.0",
          "histogram": [
           {
            "bin_start": 0,
            "bin_end": 2658815.8,
            "count": 3
           },
           {
            "bin_start": 2658815.8,
            "bin_end": 5317631.6,
            "count": 0
           },
           {
            "bin_start": 5317631.6,
            "bin_end": 7976447.399999999,
            "count": 0
           },
           {
            "bin_start": 7976447.399999999,
            "bin_end": 10635263.2,
            "count": 1
           },
           {
            "bin_start": 10635263.2,
            "bin_end": 13294079,
            "count": 2
           },
           {
            "bin_start": 13294079,
            "bin_end": 15952894.799999999,
            "count": 0
           },
           {
            "bin_start": 15952894.799999999,
            "bin_end": 18611710.599999998,
            "count": 0
           },
           {
            "bin_start": 18611710.599999998,
            "bin_end": 21270526.4,
            "count": 0
           },
           {
            "bin_start": 21270526.4,
            "bin_end": 23929342.2,
            "count": 1
           },
           {
            "bin_start": 23929342.2,
            "bin_end": 26588158,
            "count": 1
           }
          ]
         }
        },
        {
         "name": "primera_dosis",
         "dtype": "float64",
         "stats": {
          "unique_count": 8,
          "nan_count": 0,
          "min": "0.0",
          "max": "13600399.0",
          "histogram": [
           {
            "bin_start": 0,
            "bin_end": 1360039.9,
            "count": 3
           },
           {
            "bin_start": 1360039.9,
            "bin_end": 2720079.8,
            "count": 0
           },
           {
            "bin_start": 2720079.8,
            "bin_end": 4080119.6999999997,
            "count": 0
           },
           {
            "bin_start": 4080119.6999999997,
            "bin_end": 5440159.6,
            "count": 1
           },
           {
            "bin_start": 5440159.6,
            "bin_end": 6800199.5,
            "count": 0
           },
           {
            "bin_start": 6800199.5,
            "bin_end": 8160239.399999999,
            "count": 1
           },
           {
            "bin_start": 8160239.399999999,
            "bin_end": 9520279.299999999,
            "count": 1
           },
           {
            "bin_start": 9520279.299999999,
            "bin_end": 10880319.2,
            "count": 0
           },
           {
            "bin_start": 10880319.2,
            "bin_end": 12240359.1,
            "count": 1
           },
           {
            "bin_start": 12240359.1,
            "bin_end": 13600399,
            "count": 1
           }
          ]
         }
        },
        {
         "name": "segunda_dosis",
         "dtype": "float64",
         "stats": {
          "unique_count": 8,
          "nan_count": 0,
          "min": "0.0",
          "max": "12209863.0",
          "histogram": [
           {
            "bin_start": 0,
            "bin_end": 1220986.3,
            "count": 3
           },
           {
            "bin_start": 1220986.3,
            "bin_end": 2441972.6,
            "count": 0
           },
           {
            "bin_start": 2441972.6,
            "bin_end": 3662958.9000000004,
            "count": 1
           },
           {
            "bin_start": 3662958.9000000004,
            "bin_end": 4883945.2,
            "count": 1
           },
           {
            "bin_start": 4883945.2,
            "bin_end": 6104931.5,
            "count": 1
           },
           {
            "bin_start": 6104931.5,
            "bin_end": 7325917.800000001,
            "count": 0
           },
           {
            "bin_start": 7325917.800000001,
            "bin_end": 8546904.1,
            "count": 0
           },
           {
            "bin_start": 8546904.1,
            "bin_end": 9767890.4,
            "count": 0
           },
           {
            "bin_start": 9767890.4,
            "bin_end": 10988876.700000001,
            "count": 1
           },
           {
            "bin_start": 10988876.700000001,
            "bin_end": 12209863,
            "count": 1
           }
          ]
         }
        },
        {
         "name": "refuerzo",
         "dtype": "float64",
         "stats": {
          "unique_count": 6,
          "nan_count": 0,
          "min": "0.0",
          "max": "777896.0",
          "histogram": [
           {
            "bin_start": 0,
            "bin_end": 77789.6,
            "count": 6
           },
           {
            "bin_start": 77789.6,
            "bin_end": 155579.2,
            "count": 0
           },
           {
            "bin_start": 155579.2,
            "bin_end": 233368.80000000002,
            "count": 1
           },
           {
            "bin_start": 233368.80000000002,
            "bin_end": 311158.4,
            "count": 0
           },
           {
            "bin_start": 311158.4,
            "bin_end": 388948,
            "count": 0
           },
           {
            "bin_start": 388948,
            "bin_end": 466737.60000000003,
            "count": 0
           },
           {
            "bin_start": 466737.60000000003,
            "bin_end": 544527.2000000001,
            "count": 0
           },
           {
            "bin_start": 544527.2000000001,
            "bin_end": 622316.8,
            "count": 0
           },
           {
            "bin_start": 622316.8,
            "bin_end": 700106.4,
            "count": 0
           },
           {
            "bin_start": 700106.4,
            "bin_end": 777896,
            "count": 1
           }
          ]
         }
        },
        {
         "name": "_deepnote_index_column",
         "dtype": "object"
        }
       ],
       "rows": [
        {
         "dosis_total": 243,
         "primera_dosis": 243,
         "segunda_dosis": 243,
         "refuerzo": 243,
         "_deepnote_index_column": "count"
        },
        {
         "dosis_total": 12155575.061728396,
         "primera_dosis": 6930718.053497942,
         "segunda_dosis": 5156957.2016460905,
         "refuerzo": 67852.11111111111,
         "_deepnote_index_column": "mean"
        },
        {
         "dosis_total": 9714354.359069701,
         "primera_dosis": 5087982.427758186,
         "segunda_dosis": 4667071.939042199,
         "refuerzo": 168992.12322438078,
         "_deepnote_index_column": "std"
        },
        {
         "dosis_total": 0,
         "primera_dosis": 0,
         "segunda_dosis": 0,
         "refuerzo": 0,
         "_deepnote_index_column": "min"
        },
        {
         "dosis_total": 1810429,
         "primera_dosis": 1352078,
         "segunda_dosis": 458351,
         "refuerzo": 0,
         "_deepnote_index_column": "25%"
        },
        {
         "dosis_total": 11917800,
         "primera_dosis": 9358610,
         "segunda_dosis": 2559190,
         "refuerzo": 0,
         "_deepnote_index_column": "50%"
        },
        {
         "dosis_total": 21370219,
         "primera_dosis": 11327392,
         "segunda_dosis": 10042826,
         "refuerzo": 1,
         "_deepnote_index_column": "75%"
        },
        {
         "dosis_total": 26588158,
         "primera_dosis": 13600399,
         "segunda_dosis": 12209863,
         "refuerzo": 777896,
         "_deepnote_index_column": "max"
        }
       ]
      },
      "text/plain": "        dosis_total  primera_dosis  segunda_dosis       refuerzo\ncount  2.430000e+02   2.430000e+02   2.430000e+02     243.000000\nmean   1.215558e+07   6.930718e+06   5.156957e+06   67852.111111\nstd    9.714354e+06   5.087982e+06   4.667072e+06  168992.123224\nmin    0.000000e+00   0.000000e+00   0.000000e+00       0.000000\n25%    1.810429e+06   1.352078e+06   4.583510e+05       0.000000\n50%    1.191780e+07   9.358610e+06   2.559190e+06       0.000000\n75%    2.137022e+07   1.132739e+07   1.004283e+07       1.000000\nmax    2.658816e+07   1.360040e+07   1.220986e+07  777896.000000",
      "text/html": "<div>\n<style scoped>\n    .dataframe tbody tr th:only-of-type {\n        vertical-align: middle;\n    }\n\n    .dataframe tbody tr th {\n        vertical-align: top;\n    }\n\n    .dataframe thead th {\n        text-align: right;\n    }\n</style>\n<table border=\"1\" class=\"dataframe\">\n  <thead>\n    <tr style=\"text-align: right;\">\n      <th></th>\n      <th>dosis_total</th>\n      <th>primera_dosis</th>\n      <th>segunda_dosis</th>\n      <th>refuerzo</th>\n    </tr>\n  </thead>\n  <tbody>\n    <tr>\n      <th>count</th>\n      <td>2.430000e+02</td>\n      <td>2.430000e+02</td>\n      <td>2.430000e+02</td>\n      <td>243.000000</td>\n    </tr>\n    <tr>\n      <th>mean</th>\n      <td>1.215558e+07</td>\n      <td>6.930718e+06</td>\n      <td>5.156957e+06</td>\n      <td>67852.111111</td>\n    </tr>\n    <tr>\n      <th>std</th>\n      <td>9.714354e+06</td>\n      <td>5.087982e+06</td>\n      <td>4.667072e+06</td>\n      <td>168992.123224</td>\n    </tr>\n    <tr>\n      <th>min</th>\n      <td>0.000000e+00</td>\n      <td>0.000000e+00</td>\n      <td>0.000000e+00</td>\n      <td>0.000000</td>\n    </tr>\n    <tr>\n      <th>25%</th>\n      <td>1.810429e+06</td>\n      <td>1.352078e+06</td>\n      <td>4.583510e+05</td>\n      <td>0.000000</td>\n    </tr>\n    <tr>\n      <th>50%</th>\n      <td>1.191780e+07</td>\n      <td>9.358610e+06</td>\n      <td>2.559190e+06</td>\n      <td>0.000000</td>\n    </tr>\n    <tr>\n      <th>75%</th>\n      <td>2.137022e+07</td>\n      <td>1.132739e+07</td>\n      <td>1.004283e+07</td>\n      <td>1.000000</td>\n    </tr>\n    <tr>\n      <th>max</th>\n      <td>2.658816e+07</td>\n      <td>1.360040e+07</td>\n      <td>1.220986e+07</td>\n      <td>777896.000000</td>\n    </tr>\n  </tbody>\n</table>\n</div>"
     },
     "metadata": {}
    }
   ],
   "execution_count": 11
  },
  {
   "cell_type": "markdown",
   "source": "### Análisis multidimensional",
   "metadata": {
    "tags": [],
    "cell_id": "00016-b06d870c-abf8-4733-9b10-c1e991a9e240",
    "deepnote_cell_type": "markdown"
   }
  },
  {
   "cell_type": "code",
   "metadata": {
    "tags": [],
    "cell_id": "00005-85b9c127-538b-49cd-879c-0a5991632b4b",
    "deepnote_to_be_reexecuted": false,
    "source_hash": "6136e026",
    "execution_start": 1640123080575,
    "execution_millis": 995,
    "deepnote_output_heights": [
     423.96875
    ],
    "deepnote_cell_type": "code"
   },
   "source": "plt.figure(figsize=[12, 6])\nsns.lineplot(data=vaccines, x='fecha', y='dosis_total',  label='Totales')\nsns.lineplot(data=vaccines, x='fecha', y='primera_dosis', label='Primera')\nsns.lineplot(data=vaccines, x='fecha', y='segunda_dosis', label='Segunda')\nsns.lineplot(data=vaccines, x='fecha', y='refuerzo', label='Refuerzo')\nplt.xticks(rotation=60)\nplt.show()",
   "execution_count": 14,
   "outputs": [
    {
     "data": {
      "text/plain": "<Figure size 864x432 with 1 Axes>",
      "image/png": "[encoded data removed]"
     },
     "metadata": {
      "image/png": {
       "width": 742,
       "height": 422
      }
     },
     "output_type": "display_data"
    }
   ]
  },
  {
   "cell_type": "markdown",
   "source": "## Deaths\n\n### Visión general",
   "metadata": {
    "tags": [],
    "cell_id": "00005-3b89aa43-1067-432e-9e3e-9d5338008388",
    "deepnote_cell_type": "markdown"
   }
  },
  {
   "cell_type": "code",
   "metadata": {
    "tags": [],
    "cell_id": "00019-41411124-01e9-4176-83ae-6ab6c3d14bf8",
    "deepnote_to_be_reexecuted": false,
    "source_hash": "32920a1e",
    "execution_start": 1640123173773,
    "execution_millis": 17,
    "deepnote_cell_type": "code"
   },
   "source": "deaths.info()",
   "execution_count": 15,
   "outputs": [
    {
     "name": "stdout",
     "text": "<class 'pandas.core.frame.DataFrame'>\nRangeIndex: 698 entries, 0 to 697\nData columns (total 3 columns):\n #   Column       Non-Null Count  Dtype         \n---  ------       --------------  -----         \n 0   date         698 non-null    datetime64[ns]\n 1   accumulated  698 non-null    int64         \n 2   new          697 non-null    float64       \ndtypes: datetime64[ns](1), float64(1), int64(1)\nmemory usage: 16.5 KB\n",
     "output_type": "stream",
     "data": {}
    }
   ]
  },
  {
   "cell_type": "code",
   "source": "deaths.describe()",
   "metadata": {
    "tags": [],
    "cell_id": "00021-3be4fff7-3ef1-4fa4-9162-16417506f281",
    "deepnote_to_be_reexecuted": false,
    "source_hash": "42be85c8",
    "execution_start": 1640123180436,
    "execution_millis": 11,
    "deepnote_cell_type": "code"
   },
   "outputs": [
    {
     "output_type": "execute_result",
     "execution_count": 16,
     "data": {
      "application/vnd.deepnote.dataframe.v3+json": {
       "column_count": 2,
       "row_count": 8,
       "columns": [
        {
         "name": "accumulated",
         "dtype": "float64",
         "stats": {
          "unique_count": 8,
          "nan_count": 0,
          "min": "0.0",
          "max": "33593.0",
          "histogram": [
           {
            "bin_start": 0,
            "bin_end": 3359.3,
            "count": 2
           },
           {
            "bin_start": 3359.3,
            "bin_end": 6718.6,
            "count": 1
           },
           {
            "bin_start": 6718.6,
            "bin_end": 10077.900000000001,
            "count": 0
           },
           {
            "bin_start": 10077.900000000001,
            "bin_end": 13437.2,
            "count": 1
           },
           {
            "bin_start": 13437.2,
            "bin_end": 16796.5,
            "count": 2
           },
           {
            "bin_start": 16796.5,
            "bin_end": 20155.800000000003,
            "count": 0
           },
           {
            "bin_start": 20155.800000000003,
            "bin_end": 23515.100000000002,
            "count": 1
           },
           {
            "bin_start": 23515.100000000002,
            "bin_end": 26874.4,
            "count": 0
           },
           {
            "bin_start": 26874.4,
            "bin_end": 30233.7,
            "count": 0
           },
           {
            "bin_start": 30233.7,
            "bin_end": 33593,
            "count": 1
           }
          ]
         }
        },
        {
         "name": "new",
         "dtype": "float64",
         "stats": {
          "unique_count": 8,
          "nan_count": 0,
          "min": "0.0",
          "max": "8786.0",
          "histogram": [
           {
            "bin_start": 0,
            "bin_end": 878.6,
            "count": 7
           },
           {
            "bin_start": 878.6,
            "bin_end": 1757.2,
            "count": 0
           },
           {
            "bin_start": 1757.2,
            "bin_end": 2635.8,
            "count": 0
           },
           {
            "bin_start": 2635.8,
            "bin_end": 3514.4,
            "count": 0
           },
           {
            "bin_start": 3514.4,
            "bin_end": 4393,
            "count": 0
           },
           {
            "bin_start": 4393,
            "bin_end": 5271.6,
            "count": 0
           },
           {
            "bin_start": 5271.6,
            "bin_end": 6150.2,
            "count": 0
           },
           {
            "bin_start": 6150.2,
            "bin_end": 7028.8,
            "count": 0
           },
           {
            "bin_start": 7028.8,
            "bin_end": 7907.400000000001,
            "count": 0
           },
           {
            "bin_start": 7907.400000000001,
            "bin_end": 8786,
            "count": 1
           }
          ]
         }
        },
        {
         "name": "_deepnote_index_column",
         "dtype": "object"
        }
       ],
       "rows": [
        {
         "accumulated": 698,
         "new": 697,
         "_deepnote_index_column": "count"
        },
        {
         "accumulated": 15205.404011461318,
         "new": 48.196556671449066,
         "_deepnote_index_column": "mean"
        },
        {
         "accumulated": 11209.734307530925,
         "new": 364.84583437623314,
         "_deepnote_index_column": "std"
        },
        {
         "accumulated": 0,
         "new": 0,
         "_deepnote_index_column": "min"
        },
        {
         "accumulated": 5137,
         "new": 1,
         "_deepnote_index_column": "25%"
        },
        {
         "accumulated": 14086,
         "new": 19,
         "_deepnote_index_column": "50%"
        },
        {
         "accumulated": 21523,
         "new": 42,
         "_deepnote_index_column": "75%"
        },
        {
         "accumulated": 33593,
         "new": 8786,
         "_deepnote_index_column": "max"
        }
       ]
      },
      "text/plain": "        accumulated          new\ncount    698.000000   697.000000\nmean   15205.404011    48.196557\nstd    11209.734308   364.845834\nmin        0.000000     0.000000\n25%     5137.000000     1.000000\n50%    14086.000000    19.000000\n75%    21523.000000    42.000000\nmax    33593.000000  8786.000000",
      "text/html": "<div>\n<style scoped>\n    .dataframe tbody tr th:only-of-type {\n        vertical-align: middle;\n    }\n\n    .dataframe tbody tr th {\n        vertical-align: top;\n    }\n\n    .dataframe thead th {\n        text-align: right;\n    }\n</style>\n<table border=\"1\" class=\"dataframe\">\n  <thead>\n    <tr style=\"text-align: right;\">\n      <th></th>\n      <th>accumulated</th>\n      <th>new</th>\n    </tr>\n  </thead>\n  <tbody>\n    <tr>\n      <th>count</th>\n      <td>698.000000</td>\n      <td>697.000000</td>\n    </tr>\n    <tr>\n      <th>mean</th>\n      <td>15205.404011</td>\n      <td>48.196557</td>\n    </tr>\n    <tr>\n      <th>std</th>\n      <td>11209.734308</td>\n      <td>364.845834</td>\n    </tr>\n    <tr>\n      <th>min</th>\n      <td>0.000000</td>\n      <td>0.000000</td>\n    </tr>\n    <tr>\n      <th>25%</th>\n      <td>5137.000000</td>\n      <td>1.000000</td>\n    </tr>\n    <tr>\n      <th>50%</th>\n      <td>14086.000000</td>\n      <td>19.000000</td>\n    </tr>\n    <tr>\n      <th>75%</th>\n      <td>21523.000000</td>\n      <td>42.000000</td>\n    </tr>\n    <tr>\n      <th>max</th>\n      <td>33593.000000</td>\n      <td>8786.000000</td>\n    </tr>\n  </tbody>\n</table>\n</div>"
     },
     "metadata": {}
    }
   ],
   "execution_count": 16
  },
  {
   "cell_type": "markdown",
   "source": "### Análisis unidimensional\n\nData sin outliers",
   "metadata": {
    "tags": [],
    "cell_id": "00020-f24de2b7-d714-4b4c-9b05-19d84e7ab5b5",
    "deepnote_cell_type": "markdown"
   }
  },
  {
   "cell_type": "code",
   "metadata": {
    "tags": [],
    "cell_id": "00021-0499c094-222e-4147-b854-1566eac3c3db",
    "deepnote_to_be_reexecuted": false,
    "source_hash": "60a3a98b",
    "execution_start": 1640124204806,
    "execution_millis": 299,
    "deepnote_output_heights": [
     270.984375
    ],
    "deepnote_cell_type": "code"
   },
   "source": "data_d = deaths[deaths['new'] < deaths['new'].quantile(0.95)]['new']\nsns.histplot(data=data_d)\nplt.show()",
   "execution_count": 36,
   "outputs": [
    {
     "data": {
      "text/plain": "<Figure size 432x288 with 1 Axes>",
      "image/png": "[encoded data removed]"
     },
     "metadata": {
      "image/png": {
       "width": 396,
       "height": 269
      }
     },
     "output_type": "display_data"
    }
   ]
  },
  {
   "cell_type": "markdown",
   "source": "### Análisis multidimensional",
   "metadata": {
    "tags": [],
    "cell_id": "00022-ed55dd44-f078-49da-9e4d-ff606f0482b4",
    "deepnote_cell_type": "markdown"
   }
  },
  {
   "cell_type": "code",
   "metadata": {
    "tags": [],
    "cell_id": "00006-fc12bb71-833a-44f9-9abb-37b40581047a",
    "deepnote_to_be_reexecuted": false,
    "source_hash": "b623e53d",
    "execution_start": 1640122974181,
    "execution_millis": 4520556,
    "deepnote_cell_type": "code"
   },
   "source": "",
   "execution_count": 12,
   "outputs": []
  },
  {
   "cell_type": "markdown",
   "source": "<a style='text-decoration:none;line-height:16px;display:flex;color:#5B5B62;padding:10px;justify-content:end;' href='https://deepnote.com?utm_source=created-in-deepnote-cell&projectId=e7b048df-fc9b-4970-aa88-df153b270a6f' target=\"_blank\">\n<img alt='Created in deepnote.com' style='display:inline;max-height:16px;margin:0px;margin-right:7.5px;' src='data:image/svg+xml;base64,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' > </img>\nCreated in <span style='font-weight:600;margin-left:4px;'>Deepnote</span></a>",
   "metadata": {
    "tags": [],
    "created_in_deepnote_cell": true,
    "deepnote_cell_type": "markdown"
   }
  }
 ],
 "nbformat": 4,
 "nbformat_minor": 2,
 "metadata": {
  "orig_nbformat": 2,
  "deepnote": {
   "is_reactive": false
  },
  "deepnote_notebook_id": "f79b994c-27b9-491c-a9d5-5725b521f59f",
  "deepnote_execution_queue": []
 }
}