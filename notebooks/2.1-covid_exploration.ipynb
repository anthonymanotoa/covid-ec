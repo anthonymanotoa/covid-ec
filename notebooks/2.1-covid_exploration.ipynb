{
 "cells": [
  {
   "cell_type": "markdown",
   "source": "# Análisis exploratorio de datos - Covid\nVe de lo más general a lo más específico.\n\nPasos a seguir:\n1. Entiende unimensionalmente los datos y sus patrones (conteos, estadística, histogramas, etc.). Una por una.\n2. Combina variables para ver cómo están correlacionadas (gráficas de correlación). Impacto de una en otra.\n3. Cómo una variable categórica impacta a otra.\n\nExtras:\n- Si te faltan datos, búscalos y enriquéselos\n- ",
   "metadata": {
    "tags": [],
    "cell_id": "00000-2201a579-aafd-4345-9156-23ea98526156",
    "deepnote_cell_type": "markdown"
   }
  },
  {
   "cell_type": "code",
   "source": "import pandas as pd\nimport matplotlib.pyplot as plt\nimport seaborn as sns",
   "metadata": {
    "tags": [],
    "cell_id": "00001-577aa392-fe8a-469e-853b-232fc0185282",
    "deepnote_to_be_reexecuted": false,
    "source_hash": "3bc44cd8",
    "execution_start": 1640101817831,
    "execution_millis": 3173,
    "deepnote_cell_type": "code"
   },
   "outputs": [],
   "execution_count": 1
  },
  {
   "cell_type": "code",
   "source": "# Load data\npath = '/work/covid-ec/data/processed/'\n\npositives = pd.read_csv(path + 'positives.csv')\nvaccines = pd.read_csv(path + 'vaccines.csv')\ndeaths = pd.read_csv(path + 'deaths.csv')",
   "metadata": {
    "tags": [],
    "cell_id": "00002-2d334267-a14f-4256-a94a-b507312eb7c3",
    "deepnote_to_be_reexecuted": false,
    "source_hash": "86a930aa",
    "execution_start": 1640101821017,
    "execution_millis": 71,
    "deepnote_cell_type": "code"
   },
   "outputs": [],
   "execution_count": 2
  },
  {
   "cell_type": "markdown",
   "source": "Las columnas de fecha son tipo `object` de nuevo. Se hace la transformación.",
   "metadata": {
    "tags": [],
    "cell_id": "00003-875e7bda-6985-462d-a474-ba029f8487f9",
    "deepnote_cell_type": "markdown"
   },
   "outputs": [],
   "execution_count": null
  },
  {
   "cell_type": "code",
   "source": "positives['created_at'] = pd.to_datetime(positives['created_at'])\nvaccines['fecha'] = pd.to_datetime(vaccines['fecha'])\ndeaths['date'] = pd.to_datetime(deaths['date'])",
   "metadata": {
    "tags": [],
    "cell_id": "00003-7085d325-382d-438d-81f1-9323c7e61706",
    "deepnote_to_be_reexecuted": false,
    "source_hash": "e42b5b9c",
    "execution_start": 1640101821116,
    "execution_millis": 52,
    "deepnote_cell_type": "code"
   },
   "outputs": [],
   "execution_count": 3
  },
  {
   "cell_type": "markdown",
   "source": "## Positives\n\n### Visión general",
   "metadata": {
    "tags": [],
    "cell_id": "00003-86435c5d-fb56-408a-a385-2461e371eb10",
    "deepnote_cell_type": "markdown"
   },
   "outputs": [],
   "execution_count": null
  },
  {
   "cell_type": "code",
   "source": "positives.info()",
   "metadata": {
    "tags": [],
    "cell_id": "00004-3e5252b4-6b40-4336-b864-778c0518351c",
    "deepnote_to_be_reexecuted": false,
    "source_hash": "b5756865",
    "execution_start": 1640101909040,
    "execution_millis": 41,
    "deepnote_cell_type": "code"
   },
   "outputs": [
    {
     "name": "stdout",
     "text": "<class 'pandas.core.frame.DataFrame'>\nRangeIndex: 15528 entries, 0 to 15527\nData columns (total 6 columns):\n #   Column                Non-Null Count  Dtype         \n---  ------                --------------  -----         \n 0   provincia             15528 non-null  object        \n 1   poblacion             15528 non-null  int64         \n 2   acumulados_provincia  15528 non-null  int64         \n 3   nuevas                15528 non-null  int64         \n 4   created_at            15528 non-null  datetime64[ns]\n 5   acumulados            15528 non-null  int64         \ndtypes: datetime64[ns](1), int64(4), object(1)\nmemory usage: 728.0+ KB\n",
     "output_type": "stream",
     "data": {}
    }
   ],
   "execution_count": 7
  },
  {
   "cell_type": "code",
   "source": "positives.describe()",
   "metadata": {
    "tags": [],
    "cell_id": "00007-ad80a866-b730-468d-adf1-c3b1d9c36673",
    "deepnote_to_be_reexecuted": false,
    "source_hash": "3553166a",
    "execution_start": 1640101920284,
    "execution_millis": 95,
    "deepnote_cell_type": "code"
   },
   "outputs": [
    {
     "output_type": "execute_result",
     "execution_count": 8,
     "data": {
      "application/vnd.deepnote.dataframe.v3+json": {
       "column_count": 4,
       "row_count": 8,
       "columns": [
        {
         "name": "poblacion",
         "dtype": "float64",
         "stats": {
          "unique_count": 8,
          "nan_count": 0,
          "min": "15528.0",
          "max": "4387434.0",
          "histogram": [
           {
            "bin_start": 15528,
            "bin_end": 452718.6,
            "count": 3
           },
           {
            "bin_start": 452718.6,
            "bin_end": 889909.2,
            "count": 3
           },
           {
            "bin_start": 889909.2,
            "bin_end": 1327099.7999999998,
            "count": 1
           },
           {
            "bin_start": 1327099.7999999998,
            "bin_end": 1764290.4,
            "count": 0
           },
           {
            "bin_start": 1764290.4,
            "bin_end": 2201481,
            "count": 0
           },
           {
            "bin_start": 2201481,
            "bin_end": 2638671.5999999996,
            "count": 0
           },
           {
            "bin_start": 2638671.5999999996,
            "bin_end": 3075862.1999999997,
            "count": 0
           },
           {
            "bin_start": 3075862.1999999997,
            "bin_end": 3513052.8,
            "count": 0
           },
           {
            "bin_start": 3513052.8,
            "bin_end": 3950243.4,
            "count": 0
           },
           {
            "bin_start": 3950243.4,
            "bin_end": 4387434,
            "count": 1
           }
          ]
         }
        },
        {
         "name": "acumulados_provincia",
         "dtype": "float64",
         "stats": {
          "unique_count": 8,
          "nan_count": 0,
          "min": "0.0",
          "max": "199324.0",
          "histogram": [
           {
            "bin_start": 0,
            "bin_end": 19932.4,
            "count": 6
           },
           {
            "bin_start": 19932.4,
            "bin_end": 39864.8,
            "count": 1
           },
           {
            "bin_start": 39864.8,
            "bin_end": 59797.200000000004,
            "count": 0
           },
           {
            "bin_start": 59797.200000000004,
            "bin_end": 79729.6,
            "count": 0
           },
           {
            "bin_start": 79729.6,
            "bin_end": 99662,
            "count": 0
           },
           {
            "bin_start": 99662,
            "bin_end": 119594.40000000001,
            "count": 0
           },
           {
            "bin_start": 119594.40000000001,
            "bin_end": 139526.80000000002,
            "count": 0
           },
           {
            "bin_start": 139526.80000000002,
            "bin_end": 159459.2,
            "count": 0
           },
           {
            "bin_start": 159459.2,
            "bin_end": 179391.6,
            "count": 0
           },
           {
            "bin_start": 179391.6,
            "bin_end": 199324,
            "count": 1
           }
          ]
         }
        },
        {
         "name": "nuevas",
         "dtype": "float64",
         "stats": {
          "unique_count": 8,
          "nan_count": 0,
          "min": "0.0",
          "max": "15528.0",
          "histogram": [
           {
            "bin_start": 0,
            "bin_end": 1552.8,
            "count": 6
           },
           {
            "bin_start": 1552.8,
            "bin_end": 3105.6,
            "count": 0
           },
           {
            "bin_start": 3105.6,
            "bin_end": 4658.4,
            "count": 1
           },
           {
            "bin_start": 4658.4,
            "bin_end": 6211.2,
            "count": 0
           },
           {
            "bin_start": 6211.2,
            "bin_end": 7764,
            "count": 0
           },
           {
            "bin_start": 7764,
            "bin_end": 9316.8,
            "count": 0
           },
           {
            "bin_start": 9316.8,
            "bin_end": 10869.6,
            "count": 0
           },
           {
            "bin_start": 10869.6,
            "bin_end": 12422.4,
            "count": 0
           },
           {
            "bin_start": 12422.4,
            "bin_end": 13975.199999999999,
            "count": 0
           },
           {
            "bin_start": 13975.199999999999,
            "bin_end": 15528,
            "count": 1
           }
          ]
         }
        },
        {
         "name": "acumulados",
         "dtype": "float64",
         "stats": {
          "unique_count": 8,
          "nan_count": 0,
          "min": "0.0",
          "max": "546554.0",
          "histogram": [
           {
            "bin_start": 0,
            "bin_end": 54655.4,
            "count": 2
           },
           {
            "bin_start": 54655.4,
            "bin_end": 109310.8,
            "count": 1
           },
           {
            "bin_start": 109310.8,
            "bin_end": 163966.2,
            "count": 0
           },
           {
            "bin_start": 163966.2,
            "bin_end": 218621.6,
            "count": 1
           },
           {
            "bin_start": 218621.6,
            "bin_end": 273277,
            "count": 1
           },
           {
            "bin_start": 273277,
            "bin_end": 327932.4,
            "count": 1
           },
           {
            "bin_start": 327932.4,
            "bin_end": 382587.8,
            "count": 0
           },
           {
            "bin_start": 382587.8,
            "bin_end": 437243.2,
            "count": 0
           },
           {
            "bin_start": 437243.2,
            "bin_end": 491898.60000000003,
            "count": 1
           },
           {
            "bin_start": 491898.60000000003,
            "bin_end": 546554,
            "count": 1
           }
          ]
         }
        },
        {
         "name": "_deepnote_index_column",
         "dtype": "object"
        }
       ],
       "rows": [
        {
         "poblacion": 15528,
         "acumulados_provincia": 15528,
         "nuevas": 15528,
         "acumulados": 15528,
         "_deepnote_index_column": "count"
        },
        {
         "poblacion": 727864,
         "acumulados_provincia": 11243.087970118495,
         "nuevas": 35.19796496651211,
         "acumulados": 277940.4321226172,
         "_deepnote_index_column": "mean"
        },
        {
         "poblacion": 999820.0991884429,
         "acumulados_provincia": 24881.103265075937,
         "nuevas": 109.15790290011016,
         "acumulados": 186070.14535352634,
         "_deepnote_index_column": "std"
        },
        {
         "poblacion": 33042,
         "acumulados_provincia": 0,
         "nuevas": 0,
         "acumulados": 0,
         "_deepnote_index_column": "min"
        },
        {
         "poblacion": 194118.5,
         "acumulados_provincia": 1636,
         "nuevas": 1,
         "acumulados": 106644.25,
         "_deepnote_index_column": "25%"
        },
        {
         "poblacion": 482486.5,
         "acumulados_provincia": 4304,
         "nuevas": 8,
         "acumulados": 257334.5,
         "_deepnote_index_column": "50%"
        },
        {
         "poblacion": 622250,
         "acumulados_provincia": 10162.25,
         "nuevas": 28,
         "acumulados": 477316.25,
         "_deepnote_index_column": "75%"
        },
        {
         "poblacion": 4387434,
         "acumulados_provincia": 199324,
         "nuevas": 3388,
         "acumulados": 546554,
         "_deepnote_index_column": "max"
        }
       ]
      },
      "text/plain": "          poblacion  acumulados_provincia        nuevas     acumulados\ncount  1.552800e+04          15528.000000  15528.000000   15528.000000\nmean   7.278640e+05          11243.087970     35.197965  277940.432123\nstd    9.998201e+05          24881.103265    109.157903  186070.145354\nmin    3.304200e+04              0.000000      0.000000       0.000000\n25%    1.941185e+05           1636.000000      1.000000  106644.250000\n50%    4.824865e+05           4304.000000      8.000000  257334.500000\n75%    6.222500e+05          10162.250000     28.000000  477316.250000\nmax    4.387434e+06         199324.000000   3388.000000  546554.000000",
      "text/html": "<div>\n<style scoped>\n    .dataframe tbody tr th:only-of-type {\n        vertical-align: middle;\n    }\n\n    .dataframe tbody tr th {\n        vertical-align: top;\n    }\n\n    .dataframe thead th {\n        text-align: right;\n    }\n</style>\n<table border=\"1\" class=\"dataframe\">\n  <thead>\n    <tr style=\"text-align: right;\">\n      <th></th>\n      <th>poblacion</th>\n      <th>acumulados_provincia</th>\n      <th>nuevas</th>\n      <th>acumulados</th>\n    </tr>\n  </thead>\n  <tbody>\n    <tr>\n      <th>count</th>\n      <td>1.552800e+04</td>\n      <td>15528.000000</td>\n      <td>15528.000000</td>\n      <td>15528.000000</td>\n    </tr>\n    <tr>\n      <th>mean</th>\n      <td>7.278640e+05</td>\n      <td>11243.087970</td>\n      <td>35.197965</td>\n      <td>277940.432123</td>\n    </tr>\n    <tr>\n      <th>std</th>\n      <td>9.998201e+05</td>\n      <td>24881.103265</td>\n      <td>109.157903</td>\n      <td>186070.145354</td>\n    </tr>\n    <tr>\n      <th>min</th>\n      <td>3.304200e+04</td>\n      <td>0.000000</td>\n      <td>0.000000</td>\n      <td>0.000000</td>\n    </tr>\n    <tr>\n      <th>25%</th>\n      <td>1.941185e+05</td>\n      <td>1636.000000</td>\n      <td>1.000000</td>\n      <td>106644.250000</td>\n    </tr>\n    <tr>\n      <th>50%</th>\n      <td>4.824865e+05</td>\n      <td>4304.000000</td>\n      <td>8.000000</td>\n      <td>257334.500000</td>\n    </tr>\n    <tr>\n      <th>75%</th>\n      <td>6.222500e+05</td>\n      <td>10162.250000</td>\n      <td>28.000000</td>\n      <td>477316.250000</td>\n    </tr>\n    <tr>\n      <th>max</th>\n      <td>4.387434e+06</td>\n      <td>199324.000000</td>\n      <td>3388.000000</td>\n      <td>546554.000000</td>\n    </tr>\n  </tbody>\n</table>\n</div>"
     },
     "metadata": {}
    }
   ],
   "execution_count": 8
  },
  {
   "cell_type": "markdown",
   "source": "### Análisis unidimensional",
   "metadata": {
    "tags": [],
    "cell_id": "00008-923d418b-11a4-4726-90d6-b44540ac7fae",
    "deepnote_cell_type": "markdown"
   },
   "outputs": [],
   "execution_count": null
  },
  {
   "cell_type": "code",
   "source": "",
   "metadata": {
    "tags": [],
    "cell_id": "00009-c639a1bf-6c00-4215-b52f-9a11d4b459c0",
    "deepnote_cell_type": "code"
   },
   "outputs": [],
   "execution_count": null
  },
  {
   "cell_type": "markdown",
   "source": "### Análisis multidimensional",
   "metadata": {
    "tags": [],
    "cell_id": "00004-8754b6ae-5c2e-449c-9640-59acbd6ab937",
    "deepnote_cell_type": "markdown"
   },
   "outputs": [],
   "execution_count": null
  },
  {
   "cell_type": "code",
   "source": "",
   "metadata": {
    "tags": [],
    "cell_id": "00004-2c603f63-2f6c-460e-9ff1-e27c1745fa0e",
    "deepnote_to_be_reexecuted": false,
    "source_hash": "b623e53d",
    "execution_start": 1640101821293,
    "execution_millis": 0,
    "deepnote_cell_type": "code"
   },
   "outputs": [],
   "execution_count": 4
  },
  {
   "cell_type": "markdown",
   "source": "## Vaccines\n\n### Visión general",
   "metadata": {
    "tags": [],
    "cell_id": "00004-230b248d-4d65-4426-b205-e4638fcde904",
    "deepnote_cell_type": "markdown"
   }
  },
  {
   "cell_type": "code",
   "source": "",
   "metadata": {
    "tags": [],
    "cell_id": "00013-c9757c99-9200-4e8c-a43c-ec6a3dcf90d5",
    "deepnote_cell_type": "code"
   },
   "outputs": [],
   "execution_count": null
  },
  {
   "cell_type": "markdown",
   "source": "### Análisis unidimensional",
   "metadata": {
    "tags": [],
    "cell_id": "00014-8f41f2ac-87ef-4619-b280-0a9ce16805b4",
    "deepnote_cell_type": "markdown"
   },
   "outputs": [],
   "execution_count": null
  },
  {
   "cell_type": "code",
   "source": "",
   "metadata": {
    "tags": [],
    "cell_id": "00015-eff5873c-9ba3-420d-a5fd-188080cc4d8b",
    "deepnote_cell_type": "code"
   },
   "outputs": [],
   "execution_count": null
  },
  {
   "cell_type": "markdown",
   "source": "### Análisis multidimensional",
   "metadata": {
    "tags": [],
    "cell_id": "00016-b06d870c-abf8-4733-9b10-c1e991a9e240",
    "deepnote_cell_type": "markdown"
   },
   "outputs": [],
   "execution_count": null
  },
  {
   "cell_type": "code",
   "source": "",
   "metadata": {
    "tags": [],
    "cell_id": "00005-85b9c127-538b-49cd-879c-0a5991632b4b",
    "deepnote_to_be_reexecuted": false,
    "source_hash": "b623e53d",
    "execution_start": 1640101821294,
    "execution_millis": 0,
    "deepnote_cell_type": "code"
   },
   "outputs": [],
   "execution_count": 4
  },
  {
   "cell_type": "markdown",
   "source": "## Deaths\n\n### Visión general",
   "metadata": {
    "tags": [],
    "cell_id": "00005-3b89aa43-1067-432e-9e3e-9d5338008388",
    "deepnote_cell_type": "markdown"
   }
  },
  {
   "cell_type": "code",
   "source": "",
   "metadata": {
    "tags": [],
    "cell_id": "00019-41411124-01e9-4176-83ae-6ab6c3d14bf8",
    "deepnote_cell_type": "code"
   },
   "outputs": [],
   "execution_count": null
  },
  {
   "cell_type": "markdown",
   "source": "### Análisis unidimensional",
   "metadata": {
    "tags": [],
    "cell_id": "00020-f24de2b7-d714-4b4c-9b05-19d84e7ab5b5",
    "deepnote_cell_type": "markdown"
   },
   "outputs": [],
   "execution_count": null
  },
  {
   "cell_type": "code",
   "source": "",
   "metadata": {
    "tags": [],
    "cell_id": "00021-0499c094-222e-4147-b854-1566eac3c3db",
    "deepnote_cell_type": "code"
   },
   "outputs": [],
   "execution_count": null
  },
  {
   "cell_type": "markdown",
   "source": "### Análisis multidimensional",
   "metadata": {
    "tags": [],
    "cell_id": "00022-ed55dd44-f078-49da-9e4d-ff606f0482b4",
    "deepnote_cell_type": "markdown"
   },
   "outputs": [],
   "execution_count": null
  },
  {
   "cell_type": "code",
   "source": "",
   "metadata": {
    "tags": [],
    "cell_id": "00006-fc12bb71-833a-44f9-9abb-37b40581047a",
    "deepnote_to_be_reexecuted": false,
    "source_hash": "b623e53d",
    "execution_start": 1640101821333,
    "deepnote_cell_type": "code"
   },
   "outputs": [],
   "execution_count": 4
  },
  {
   "cell_type": "markdown",
   "source": "<a style='text-decoration:none;line-height:16px;display:flex;color:#5B5B62;padding:10px;justify-content:end;' href='https://deepnote.com?utm_source=created-in-deepnote-cell&projectId=e7b048df-fc9b-4970-aa88-df153b270a6f' target=\"_blank\">\n<img alt='Created in deepnote.com' style='display:inline;max-height:16px;margin:0px;margin-right:7.5px;' src='data:image/svg+xml;base64,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' > </img>\nCreated in <span style='font-weight:600;margin-left:4px;'>Deepnote</span></a>",
   "metadata": {
    "tags": [],
    "created_in_deepnote_cell": true,
    "deepnote_cell_type": "markdown"
   }
  }
 ],
 "nbformat": 4,
 "nbformat_minor": 2,
 "metadata": {
  "orig_nbformat": 2,
  "deepnote": {
   "is_reactive": false
  },
  "deepnote_notebook_id": "f79b994c-27b9-491c-a9d5-5725b521f59f",
  "deepnote_execution_queue": []
 }
}