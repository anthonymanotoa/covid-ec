{
 "cells": [
  {
   "cell_type": "markdown",
   "source": "# Análisis exploratorio de datos - Covid",
   "metadata": {
    "tags": [],
    "cell_id": "00000-2201a579-aafd-4345-9156-23ea98526156",
    "deepnote_cell_type": "markdown"
   }
  },
  {
   "cell_type": "code",
   "metadata": {
    "tags": [],
    "cell_id": "00001-577aa392-fe8a-469e-853b-232fc0185282",
    "deepnote_to_be_reexecuted": false,
    "source_hash": "3bc44cd8",
    "execution_start": 1640278278190,
    "execution_millis": 1931,
    "deepnote_cell_type": "code"
   },
   "source": "import pandas as pd\nimport matplotlib.pyplot as plt\nimport seaborn as sns",
   "execution_count": 1,
   "outputs": []
  },
  {
   "cell_type": "code",
   "metadata": {
    "tags": [],
    "cell_id": "00002-85c3b095-a053-4aa2-9237-834a64ce63e6",
    "deepnote_to_be_reexecuted": false,
    "source_hash": "f2f79983",
    "execution_start": 1640278280130,
    "execution_millis": 4,
    "deepnote_cell_type": "code"
   },
   "source": "sns.set_theme()",
   "execution_count": 2,
   "outputs": []
  },
  {
   "cell_type": "code",
   "metadata": {
    "tags": [],
    "cell_id": "00002-2d334267-a14f-4256-a94a-b507312eb7c3",
    "deepnote_to_be_reexecuted": false,
    "source_hash": "7561a23",
    "execution_start": 1640278280141,
    "execution_millis": 22,
    "deepnote_cell_type": "code"
   },
   "source": "# Load data\npath = '/work/covid-ec/data/processed/'\n\npositives = pd.read_pickle(path + 'positives.pkl')\nvaccines = pd.read_pickle(path + 'vaccines.pkl')\ndeaths = pd.read_pickle(path + 'deaths.pkl')",
   "execution_count": 3,
   "outputs": []
  },
  {
   "cell_type": "markdown",
   "source": "## Positives\n\n### Visión general",
   "metadata": {
    "tags": [],
    "cell_id": "00003-86435c5d-fb56-408a-a385-2461e371eb10",
    "deepnote_cell_type": "markdown"
   }
  },
  {
   "cell_type": "code",
   "metadata": {
    "tags": [],
    "cell_id": "00004-3e5252b4-6b40-4336-b864-778c0518351c",
    "deepnote_to_be_reexecuted": false,
    "source_hash": "b5756865",
    "execution_start": 1640278280178,
    "execution_millis": 5,
    "deepnote_cell_type": "code"
   },
   "source": "positives.info()",
   "execution_count": 4,
   "outputs": [
    {
     "name": "stdout",
     "text": "<class 'pandas.core.frame.DataFrame'>\nInt64Index: 15600 entries, 0 to 8543\nData columns (total 6 columns):\n #   Column                Non-Null Count  Dtype         \n---  ------                --------------  -----         \n 0   provincia             15600 non-null  object        \n 1   poblacion             15600 non-null  int64         \n 2   acumulados_provincia  15600 non-null  int64         \n 3   nuevas                15600 non-null  int64         \n 4   created_at            15600 non-null  datetime64[ns]\n 5   acumulados            15600 non-null  int64         \ndtypes: datetime64[ns](1), int64(4), object(1)\nmemory usage: 853.1+ KB\n",
     "output_type": "stream",
     "data": {}
    }
   ]
  },
  {
   "cell_type": "code",
   "metadata": {
    "tags": [],
    "cell_id": "00007-ad80a866-b730-468d-adf1-c3b1d9c36673",
    "deepnote_to_be_reexecuted": false,
    "source_hash": "3553166a",
    "execution_start": 1640278280191,
    "execution_millis": 63,
    "deepnote_cell_type": "code"
   },
   "source": "positives.describe()",
   "execution_count": 5,
   "outputs": [
    {
     "output_type": "execute_result",
     "execution_count": 5,
     "data": {
      "application/vnd.deepnote.dataframe.v3+json": {
       "column_count": 4,
       "row_count": 8,
       "columns": [
        {
         "name": "poblacion",
         "dtype": "float64",
         "stats": {
          "unique_count": 8,
          "nan_count": 0,
          "min": "15600.0",
          "max": "4387434.0",
          "histogram": [
           {
            "bin_start": 15600,
            "bin_end": 452783.4,
            "count": 3
           },
           {
            "bin_start": 452783.4,
            "bin_end": 889966.8,
            "count": 3
           },
           {
            "bin_start": 889966.8,
            "bin_end": 1327150.2000000002,
            "count": 1
           },
           {
            "bin_start": 1327150.2000000002,
            "bin_end": 1764333.6,
            "count": 0
           },
           {
            "bin_start": 1764333.6,
            "bin_end": 2201517,
            "count": 0
           },
           {
            "bin_start": 2201517,
            "bin_end": 2638700.4000000004,
            "count": 0
           },
           {
            "bin_start": 2638700.4000000004,
            "bin_end": 3075883.8000000003,
            "count": 0
           },
           {
            "bin_start": 3075883.8000000003,
            "bin_end": 3513067.2,
            "count": 0
           },
           {
            "bin_start": 3513067.2,
            "bin_end": 3950250.6,
            "count": 0
           },
           {
            "bin_start": 3950250.6,
            "bin_end": 4387434,
            "count": 1
           }
          ]
         }
        },
        {
         "name": "acumulados_provincia",
         "dtype": "float64",
         "stats": {
          "unique_count": 8,
          "nan_count": 0,
          "min": "0.0",
          "max": "199831.0",
          "histogram": [
           {
            "bin_start": 0,
            "bin_end": 19983.1,
            "count": 6
           },
           {
            "bin_start": 19983.1,
            "bin_end": 39966.2,
            "count": 1
           },
           {
            "bin_start": 39966.2,
            "bin_end": 59949.299999999996,
            "count": 0
           },
           {
            "bin_start": 59949.299999999996,
            "bin_end": 79932.4,
            "count": 0
           },
           {
            "bin_start": 79932.4,
            "bin_end": 99915.5,
            "count": 0
           },
           {
            "bin_start": 99915.5,
            "bin_end": 119898.59999999999,
            "count": 0
           },
           {
            "bin_start": 119898.59999999999,
            "bin_end": 139881.69999999998,
            "count": 0
           },
           {
            "bin_start": 139881.69999999998,
            "bin_end": 159864.8,
            "count": 0
           },
           {
            "bin_start": 159864.8,
            "bin_end": 179847.9,
            "count": 0
           },
           {
            "bin_start": 179847.9,
            "bin_end": 199831,
            "count": 1
           }
          ]
         }
        },
        {
         "name": "nuevas",
         "dtype": "float64",
         "stats": {
          "unique_count": 8,
          "nan_count": 0,
          "min": "0.0",
          "max": "15600.0",
          "histogram": [
           {
            "bin_start": 0,
            "bin_end": 1560,
            "count": 6
           },
           {
            "bin_start": 1560,
            "bin_end": 3120,
            "count": 0
           },
           {
            "bin_start": 3120,
            "bin_end": 4680,
            "count": 1
           },
           {
            "bin_start": 4680,
            "bin_end": 6240,
            "count": 0
           },
           {
            "bin_start": 6240,
            "bin_end": 7800,
            "count": 0
           },
           {
            "bin_start": 7800,
            "bin_end": 9360,
            "count": 0
           },
           {
            "bin_start": 9360,
            "bin_end": 10920,
            "count": 0
           },
           {
            "bin_start": 10920,
            "bin_end": 12480,
            "count": 0
           },
           {
            "bin_start": 12480,
            "bin_end": 14040,
            "count": 0
           },
           {
            "bin_start": 14040,
            "bin_end": 15600,
            "count": 1
           }
          ]
         }
        },
        {
         "name": "acumulados",
         "dtype": "float64",
         "stats": {
          "unique_count": 8,
          "nan_count": 0,
          "min": "0.0",
          "max": "548559.0",
          "histogram": [
           {
            "bin_start": 0,
            "bin_end": 54855.9,
            "count": 2
           },
           {
            "bin_start": 54855.9,
            "bin_end": 109711.8,
            "count": 1
           },
           {
            "bin_start": 109711.8,
            "bin_end": 164567.7,
            "count": 0
           },
           {
            "bin_start": 164567.7,
            "bin_end": 219423.6,
            "count": 1
           },
           {
            "bin_start": 219423.6,
            "bin_end": 274279.5,
            "count": 1
           },
           {
            "bin_start": 274279.5,
            "bin_end": 329135.4,
            "count": 1
           },
           {
            "bin_start": 329135.4,
            "bin_end": 383991.3,
            "count": 0
           },
           {
            "bin_start": 383991.3,
            "bin_end": 438847.2,
            "count": 0
           },
           {
            "bin_start": 438847.2,
            "bin_end": 493703.10000000003,
            "count": 1
           },
           {
            "bin_start": 493703.10000000003,
            "bin_end": 548559,
            "count": 1
           }
          ]
         }
        },
        {
         "name": "_deepnote_index_column",
         "dtype": "object"
        }
       ],
       "rows": [
        {
         "poblacion": 15600,
         "acumulados_provincia": 15600,
         "nuevas": 15600,
         "acumulados": 15600,
         "_deepnote_index_column": "count"
        },
        {
         "poblacion": 727864,
         "acumulados_provincia": 11294.688782051282,
         "nuevas": 35.16403846153846,
         "acumulados": 279183.8003846154,
         "_deepnote_index_column": "mean"
        },
        {
         "poblacion": 999819.9505907333,
         "acumulados_provincia": 24982.88962237637,
         "nuevas": 108.98525100476385,
         "acumulados": 186536.13854429108,
         "_deepnote_index_column": "std"
        },
        {
         "poblacion": 33042,
         "acumulados_provincia": 0,
         "nuevas": 0,
         "acumulados": 0,
         "_deepnote_index_column": "min"
        },
        {
         "poblacion": 194118.5,
         "acumulados_provincia": 1648,
         "nuevas": 1,
         "acumulados": 107193,
         "_deepnote_index_column": "25%"
        },
        {
         "poblacion": 482486.5,
         "acumulados_provincia": 4322,
         "nuevas": 8,
         "acumulados": 260145.5,
         "_deepnote_index_column": "50%"
        },
        {
         "poblacion": 622250,
         "acumulados_provincia": 10218.25,
         "nuevas": 28,
         "acumulados": 478018.5,
         "_deepnote_index_column": "75%"
        },
        {
         "poblacion": 4387434,
         "acumulados_provincia": 199831,
         "nuevas": 3388,
         "acumulados": 548559,
         "_deepnote_index_column": "max"
        }
       ]
      },
      "text/plain": "          poblacion  acumulados_provincia        nuevas     acumulados\ncount  1.560000e+04          15600.000000  15600.000000   15600.000000\nmean   7.278640e+05          11294.688782     35.164038  279183.800385\nstd    9.998200e+05          24982.889622    108.985251  186536.138544\nmin    3.304200e+04              0.000000      0.000000       0.000000\n25%    1.941185e+05           1648.000000      1.000000  107193.000000\n50%    4.824865e+05           4322.000000      8.000000  260145.500000\n75%    6.222500e+05          10218.250000     28.000000  478018.500000\nmax    4.387434e+06         199831.000000   3388.000000  548559.000000",
      "text/html": "<div>\n<style scoped>\n    .dataframe tbody tr th:only-of-type {\n        vertical-align: middle;\n    }\n\n    .dataframe tbody tr th {\n        vertical-align: top;\n    }\n\n    .dataframe thead th {\n        text-align: right;\n    }\n</style>\n<table border=\"1\" class=\"dataframe\">\n  <thead>\n    <tr style=\"text-align: right;\">\n      <th></th>\n      <th>poblacion</th>\n      <th>acumulados_provincia</th>\n      <th>nuevas</th>\n      <th>acumulados</th>\n    </tr>\n  </thead>\n  <tbody>\n    <tr>\n      <th>count</th>\n      <td>1.560000e+04</td>\n      <td>15600.000000</td>\n      <td>15600.000000</td>\n      <td>15600.000000</td>\n    </tr>\n    <tr>\n      <th>mean</th>\n      <td>7.278640e+05</td>\n      <td>11294.688782</td>\n      <td>35.164038</td>\n      <td>279183.800385</td>\n    </tr>\n    <tr>\n      <th>std</th>\n      <td>9.998200e+05</td>\n      <td>24982.889622</td>\n      <td>108.985251</td>\n      <td>186536.138544</td>\n    </tr>\n    <tr>\n      <th>min</th>\n      <td>3.304200e+04</td>\n      <td>0.000000</td>\n      <td>0.000000</td>\n      <td>0.000000</td>\n    </tr>\n    <tr>\n      <th>25%</th>\n      <td>1.941185e+05</td>\n      <td>1648.000000</td>\n      <td>1.000000</td>\n      <td>107193.000000</td>\n    </tr>\n    <tr>\n      <th>50%</th>\n      <td>4.824865e+05</td>\n      <td>4322.000000</td>\n      <td>8.000000</td>\n      <td>260145.500000</td>\n    </tr>\n    <tr>\n      <th>75%</th>\n      <td>6.222500e+05</td>\n      <td>10218.250000</td>\n      <td>28.000000</td>\n      <td>478018.500000</td>\n    </tr>\n    <tr>\n      <th>max</th>\n      <td>4.387434e+06</td>\n      <td>199831.000000</td>\n      <td>3388.000000</td>\n      <td>548559.000000</td>\n    </tr>\n  </tbody>\n</table>\n</div>"
     },
     "metadata": {}
    }
   ]
  },
  {
   "cell_type": "markdown",
   "source": "### Análisis unidimensional",
   "metadata": {
    "tags": [],
    "cell_id": "00008-923d418b-11a4-4726-90d6-b44540ac7fae",
    "deepnote_cell_type": "markdown"
   }
  },
  {
   "cell_type": "markdown",
   "source": "¿Cuántos casos positivos hay al día quitando los outliers?",
   "metadata": {
    "tags": [],
    "cell_id": "00009-d34c168a-3637-4b0c-89d9-0b366fd8ab14",
    "deepnote_to_be_reexecuted": false,
    "source_hash": "d784b44a",
    "execution_start": 1640122969739,
    "deepnote_cell_type": "markdown"
   }
  },
  {
   "cell_type": "code",
   "metadata": {
    "tags": [],
    "cell_id": "00009-c639a1bf-6c00-4215-b52f-9a11d4b459c0",
    "deepnote_to_be_reexecuted": false,
    "source_hash": "eb83a536",
    "execution_start": 1640278280303,
    "execution_millis": 591,
    "deepnote_output_heights": [
     269.984375
    ],
    "deepnote_cell_type": "code"
   },
   "source": "plt.figure(figsize=[12, 4])\ndata_p = positives[positives['nuevas'] < positives['nuevas'].quantile(0.95)]['nuevas']\nsns.histplot(data=data_p)\nplt.show()",
   "execution_count": 6,
   "outputs": [
    {
     "data": {
      "text/plain": "<Figure size 864x288 with 1 Axes>",
      "image/png": "[encoded data removed]"
     },
     "metadata": {
      "image/png": {
       "width": 741,
       "height": 268
      }
     },
     "output_type": "display_data"
    }
   ]
  },
  {
   "cell_type": "markdown",
   "source": "### Análisis multidimensional",
   "metadata": {
    "tags": [],
    "cell_id": "00004-8754b6ae-5c2e-449c-9640-59acbd6ab937",
    "deepnote_cell_type": "markdown"
   }
  },
  {
   "cell_type": "code",
   "metadata": {
    "tags": [],
    "cell_id": "00004-2c603f63-2f6c-460e-9ff1-e27c1745fa0e",
    "deepnote_to_be_reexecuted": false,
    "source_hash": "208a563d",
    "execution_start": 1640278280901,
    "execution_millis": 455,
    "deepnote_output_heights": [
     304.984375
    ],
    "deepnote_cell_type": "code"
   },
   "source": "plt.plot(positives.created_at, positives.acumulados)\nplt.xticks(rotation=90)\nplt.title('Positivos acumulados totales')\nplt.show()",
   "execution_count": 7,
   "outputs": [
    {
     "data": {
      "text/plain": "<Figure size 432x288 with 1 Axes>",
      "image/png": "[encoded data removed]"
     },
     "metadata": {
      "image/png": {
       "width": 400,
       "height": 303
      }
     },
     "output_type": "display_data"
    }
   ]
  },
  {
   "cell_type": "markdown",
   "source": "## Vaccines\n\n### Visión general",
   "metadata": {
    "tags": [],
    "cell_id": "00004-230b248d-4d65-4426-b205-e4638fcde904",
    "deepnote_cell_type": "markdown"
   }
  },
  {
   "cell_type": "code",
   "metadata": {
    "tags": [],
    "cell_id": "00013-c9757c99-9200-4e8c-a43c-ec6a3dcf90d5",
    "deepnote_to_be_reexecuted": false,
    "source_hash": "14aa39b5",
    "execution_start": 1640278281403,
    "execution_millis": 2,
    "deepnote_cell_type": "code"
   },
   "source": "vaccines.info()",
   "execution_count": 8,
   "outputs": [
    {
     "name": "stdout",
     "text": "<class 'pandas.core.frame.DataFrame'>\nInt64Index: 246 entries, 0 to 245\nData columns (total 5 columns):\n #   Column         Non-Null Count  Dtype         \n---  ------         --------------  -----         \n 0   fecha          246 non-null    datetime64[ns]\n 1   dosis_total    246 non-null    int64         \n 2   primera_dosis  246 non-null    int64         \n 3   segunda_dosis  246 non-null    int64         \n 4   refuerzo       246 non-null    int64         \ndtypes: datetime64[ns](1), int64(4)\nmemory usage: 11.5 KB\n",
     "output_type": "stream",
     "data": {}
    }
   ]
  },
  {
   "cell_type": "code",
   "metadata": {
    "tags": [],
    "cell_id": "00015-21177491-bf0b-4aff-9eda-03640ec130a9",
    "deepnote_to_be_reexecuted": false,
    "source_hash": "15a4cdfb",
    "execution_start": 1640278281404,
    "execution_millis": 54,
    "deepnote_cell_type": "code"
   },
   "source": "vaccines.describe()",
   "execution_count": 9,
   "outputs": [
    {
     "output_type": "execute_result",
     "execution_count": 9,
     "data": {
      "application/vnd.deepnote.dataframe.v3+json": {
       "column_count": 4,
       "row_count": 8,
       "columns": [
        {
         "name": "dosis_total",
         "dtype": "float64",
         "stats": {
          "unique_count": 8,
          "nan_count": 0,
          "min": "0.0",
          "max": "26767195.0",
          "histogram": [
           {
            "bin_start": 0,
            "bin_end": 2676719.5,
            "count": 3
           },
           {
            "bin_start": 2676719.5,
            "bin_end": 5353439,
            "count": 0
           },
           {
            "bin_start": 5353439,
            "bin_end": 8030158.5,
            "count": 0
           },
           {
            "bin_start": 8030158.5,
            "bin_end": 10706878,
            "count": 1
           },
           {
            "bin_start": 10706878,
            "bin_end": 13383597.5,
            "count": 2
           },
           {
            "bin_start": 13383597.5,
            "bin_end": 16060317,
            "count": 0
           },
           {
            "bin_start": 16060317,
            "bin_end": 18737036.5,
            "count": 0
           },
           {
            "bin_start": 18737036.5,
            "bin_end": 21413756,
            "count": 1
           },
           {
            "bin_start": 21413756,
            "bin_end": 24090475.5,
            "count": 0
           },
           {
            "bin_start": 24090475.5,
            "bin_end": 26767195,
            "count": 1
           }
          ]
         }
        },
        {
         "name": "primera_dosis",
         "dtype": "float64",
         "stats": {
          "unique_count": 8,
          "nan_count": 0,
          "min": "0.0",
          "max": "13631727.0",
          "histogram": [
           {
            "bin_start": 0,
            "bin_end": 1363172.7,
            "count": 2
           },
           {
            "bin_start": 1363172.7,
            "bin_end": 2726345.4,
            "count": 1
           },
           {
            "bin_start": 2726345.4,
            "bin_end": 4089518.0999999996,
            "count": 0
           },
           {
            "bin_start": 4089518.0999999996,
            "bin_end": 5452690.8,
            "count": 1
           },
           {
            "bin_start": 5452690.8,
            "bin_end": 6815863.5,
            "count": 0
           },
           {
            "bin_start": 6815863.5,
            "bin_end": 8179036.199999999,
            "count": 1
           },
           {
            "bin_start": 8179036.199999999,
            "bin_end": 9542208.9,
            "count": 1
           },
           {
            "bin_start": 9542208.9,
            "bin_end": 10905381.6,
            "count": 0
           },
           {
            "bin_start": 10905381.6,
            "bin_end": 12268554.299999999,
            "count": 1
           },
           {
            "bin_start": 12268554.299999999,
            "bin_end": 13631727,
            "count": 1
           }
          ]
         }
        },
        {
         "name": "segunda_dosis",
         "dtype": "float64",
         "stats": {
          "unique_count": 8,
          "nan_count": 0,
          "min": "0.0",
          "max": "12318452.0",
          "histogram": [
           {
            "bin_start": 0,
            "bin_end": 1231845.2,
            "count": 3
           },
           {
            "bin_start": 1231845.2,
            "bin_end": 2463690.4,
            "count": 0
           },
           {
            "bin_start": 2463690.4,
            "bin_end": 3695535.5999999996,
            "count": 1
           },
           {
            "bin_start": 3695535.5999999996,
            "bin_end": 4927380.8,
            "count": 1
           },
           {
            "bin_start": 4927380.8,
            "bin_end": 6159226,
            "count": 1
           },
           {
            "bin_start": 6159226,
            "bin_end": 7391071.199999999,
            "count": 0
           },
           {
            "bin_start": 7391071.199999999,
            "bin_end": 8622916.4,
            "count": 0
           },
           {
            "bin_start": 8622916.4,
            "bin_end": 9854761.6,
            "count": 0
           },
           {
            "bin_start": 9854761.6,
            "bin_end": 11086606.799999999,
            "count": 1
           },
           {
            "bin_start": 11086606.799999999,
            "bin_end": 12318452,
            "count": 1
           }
          ]
         }
        },
        {
         "name": "refuerzo",
         "dtype": "float64",
         "stats": {
          "unique_count": 6,
          "nan_count": 0,
          "min": "0.0",
          "max": "817016.0",
          "histogram": [
           {
            "bin_start": 0,
            "bin_end": 81701.6,
            "count": 6
           },
           {
            "bin_start": 81701.6,
            "bin_end": 163403.2,
            "count": 0
           },
           {
            "bin_start": 163403.2,
            "bin_end": 245104.80000000002,
            "count": 1
           },
           {
            "bin_start": 245104.80000000002,
            "bin_end": 326806.4,
            "count": 0
           },
           {
            "bin_start": 326806.4,
            "bin_end": 408508,
            "count": 0
           },
           {
            "bin_start": 408508,
            "bin_end": 490209.60000000003,
            "count": 0
           },
           {
            "bin_start": 490209.60000000003,
            "bin_end": 571911.2000000001,
            "count": 0
           },
           {
            "bin_start": 571911.2000000001,
            "bin_end": 653612.8,
            "count": 0
           },
           {
            "bin_start": 653612.8,
            "bin_end": 735314.4,
            "count": 0
           },
           {
            "bin_start": 735314.4,
            "bin_end": 817016,
            "count": 1
           }
          ]
         }
        },
        {
         "name": "_deepnote_index_column",
         "dtype": "object"
        }
       ],
       "rows": [
        {
         "dosis_total": 246,
         "primera_dosis": 246,
         "segunda_dosis": 246,
         "refuerzo": 246,
         "_deepnote_index_column": "count"
        },
        {
         "dosis_total": 12333450.471544715,
         "primera_dosis": 7012380.869918699,
         "segunda_dosis": 5244127.479674797,
         "refuerzo": 76895.0081300813,
         "_deepnote_index_column": "mean"
        },
        {
         "dosis_total": 9787053.964357221,
         "primera_dosis": 5110083.526178719,
         "segunda_dosis": 4704556.605546078,
         "refuerzo": 186708.07774300964,
         "_deepnote_index_column": "std"
        },
        {
         "dosis_total": 0,
         "primera_dosis": 0,
         "segunda_dosis": 0,
         "refuerzo": 0,
         "_deepnote_index_column": "min"
        },
        {
         "dosis_total": 1906376.25,
         "primera_dosis": 1415516.25,
         "segunda_dosis": 490860,
         "refuerzo": 0,
         "_deepnote_index_column": "25%"
        },
        {
         "dosis_total": 12261365,
         "primera_dosis": 9485820,
         "segunda_dosis": 2775545,
         "refuerzo": 0,
         "_deepnote_index_column": "50%"
        },
        {
         "dosis_total": 21406361.25,
         "primera_dosis": 11351676.75,
         "segunda_dosis": 10054683.5,
         "refuerzo": 1,
         "_deepnote_index_column": "75%"
        },
        {
         "dosis_total": 26767195,
         "primera_dosis": 13631727,
         "segunda_dosis": 12318452,
         "refuerzo": 817016,
         "_deepnote_index_column": "max"
        }
       ]
      },
      "text/plain": "        dosis_total  primera_dosis  segunda_dosis       refuerzo\ncount  2.460000e+02   2.460000e+02   2.460000e+02     246.000000\nmean   1.233345e+07   7.012381e+06   5.244127e+06   76895.008130\nstd    9.787054e+06   5.110084e+06   4.704557e+06  186708.077743\nmin    0.000000e+00   0.000000e+00   0.000000e+00       0.000000\n25%    1.906376e+06   1.415516e+06   4.908600e+05       0.000000\n50%    1.226136e+07   9.485820e+06   2.775545e+06       0.000000\n75%    2.140636e+07   1.135168e+07   1.005468e+07       1.000000\nmax    2.676720e+07   1.363173e+07   1.231845e+07  817016.000000",
      "text/html": "<div>\n<style scoped>\n    .dataframe tbody tr th:only-of-type {\n        vertical-align: middle;\n    }\n\n    .dataframe tbody tr th {\n        vertical-align: top;\n    }\n\n    .dataframe thead th {\n        text-align: right;\n    }\n</style>\n<table border=\"1\" class=\"dataframe\">\n  <thead>\n    <tr style=\"text-align: right;\">\n      <th></th>\n      <th>dosis_total</th>\n      <th>primera_dosis</th>\n      <th>segunda_dosis</th>\n      <th>refuerzo</th>\n    </tr>\n  </thead>\n  <tbody>\n    <tr>\n      <th>count</th>\n      <td>2.460000e+02</td>\n      <td>2.460000e+02</td>\n      <td>2.460000e+02</td>\n      <td>246.000000</td>\n    </tr>\n    <tr>\n      <th>mean</th>\n      <td>1.233345e+07</td>\n      <td>7.012381e+06</td>\n      <td>5.244127e+06</td>\n      <td>76895.008130</td>\n    </tr>\n    <tr>\n      <th>std</th>\n      <td>9.787054e+06</td>\n      <td>5.110084e+06</td>\n      <td>4.704557e+06</td>\n      <td>186708.077743</td>\n    </tr>\n    <tr>\n      <th>min</th>\n      <td>0.000000e+00</td>\n      <td>0.000000e+00</td>\n      <td>0.000000e+00</td>\n      <td>0.000000</td>\n    </tr>\n    <tr>\n      <th>25%</th>\n      <td>1.906376e+06</td>\n      <td>1.415516e+06</td>\n      <td>4.908600e+05</td>\n      <td>0.000000</td>\n    </tr>\n    <tr>\n      <th>50%</th>\n      <td>1.226136e+07</td>\n      <td>9.485820e+06</td>\n      <td>2.775545e+06</td>\n      <td>0.000000</td>\n    </tr>\n    <tr>\n      <th>75%</th>\n      <td>2.140636e+07</td>\n      <td>1.135168e+07</td>\n      <td>1.005468e+07</td>\n      <td>1.000000</td>\n    </tr>\n    <tr>\n      <th>max</th>\n      <td>2.676720e+07</td>\n      <td>1.363173e+07</td>\n      <td>1.231845e+07</td>\n      <td>817016.000000</td>\n    </tr>\n  </tbody>\n</table>\n</div>"
     },
     "metadata": {}
    }
   ]
  },
  {
   "cell_type": "markdown",
   "source": "### Análisis multidimensional",
   "metadata": {
    "tags": [],
    "cell_id": "00016-b06d870c-abf8-4733-9b10-c1e991a9e240",
    "deepnote_cell_type": "markdown"
   }
  },
  {
   "cell_type": "code",
   "metadata": {
    "tags": [],
    "cell_id": "00005-85b9c127-538b-49cd-879c-0a5991632b4b",
    "deepnote_to_be_reexecuted": false,
    "source_hash": "6136e026",
    "execution_start": 1640278281527,
    "execution_millis": 678,
    "deepnote_output_heights": [
     423.96875
    ],
    "deepnote_cell_type": "code"
   },
   "source": "plt.figure(figsize=[12, 6])\nsns.lineplot(data=vaccines, x='fecha', y='dosis_total',  label='Totales')\nsns.lineplot(data=vaccines, x='fecha', y='primera_dosis', label='Primera')\nsns.lineplot(data=vaccines, x='fecha', y='segunda_dosis', label='Segunda')\nsns.lineplot(data=vaccines, x='fecha', y='refuerzo', label='Refuerzo')\nplt.xticks(rotation=60)\nplt.show()",
   "execution_count": 10,
   "outputs": [
    {
     "data": {
      "text/plain": "<Figure size 864x432 with 1 Axes>",
      "image/png": "[encoded data removed]"
     },
     "metadata": {
      "image/png": {
       "width": 736,
       "height": 422
      }
     },
     "output_type": "display_data"
    }
   ]
  },
  {
   "cell_type": "markdown",
   "source": "## Deaths\n\n### Visión general",
   "metadata": {
    "tags": [],
    "cell_id": "00005-3b89aa43-1067-432e-9e3e-9d5338008388",
    "deepnote_cell_type": "markdown"
   }
  },
  {
   "cell_type": "code",
   "metadata": {
    "tags": [],
    "cell_id": "00019-41411124-01e9-4176-83ae-6ab6c3d14bf8",
    "deepnote_to_be_reexecuted": false,
    "source_hash": "32920a1e",
    "execution_start": 1640278282195,
    "execution_millis": 10,
    "deepnote_cell_type": "code"
   },
   "source": "deaths.info()",
   "execution_count": 11,
   "outputs": [
    {
     "name": "stdout",
     "text": "<class 'pandas.core.frame.DataFrame'>\nRangeIndex: 701 entries, 0 to 700\nData columns (total 3 columns):\n #   Column       Non-Null Count  Dtype         \n---  ------       --------------  -----         \n 0   date         701 non-null    datetime64[ns]\n 1   accumulated  701 non-null    int64         \n 2   new          700 non-null    float64       \ndtypes: datetime64[ns](1), float64(1), int64(1)\nmemory usage: 16.6 KB\n",
     "output_type": "stream",
     "data": {}
    }
   ]
  },
  {
   "cell_type": "code",
   "metadata": {
    "tags": [],
    "cell_id": "00021-3be4fff7-3ef1-4fa4-9162-16417506f281",
    "deepnote_to_be_reexecuted": false,
    "source_hash": "42be85c8",
    "execution_start": 1640278282202,
    "execution_millis": 25,
    "deepnote_cell_type": "code"
   },
   "source": "deaths.describe()",
   "execution_count": 12,
   "outputs": [
    {
     "output_type": "execute_result",
     "execution_count": 12,
     "data": {
      "application/vnd.deepnote.dataframe.v3+json": {
       "column_count": 2,
       "row_count": 8,
       "columns": [
        {
         "name": "accumulated",
         "dtype": "float64",
         "stats": {
          "unique_count": 8,
          "nan_count": 0,
          "min": "0.0",
          "max": "33624.0",
          "histogram": [
           {
            "bin_start": 0,
            "bin_end": 3362.4,
            "count": 2
           },
           {
            "bin_start": 3362.4,
            "bin_end": 6724.8,
            "count": 1
           },
           {
            "bin_start": 6724.8,
            "bin_end": 10087.2,
            "count": 0
           },
           {
            "bin_start": 10087.2,
            "bin_end": 13449.6,
            "count": 1
           },
           {
            "bin_start": 13449.6,
            "bin_end": 16812,
            "count": 2
           },
           {
            "bin_start": 16812,
            "bin_end": 20174.4,
            "count": 0
           },
           {
            "bin_start": 20174.4,
            "bin_end": 23536.8,
            "count": 1
           },
           {
            "bin_start": 23536.8,
            "bin_end": 26899.2,
            "count": 0
           },
           {
            "bin_start": 26899.2,
            "bin_end": 30261.600000000002,
            "count": 0
           },
           {
            "bin_start": 30261.600000000002,
            "bin_end": 33624,
            "count": 1
           }
          ]
         }
        },
        {
         "name": "new",
         "dtype": "float64",
         "stats": {
          "unique_count": 8,
          "nan_count": 0,
          "min": "0.0",
          "max": "8786.0",
          "histogram": [
           {
            "bin_start": 0,
            "bin_end": 878.6,
            "count": 7
           },
           {
            "bin_start": 878.6,
            "bin_end": 1757.2,
            "count": 0
           },
           {
            "bin_start": 1757.2,
            "bin_end": 2635.8,
            "count": 0
           },
           {
            "bin_start": 2635.8,
            "bin_end": 3514.4,
            "count": 0
           },
           {
            "bin_start": 3514.4,
            "bin_end": 4393,
            "count": 0
           },
           {
            "bin_start": 4393,
            "bin_end": 5271.6,
            "count": 0
           },
           {
            "bin_start": 5271.6,
            "bin_end": 6150.2,
            "count": 0
           },
           {
            "bin_start": 6150.2,
            "bin_end": 7028.8,
            "count": 0
           },
           {
            "bin_start": 7028.8,
            "bin_end": 7907.400000000001,
            "count": 0
           },
           {
            "bin_start": 7907.400000000001,
            "bin_end": 8786,
            "count": 1
           }
          ]
         }
        },
        {
         "name": "_deepnote_index_column",
         "dtype": "object"
        }
       ],
       "rows": [
        {
         "accumulated": 701,
         "new": 700,
         "_deepnote_index_column": "count"
        },
        {
         "accumulated": 15284.18972895863,
         "new": 48.034285714285716,
         "_deepnote_index_column": "mean"
        },
        {
         "accumulated": 11250.150142602291,
         "new": 364.0713099220521,
         "_deepnote_index_column": "std"
        },
        {
         "accumulated": 0,
         "new": 0,
         "_deepnote_index_column": "min"
        },
        {
         "accumulated": 5158,
         "new": 1,
         "_deepnote_index_column": "25%"
        },
        {
         "accumulated": 14146,
         "new": 19,
         "_deepnote_index_column": "50%"
        },
        {
         "accumulated": 21560,
         "new": 42,
         "_deepnote_index_column": "75%"
        },
        {
         "accumulated": 33624,
         "new": 8786,
         "_deepnote_index_column": "max"
        }
       ]
      },
      "text/plain": "        accumulated          new\ncount    701.000000   700.000000\nmean   15284.189729    48.034286\nstd    11250.150143   364.071310\nmin        0.000000     0.000000\n25%     5158.000000     1.000000\n50%    14146.000000    19.000000\n75%    21560.000000    42.000000\nmax    33624.000000  8786.000000",
      "text/html": "<div>\n<style scoped>\n    .dataframe tbody tr th:only-of-type {\n        vertical-align: middle;\n    }\n\n    .dataframe tbody tr th {\n        vertical-align: top;\n    }\n\n    .dataframe thead th {\n        text-align: right;\n    }\n</style>\n<table border=\"1\" class=\"dataframe\">\n  <thead>\n    <tr style=\"text-align: right;\">\n      <th></th>\n      <th>accumulated</th>\n      <th>new</th>\n    </tr>\n  </thead>\n  <tbody>\n    <tr>\n      <th>count</th>\n      <td>701.000000</td>\n      <td>700.000000</td>\n    </tr>\n    <tr>\n      <th>mean</th>\n      <td>15284.189729</td>\n      <td>48.034286</td>\n    </tr>\n    <tr>\n      <th>std</th>\n      <td>11250.150143</td>\n      <td>364.071310</td>\n    </tr>\n    <tr>\n      <th>min</th>\n      <td>0.000000</td>\n      <td>0.000000</td>\n    </tr>\n    <tr>\n      <th>25%</th>\n      <td>5158.000000</td>\n      <td>1.000000</td>\n    </tr>\n    <tr>\n      <th>50%</th>\n      <td>14146.000000</td>\n      <td>19.000000</td>\n    </tr>\n    <tr>\n      <th>75%</th>\n      <td>21560.000000</td>\n      <td>42.000000</td>\n    </tr>\n    <tr>\n      <th>max</th>\n      <td>33624.000000</td>\n      <td>8786.000000</td>\n    </tr>\n  </tbody>\n</table>\n</div>"
     },
     "metadata": {}
    }
   ]
  },
  {
   "cell_type": "markdown",
   "source": "### Análisis unidimensional\n\nData sin outliers",
   "metadata": {
    "tags": [],
    "cell_id": "00020-f24de2b7-d714-4b4c-9b05-19d84e7ab5b5",
    "deepnote_cell_type": "markdown"
   }
  },
  {
   "cell_type": "code",
   "metadata": {
    "tags": [],
    "cell_id": "00021-0499c094-222e-4147-b854-1566eac3c3db",
    "deepnote_to_be_reexecuted": false,
    "source_hash": "60a3a98b",
    "execution_start": 1640278282279,
    "execution_millis": 287,
    "deepnote_output_heights": [
     269.984375
    ],
    "deepnote_cell_type": "code"
   },
   "source": "data_d = deaths[deaths['new'] < deaths['new'].quantile(0.95)]['new']\nsns.histplot(data=data_d)\nplt.show()",
   "execution_count": 13,
   "outputs": [
    {
     "data": {
      "text/plain": "<Figure size 432x288 with 1 Axes>",
      "image/png": "[encoded data removed]"
     },
     "metadata": {
      "image/png": {
       "width": 396,
       "height": 268
      }
     },
     "output_type": "display_data"
    }
   ]
  },
  {
   "cell_type": "markdown",
   "source": "### Análisis multidimensional",
   "metadata": {
    "tags": [],
    "cell_id": "00022-ed55dd44-f078-49da-9e4d-ff606f0482b4",
    "deepnote_cell_type": "markdown"
   }
  },
  {
   "cell_type": "code",
   "metadata": {
    "tags": [],
    "cell_id": "00006-fc12bb71-833a-44f9-9abb-37b40581047a",
    "deepnote_to_be_reexecuted": false,
    "source_hash": "897318bf",
    "execution_start": 1640278282643,
    "execution_millis": 490,
    "deepnote_output_heights": [
     358.96875
    ],
    "deepnote_cell_type": "code"
   },
   "source": "plt.figure(figsize=[10,5])\nplt.plot(deaths.date, deaths.accumulated)\nplt.title('Fallecimientos por Covid-19 acumulados')\nplt.xticks(rotation=90)\nplt.show()",
   "execution_count": 14,
   "outputs": [
    {
     "data": {
      "text/plain": "<Figure size 720x360 with 1 Axes>",
      "image/png": "[encoded data removed]"
     },
     "metadata": {
      "image/png": {
       "width": 616,
       "height": 357
      }
     },
     "output_type": "display_data"
    }
   ]
  },
  {
   "cell_type": "markdown",
   "source": "Correlaciones entre variables:",
   "metadata": {
    "tags": [],
    "cell_id": "00024-10b0514e-7606-4fc3-8d1b-bdbbd08976e4",
    "deepnote_cell_type": "markdown"
   }
  },
  {
   "cell_type": "code",
   "metadata": {
    "tags": [],
    "cell_id": "00024-641045a0-74e3-4608-87a2-921715ca6dd0",
    "deepnote_to_be_reexecuted": false,
    "source_hash": "78ac0c27",
    "execution_start": 1640278283199,
    "execution_millis": 283,
    "deepnote_table_state": {
     "pageSize": 10,
     "pageIndex": 1551,
     "filters": [],
     "sortBy": []
    },
    "deepnote_table_loading": false,
    "deepnote_output_heights": [
     256.984375
    ],
    "deepnote_cell_type": "code"
   },
   "source": "positives_deaths = pd.merge_ordered(positives, deaths, left_on='created_at', right_on='date', how='left', fill_method='ffill')\ncolumns = ['created_at', 'acumulados', 'accumulated']\npositives_deaths = positives_deaths[columns].rename(columns={'acumulados': 'positivos', 'accumulated': 'fallecimientos'})\nsns.heatmap(positives_deaths.corr(), annot=True)\nplt.show()",
   "execution_count": 15,
   "outputs": [
    {
     "data": {
      "text/plain": "<Figure size 432x288 with 2 Axes>",
      "image/png": "[encoded data removed]"
     },
     "metadata": {
      "image/png": {
       "width": 370,
       "height": 255
      }
     },
     "output_type": "display_data"
    }
   ]
  },
  {
   "cell_type": "markdown",
   "source": "<a style='text-decoration:none;line-height:16px;display:flex;color:#5B5B62;padding:10px;justify-content:end;' href='https://deepnote.com?utm_source=created-in-deepnote-cell&projectId=e7b048df-fc9b-4970-aa88-df153b270a6f' target=\"_blank\">\n<img alt='Created in deepnote.com' style='display:inline;max-height:16px;margin:0px;margin-right:7.5px;' src='data:image/svg+xml;base64,PD94bWwgdmVyc2lvbj0iMS4wIiBlbmNvZGluZz0iVVRGLTgiPz4KPHN2ZyB3aWR0aD0iODBweCIgaGVpZ2h0PSI4MHB4IiB2aWV3Qm94PSIwIDAgODAgODAiIHZlcnNpb249IjEuMSIgeG1sbnM9Imh0dHA6Ly93d3cudzMub3JnLzIwMDAvc3ZnIiB4bWxuczp4bGluaz0iaHR0cDovL3d3dy53My5vcmcvMTk5OS94bGluayI+CiAgICA8IS0tIEdlbmVyYXRvcjogU2tldGNoIDU0LjEgKDc2NDkwKSAtIGh0dHBzOi8vc2tldGNoYXBwLmNvbSAtLT4KICAgIDx0aXRsZT5Hcm91cCAzPC90aXRsZT4KICAgIDxkZXNjPkNyZWF0ZWQgd2l0aCBTa2V0Y2guPC9kZXNjPgogICAgPGcgaWQ9IkxhbmRpbmciIHN0cm9rZT0ibm9uZSIgc3Ryb2tlLXdpZHRoPSIxIiBmaWxsPSJub25lIiBmaWxsLXJ1bGU9ImV2ZW5vZGQiPgogICAgICAgIDxnIGlkPSJBcnRib2FyZCIgdHJhbnNmb3JtPSJ0cmFuc2xhdGUoLTEyMzUuMDAwMDAwLCAtNzkuMDAwMDAwKSI+CiAgICAgICAgICAgIDxnIGlkPSJHcm91cC0zIiB0cmFuc2Zvcm09InRyYW5zbGF0ZSgxMjM1LjAwMDAwMCwgNzkuMDAwMDAwKSI+CiAgICAgICAgICAgICAgICA8cG9seWdvbiBpZD0iUGF0aC0yMCIgZmlsbD0iIzAyNjVCNCIgcG9pbnRzPSIyLjM3NjIzNzYyIDgwIDM4LjA0NzY2NjcgODAgNTcuODIxNzgyMiA3My44MDU3NTkyIDU3LjgyMTc4MjIgMzIuNzU5MjczOSAzOS4xNDAyMjc4IDMxLjY4MzE2ODMiPjwvcG9seWdvbj4KICAgICAgICAgICAgICAgIDxwYXRoIGQ9Ik0zNS4wMDc3MTgsODAgQzQyLjkwNjIwMDcsNzYuNDU0OTM1OCA0Ny41NjQ5MTY3LDcxLjU0MjI2NzEgNDguOTgzODY2LDY1LjI2MTk5MzkgQzUxLjExMjI4OTksNTUuODQxNTg0MiA0MS42NzcxNzk1LDQ5LjIxMjIyODQgMjUuNjIzOTg0Niw0OS4yMTIyMjg0IEMyNS40ODQ5Mjg5LDQ5LjEyNjg0NDggMjkuODI2MTI5Niw0My4yODM4MjQ4IDM4LjY0NzU4NjksMzEuNjgzMTY4MyBMNzIuODcxMjg3MSwzMi41NTQ0MjUgTDY1LjI4MDk3Myw2Ny42NzYzNDIxIEw1MS4xMTIyODk5LDc3LjM3NjE0NCBMMzUuMDA3NzE4LDgwIFoiIGlkPSJQYXRoLTIyIiBmaWxsPSIjMDAyODY4Ij48L3BhdGg+CiAgICAgICAgICAgICAgICA8cGF0aCBkPSJNMCwzNy43MzA0NDA1IEwyNy4xMTQ1MzcsMC4yNTcxMTE0MzYgQzYyLjM3MTUxMjMsLTEuOTkwNzE3MDEgODAsMTAuNTAwMzkyNyA4MCwzNy43MzA0NDA1IEM4MCw2NC45NjA0ODgyIDY0Ljc3NjUwMzgsNzkuMDUwMzQxNCAzNC4zMjk1MTEzLDgwIEM0Ny4wNTUzNDg5LDc3LjU2NzA4MDggNTMuNDE4MjY3Nyw3MC4zMTM2MTAzIDUzLjQxODI2NzcsNTguMjM5NTg4NSBDNTMuNDE4MjY3Nyw0MC4xMjg1NTU3IDM2LjMwMzk1NDQsMzcuNzMwNDQwNSAyNS4yMjc0MTcsMzcuNzMwNDQwNSBDMTcuODQzMDU4NiwzNy43MzA0NDA1IDkuNDMzOTE5NjYsMzcuNzMwNDQwNSAwLDM3LjczMDQ0MDUgWiIgaWQ9IlBhdGgtMTkiIGZpbGw9IiMzNzkzRUYiPjwvcGF0aD4KICAgICAgICAgICAgPC9nPgogICAgICAgIDwvZz4KICAgIDwvZz4KPC9zdmc+' > </img>\nCreated in <span style='font-weight:600;margin-left:4px;'>Deepnote</span></a>",
   "metadata": {
    "tags": [],
    "created_in_deepnote_cell": true,
    "deepnote_cell_type": "markdown"
   }
  }
 ],
 "nbformat": 4,
 "nbformat_minor": 2,
 "metadata": {
  "orig_nbformat": 2,
  "deepnote": {
   "is_reactive": false
  },
  "deepnote_notebook_id": "f79b994c-27b9-491c-a9d5-5725b521f59f",
  "deepnote_execution_queue": []
 }
}