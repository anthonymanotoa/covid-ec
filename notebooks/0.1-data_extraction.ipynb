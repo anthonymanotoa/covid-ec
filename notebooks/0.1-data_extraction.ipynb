{
 "cells": [
  {
   "cell_type": "markdown",
   "source": "# Extracción de data - Covid 19\n\nExtracción del repositorio: https://github.com/andrab/ecuacovid\n\nEs una fuente confiable y automatizada, actualizada a la par que los reportes del gobierno en PDF.\n\nDatos de:\n- Vacunas\n- Casos positivos\n\nAdicionalmente, también se extrajo data del repositorio de _CSSE at Johns Hopkins University_: https://github.com/CSSEGISandData/COVID-19\n\nGoogle está usando este repositorio para actualizar sus gráficas en tiempo real. De aquí se obtuvo datos de:\n- Fallecimientos",
   "metadata": {
    "tags": [],
    "cell_id": "00000-0dfaf8d6-8e83-4c72-83c7-80abc89a788c",
    "deepnote_cell_type": "markdown"
   }
  },
  {
   "cell_type": "code",
   "metadata": {
    "tags": [],
    "cell_id": "00001-5c01c5a7-6f0e-441b-a7c6-334906ac53f4",
    "deepnote_to_be_reexecuted": false,
    "source_hash": "ca95b7f9",
    "execution_start": 1641348220619,
    "execution_millis": 27,
    "deepnote_cell_type": "code"
   },
   "source": "import pandas as pd\nimport os",
   "execution_count": 1,
   "outputs": []
  },
  {
   "cell_type": "code",
   "metadata": {
    "tags": [],
    "cell_id": "00002-6a71ee1a-bbbb-4122-ba2d-c16ad766cc06",
    "deepnote_to_be_reexecuted": false,
    "source_hash": "251523a3",
    "execution_start": 1641348220647,
    "execution_millis": 0,
    "deepnote_cell_type": "code"
   },
   "source": "# URLs to extract data\nextract_data = {\n    \"url_positives_2022\": \"https://raw.githubusercontent.com/andrab/ecuacovid/master/datos_crudos/positivas/provincias.csv\",\n    \"url_positives_2021\": \"https://raw.githubusercontent.com/andrab/ecuacovid/master/datos_crudos/positivas/2021/provincias.csv\",\n    \"url_positives_2020\": \"https://raw.githubusercontent.com/andrab/ecuacovid/master/datos_crudos/positivas/2020/provincias.csv\",\n    \"url_vaccines\": \"https://raw.githubusercontent.com/andrab/ecuacovid/master/datos_crudos/vacunas/vacunas.csv\",\n    \"url_deaths\": \"https://raw.githubusercontent.com/CSSEGISandData/COVID-19/master/csse_covid_19_data/csse_covid_19_time_series/time_series_covid19_deaths_global.csv\"\n}",
   "execution_count": 2,
   "outputs": []
  },
  {
   "cell_type": "code",
   "metadata": {
    "tags": [],
    "cell_id": "00003-bfc1f389-36a0-47e8-9351-43110212c45f",
    "deepnote_to_be_reexecuted": false,
    "source_hash": "a96c0afd",
    "execution_start": 1641348220647,
    "execution_millis": 1,
    "deepnote_output_heights": [
     21.1875
    ],
    "deepnote_cell_type": "code"
   },
   "source": "dir_name = ['positives_2022', 'positives_2021', 'positives_2020', 'vaccines', 'deaths']\npath = os.path.join(os.getcwd(), os.pardir, 'data', 'raw')",
   "execution_count": 3,
   "outputs": []
  },
  {
   "cell_type": "code",
   "metadata": {
    "tags": [],
    "cell_id": "00004-68e5fea7-ea52-4d5a-b14e-c2fc98e5d80f",
    "deepnote_to_be_reexecuted": false,
    "source_hash": "7a4b2671",
    "execution_start": 1641348220649,
    "execution_millis": 2,
    "deepnote_cell_type": "code"
   },
   "source": "# Function to extract and load data\ndef get_data(url_repo, to_dir):\n    for i in range(len(url_repo)):\n        pd.read_csv(url_repo[i]).to_csv(os.path.join(path, '{name}.csv'.format(name=dir_name[i])))",
   "execution_count": 4,
   "outputs": []
  },
  {
   "cell_type": "code",
   "metadata": {
    "tags": [],
    "cell_id": "00005-493566b7-8a65-43c1-a122-861d2079022d",
    "deepnote_to_be_reexecuted": false,
    "source_hash": "3d8bdc0",
    "execution_start": 1641348220655,
    "execution_millis": 608,
    "deepnote_cell_type": "code"
   },
   "source": "get_data(list(extract_data.values()), dir_name)",
   "execution_count": 5,
   "outputs": []
  },
  {
   "cell_type": "markdown",
   "source": "# Extracción de data - Educación\n\n## UNESCO\n\nEn este [datasets de la UNESCO](https://en.unesco.org/covid19/educationresponse) se encuentra información (global) de cierres de centros educativos (hasta secundaria) debido al covid.\n\nAmbos datasets fueron descargados directamente y añadidos a `/data/raw/`:\n\n- Cuándo se cerraron los centros educativos -> `monitoring_school_closures.csv`\n",
   "metadata": {
    "tags": [],
    "cell_id": "00006-85f2ebb0-76e2-42e0-8bfd-50c48fa264b7",
    "deepnote_cell_type": "markdown"
   }
  },
  {
   "cell_type": "markdown",
   "source": "## Gobierno de Ecuador\n\n[Dataset del Gobierno Ecuatoriano](https://educacion.gob.ec/base-de-datos/) con información de todas las instituciones educativas desde 2009 hasta 2021.\n\nDescargado y añadido directamente a `/data/raw/` -> `ec_registro-administrativo-historico_2009-2021.csv`",
   "metadata": {
    "tags": [],
    "cell_id": "00007-9219fee5-820c-43b3-ae30-3bef562a9422",
    "deepnote_cell_type": "markdown"
   }
  },
  {
   "cell_type": "markdown",
   "source": "<a style='text-decoration:none;line-height:16px;display:flex;color:#5B5B62;padding:10px;justify-content:end;' href='https://deepnote.com?utm_source=created-in-deepnote-cell&projectId=e7b048df-fc9b-4970-aa88-df153b270a6f' target=\"_blank\">\n<img alt='Created in deepnote.com' style='display:inline;max-height:16px;margin:0px;margin-right:7.5px;' src='data:image/svg+xml;base64,PD94bWwgdmVyc2lvbj0iMS4wIiBlbmNvZGluZz0iVVRGLTgiPz4KPHN2ZyB3aWR0aD0iODBweCIgaGVpZ2h0PSI4MHB4IiB2aWV3Qm94PSIwIDAgODAgODAiIHZlcnNpb249IjEuMSIgeG1sbnM9Imh0dHA6Ly93d3cudzMub3JnLzIwMDAvc3ZnIiB4bWxuczp4bGluaz0iaHR0cDovL3d3dy53My5vcmcvMTk5OS94bGluayI+CiAgICA8IS0tIEdlbmVyYXRvcjogU2tldGNoIDU0LjEgKDc2NDkwKSAtIGh0dHBzOi8vc2tldGNoYXBwLmNvbSAtLT4KICAgIDx0aXRsZT5Hcm91cCAzPC90aXRsZT4KICAgIDxkZXNjPkNyZWF0ZWQgd2l0aCBTa2V0Y2guPC9kZXNjPgogICAgPGcgaWQ9IkxhbmRpbmciIHN0cm9rZT0ibm9uZSIgc3Ryb2tlLXdpZHRoPSIxIiBmaWxsPSJub25lIiBmaWxsLXJ1bGU9ImV2ZW5vZGQiPgogICAgICAgIDxnIGlkPSJBcnRib2FyZCIgdHJhbnNmb3JtPSJ0cmFuc2xhdGUoLTEyMzUuMDAwMDAwLCAtNzkuMDAwMDAwKSI+CiAgICAgICAgICAgIDxnIGlkPSJHcm91cC0zIiB0cmFuc2Zvcm09InRyYW5zbGF0ZSgxMjM1LjAwMDAwMCwgNzkuMDAwMDAwKSI+CiAgICAgICAgICAgICAgICA8cG9seWdvbiBpZD0iUGF0aC0yMCIgZmlsbD0iIzAyNjVCNCIgcG9pbnRzPSIyLjM3NjIzNzYyIDgwIDM4LjA0NzY2NjcgODAgNTcuODIxNzgyMiA3My44MDU3NTkyIDU3LjgyMTc4MjIgMzIuNzU5MjczOSAzOS4xNDAyMjc4IDMxLjY4MzE2ODMiPjwvcG9seWdvbj4KICAgICAgICAgICAgICAgIDxwYXRoIGQ9Ik0zNS4wMDc3MTgsODAgQzQyLjkwNjIwMDcsNzYuNDU0OTM1OCA0Ny41NjQ5MTY3LDcxLjU0MjI2NzEgNDguOTgzODY2LDY1LjI2MTk5MzkgQzUxLjExMjI4OTksNTUuODQxNTg0MiA0MS42NzcxNzk1LDQ5LjIxMjIyODQgMjUuNjIzOTg0Niw0OS4yMTIyMjg0IEMyNS40ODQ5Mjg5LDQ5LjEyNjg0NDggMjkuODI2MTI5Niw0My4yODM4MjQ4IDM4LjY0NzU4NjksMzEuNjgzMTY4MyBMNzIuODcxMjg3MSwzMi41NTQ0MjUgTDY1LjI4MDk3Myw2Ny42NzYzNDIxIEw1MS4xMTIyODk5LDc3LjM3NjE0NCBMMzUuMDA3NzE4LDgwIFoiIGlkPSJQYXRoLTIyIiBmaWxsPSIjMDAyODY4Ij48L3BhdGg+CiAgICAgICAgICAgICAgICA8cGF0aCBkPSJNMCwzNy43MzA0NDA1IEwyNy4xMTQ1MzcsMC4yNTcxMTE0MzYgQzYyLjM3MTUxMjMsLTEuOTkwNzE3MDEgODAsMTAuNTAwMzkyNyA4MCwzNy43MzA0NDA1IEM4MCw2NC45NjA0ODgyIDY0Ljc3NjUwMzgsNzkuMDUwMzQxNCAzNC4zMjk1MTEzLDgwIEM0Ny4wNTUzNDg5LDc3LjU2NzA4MDggNTMuNDE4MjY3Nyw3MC4zMTM2MTAzIDUzLjQxODI2NzcsNTguMjM5NTg4NSBDNTMuNDE4MjY3Nyw0MC4xMjg1NTU3IDM2LjMwMzk1NDQsMzcuNzMwNDQwNSAyNS4yMjc0MTcsMzcuNzMwNDQwNSBDMTcuODQzMDU4NiwzNy43MzA0NDA1IDkuNDMzOTE5NjYsMzcuNzMwNDQwNSAwLDM3LjczMDQ0MDUgWiIgaWQ9IlBhdGgtMTkiIGZpbGw9IiMzNzkzRUYiPjwvcGF0aD4KICAgICAgICAgICAgPC9nPgogICAgICAgIDwvZz4KICAgIDwvZz4KPC9zdmc+' > </img>\nCreated in <span style='font-weight:600;margin-left:4px;'>Deepnote</span></a>",
   "metadata": {
    "tags": [],
    "created_in_deepnote_cell": true,
    "deepnote_cell_type": "markdown"
   }
  }
 ],
 "nbformat": 4,
 "nbformat_minor": 2,
 "metadata": {
  "orig_nbformat": 2,
  "deepnote": {
   "is_reactive": false
  },
  "deepnote_notebook_id": "83295df7-0b49-4a34-bdbb-322e7260bc2a",
  "deepnote_execution_queue": []
 }
}