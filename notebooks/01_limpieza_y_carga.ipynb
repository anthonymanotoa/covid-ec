{
 "cells": [
  {
   "cell_type": "markdown",
   "source": "# Extracción de data\n\nExtracción de este repositorio: https://github.com/andrab/ecuacovid\n\nEs una fuente confiable, actualizado a la par que los reportes del gobierno.\n\nDatos de:\n- Fallecimientos\n- Vacunas\n- Casos positivos",
   "metadata": {
    "tags": [],
    "cell_id": "00001-44ba27c8-70ae-42f6-9c84-cf8d3f6cc183",
    "deepnote_cell_type": "markdown"
   }
  },
  {
   "cell_type": "code",
   "metadata": {
    "tags": [],
    "cell_id": "00000-e6187b3a-44b6-4a13-9834-8215e1fcc7e0",
    "deepnote_to_be_reexecuted": false,
    "source_hash": "9b82ee11",
    "execution_start": 1639936886744,
    "execution_millis": 328004,
    "deepnote_cell_type": "code"
   },
   "source": "import pandas as pd",
   "execution_count": 1,
   "outputs": []
  },
  {
   "cell_type": "code",
   "source": "# URLs to extract data\nextract_data = {\n    \"url_deaths_2021\": \"https://raw.githubusercontent.com/andrab/ecuacovid/master/datos_crudos/defunciones/provincias.csv\",\n    \"url_deaths_2020\": \"https://raw.githubusercontent.com/andrab/ecuacovid/master/datos_crudos/defunciones/2020/lugar_provincias.csv\",\n    \"url_positives_2021\": \"https://raw.githubusercontent.com/andrab/ecuacovid/master/datos_crudos/positivas/provincias.csv\",\n    \"url_positives_2020\": \"https://raw.githubusercontent.com/andrab/ecuacovid/master/datos_crudos/positivas/2020/provincias.csv\",\n    \"url_vaccines\": \"https://raw.githubusercontent.com/andrab/ecuacovid/master/datos_crudos/vacunas/vacunas.csv\",\n}",
   "metadata": {
    "tags": [],
    "cell_id": "00002-a36cc628-08b4-4dde-a258-de6087421c5d",
    "deepnote_to_be_reexecuted": false,
    "source_hash": "a47ad15d",
    "execution_start": 1639936886744,
    "execution_millis": 328040,
    "deepnote_cell_type": "code"
   },
   "outputs": [],
   "execution_count": 2
  },
  {
   "cell_type": "code",
   "source": "dir_name = ['deaths_2021', 'deaths_2020', 'positives_2021', 'positives_2020', 'vaccines']",
   "metadata": {
    "tags": [],
    "cell_id": "00003-5044fbe4-752f-46d4-a7a3-4543a0c7cc71",
    "deepnote_to_be_reexecuted": false,
    "source_hash": "cfa1843a",
    "execution_start": 1639936886788,
    "execution_millis": 328011,
    "deepnote_cell_type": "code"
   },
   "outputs": [],
   "execution_count": 3
  },
  {
   "cell_type": "code",
   "metadata": {
    "tags": [],
    "cell_id": "00002-f740aac0-820c-4664-bd9f-c782a00725fb",
    "deepnote_to_be_reexecuted": false,
    "source_hash": "db655247",
    "execution_start": 1639936886792,
    "execution_millis": 34362,
    "deepnote_cell_type": "code"
   },
   "source": "# Function to extract and load data\ndef get_data(url_repo, to_dir):\n    for i in range(len(url_repo)):\n        pd.read_csv(url_repo[i]).to_csv('/work/covid-ec/data/raw/{name}.csv'.format(name=dir_name[i]))",
   "execution_count": 4,
   "outputs": []
  },
  {
   "cell_type": "code",
   "source": "get_data(list(extract_data.values()), dir_name)",
   "metadata": {
    "tags": [],
    "cell_id": "00005-03fb617a-1a09-494b-88b7-515c1ade5c9e",
    "deepnote_to_be_reexecuted": false,
    "source_hash": "3d8bdc0",
    "execution_start": 1639936886814,
    "execution_millis": 1319,
    "deepnote_cell_type": "code"
   },
   "outputs": [],
   "execution_count": 5
  },
  {
   "cell_type": "markdown",
   "source": "<a style='text-decoration:none;line-height:16px;display:flex;color:#5B5B62;padding:10px;justify-content:end;' href='https://deepnote.com?utm_source=created-in-deepnote-cell&projectId=e7b048df-fc9b-4970-aa88-df153b270a6f' target=\"_blank\">\n<img alt='Created in deepnote.com' style='display:inline;max-height:16px;margin:0px;margin-right:7.5px;' src='data:image/svg+xml;base64,PD94bWwgdmVyc2lvbj0iMS4wIiBlbmNvZGluZz0iVVRGLTgiPz4KPHN2ZyB3aWR0aD0iODBweCIgaGVpZ2h0PSI4MHB4IiB2aWV3Qm94PSIwIDAgODAgODAiIHZlcnNpb249IjEuMSIgeG1sbnM9Imh0dHA6Ly93d3cudzMub3JnLzIwMDAvc3ZnIiB4bWxuczp4bGluaz0iaHR0cDovL3d3dy53My5vcmcvMTk5OS94bGluayI+CiAgICA8IS0tIEdlbmVyYXRvcjogU2tldGNoIDU0LjEgKDc2NDkwKSAtIGh0dHBzOi8vc2tldGNoYXBwLmNvbSAtLT4KICAgIDx0aXRsZT5Hcm91cCAzPC90aXRsZT4KICAgIDxkZXNjPkNyZWF0ZWQgd2l0aCBTa2V0Y2guPC9kZXNjPgogICAgPGcgaWQ9IkxhbmRpbmciIHN0cm9rZT0ibm9uZSIgc3Ryb2tlLXdpZHRoPSIxIiBmaWxsPSJub25lIiBmaWxsLXJ1bGU9ImV2ZW5vZGQiPgogICAgICAgIDxnIGlkPSJBcnRib2FyZCIgdHJhbnNmb3JtPSJ0cmFuc2xhdGUoLTEyMzUuMDAwMDAwLCAtNzkuMDAwMDAwKSI+CiAgICAgICAgICAgIDxnIGlkPSJHcm91cC0zIiB0cmFuc2Zvcm09InRyYW5zbGF0ZSgxMjM1LjAwMDAwMCwgNzkuMDAwMDAwKSI+CiAgICAgICAgICAgICAgICA8cG9seWdvbiBpZD0iUGF0aC0yMCIgZmlsbD0iIzAyNjVCNCIgcG9pbnRzPSIyLjM3NjIzNzYyIDgwIDM4LjA0NzY2NjcgODAgNTcuODIxNzgyMiA3My44MDU3NTkyIDU3LjgyMTc4MjIgMzIuNzU5MjczOSAzOS4xNDAyMjc4IDMxLjY4MzE2ODMiPjwvcG9seWdvbj4KICAgICAgICAgICAgICAgIDxwYXRoIGQ9Ik0zNS4wMDc3MTgsODAgQzQyLjkwNjIwMDcsNzYuNDU0OTM1OCA0Ny41NjQ5MTY3LDcxLjU0MjI2NzEgNDguOTgzODY2LDY1LjI2MTk5MzkgQzUxLjExMjI4OTksNTUuODQxNTg0MiA0MS42NzcxNzk1LDQ5LjIxMjIyODQgMjUuNjIzOTg0Niw0OS4yMTIyMjg0IEMyNS40ODQ5Mjg5LDQ5LjEyNjg0NDggMjkuODI2MTI5Niw0My4yODM4MjQ4IDM4LjY0NzU4NjksMzEuNjgzMTY4MyBMNzIuODcxMjg3MSwzMi41NTQ0MjUgTDY1LjI4MDk3Myw2Ny42NzYzNDIxIEw1MS4xMTIyODk5LDc3LjM3NjE0NCBMMzUuMDA3NzE4LDgwIFoiIGlkPSJQYXRoLTIyIiBmaWxsPSIjMDAyODY4Ij48L3BhdGg+CiAgICAgICAgICAgICAgICA8cGF0aCBkPSJNMCwzNy43MzA0NDA1IEwyNy4xMTQ1MzcsMC4yNTcxMTE0MzYgQzYyLjM3MTUxMjMsLTEuOTkwNzE3MDEgODAsMTAuNTAwMzkyNyA4MCwzNy43MzA0NDA1IEM4MCw2NC45NjA0ODgyIDY0Ljc3NjUwMzgsNzkuMDUwMzQxNCAzNC4zMjk1MTEzLDgwIEM0Ny4wNTUzNDg5LDc3LjU2NzA4MDggNTMuNDE4MjY3Nyw3MC4zMTM2MTAzIDUzLjQxODI2NzcsNTguMjM5NTg4NSBDNTMuNDE4MjY3Nyw0MC4xMjg1NTU3IDM2LjMwMzk1NDQsMzcuNzMwNDQwNSAyNS4yMjc0MTcsMzcuNzMwNDQwNSBDMTcuODQzMDU4NiwzNy43MzA0NDA1IDkuNDMzOTE5NjYsMzcuNzMwNDQwNSAwLDM3LjczMDQ0MDUgWiIgaWQ9IlBhdGgtMTkiIGZpbGw9IiMzNzkzRUYiPjwvcGF0aD4KICAgICAgICAgICAgPC9nPgogICAgICAgIDwvZz4KICAgIDwvZz4KPC9zdmc+' > </img>\nCreated in <span style='font-weight:600;margin-left:4px;'>Deepnote</span></a>",
   "metadata": {
    "tags": [],
    "created_in_deepnote_cell": true,
    "deepnote_cell_type": "markdown"
   }
  }
 ],
 "nbformat": 4,
 "nbformat_minor": 2,
 "metadata": {
  "orig_nbformat": 2,
  "deepnote": {
   "is_reactive": false
  },
  "deepnote_notebook_id": "ba19da34-598f-4227-a7cd-d37c76200091",
  "deepnote_execution_queue": []
 }
}