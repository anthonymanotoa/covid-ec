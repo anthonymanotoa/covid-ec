{
 "cells": [
  {
   "cell_type": "markdown",
   "source": "# Procesamiento data educación\n",
   "metadata": {
    "tags": [],
    "cell_id": "00001-9a4e9ec1-2eb2-4868-a22d-5d60aa6cbf10",
    "deepnote_cell_type": "markdown"
   }
  },
  {
   "cell_type": "code",
   "metadata": {
    "tags": [],
    "cell_id": "00001-962d092e-4ca9-4c1a-9ae6-86c20fc1af95",
    "deepnote_to_be_reexecuted": false,
    "source_hash": "dfe35b4b",
    "execution_start": 1640059798418,
    "execution_millis": 1521,
    "deepnote_cell_type": "code"
   },
   "source": "import pandas as pd\nimport matplotlib.pyplot as plt",
   "outputs": [],
   "execution_count": 1
  },
  {
   "cell_type": "markdown",
   "source": "## UNESCO duración de cierres datasets",
   "metadata": {
    "tags": [],
    "cell_id": "00002-1bd2ff5e-d25e-42a9-b91d-26b4d02232d7",
    "deepnote_cell_type": "markdown"
   },
   "outputs": [],
   "execution_count": null
  },
  {
   "cell_type": "code",
   "source": "monitoring_closures = pd.read_csv('/work/covid-ec/data/raw/monitoring_school_closures.csv')",
   "metadata": {
    "tags": [],
    "cell_id": "00003-3e0b7eaf-8bf2-4edd-99b2-8461973ab6aa",
    "deepnote_to_be_reexecuted": false,
    "source_hash": "22619fc0",
    "execution_start": 1640059799947,
    "execution_millis": 104,
    "deepnote_cell_type": "code"
   },
   "outputs": [],
   "execution_count": 2
  },
  {
   "cell_type": "code",
   "source": "monitoring_closures.info()",
   "metadata": {
    "tags": [],
    "cell_id": "00004-61ab70f3-f7a4-4131-b66d-adf60259d818",
    "deepnote_to_be_reexecuted": false,
    "source_hash": "ba28e204",
    "execution_start": 1640059800069,
    "execution_millis": 35,
    "deepnote_table_state": {
     "pageSize": 10,
     "pageIndex": 0,
     "filters": [],
     "sortBy": []
    },
    "deepnote_table_loading": false,
    "deepnote_table_invalid": false,
    "deepnote_cell_type": "code"
   },
   "outputs": [
    {
     "name": "stdout",
     "text": "<class 'pandas.core.frame.DataFrame'>\nRangeIndex: 131040 entries, 0 to 131039\nData columns (total 5 columns):\n #   Column   Non-Null Count   Dtype  \n---  ------   --------------   -----  \n 0   Date     131040 non-null  object \n 1   ISO      131040 non-null  object \n 2   Country  131040 non-null  object \n 3   Status   131040 non-null  object \n 4   Note     0 non-null       float64\ndtypes: float64(1), object(4)\nmemory usage: 5.0+ MB\n",
     "output_type": "stream",
     "data": {}
    }
   ],
   "execution_count": 3
  },
  {
   "cell_type": "markdown",
   "source": "Se debe cambiar `Date` a datetime. Se debe filtrar solo por datos de Ecuador. Por último, las columanas `Note`, `ISO` y `Country` no son relevantes para el análisis.",
   "metadata": {
    "tags": [],
    "cell_id": "00005-707ebb28-6557-4e0f-853d-11f1b6cd7c66",
    "deepnote_cell_type": "markdown"
   },
   "outputs": [],
   "execution_count": null
  },
  {
   "cell_type": "code",
   "source": "monitoring_closures['Date'] = pd.to_datetime(monitoring_closures['Date'], dayfirst=True)",
   "metadata": {
    "tags": [],
    "cell_id": "00005-d3df59d4-9d87-4e5e-bb73-349b782730d4",
    "deepnote_to_be_reexecuted": false,
    "source_hash": "1308a9",
    "execution_start": 1640059800113,
    "execution_millis": 22,
    "deepnote_cell_type": "code"
   },
   "outputs": [],
   "execution_count": 4
  },
  {
   "cell_type": "code",
   "source": "monitoring_closures_ec = monitoring_closures[monitoring_closures['Country']=='Ecuador']",
   "metadata": {
    "tags": [],
    "cell_id": "00008-e3143bd6-6df1-4fb1-9341-2a1a3dc393a7",
    "deepnote_to_be_reexecuted": false,
    "source_hash": "8158900",
    "execution_start": 1640059800155,
    "execution_millis": 44,
    "deepnote_cell_type": "code"
   },
   "outputs": [],
   "execution_count": 5
  },
  {
   "cell_type": "code",
   "source": "monitoring_closures_ec.drop(columns=['ISO', 'Note', 'Country'], inplace=True)",
   "metadata": {
    "tags": [],
    "cell_id": "00006-6faaa9a1-8ce0-41a6-9310-c891c80ae5e9",
    "deepnote_to_be_reexecuted": false,
    "source_hash": "22a49663",
    "execution_start": 1640059800200,
    "execution_millis": 3,
    "deepnote_output_heights": [
     231.078125
    ],
    "deepnote_cell_type": "code"
   },
   "outputs": [
    {
     "name": "stderr",
     "text": "/shared-libs/python3.7/py/lib/python3.7/site-packages/pandas/core/frame.py:4315: SettingWithCopyWarning: \nA value is trying to be set on a copy of a slice from a DataFrame\n\nSee the caveats in the documentation: https://pandas.pydata.org/pandas-docs/stable/user_guide/indexing.html#returning-a-view-versus-a-copy\n  errors=errors,\n",
     "output_type": "stream",
     "data": {}
    }
   ],
   "execution_count": 6
  },
  {
   "cell_type": "code",
   "source": "monitoring_closures_ec.sample(3)",
   "metadata": {
    "tags": [],
    "cell_id": "00010-db6fb54a-ab2f-4fb8-9ed9-65f1e0152fe8",
    "deepnote_to_be_reexecuted": false,
    "source_hash": "34035594",
    "execution_start": 1640059800241,
    "execution_millis": 2,
    "deepnote_cell_type": "code"
   },
   "outputs": [
    {
     "output_type": "execute_result",
     "execution_count": 7,
     "data": {
      "application/vnd.deepnote.dataframe.v3+json": {
       "column_count": 2,
       "row_count": 3,
       "columns": [
        {
         "name": "Date",
         "dtype": "datetime64[ns]",
         "stats": {
          "unique_count": 3,
          "nan_count": 0,
          "min": "2021-03-13 00:00:00",
          "max": "2021-09-10 00:00:00",
          "histogram": [
           {
            "bin_start": 1615593600000000000,
            "bin_end": 1617157440000000000,
            "count": 1
           },
           {
            "bin_start": 1617157440000000000,
            "bin_end": 1618721280000000000,
            "count": 1
           },
           {
            "bin_start": 1618721280000000000,
            "bin_end": 1620285120000000000,
            "count": 0
           },
           {
            "bin_start": 1620285120000000000,
            "bin_end": 1621848960000000000,
            "count": 0
           },
           {
            "bin_start": 1621848960000000000,
            "bin_end": 1623412800000000000,
            "count": 0
           },
           {
            "bin_start": 1623412800000000000,
            "bin_end": 1624976640000000000,
            "count": 0
           },
           {
            "bin_start": 1624976640000000000,
            "bin_end": 1626540480000000000,
            "count": 0
           },
           {
            "bin_start": 1626540480000000000,
            "bin_end": 1628104320000000000,
            "count": 0
           },
           {
            "bin_start": 1628104320000000000,
            "bin_end": 1629668160000000000,
            "count": 0
           },
           {
            "bin_start": 1629668160000000000,
            "bin_end": 1631232000000000000,
            "count": 1
           }
          ]
         }
        },
        {
         "name": "Status",
         "dtype": "object",
         "stats": {
          "unique_count": 1,
          "nan_count": 0,
          "categories": [
           {
            "name": "Partially open",
            "count": 3
           }
          ]
         }
        },
        {
         "name": "_deepnote_index_column",
         "dtype": "int64"
        }
       ],
       "rows": [
        {
         "Date": "2021-04-05T00:00:00.000000",
         "Status": "Partially open",
         "_deepnote_index_column": 86996
        },
        {
         "Date": "2021-09-10T00:00:00.000000",
         "Status": "Partially open",
         "_deepnote_index_column": 120176
        },
        {
         "Date": "2021-03-13T00:00:00.000000",
         "Status": "Partially open",
         "_deepnote_index_column": 82166
        }
       ]
      },
      "text/plain": "             Date          Status\n86996  2021-04-05  Partially open\n120176 2021-09-10  Partially open\n82166  2021-03-13  Partially open",
      "text/html": "<div>\n<style scoped>\n    .dataframe tbody tr th:only-of-type {\n        vertical-align: middle;\n    }\n\n    .dataframe tbody tr th {\n        vertical-align: top;\n    }\n\n    .dataframe thead th {\n        text-align: right;\n    }\n</style>\n<table border=\"1\" class=\"dataframe\">\n  <thead>\n    <tr style=\"text-align: right;\">\n      <th></th>\n      <th>Date</th>\n      <th>Status</th>\n    </tr>\n  </thead>\n  <tbody>\n    <tr>\n      <th>86996</th>\n      <td>2021-04-05</td>\n      <td>Partially open</td>\n    </tr>\n    <tr>\n      <th>120176</th>\n      <td>2021-09-10</td>\n      <td>Partially open</td>\n    </tr>\n    <tr>\n      <th>82166</th>\n      <td>2021-03-13</td>\n      <td>Partially open</td>\n    </tr>\n  </tbody>\n</table>\n</div>"
     },
     "metadata": {}
    }
   ],
   "execution_count": 7
  },
  {
   "cell_type": "markdown",
   "source": "### Exportar",
   "metadata": {
    "tags": [],
    "cell_id": "00012-c6dbf487-28c4-4631-901e-953115b60749",
    "deepnote_cell_type": "markdown"
   },
   "outputs": [],
   "execution_count": null
  },
  {
   "cell_type": "code",
   "source": "monitoring_closures_ec.to_csv('/work/covid-ec/data/processed/closures_education.csv', index=False)",
   "metadata": {
    "tags": [],
    "cell_id": "00011-0410a9cd-0c39-4888-a07a-1fc6eb5475e9",
    "deepnote_to_be_reexecuted": false,
    "source_hash": "1f7171fa",
    "execution_start": 1640059881160,
    "execution_millis": 28,
    "deepnote_cell_type": "code"
   },
   "outputs": [],
   "execution_count": 11
  },
  {
   "cell_type": "markdown",
   "source": "## Histórico educación Ecuador dataset",
   "metadata": {
    "tags": [],
    "cell_id": "00002-9fd6c425-c552-4c14-9c8f-5aa6c653f322",
    "deepnote_cell_type": "markdown"
   },
   "outputs": [],
   "execution_count": null
  },
  {
   "cell_type": "code",
   "metadata": {
    "tags": [],
    "cell_id": "00004-6e3de261-64e2-475b-9dfe-5734574dd771",
    "deepnote_to_be_reexecuted": true,
    "source_hash": "a72a3a79",
    "execution_start": 1640058564413,
    "execution_millis": 1608,
    "deepnote_cell_type": "code"
   },
   "source": "df_ec = pd.read_csv('/work/covid-ec/data/raw/ec_registro-administrativo-historico_2009-2021.csv')\ndf_ec.info()",
   "outputs": [
    {
     "name": "stdout",
     "text": "<class 'pandas.core.frame.DataFrame'>\nRangeIndex: 237963 entries, 0 to 237962\nData columns (total 26 columns):\n #   Column              Non-Null Count   Dtype \n---  ------              --------------   ----- \n 0   Clave_primaria      237963 non-null  object\n 1   Clave_periodo       237963 non-null  object\n 2   Periodo             237963 non-null  object\n 3   Zona                237963 non-null  object\n 4   Provincia           237963 non-null  object\n 5   Cod_Provincia       237963 non-null  int64 \n 6   Canton              237963 non-null  object\n 7   Cod_Canton          237963 non-null  int64 \n 8   Parroquia           237963 non-null  object\n 9   Cod_Parroquia       237963 non-null  int64 \n 10  Nombre_Institucion  237963 non-null  object\n 11  Codigo_Institucion  237963 non-null  object\n 12  Escolarizacion      237963 non-null  object\n 13  Tipo_Educacion      237963 non-null  object\n 14  Sostenimiento       237963 non-null  object\n 15  Area                237963 non-null  object\n 16  Regimen_Escolar     237963 non-null  object\n 17  Jurisdiccion        237963 non-null  object\n 18  Modallidad          237963 non-null  object\n 19  Jornada             237963 non-null  object\n 20  Acceso_Edificio     237963 non-null  object\n 21  Total_estudiantes   237963 non-null  int64 \n 22  Promovidos          237963 non-null  int64 \n 23  No promovidos       237963 non-null  int64 \n 24  Abandono            237963 non-null  int64 \n 25  Pais                237963 non-null  object\ndtypes: int64(7), object(19)\nmemory usage: 47.2+ MB\n",
     "output_type": "stream",
     "data": {}
    }
   ],
   "execution_count": null
  },
  {
   "cell_type": "markdown",
   "source": "<a style='text-decoration:none;line-height:16px;display:flex;color:#5B5B62;padding:10px;justify-content:end;' href='https://deepnote.com?utm_source=created-in-deepnote-cell&projectId=e7b048df-fc9b-4970-aa88-df153b270a6f' target=\"_blank\">\n<img alt='Created in deepnote.com' style='display:inline;max-height:16px;margin:0px;margin-right:7.5px;' src='data:image/svg+xml;base64,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' > </img>\nCreated in <span style='font-weight:600;margin-left:4px;'>Deepnote</span></a>",
   "metadata": {
    "tags": [],
    "created_in_deepnote_cell": true,
    "deepnote_cell_type": "markdown"
   }
  }
 ],
 "nbformat": 4,
 "nbformat_minor": 2,
 "metadata": {
  "orig_nbformat": 2,
  "deepnote": {
   "is_reactive": false
  },
  "deepnote_notebook_id": "92703c2b-dcd0-4172-a6bb-5ed065982cd8",
  "deepnote_execution_queue": []
 }
}