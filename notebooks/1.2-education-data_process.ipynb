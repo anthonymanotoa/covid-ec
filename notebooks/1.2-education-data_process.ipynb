{
 "cells": [
  {
   "cell_type": "markdown",
   "source": "# Procesamiento data educación\n",
   "metadata": {
    "tags": [],
    "cell_id": "00001-9a4e9ec1-2eb2-4868-a22d-5d60aa6cbf10",
    "deepnote_cell_type": "markdown"
   }
  },
  {
   "cell_type": "code",
   "metadata": {
    "tags": [],
    "cell_id": "00001-962d092e-4ca9-4c1a-9ae6-86c20fc1af95",
    "deepnote_to_be_reexecuted": false,
    "source_hash": "9b82ee11",
    "execution_start": 1640061029217,
    "execution_millis": 1,
    "deepnote_cell_type": "code"
   },
   "source": "import pandas as pd",
   "outputs": [],
   "execution_count": null
  },
  {
   "cell_type": "markdown",
   "source": "## UNESCO duración de cierres dataset",
   "metadata": {
    "tags": [],
    "cell_id": "00002-1bd2ff5e-d25e-42a9-b91d-26b4d02232d7",
    "deepnote_cell_type": "markdown"
   },
   "outputs": [],
   "execution_count": null
  },
  {
   "cell_type": "code",
   "source": "monitoring_closures = pd.read_csv('/work/covid-ec/data/raw/monitoring_school_closures.csv')",
   "metadata": {
    "tags": [],
    "cell_id": "00003-3e0b7eaf-8bf2-4edd-99b2-8461973ab6aa",
    "deepnote_to_be_reexecuted": false,
    "source_hash": "22619fc0",
    "execution_start": 1640061029218,
    "execution_millis": 83,
    "deepnote_cell_type": "code"
   },
   "outputs": [],
   "execution_count": null
  },
  {
   "cell_type": "code",
   "source": "monitoring_closures.info()",
   "metadata": {
    "tags": [],
    "cell_id": "00004-61ab70f3-f7a4-4131-b66d-adf60259d818",
    "deepnote_to_be_reexecuted": false,
    "source_hash": "ba28e204",
    "execution_start": 1640061029352,
    "execution_millis": 46,
    "deepnote_table_state": {
     "pageSize": 10,
     "pageIndex": 0,
     "filters": [],
     "sortBy": []
    },
    "deepnote_table_loading": false,
    "deepnote_table_invalid": false,
    "deepnote_cell_type": "code"
   },
   "outputs": [
    {
     "name": "stdout",
     "text": "<class 'pandas.core.frame.DataFrame'>\nRangeIndex: 131040 entries, 0 to 131039\nData columns (total 5 columns):\n #   Column   Non-Null Count   Dtype  \n---  ------   --------------   -----  \n 0   Date     131040 non-null  object \n 1   ISO      131040 non-null  object \n 2   Country  131040 non-null  object \n 3   Status   131040 non-null  object \n 4   Note     0 non-null       float64\ndtypes: float64(1), object(4)\nmemory usage: 5.0+ MB\n",
     "output_type": "stream",
     "data": {}
    }
   ],
   "execution_count": null
  },
  {
   "cell_type": "markdown",
   "source": "Se debe cambiar `Date` a datetime. Se debe filtrar solo por datos de Ecuador. Por último, las columanas `Note`, `ISO` y `Country` no son relevantes para el análisis.",
   "metadata": {
    "tags": [],
    "cell_id": "00005-707ebb28-6557-4e0f-853d-11f1b6cd7c66",
    "deepnote_cell_type": "markdown"
   },
   "outputs": [],
   "execution_count": null
  },
  {
   "cell_type": "code",
   "source": "monitoring_closures['Date'] = pd.to_datetime(monitoring_closures['Date'], dayfirst=True)",
   "metadata": {
    "tags": [],
    "cell_id": "00005-d3df59d4-9d87-4e5e-bb73-349b782730d4",
    "deepnote_to_be_reexecuted": false,
    "source_hash": "1308a9",
    "execution_start": 1640061029398,
    "execution_millis": 43,
    "deepnote_cell_type": "code"
   },
   "outputs": [],
   "execution_count": null
  },
  {
   "cell_type": "code",
   "source": "monitoring_closures_ec = monitoring_closures[monitoring_closures['Country']=='Ecuador']",
   "metadata": {
    "tags": [],
    "cell_id": "00008-e3143bd6-6df1-4fb1-9341-2a1a3dc393a7",
    "deepnote_to_be_reexecuted": false,
    "source_hash": "8158900",
    "execution_start": 1640061029442,
    "execution_millis": 0,
    "deepnote_cell_type": "code"
   },
   "outputs": [],
   "execution_count": null
  },
  {
   "cell_type": "code",
   "source": "monitoring_closures_ec.drop(columns=['ISO', 'Note', 'Country'], inplace=True)",
   "metadata": {
    "tags": [],
    "cell_id": "00006-6faaa9a1-8ce0-41a6-9310-c891c80ae5e9",
    "deepnote_to_be_reexecuted": false,
    "source_hash": "22a49663",
    "execution_start": 1640061029485,
    "execution_millis": 2,
    "deepnote_output_heights": [
     231.078125
    ],
    "deepnote_cell_type": "code"
   },
   "outputs": [
    {
     "name": "stderr",
     "text": "/shared-libs/python3.7/py/lib/python3.7/site-packages/pandas/core/frame.py:4315: SettingWithCopyWarning: \nA value is trying to be set on a copy of a slice from a DataFrame\n\nSee the caveats in the documentation: https://pandas.pydata.org/pandas-docs/stable/user_guide/indexing.html#returning-a-view-versus-a-copy\n  errors=errors,\n",
     "output_type": "stream",
     "data": {}
    }
   ],
   "execution_count": null
  },
  {
   "cell_type": "code",
   "source": "monitoring_closures_ec.sample(3)",
   "metadata": {
    "tags": [],
    "cell_id": "00010-db6fb54a-ab2f-4fb8-9ed9-65f1e0152fe8",
    "deepnote_to_be_reexecuted": false,
    "source_hash": "34035594",
    "execution_start": 1640061029486,
    "execution_millis": 30,
    "deepnote_cell_type": "code"
   },
   "outputs": [
    {
     "output_type": "execute_result",
     "execution_count": 7,
     "data": {
      "application/vnd.deepnote.dataframe.v3+json": {
       "column_count": 2,
       "row_count": 3,
       "columns": [
        {
         "name": "Date",
         "dtype": "datetime64[ns]",
         "stats": {
          "unique_count": 3,
          "nan_count": 0,
          "min": "2020-03-11 00:00:00",
          "max": "2021-07-05 00:00:00",
          "histogram": [
           {
            "bin_start": 1583884800000000000,
            "bin_end": 1588040640000000000,
            "count": 1
           },
           {
            "bin_start": 1588040640000000000,
            "bin_end": 1592196480000000000,
            "count": 0
           },
           {
            "bin_start": 1592196480000000000,
            "bin_end": 1596352320000000000,
            "count": 1
           },
           {
            "bin_start": 1596352320000000000,
            "bin_end": 1600508160000000000,
            "count": 0
           },
           {
            "bin_start": 1600508160000000000,
            "bin_end": 1604664000000000000,
            "count": 0
           },
           {
            "bin_start": 1604664000000000000,
            "bin_end": 1608819840000000000,
            "count": 0
           },
           {
            "bin_start": 1608819840000000000,
            "bin_end": 1612975680000000000,
            "count": 0
           },
           {
            "bin_start": 1612975680000000000,
            "bin_end": 1617131520000000000,
            "count": 0
           },
           {
            "bin_start": 1617131520000000000,
            "bin_end": 1621287360000000000,
            "count": 0
           },
           {
            "bin_start": 1621287360000000000,
            "bin_end": 1625443200000000000,
            "count": 1
           }
          ]
         }
        },
        {
         "name": "Status",
         "dtype": "object",
         "stats": {
          "unique_count": 3,
          "nan_count": 0,
          "categories": [
           {
            "name": "Partially open",
            "count": 1
           },
           {
            "name": "Academic break",
            "count": 1
           },
           {
            "name": "Fully open",
            "count": 1
           }
          ]
         }
        },
        {
         "name": "_deepnote_index_column",
         "dtype": "int64"
        }
       ],
       "rows": [
        {
         "Date": "2021-07-05T00:00:00.000000",
         "Status": "Partially open",
         "_deepnote_index_column": 106106
        },
        {
         "Date": "2020-07-27T00:00:00.000000",
         "Status": "Academic break",
         "_deepnote_index_column": 34076
        },
        {
         "Date": "2020-03-11T00:00:00.000000",
         "Status": "Fully open",
         "_deepnote_index_column": 5096
        }
       ]
      },
      "text/plain": "             Date          Status\n106106 2021-07-05  Partially open\n34076  2020-07-27  Academic break\n5096   2020-03-11      Fully open",
      "text/html": "<div>\n<style scoped>\n    .dataframe tbody tr th:only-of-type {\n        vertical-align: middle;\n    }\n\n    .dataframe tbody tr th {\n        vertical-align: top;\n    }\n\n    .dataframe thead th {\n        text-align: right;\n    }\n</style>\n<table border=\"1\" class=\"dataframe\">\n  <thead>\n    <tr style=\"text-align: right;\">\n      <th></th>\n      <th>Date</th>\n      <th>Status</th>\n    </tr>\n  </thead>\n  <tbody>\n    <tr>\n      <th>106106</th>\n      <td>2021-07-05</td>\n      <td>Partially open</td>\n    </tr>\n    <tr>\n      <th>34076</th>\n      <td>2020-07-27</td>\n      <td>Academic break</td>\n    </tr>\n    <tr>\n      <th>5096</th>\n      <td>2020-03-11</td>\n      <td>Fully open</td>\n    </tr>\n  </tbody>\n</table>\n</div>"
     },
     "metadata": {}
    }
   ],
   "execution_count": null
  },
  {
   "cell_type": "markdown",
   "source": "### Exportar",
   "metadata": {
    "tags": [],
    "cell_id": "00012-c6dbf487-28c4-4631-901e-953115b60749",
    "deepnote_cell_type": "markdown"
   },
   "outputs": [],
   "execution_count": null
  },
  {
   "cell_type": "code",
   "source": "monitoring_closures_ec.to_csv('/work/covid-ec/data/processed/closures_education.csv', index=False)",
   "metadata": {
    "tags": [],
    "cell_id": "00011-0410a9cd-0c39-4888-a07a-1fc6eb5475e9",
    "deepnote_to_be_reexecuted": false,
    "source_hash": "1f7171fa",
    "execution_start": 1640061029519,
    "execution_millis": 14,
    "deepnote_cell_type": "code"
   },
   "outputs": [],
   "execution_count": null
  },
  {
   "cell_type": "markdown",
   "source": "## Histórico educación Ecuador dataset",
   "metadata": {
    "tags": [],
    "cell_id": "00002-9fd6c425-c552-4c14-9c8f-5aa6c653f322",
    "deepnote_cell_type": "markdown"
   },
   "outputs": [],
   "execution_count": null
  },
  {
   "cell_type": "code",
   "metadata": {
    "tags": [],
    "cell_id": "00004-6e3de261-64e2-475b-9dfe-5734574dd771",
    "deepnote_to_be_reexecuted": false,
    "source_hash": "fd163cfc",
    "execution_start": 1640061029581,
    "execution_millis": 1238,
    "deepnote_cell_type": "code"
   },
   "source": "# Uso latin1 para que lea caracteres especiales\neducation_ec = pd.read_csv('/work/covid-ec/data/raw/ec_registro-administrativo-historico_2009-2021.csv', encoding='latin1')",
   "outputs": [],
   "execution_count": null
  },
  {
   "cell_type": "code",
   "source": "education_ec.sample(5)",
   "metadata": {
    "tags": [],
    "cell_id": "00015-a3c34e49-1955-48b7-bb85-1a4893256518",
    "deepnote_to_be_reexecuted": false,
    "source_hash": "14229e8d",
    "execution_start": 1640061030831,
    "execution_millis": 167,
    "deepnote_cell_type": "code"
   },
   "outputs": [
    {
     "output_type": "execute_result",
     "execution_count": 10,
     "data": {
      "application/vnd.deepnote.dataframe.v3+json": {
       "column_count": 26,
       "row_count": 5,
       "columns": [
        {
         "name": "Clave_primaria",
         "dtype": "object",
         "stats": {
          "unique_count": 5,
          "nan_count": 0,
          "categories": [
           {
            "name": "11H009172020-2021",
            "count": 1
           },
           {
            "name": "22H001922010-2011",
            "count": 1
           },
           {
            "name": "3 others",
            "count": 3
           }
          ]
         }
        },
        {
         "name": "Clave_periodo",
         "dtype": "object",
         "stats": {
          "unique_count": 5,
          "nan_count": 0,
          "categories": [
           {
            "name": "2020-2021",
            "count": 1
           },
           {
            "name": "2010-2011",
            "count": 1
           },
           {
            "name": "3 others",
            "count": 3
           }
          ]
         }
        },
        {
         "name": "Periodo",
         "dtype": "object",
         "stats": {
          "unique_count": 5,
          "nan_count": 0,
          "categories": [
           {
            "name": "2020-2021 Fin",
            "count": 1
           },
           {
            "name": "2010-2011 Fin",
            "count": 1
           },
           {
            "name": "3 others",
            "count": 3
           }
          ]
         }
        },
        {
         "name": "Zona",
         "dtype": "object",
         "stats": {
          "unique_count": 4,
          "nan_count": 0,
          "categories": [
           {
            "name": "Zona 9",
            "count": 2
           },
           {
            "name": "Zona 7",
            "count": 1
           },
           {
            "name": "2 others",
            "count": 2
           }
          ]
         }
        },
        {
         "name": "Provincia",
         "dtype": "object",
         "stats": {
          "unique_count": 4,
          "nan_count": 0,
          "categories": [
           {
            "name": "PICHINCHA",
            "count": 2
           },
           {
            "name": "LOJA",
            "count": 1
           },
           {
            "name": "2 others",
            "count": 2
           }
          ]
         }
        },
        {
         "name": "Cod_Provincia",
         "dtype": "int64",
         "stats": {
          "unique_count": 4,
          "nan_count": 0,
          "min": "6",
          "max": "22",
          "histogram": [
           {
            "bin_start": 6,
            "bin_end": 7.6,
            "count": 1
           },
           {
            "bin_start": 7.6,
            "bin_end": 9.2,
            "count": 0
           },
           {
            "bin_start": 9.2,
            "bin_end": 10.8,
            "count": 0
           },
           {
            "bin_start": 10.8,
            "bin_end": 12.4,
            "count": 1
           },
           {
            "bin_start": 12.4,
            "bin_end": 14,
            "count": 0
           },
           {
            "bin_start": 14,
            "bin_end": 15.600000000000001,
            "count": 0
           },
           {
            "bin_start": 15.600000000000001,
            "bin_end": 17.200000000000003,
            "count": 2
           },
           {
            "bin_start": 17.200000000000003,
            "bin_end": 18.8,
            "count": 0
           },
           {
            "bin_start": 18.8,
            "bin_end": 20.4,
            "count": 0
           },
           {
            "bin_start": 20.4,
            "bin_end": 22,
            "count": 1
           }
          ]
         }
        },
        {
         "name": "Canton",
         "dtype": "object",
         "stats": {
          "unique_count": 4,
          "nan_count": 0,
          "categories": [
           {
            "name": "QUITO",
            "count": 2
           },
           {
            "name": "ESPINDOLA",
            "count": 1
           },
           {
            "name": "2 others",
            "count": 2
           }
          ]
         }
        },
        {
         "name": "Cod_Canton",
         "dtype": "int64",
         "stats": {
          "unique_count": 4,
          "nan_count": 0,
          "min": "601",
          "max": "2201",
          "histogram": [
           {
            "bin_start": 601,
            "bin_end": 761,
            "count": 1
           },
           {
            "bin_start": 761,
            "bin_end": 921,
            "count": 0
           },
           {
            "bin_start": 921,
            "bin_end": 1081,
            "count": 0
           },
           {
            "bin_start": 1081,
            "bin_end": 1241,
            "count": 1
           },
           {
            "bin_start": 1241,
            "bin_end": 1401,
            "count": 0
           },
           {
            "bin_start": 1401,
            "bin_end": 1561,
            "count": 0
           },
           {
            "bin_start": 1561,
            "bin_end": 1721,
            "count": 2
           },
           {
            "bin_start": 1721,
            "bin_end": 1881,
            "count": 0
           },
           {
            "bin_start": 1881,
            "bin_end": 2041,
            "count": 0
           },
           {
            "bin_start": 2041,
            "bin_end": 2201,
            "count": 1
           }
          ]
         }
        },
        {
         "name": "Parroquia",
         "dtype": "object",
         "stats": {
          "unique_count": 5,
          "nan_count": 0,
          "categories": [
           {
            "name": "EL INGENIO",
            "count": 1
           },
           {
            "name": "INES NARANJO",
            "count": 1
           },
           {
            "name": "3 others",
            "count": 3
           }
          ]
         }
        },
        {
         "name": "Cod_Parroquia",
         "dtype": "int64",
         "stats": {
          "unique_count": 5,
          "nan_count": 0,
          "min": "60101",
          "max": "220157",
          "histogram": [
           {
            "bin_start": 60101,
            "bin_end": 76106.6,
            "count": 1
           },
           {
            "bin_start": 76106.6,
            "bin_end": 92112.2,
            "count": 0
           },
           {
            "bin_start": 92112.2,
            "bin_end": 108117.8,
            "count": 0
           },
           {
            "bin_start": 108117.8,
            "bin_end": 124123.4,
            "count": 1
           },
           {
            "bin_start": 124123.4,
            "bin_end": 140129,
            "count": 0
           },
           {
            "bin_start": 140129,
            "bin_end": 156134.6,
            "count": 0
           },
           {
            "bin_start": 156134.6,
            "bin_end": 172140.2,
            "count": 2
           },
           {
            "bin_start": 172140.2,
            "bin_end": 188145.8,
            "count": 0
           },
           {
            "bin_start": 188145.8,
            "bin_end": 204151.4,
            "count": 0
           },
           {
            "bin_start": 204151.4,
            "bin_end": 220157,
            "count": 1
           }
          ]
         }
        },
        {
         "name": "Nombre_Institucion",
         "dtype": "object",
         "stats": {
          "unique_count": 5,
          "nan_count": 0,
          "categories": [
           {
            "name": "COLEGIO DE BACHILLERATO GABRIEL GARCIA MORENO",
            "count": 1
           },
           {
            "name": "HUANCAVILCA",
            "count": 1
           },
           {
            "name": "3 others",
            "count": 3
           }
          ]
         }
        },
        {
         "name": "Codigo_Institucion",
         "dtype": "object",
         "stats": {
          "unique_count": 5,
          "nan_count": 0,
          "categories": [
           {
            "name": "11H00917",
            "count": 1
           },
           {
            "name": "22H00192",
            "count": 1
           },
           {
            "name": "3 others",
            "count": 3
           }
          ]
         }
        },
        {
         "name": "Escolarizacion",
         "dtype": "object",
         "stats": {
          "unique_count": 1,
          "nan_count": 0,
          "categories": [
           {
            "name": "Escolarizada",
            "count": 5
           }
          ]
         }
        },
        {
         "name": "Tipo_Educacion",
         "dtype": "object",
         "stats": {
          "unique_count": 1,
          "nan_count": 0,
          "categories": [
           {
            "name": "Educación Regular",
            "count": 5
           }
          ]
         }
        },
        {
         "name": "Sostenimiento",
         "dtype": "object",
         "stats": {
          "unique_count": 3,
          "nan_count": 0,
          "categories": [
           {
            "name": "Particular",
            "count": 3
           },
           {
            "name": "Fiscomisional",
            "count": 1
           },
           {
            "name": "Fiscal",
            "count": 1
           }
          ]
         }
        },
        {
         "name": "Area",
         "dtype": "object",
         "stats": {
          "unique_count": 2,
          "nan_count": 0,
          "categories": [
           {
            "name": "RuralINEC",
            "count": 3
           },
           {
            "name": "UrbanaINEC",
            "count": 2
           }
          ]
         }
        },
        {
         "name": "Regimen_Escolar",
         "dtype": "object",
         "stats": {
          "unique_count": 2,
          "nan_count": 0,
          "categories": [
           {
            "name": "Sierra",
            "count": 3
           },
           {
            "name": "Costa",
            "count": 2
           }
          ]
         }
        },
        {
         "name": "Jurisdiccion",
         "dtype": "object",
         "stats": {
          "unique_count": 2,
          "nan_count": 0,
          "categories": [
           {
            "name": "Intercultural",
            "count": 4
           },
           {
            "name": "Intercultural   ",
            "count": 1
           }
          ]
         }
        },
        {
         "name": "Modallidad",
         "dtype": "object",
         "stats": {
          "unique_count": 1,
          "nan_count": 0,
          "categories": [
           {
            "name": "Presencial",
            "count": 5
           }
          ]
         }
        },
        {
         "name": "Jornada",
         "dtype": "object",
         "stats": {
          "unique_count": 1,
          "nan_count": 0,
          "categories": [
           {
            "name": "Matutina",
            "count": 5
           }
          ]
         }
        },
        {
         "name": "Acceso_Edificio",
         "dtype": "object",
         "stats": {
          "unique_count": 1,
          "nan_count": 0,
          "categories": [
           {
            "name": "Terrestre",
            "count": 5
           }
          ]
         }
        },
        {
         "name": "Total_estudiantes",
         "dtype": "int64",
         "stats": {
          "unique_count": 5,
          "nan_count": 0,
          "min": "20",
          "max": "438",
          "histogram": [
           {
            "bin_start": 20,
            "bin_end": 61.8,
            "count": 2
           },
           {
            "bin_start": 61.8,
            "bin_end": 103.6,
            "count": 0
           },
           {
            "bin_start": 103.6,
            "bin_end": 145.39999999999998,
            "count": 0
           },
           {
            "bin_start": 145.39999999999998,
            "bin_end": 187.2,
            "count": 1
           },
           {
            "bin_start": 187.2,
            "bin_end": 229,
            "count": 0
           },
           {
            "bin_start": 229,
            "bin_end": 270.79999999999995,
            "count": 1
           },
           {
            "bin_start": 270.79999999999995,
            "bin_end": 312.59999999999997,
            "count": 0
           },
           {
            "bin_start": 312.59999999999997,
            "bin_end": 354.4,
            "count": 0
           },
           {
            "bin_start": 354.4,
            "bin_end": 396.2,
            "count": 0
           },
           {
            "bin_start": 396.2,
            "bin_end": 438,
            "count": 1
           }
          ]
         }
        },
        {
         "name": "Promovidos",
         "dtype": "int64",
         "stats": {
          "unique_count": 5,
          "nan_count": 0,
          "min": "20",
          "max": "432",
          "histogram": [
           {
            "bin_start": 20,
            "bin_end": 61.2,
            "count": 2
           },
           {
            "bin_start": 61.2,
            "bin_end": 102.4,
            "count": 0
           },
           {
            "bin_start": 102.4,
            "bin_end": 143.60000000000002,
            "count": 0
           },
           {
            "bin_start": 143.60000000000002,
            "bin_end": 184.8,
            "count": 1
           },
           {
            "bin_start": 184.8,
            "bin_end": 226,
            "count": 0
           },
           {
            "bin_start": 226,
            "bin_end": 267.20000000000005,
            "count": 1
           },
           {
            "bin_start": 267.20000000000005,
            "bin_end": 308.40000000000003,
            "count": 0
           },
           {
            "bin_start": 308.40000000000003,
            "bin_end": 349.6,
            "count": 0
           },
           {
            "bin_start": 349.6,
            "bin_end": 390.8,
            "count": 0
           },
           {
            "bin_start": 390.8,
            "bin_end": 432,
            "count": 1
           }
          ]
         }
        },
        {
         "name": "No promovidos",
         "dtype": "int64",
         "stats": {
          "unique_count": 2,
          "nan_count": 0,
          "min": "0",
          "max": "1",
          "histogram": [
           {
            "bin_start": 0,
            "bin_end": 0.1,
            "count": 4
           },
           {
            "bin_start": 0.1,
            "bin_end": 0.2,
            "count": 0
           },
           {
            "bin_start": 0.2,
            "bin_end": 0.30000000000000004,
            "count": 0
           },
           {
            "bin_start": 0.30000000000000004,
            "bin_end": 0.4,
            "count": 0
           },
           {
            "bin_start": 0.4,
            "bin_end": 0.5,
            "count": 0
           },
           {
            "bin_start": 0.5,
            "bin_end": 0.6000000000000001,
            "count": 0
           },
           {
            "bin_start": 0.6000000000000001,
            "bin_end": 0.7000000000000001,
            "count": 0
           },
           {
            "bin_start": 0.7000000000000001,
            "bin_end": 0.8,
            "count": 0
           },
           {
            "bin_start": 0.8,
            "bin_end": 0.9,
            "count": 0
           },
           {
            "bin_start": 0.9,
            "bin_end": 1,
            "count": 1
           }
          ]
         }
        },
        {
         "name": "Abandono",
         "dtype": "int64",
         "stats": {
          "unique_count": 4,
          "nan_count": 0,
          "min": "0",
          "max": "9",
          "histogram": [
           {
            "bin_start": 0,
            "bin_end": 0.9,
            "count": 2
           },
           {
            "bin_start": 0.9,
            "bin_end": 1.8,
            "count": 0
           },
           {
            "bin_start": 1.8,
            "bin_end": 2.7,
            "count": 0
           },
           {
            "bin_start": 2.7,
            "bin_end": 3.6,
            "count": 0
           },
           {
            "bin_start": 3.6,
            "bin_end": 4.5,
            "count": 0
           },
           {
            "bin_start": 4.5,
            "bin_end": 5.4,
            "count": 0
           },
           {
            "bin_start": 5.4,
            "bin_end": 6.3,
            "count": 1
           },
           {
            "bin_start": 6.3,
            "bin_end": 7.2,
            "count": 0
           },
           {
            "bin_start": 7.2,
            "bin_end": 8.1,
            "count": 1
           },
           {
            "bin_start": 8.1,
            "bin_end": 9,
            "count": 1
           }
          ]
         }
        },
        {
         "name": "Pais",
         "dtype": "object",
         "stats": {
          "unique_count": 1,
          "nan_count": 0,
          "categories": [
           {
            "name": "ECUADOR",
            "count": 5
           }
          ]
         }
        },
        {
         "name": "_deepnote_index_column",
         "dtype": "int64"
        }
       ],
       "rows": [
        {
         "Clave_primaria": "11H009172020-2021",
         "Clave_periodo": "2020-2021",
         "Periodo": "2020-2021 Fin",
         "Zona": "Zona 7",
         "Provincia": "LOJA",
         "Cod_Provincia": 11,
         "Canton": "ESPINDOLA",
         "Cod_Canton": 1106,
         "Parroquia": "EL INGENIO",
         "Cod_Parroquia": 110655,
         "Nombre_Institucion": "COLEGIO DE BACHILLERATO GABRIEL GARCIA MORENO",
         "Codigo_Institucion": "11H00917",
         "Escolarizacion": "Escolarizada",
         "Tipo_Educacion": "Educación Regular",
         "Sostenimiento": "Fiscomisional",
         "Area": "RuralINEC",
         "Regimen_Escolar": "Costa",
         "Jurisdiccion": "Intercultural   ",
         "Modallidad": "Presencial",
         "Jornada": "Matutina",
         "Acceso_Edificio": "Terrestre",
         "Total_estudiantes": 186,
         "Promovidos": 177,
         "No promovidos": 0,
         "Abandono": 9,
         "Pais": "ECUADOR",
         "_deepnote_index_column": 229405
        },
        {
         "Clave_primaria": "22H001922010-2011",
         "Clave_periodo": "2010-2011",
         "Periodo": "2010-2011 Fin",
         "Zona": "Zona 2",
         "Provincia": "ORELLANA",
         "Cod_Provincia": 22,
         "Canton": "ORELLANA",
         "Cod_Canton": 2201,
         "Parroquia": "INES NARANJO",
         "Cod_Parroquia": 220157,
         "Nombre_Institucion": "HUANCAVILCA",
         "Codigo_Institucion": "22H00192",
         "Escolarizacion": "Escolarizada",
         "Tipo_Educacion": "Educación Regular",
         "Sostenimiento": "Fiscal",
         "Area": "RuralINEC",
         "Regimen_Escolar": "Sierra",
         "Jurisdiccion": "Intercultural",
         "Modallidad": "Presencial",
         "Jornada": "Matutina",
         "Acceso_Edificio": "Terrestre",
         "Total_estudiantes": 27,
         "Promovidos": 26,
         "No promovidos": 1,
         "Abandono": 0,
         "Pais": "ECUADOR",
         "_deepnote_index_column": 50190
        },
        {
         "Clave_primaria": "17H031462011-2012",
         "Clave_periodo": "2011-2012",
         "Periodo": "2011-2012 Fin",
         "Zona": "Zona 9",
         "Provincia": "PICHINCHA",
         "Cod_Provincia": 17,
         "Canton": "QUITO",
         "Cod_Canton": 1701,
         "Parroquia": "GUALEA",
         "Cod_Parroquia": 170161,
         "Nombre_Institucion": "SAN LUIS GONZAGA",
         "Codigo_Institucion": "17H03146",
         "Escolarizacion": "Escolarizada",
         "Tipo_Educacion": "Educación Regular",
         "Sostenimiento": "Particular",
         "Area": "RuralINEC",
         "Regimen_Escolar": "Costa",
         "Jurisdiccion": "Intercultural",
         "Modallidad": "Presencial",
         "Jornada": "Matutina",
         "Acceso_Edificio": "Terrestre",
         "Total_estudiantes": 20,
         "Promovidos": 20,
         "No promovidos": 0,
         "Abandono": 0,
         "Pais": "ECUADOR",
         "_deepnote_index_column": 72809
        },
        {
         "Clave_primaria": "06H000802019-2020",
         "Clave_periodo": "2019-2020",
         "Periodo": "2019-2020 Fin",
         "Zona": "Zona 3",
         "Provincia": "CHIMBORAZO",
         "Cod_Provincia": 6,
         "Canton": "RIOBAMBA",
         "Cod_Canton": 601,
         "Parroquia": "LIZARZABURU",
         "Cod_Parroquia": 60101,
         "Nombre_Institucion": "UNIDAD EDUCATIVA LA PROVIDENCIA",
         "Codigo_Institucion": "06H00080",
         "Escolarizacion": "Escolarizada",
         "Tipo_Educacion": "Educación Regular",
         "Sostenimiento": "Particular",
         "Area": "UrbanaINEC",
         "Regimen_Escolar": "Sierra",
         "Jurisdiccion": "Intercultural",
         "Modallidad": "Presencial",
         "Jornada": "Matutina",
         "Acceso_Edificio": "Terrestre",
         "Total_estudiantes": 438,
         "Promovidos": 432,
         "No promovidos": 0,
         "Abandono": 6,
         "Pais": "ECUADOR",
         "_deepnote_index_column": 208269
        },
        {
         "Clave_primaria": "17H012462015-2016",
         "Clave_periodo": "2015-2016",
         "Periodo": "2015-2016 Fin",
         "Zona": "Zona 9",
         "Provincia": "PICHINCHA",
         "Cod_Provincia": 17,
         "Canton": "QUITO",
         "Cod_Canton": 1701,
         "Parroquia": "QUITUMBE",
         "Cod_Parroquia": 170126,
         "Nombre_Institucion": "LOUIS VICTOR DE BROGLIE",
         "Codigo_Institucion": "17H01246",
         "Escolarizacion": "Escolarizada",
         "Tipo_Educacion": "Educación Regular",
         "Sostenimiento": "Particular",
         "Area": "UrbanaINEC",
         "Regimen_Escolar": "Sierra",
         "Jurisdiccion": "Intercultural",
         "Modallidad": "Presencial",
         "Jornada": "Matutina",
         "Acceso_Edificio": "Terrestre",
         "Total_estudiantes": 250,
         "Promovidos": 242,
         "No promovidos": 0,
         "Abandono": 8,
         "Pais": "ECUADOR",
         "_deepnote_index_column": 153801
        }
       ]
      },
      "text/plain": "           Clave_primaria Clave_periodo        Periodo    Zona   Provincia  \\\n229405  11H009172020-2021     2020-2021  2020-2021 Fin  Zona 7        LOJA   \n50190   22H001922010-2011     2010-2011  2010-2011 Fin  Zona 2    ORELLANA   \n72809   17H031462011-2012     2011-2012  2011-2012 Fin  Zona 9   PICHINCHA   \n208269  06H000802019-2020     2019-2020  2019-2020 Fin  Zona 3  CHIMBORAZO   \n153801  17H012462015-2016     2015-2016  2015-2016 Fin  Zona 9   PICHINCHA   \n\n        Cod_Provincia     Canton  Cod_Canton     Parroquia  Cod_Parroquia  \\\n229405             11  ESPINDOLA        1106    EL INGENIO         110655   \n50190              22   ORELLANA        2201  INES NARANJO         220157   \n72809              17      QUITO        1701        GUALEA         170161   \n208269              6   RIOBAMBA         601   LIZARZABURU          60101   \n153801             17      QUITO        1701      QUITUMBE         170126   \n\n        ... Regimen_Escolar      Jurisdiccion  Modallidad   Jornada  \\\n229405  ...           Costa  Intercultural     Presencial  Matutina   \n50190   ...          Sierra     Intercultural  Presencial  Matutina   \n72809   ...           Costa     Intercultural  Presencial  Matutina   \n208269  ...          Sierra     Intercultural  Presencial  Matutina   \n153801  ...          Sierra     Intercultural  Presencial  Matutina   \n\n       Acceso_Edificio Total_estudiantes Promovidos No promovidos Abandono  \\\n229405       Terrestre               186        177             0        9   \n50190        Terrestre                27         26             1        0   \n72809        Terrestre                20         20             0        0   \n208269       Terrestre               438        432             0        6   \n153801       Terrestre               250        242             0        8   \n\n           Pais  \n229405  ECUADOR  \n50190   ECUADOR  \n72809   ECUADOR  \n208269  ECUADOR  \n153801  ECUADOR  \n\n[5 rows x 26 columns]",
      "text/html": "<div>\n<style scoped>\n    .dataframe tbody tr th:only-of-type {\n        vertical-align: middle;\n    }\n\n    .dataframe tbody tr th {\n        vertical-align: top;\n    }\n\n    .dataframe thead th {\n        text-align: right;\n    }\n</style>\n<table border=\"1\" class=\"dataframe\">\n  <thead>\n    <tr style=\"text-align: right;\">\n      <th></th>\n      <th>Clave_primaria</th>\n      <th>Clave_periodo</th>\n      <th>Periodo</th>\n      <th>Zona</th>\n      <th>Provincia</th>\n      <th>Cod_Provincia</th>\n      <th>Canton</th>\n      <th>Cod_Canton</th>\n      <th>Parroquia</th>\n      <th>Cod_Parroquia</th>\n      <th>...</th>\n      <th>Regimen_Escolar</th>\n      <th>Jurisdiccion</th>\n      <th>Modallidad</th>\n      <th>Jornada</th>\n      <th>Acceso_Edificio</th>\n      <th>Total_estudiantes</th>\n      <th>Promovidos</th>\n      <th>No promovidos</th>\n      <th>Abandono</th>\n      <th>Pais</th>\n    </tr>\n  </thead>\n  <tbody>\n    <tr>\n      <th>229405</th>\n      <td>11H009172020-2021</td>\n      <td>2020-2021</td>\n      <td>2020-2021 Fin</td>\n      <td>Zona 7</td>\n      <td>LOJA</td>\n      <td>11</td>\n      <td>ESPINDOLA</td>\n      <td>1106</td>\n      <td>EL INGENIO</td>\n      <td>110655</td>\n      <td>...</td>\n      <td>Costa</td>\n      <td>Intercultural</td>\n      <td>Presencial</td>\n      <td>Matutina</td>\n      <td>Terrestre</td>\n      <td>186</td>\n      <td>177</td>\n      <td>0</td>\n      <td>9</td>\n      <td>ECUADOR</td>\n    </tr>\n    <tr>\n      <th>50190</th>\n      <td>22H001922010-2011</td>\n      <td>2010-2011</td>\n      <td>2010-2011 Fin</td>\n      <td>Zona 2</td>\n      <td>ORELLANA</td>\n      <td>22</td>\n      <td>ORELLANA</td>\n      <td>2201</td>\n      <td>INES NARANJO</td>\n      <td>220157</td>\n      <td>...</td>\n      <td>Sierra</td>\n      <td>Intercultural</td>\n      <td>Presencial</td>\n      <td>Matutina</td>\n      <td>Terrestre</td>\n      <td>27</td>\n      <td>26</td>\n      <td>1</td>\n      <td>0</td>\n      <td>ECUADOR</td>\n    </tr>\n    <tr>\n      <th>72809</th>\n      <td>17H031462011-2012</td>\n      <td>2011-2012</td>\n      <td>2011-2012 Fin</td>\n      <td>Zona 9</td>\n      <td>PICHINCHA</td>\n      <td>17</td>\n      <td>QUITO</td>\n      <td>1701</td>\n      <td>GUALEA</td>\n      <td>170161</td>\n      <td>...</td>\n      <td>Costa</td>\n      <td>Intercultural</td>\n      <td>Presencial</td>\n      <td>Matutina</td>\n      <td>Terrestre</td>\n      <td>20</td>\n      <td>20</td>\n      <td>0</td>\n      <td>0</td>\n      <td>ECUADOR</td>\n    </tr>\n    <tr>\n      <th>208269</th>\n      <td>06H000802019-2020</td>\n      <td>2019-2020</td>\n      <td>2019-2020 Fin</td>\n      <td>Zona 3</td>\n      <td>CHIMBORAZO</td>\n      <td>6</td>\n      <td>RIOBAMBA</td>\n      <td>601</td>\n      <td>LIZARZABURU</td>\n      <td>60101</td>\n      <td>...</td>\n      <td>Sierra</td>\n      <td>Intercultural</td>\n      <td>Presencial</td>\n      <td>Matutina</td>\n      <td>Terrestre</td>\n      <td>438</td>\n      <td>432</td>\n      <td>0</td>\n      <td>6</td>\n      <td>ECUADOR</td>\n    </tr>\n    <tr>\n      <th>153801</th>\n      <td>17H012462015-2016</td>\n      <td>2015-2016</td>\n      <td>2015-2016 Fin</td>\n      <td>Zona 9</td>\n      <td>PICHINCHA</td>\n      <td>17</td>\n      <td>QUITO</td>\n      <td>1701</td>\n      <td>QUITUMBE</td>\n      <td>170126</td>\n      <td>...</td>\n      <td>Sierra</td>\n      <td>Intercultural</td>\n      <td>Presencial</td>\n      <td>Matutina</td>\n      <td>Terrestre</td>\n      <td>250</td>\n      <td>242</td>\n      <td>0</td>\n      <td>8</td>\n      <td>ECUADOR</td>\n    </tr>\n  </tbody>\n</table>\n<p>5 rows × 26 columns</p>\n</div>"
     },
     "metadata": {}
    }
   ],
   "execution_count": null
  },
  {
   "cell_type": "code",
   "source": "education_ec.info()",
   "metadata": {
    "tags": [],
    "cell_id": "00014-63292a34-5720-4507-bc93-c1eec555f375",
    "deepnote_to_be_reexecuted": false,
    "source_hash": "5f6e6b7e",
    "execution_start": 1640061031186,
    "execution_millis": 24,
    "deepnote_cell_type": "code"
   },
   "outputs": [
    {
     "name": "stdout",
     "text": "<class 'pandas.core.frame.DataFrame'>\nRangeIndex: 237963 entries, 0 to 237962\nData columns (total 26 columns):\n #   Column              Non-Null Count   Dtype \n---  ------              --------------   ----- \n 0   Clave_primaria      237963 non-null  object\n 1   Clave_periodo       237963 non-null  object\n 2   Periodo             237963 non-null  object\n 3   Zona                237963 non-null  object\n 4   Provincia           237963 non-null  object\n 5   Cod_Provincia       237963 non-null  int64 \n 6   Canton              237963 non-null  object\n 7   Cod_Canton          237963 non-null  int64 \n 8   Parroquia           237963 non-null  object\n 9   Cod_Parroquia       237963 non-null  int64 \n 10  Nombre_Institucion  237963 non-null  object\n 11  Codigo_Institucion  237963 non-null  object\n 12  Escolarizacion      237963 non-null  object\n 13  Tipo_Educacion      237963 non-null  object\n 14  Sostenimiento       237963 non-null  object\n 15  Area                237963 non-null  object\n 16  Regimen_Escolar     237963 non-null  object\n 17  Jurisdiccion        237963 non-null  object\n 18  Modallidad          237963 non-null  object\n 19  Jornada             237963 non-null  object\n 20  Acceso_Edificio     237963 non-null  object\n 21  Total_estudiantes   237963 non-null  int64 \n 22  Promovidos          237963 non-null  int64 \n 23  No promovidos       237963 non-null  int64 \n 24  Abandono            237963 non-null  int64 \n 25  Pais                237963 non-null  object\ndtypes: int64(7), object(19)\nmemory usage: 47.2+ MB\n",
     "output_type": "stream",
     "data": {}
    }
   ],
   "execution_count": null
  },
  {
   "cell_type": "markdown",
   "source": "El dataset es bastante extenso. Se eliminarán todas las columnas no relevantes para el análisis.",
   "metadata": {
    "tags": [],
    "cell_id": "00016-6365c445-bc86-462f-8a46-69214afe9e46",
    "deepnote_cell_type": "markdown"
   },
   "outputs": [],
   "execution_count": null
  },
  {
   "cell_type": "code",
   "source": "columns = [\n    \"Clave_primaria\",\n    \"Clave_periodo\",\n    \"Zona\",\n    \"Cod_Provincia\",\n    \"Canton\",\n    \"Cod_Canton\",\n    \"Parroquia\",\n    \"Cod_Parroquia\",\n    \"Nombre_Institucion\",\n    \"Codigo_Institucion\",\n    \"Escolarizacion\",\n    \"Jurisdiccion\",\n    \"Acceso_Edificio\",\n    \"Pais\",\n]",
   "metadata": {
    "tags": [],
    "cell_id": "00017-6c8942bf-6ec9-4a98-880e-f9ccc03fce12",
    "deepnote_to_be_reexecuted": false,
    "source_hash": "b441a2cc",
    "execution_start": 1640061031213,
    "execution_millis": 4,
    "deepnote_cell_type": "code"
   },
   "outputs": [],
   "execution_count": null
  },
  {
   "cell_type": "code",
   "source": "education_ec.drop(columns=columns, inplace=True)",
   "metadata": {
    "tags": [],
    "cell_id": "00017-17c51cdb-8ea0-4778-bd06-00626f716a9c",
    "deepnote_to_be_reexecuted": false,
    "source_hash": "b9ea1526",
    "execution_start": 1640061031330,
    "execution_millis": 0,
    "deepnote_cell_type": "code"
   },
   "outputs": [],
   "execution_count": null
  },
  {
   "cell_type": "code",
   "source": "education_ec.sample(5)",
   "metadata": {
    "tags": [],
    "cell_id": "00019-6a227b26-cd07-4fc4-969c-647713c66fc8",
    "deepnote_to_be_reexecuted": false,
    "source_hash": "14229e8d",
    "execution_start": 1640061031331,
    "execution_millis": 119,
    "deepnote_cell_type": "code"
   },
   "outputs": [
    {
     "output_type": "execute_result",
     "execution_count": 14,
     "data": {
      "application/vnd.deepnote.dataframe.v3+json": {
       "column_count": 12,
       "row_count": 5,
       "columns": [
        {
         "name": "Periodo",
         "dtype": "object",
         "stats": {
          "unique_count": 5,
          "nan_count": 0,
          "categories": [
           {
            "name": "2015-2016 Fin",
            "count": 1
           },
           {
            "name": "2009-2010 Fin",
            "count": 1
           },
           {
            "name": "3 others",
            "count": 3
           }
          ]
         }
        },
        {
         "name": "Provincia",
         "dtype": "object",
         "stats": {
          "unique_count": 5,
          "nan_count": 0,
          "categories": [
           {
            "name": "GUAYAS",
            "count": 1
           },
           {
            "name": "SANTA ELENA",
            "count": 1
           },
           {
            "name": "3 others",
            "count": 3
           }
          ]
         }
        },
        {
         "name": "Tipo_Educacion",
         "dtype": "object",
         "stats": {
          "unique_count": 1,
          "nan_count": 0,
          "categories": [
           {
            "name": "Educación Regular",
            "count": 5
           }
          ]
         }
        },
        {
         "name": "Sostenimiento",
         "dtype": "object",
         "stats": {
          "unique_count": 2,
          "nan_count": 0,
          "categories": [
           {
            "name": "Fiscal",
            "count": 4
           },
           {
            "name": "Particular",
            "count": 1
           }
          ]
         }
        },
        {
         "name": "Area",
         "dtype": "object",
         "stats": {
          "unique_count": 2,
          "nan_count": 0,
          "categories": [
           {
            "name": "UrbanaINEC",
            "count": 4
           },
           {
            "name": "RuralINEC",
            "count": 1
           }
          ]
         }
        },
        {
         "name": "Regimen_Escolar",
         "dtype": "object",
         "stats": {
          "unique_count": 2,
          "nan_count": 0,
          "categories": [
           {
            "name": "Costa",
            "count": 3
           },
           {
            "name": "Sierra",
            "count": 2
           }
          ]
         }
        },
        {
         "name": "Modallidad",
         "dtype": "object",
         "stats": {
          "unique_count": 1,
          "nan_count": 0,
          "categories": [
           {
            "name": "Presencial",
            "count": 5
           }
          ]
         }
        },
        {
         "name": "Jornada",
         "dtype": "object",
         "stats": {
          "unique_count": 2,
          "nan_count": 0,
          "categories": [
           {
            "name": "Matutina",
            "count": 4
           },
           {
            "name": "Matutina y Vespertina",
            "count": 1
           }
          ]
         }
        },
        {
         "name": "Total_estudiantes",
         "dtype": "int64",
         "stats": {
          "unique_count": 5,
          "nan_count": 0,
          "min": "3",
          "max": "847",
          "histogram": [
           {
            "bin_start": 3,
            "bin_end": 87.4,
            "count": 4
           },
           {
            "bin_start": 87.4,
            "bin_end": 171.8,
            "count": 0
           },
           {
            "bin_start": 171.8,
            "bin_end": 256.20000000000005,
            "count": 0
           },
           {
            "bin_start": 256.20000000000005,
            "bin_end": 340.6,
            "count": 0
           },
           {
            "bin_start": 340.6,
            "bin_end": 425,
            "count": 0
           },
           {
            "bin_start": 425,
            "bin_end": 509.40000000000003,
            "count": 0
           },
           {
            "bin_start": 509.40000000000003,
            "bin_end": 593.8000000000001,
            "count": 0
           },
           {
            "bin_start": 593.8000000000001,
            "bin_end": 678.2,
            "count": 0
           },
           {
            "bin_start": 678.2,
            "bin_end": 762.6,
            "count": 0
           },
           {
            "bin_start": 762.6,
            "bin_end": 847,
            "count": 1
           }
          ]
         }
        },
        {
         "name": "Promovidos",
         "dtype": "int64",
         "stats": {
          "unique_count": 5,
          "nan_count": 0,
          "min": "3",
          "max": "841",
          "histogram": [
           {
            "bin_start": 3,
            "bin_end": 86.8,
            "count": 4
           },
           {
            "bin_start": 86.8,
            "bin_end": 170.6,
            "count": 0
           },
           {
            "bin_start": 170.6,
            "bin_end": 254.39999999999998,
            "count": 0
           },
           {
            "bin_start": 254.39999999999998,
            "bin_end": 338.2,
            "count": 0
           },
           {
            "bin_start": 338.2,
            "bin_end": 422,
            "count": 0
           },
           {
            "bin_start": 422,
            "bin_end": 505.79999999999995,
            "count": 0
           },
           {
            "bin_start": 505.79999999999995,
            "bin_end": 589.6,
            "count": 0
           },
           {
            "bin_start": 589.6,
            "bin_end": 673.4,
            "count": 0
           },
           {
            "bin_start": 673.4,
            "bin_end": 757.1999999999999,
            "count": 0
           },
           {
            "bin_start": 757.1999999999999,
            "bin_end": 841,
            "count": 1
           }
          ]
         }
        },
        {
         "name": "No promovidos",
         "dtype": "int64",
         "stats": {
          "unique_count": 2,
          "nan_count": 0,
          "min": "0",
          "max": "1",
          "histogram": [
           {
            "bin_start": 0,
            "bin_end": 0.1,
            "count": 4
           },
           {
            "bin_start": 0.1,
            "bin_end": 0.2,
            "count": 0
           },
           {
            "bin_start": 0.2,
            "bin_end": 0.30000000000000004,
            "count": 0
           },
           {
            "bin_start": 0.30000000000000004,
            "bin_end": 0.4,
            "count": 0
           },
           {
            "bin_start": 0.4,
            "bin_end": 0.5,
            "count": 0
           },
           {
            "bin_start": 0.5,
            "bin_end": 0.6000000000000001,
            "count": 0
           },
           {
            "bin_start": 0.6000000000000001,
            "bin_end": 0.7000000000000001,
            "count": 0
           },
           {
            "bin_start": 0.7000000000000001,
            "bin_end": 0.8,
            "count": 0
           },
           {
            "bin_start": 0.8,
            "bin_end": 0.9,
            "count": 0
           },
           {
            "bin_start": 0.9,
            "bin_end": 1,
            "count": 1
           }
          ]
         }
        },
        {
         "name": "Abandono",
         "dtype": "int64",
         "stats": {
          "unique_count": 2,
          "nan_count": 0,
          "min": "0",
          "max": "6",
          "histogram": [
           {
            "bin_start": 0,
            "bin_end": 0.6,
            "count": 4
           },
           {
            "bin_start": 0.6,
            "bin_end": 1.2,
            "count": 0
           },
           {
            "bin_start": 1.2,
            "bin_end": 1.7999999999999998,
            "count": 0
           },
           {
            "bin_start": 1.7999999999999998,
            "bin_end": 2.4,
            "count": 0
           },
           {
            "bin_start": 2.4,
            "bin_end": 3,
            "count": 0
           },
           {
            "bin_start": 3,
            "bin_end": 3.5999999999999996,
            "count": 0
           },
           {
            "bin_start": 3.5999999999999996,
            "bin_end": 4.2,
            "count": 0
           },
           {
            "bin_start": 4.2,
            "bin_end": 4.8,
            "count": 0
           },
           {
            "bin_start": 4.8,
            "bin_end": 5.3999999999999995,
            "count": 0
           },
           {
            "bin_start": 5.3999999999999995,
            "bin_end": 6,
            "count": 1
           }
          ]
         }
        },
        {
         "name": "_deepnote_index_column",
         "dtype": "int64"
        }
       ],
       "rows": [
        {
         "Periodo": "2015-2016 Fin",
         "Provincia": "GUAYAS",
         "Tipo_Educacion": "Educación Regular",
         "Sostenimiento": "Fiscal",
         "Area": "UrbanaINEC",
         "Regimen_Escolar": "Costa",
         "Modallidad": "Presencial",
         "Jornada": "Matutina y Vespertina",
         "Total_estudiantes": 847,
         "Promovidos": 841,
         "No promovidos": 0,
         "Abandono": 6,
         "_deepnote_index_column": 146626
        },
        {
         "Periodo": "2009-2010 Fin",
         "Provincia": "SANTA ELENA",
         "Tipo_Educacion": "Educación Regular",
         "Sostenimiento": "Particular",
         "Area": "UrbanaINEC",
         "Regimen_Escolar": "Costa",
         "Modallidad": "Presencial",
         "Jornada": "Matutina",
         "Total_estudiantes": 3,
         "Promovidos": 3,
         "No promovidos": 0,
         "Abandono": 0,
         "_deepnote_index_column": 25694
        },
        {
         "Periodo": "2016-2017 Fin",
         "Provincia": "MORONA SANTIAGO",
         "Tipo_Educacion": "Educación Regular",
         "Sostenimiento": "Fiscal",
         "Area": "UrbanaINEC",
         "Regimen_Escolar": "Sierra",
         "Modallidad": "Presencial",
         "Jornada": "Matutina",
         "Total_estudiantes": 87,
         "Promovidos": 86,
         "No promovidos": 1,
         "Abandono": 0,
         "_deepnote_index_column": 168945
        },
        {
         "Periodo": "2017-2018 Fin",
         "Provincia": "CARCHI",
         "Tipo_Educacion": "Educación Regular",
         "Sostenimiento": "Fiscal",
         "Area": "RuralINEC",
         "Regimen_Escolar": "Sierra",
         "Modallidad": "Presencial",
         "Jornada": "Matutina",
         "Total_estudiantes": 7,
         "Promovidos": 7,
         "No promovidos": 0,
         "Abandono": 0,
         "_deepnote_index_column": 175213
        },
        {
         "Periodo": "2012-2013 Fin",
         "Provincia": "LOJA",
         "Tipo_Educacion": "Educación Regular",
         "Sostenimiento": "Fiscal",
         "Area": "UrbanaINEC",
         "Regimen_Escolar": "Costa",
         "Modallidad": "Presencial",
         "Jornada": "Matutina",
         "Total_estudiantes": 39,
         "Promovidos": 39,
         "No promovidos": 0,
         "Abandono": 0,
         "_deepnote_index_column": 88234
        }
       ]
      },
      "text/plain": "              Periodo        Provincia     Tipo_Educacion Sostenimiento  \\\n146626  2015-2016 Fin           GUAYAS  Educación Regular        Fiscal   \n25694   2009-2010 Fin      SANTA ELENA  Educación Regular    Particular   \n168945  2016-2017 Fin  MORONA SANTIAGO  Educación Regular        Fiscal   \n175213  2017-2018 Fin           CARCHI  Educación Regular        Fiscal   \n88234   2012-2013 Fin             LOJA  Educación Regular        Fiscal   \n\n              Area Regimen_Escolar  Modallidad                Jornada  \\\n146626  UrbanaINEC           Costa  Presencial  Matutina y Vespertina   \n25694   UrbanaINEC           Costa  Presencial               Matutina   \n168945  UrbanaINEC          Sierra  Presencial               Matutina   \n175213   RuralINEC          Sierra  Presencial               Matutina   \n88234   UrbanaINEC           Costa  Presencial               Matutina   \n\n        Total_estudiantes  Promovidos  No promovidos  Abandono  \n146626                847         841              0         6  \n25694                   3           3              0         0  \n168945                 87          86              1         0  \n175213                  7           7              0         0  \n88234                  39          39              0         0  ",
      "text/html": "<div>\n<style scoped>\n    .dataframe tbody tr th:only-of-type {\n        vertical-align: middle;\n    }\n\n    .dataframe tbody tr th {\n        vertical-align: top;\n    }\n\n    .dataframe thead th {\n        text-align: right;\n    }\n</style>\n<table border=\"1\" class=\"dataframe\">\n  <thead>\n    <tr style=\"text-align: right;\">\n      <th></th>\n      <th>Periodo</th>\n      <th>Provincia</th>\n      <th>Tipo_Educacion</th>\n      <th>Sostenimiento</th>\n      <th>Area</th>\n      <th>Regimen_Escolar</th>\n      <th>Modallidad</th>\n      <th>Jornada</th>\n      <th>Total_estudiantes</th>\n      <th>Promovidos</th>\n      <th>No promovidos</th>\n      <th>Abandono</th>\n    </tr>\n  </thead>\n  <tbody>\n    <tr>\n      <th>146626</th>\n      <td>2015-2016 Fin</td>\n      <td>GUAYAS</td>\n      <td>Educación Regular</td>\n      <td>Fiscal</td>\n      <td>UrbanaINEC</td>\n      <td>Costa</td>\n      <td>Presencial</td>\n      <td>Matutina y Vespertina</td>\n      <td>847</td>\n      <td>841</td>\n      <td>0</td>\n      <td>6</td>\n    </tr>\n    <tr>\n      <th>25694</th>\n      <td>2009-2010 Fin</td>\n      <td>SANTA ELENA</td>\n      <td>Educación Regular</td>\n      <td>Particular</td>\n      <td>UrbanaINEC</td>\n      <td>Costa</td>\n      <td>Presencial</td>\n      <td>Matutina</td>\n      <td>3</td>\n      <td>3</td>\n      <td>0</td>\n      <td>0</td>\n    </tr>\n    <tr>\n      <th>168945</th>\n      <td>2016-2017 Fin</td>\n      <td>MORONA SANTIAGO</td>\n      <td>Educación Regular</td>\n      <td>Fiscal</td>\n      <td>UrbanaINEC</td>\n      <td>Sierra</td>\n      <td>Presencial</td>\n      <td>Matutina</td>\n      <td>87</td>\n      <td>86</td>\n      <td>1</td>\n      <td>0</td>\n    </tr>\n    <tr>\n      <th>175213</th>\n      <td>2017-2018 Fin</td>\n      <td>CARCHI</td>\n      <td>Educación Regular</td>\n      <td>Fiscal</td>\n      <td>RuralINEC</td>\n      <td>Sierra</td>\n      <td>Presencial</td>\n      <td>Matutina</td>\n      <td>7</td>\n      <td>7</td>\n      <td>0</td>\n      <td>0</td>\n    </tr>\n    <tr>\n      <th>88234</th>\n      <td>2012-2013 Fin</td>\n      <td>LOJA</td>\n      <td>Educación Regular</td>\n      <td>Fiscal</td>\n      <td>UrbanaINEC</td>\n      <td>Costa</td>\n      <td>Presencial</td>\n      <td>Matutina</td>\n      <td>39</td>\n      <td>39</td>\n      <td>0</td>\n      <td>0</td>\n    </tr>\n  </tbody>\n</table>\n</div>"
     },
     "metadata": {}
    }
   ],
   "execution_count": null
  },
  {
   "cell_type": "markdown",
   "source": "### Exportar",
   "metadata": {
    "tags": [],
    "cell_id": "00018-f9feccc7-e5f5-42d9-8155-ae88eead55c3",
    "deepnote_cell_type": "markdown"
   },
   "outputs": [],
   "execution_count": null
  },
  {
   "cell_type": "code",
   "source": "education_ec.to_csv('/work/covid-ec/data/processed/education_ec.csv', index=False)",
   "metadata": {
    "tags": [],
    "cell_id": "00019-b484984a-5a97-4d8a-91f9-10a7a038477c",
    "deepnote_to_be_reexecuted": false,
    "source_hash": "5069cdbb",
    "execution_start": 1640061031454,
    "execution_millis": 1280,
    "deepnote_cell_type": "code"
   },
   "outputs": [],
   "execution_count": null
  },
  {
   "cell_type": "markdown",
   "source": "<a style='text-decoration:none;line-height:16px;display:flex;color:#5B5B62;padding:10px;justify-content:end;' href='https://deepnote.com?utm_source=created-in-deepnote-cell&projectId=e7b048df-fc9b-4970-aa88-df153b270a6f' target=\"_blank\">\n<img alt='Created in deepnote.com' style='display:inline;max-height:16px;margin:0px;margin-right:7.5px;' src='data:image/svg+xml;base64,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' > </img>\nCreated in <span style='font-weight:600;margin-left:4px;'>Deepnote</span></a>",
   "metadata": {
    "tags": [],
    "created_in_deepnote_cell": true,
    "deepnote_cell_type": "markdown"
   }
  }
 ],
 "nbformat": 4,
 "nbformat_minor": 2,
 "metadata": {
  "orig_nbformat": 2,
  "deepnote": {
   "is_reactive": false
  },
  "deepnote_notebook_id": "92703c2b-dcd0-4172-a6bb-5ed065982cd8",
  "deepnote_execution_queue": []
 }
}