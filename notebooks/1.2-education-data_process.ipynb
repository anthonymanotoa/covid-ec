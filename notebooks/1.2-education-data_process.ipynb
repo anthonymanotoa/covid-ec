{
 "cells": [
  {
   "cell_type": "markdown",
   "source": "# Procesamiento data educación\n",
   "metadata": {
    "tags": [],
    "cell_id": "00001-9a4e9ec1-2eb2-4868-a22d-5d60aa6cbf10",
    "deepnote_cell_type": "markdown"
   }
  },
  {
   "cell_type": "code",
   "metadata": {
    "tags": [],
    "cell_id": "00001-962d092e-4ca9-4c1a-9ae6-86c20fc1af95",
    "deepnote_to_be_reexecuted": false,
    "source_hash": "9b82ee11",
    "execution_start": 1640126754761,
    "execution_millis": 43,
    "deepnote_cell_type": "code"
   },
   "source": "import pandas as pd",
   "execution_count": 1,
   "outputs": []
  },
  {
   "cell_type": "markdown",
   "source": "## UNESCO duración de cierres dataset",
   "metadata": {
    "tags": [],
    "cell_id": "00002-1bd2ff5e-d25e-42a9-b91d-26b4d02232d7",
    "deepnote_cell_type": "markdown"
   }
  },
  {
   "cell_type": "code",
   "metadata": {
    "tags": [],
    "cell_id": "00003-3e0b7eaf-8bf2-4edd-99b2-8461973ab6aa",
    "deepnote_to_be_reexecuted": false,
    "source_hash": "22619fc0",
    "execution_start": 1640126754805,
    "execution_millis": 63,
    "deepnote_cell_type": "code"
   },
   "source": "monitoring_closures = pd.read_csv('/work/covid-ec/data/raw/monitoring_school_closures.csv')",
   "execution_count": 2,
   "outputs": []
  },
  {
   "cell_type": "code",
   "metadata": {
    "tags": [],
    "cell_id": "00004-61ab70f3-f7a4-4131-b66d-adf60259d818",
    "deepnote_to_be_reexecuted": false,
    "source_hash": "ba28e204",
    "execution_start": 1640126754939,
    "execution_millis": 3,
    "deepnote_table_state": {
     "pageSize": 10,
     "pageIndex": 0,
     "filters": [],
     "sortBy": []
    },
    "deepnote_table_loading": false,
    "deepnote_table_invalid": false,
    "deepnote_cell_type": "code"
   },
   "source": "monitoring_closures.info()",
   "execution_count": 3,
   "outputs": [
    {
     "name": "stdout",
     "text": "<class 'pandas.core.frame.DataFrame'>\nRangeIndex: 131040 entries, 0 to 131039\nData columns (total 5 columns):\n #   Column   Non-Null Count   Dtype  \n---  ------   --------------   -----  \n 0   Date     131040 non-null  object \n 1   ISO      131040 non-null  object \n 2   Country  131040 non-null  object \n 3   Status   131040 non-null  object \n 4   Note     0 non-null       float64\ndtypes: float64(1), object(4)\nmemory usage: 5.0+ MB\n",
     "output_type": "stream",
     "data": {}
    }
   ]
  },
  {
   "cell_type": "markdown",
   "source": "Se debe cambiar `Date` a datetime. Se debe filtrar solo por datos de Ecuador. Por último, las columanas `Note`, `ISO` y `Country` no son relevantes para el análisis.",
   "metadata": {
    "tags": [],
    "cell_id": "00005-707ebb28-6557-4e0f-853d-11f1b6cd7c66",
    "deepnote_cell_type": "markdown"
   }
  },
  {
   "cell_type": "code",
   "metadata": {
    "tags": [],
    "cell_id": "00005-d3df59d4-9d87-4e5e-bb73-349b782730d4",
    "deepnote_to_be_reexecuted": false,
    "source_hash": "1308a9",
    "execution_start": 1640126754940,
    "execution_millis": 44,
    "deepnote_cell_type": "code"
   },
   "source": "monitoring_closures['Date'] = pd.to_datetime(monitoring_closures['Date'], dayfirst=True)",
   "execution_count": 4,
   "outputs": []
  },
  {
   "cell_type": "code",
   "metadata": {
    "tags": [],
    "cell_id": "00008-e3143bd6-6df1-4fb1-9341-2a1a3dc393a7",
    "deepnote_to_be_reexecuted": false,
    "source_hash": "8158900",
    "execution_start": 1640126754984,
    "execution_millis": 1,
    "deepnote_cell_type": "code"
   },
   "source": "monitoring_closures_ec = monitoring_closures[monitoring_closures['Country']=='Ecuador']",
   "execution_count": 5,
   "outputs": []
  },
  {
   "cell_type": "code",
   "metadata": {
    "tags": [],
    "cell_id": "00006-6faaa9a1-8ce0-41a6-9310-c891c80ae5e9",
    "deepnote_to_be_reexecuted": false,
    "source_hash": "22a49663",
    "execution_start": 1640126754985,
    "execution_millis": 2,
    "deepnote_output_heights": [
     231.078125
    ],
    "deepnote_cell_type": "code"
   },
   "source": "monitoring_closures_ec.drop(columns=['ISO', 'Note', 'Country'], inplace=True)",
   "execution_count": 6,
   "outputs": [
    {
     "name": "stderr",
     "text": "/shared-libs/python3.7/py/lib/python3.7/site-packages/pandas/core/frame.py:4315: SettingWithCopyWarning: \nA value is trying to be set on a copy of a slice from a DataFrame\n\nSee the caveats in the documentation: https://pandas.pydata.org/pandas-docs/stable/user_guide/indexing.html#returning-a-view-versus-a-copy\n  errors=errors,\n",
     "output_type": "stream",
     "data": {}
    }
   ]
  },
  {
   "cell_type": "code",
   "metadata": {
    "tags": [],
    "cell_id": "00010-db6fb54a-ab2f-4fb8-9ed9-65f1e0152fe8",
    "deepnote_to_be_reexecuted": false,
    "source_hash": "34035594",
    "execution_start": 1640126755028,
    "execution_millis": 6,
    "deepnote_cell_type": "code"
   },
   "source": "monitoring_closures_ec.sample(3)",
   "execution_count": 7,
   "outputs": [
    {
     "output_type": "execute_result",
     "execution_count": 7,
     "data": {
      "application/vnd.deepnote.dataframe.v3+json": {
       "column_count": 2,
       "row_count": 3,
       "columns": [
        {
         "name": "Date",
         "dtype": "datetime64[ns]",
         "stats": {
          "unique_count": 3,
          "nan_count": 0,
          "min": "2021-01-27 00:00:00",
          "max": "2021-03-15 00:00:00",
          "histogram": [
           {
            "bin_start": 1611705600000000000,
            "bin_end": 1612111680000000000,
            "count": 1
           },
           {
            "bin_start": 1612111680000000000,
            "bin_end": 1612517760000000000,
            "count": 1
           },
           {
            "bin_start": 1612517760000000000,
            "bin_end": 1612923840000000000,
            "count": 0
           },
           {
            "bin_start": 1612923840000000000,
            "bin_end": 1613329920000000000,
            "count": 0
           },
           {
            "bin_start": 1613329920000000000,
            "bin_end": 1613736000000000000,
            "count": 0
           },
           {
            "bin_start": 1613736000000000000,
            "bin_end": 1614142080000000000,
            "count": 0
           },
           {
            "bin_start": 1614142080000000000,
            "bin_end": 1614548160000000000,
            "count": 0
           },
           {
            "bin_start": 1614548160000000000,
            "bin_end": 1614954240000000000,
            "count": 0
           },
           {
            "bin_start": 1614954240000000000,
            "bin_end": 1615360320000000000,
            "count": 0
           },
           {
            "bin_start": 1615360320000000000,
            "bin_end": 1615766400000000000,
            "count": 1
           }
          ]
         }
        },
        {
         "name": "Status",
         "dtype": "object",
         "stats": {
          "unique_count": 1,
          "nan_count": 0,
          "categories": [
           {
            "name": "Partially open",
            "count": 3
           }
          ]
         }
        },
        {
         "name": "_deepnote_index_column",
         "dtype": "int64"
        }
       ],
       "rows": [
        {
         "Date": "2021-02-04T00:00:00.000000",
         "Status": "Partially open",
         "_deepnote_index_column": 74396
        },
        {
         "Date": "2021-03-15T00:00:00.000000",
         "Status": "Partially open",
         "_deepnote_index_column": 82586
        },
        {
         "Date": "2021-01-27T00:00:00.000000",
         "Status": "Partially open",
         "_deepnote_index_column": 72716
        }
       ]
      },
      "text/plain": "            Date          Status\n74396 2021-02-04  Partially open\n82586 2021-03-15  Partially open\n72716 2021-01-27  Partially open",
      "text/html": "<div>\n<style scoped>\n    .dataframe tbody tr th:only-of-type {\n        vertical-align: middle;\n    }\n\n    .dataframe tbody tr th {\n        vertical-align: top;\n    }\n\n    .dataframe thead th {\n        text-align: right;\n    }\n</style>\n<table border=\"1\" class=\"dataframe\">\n  <thead>\n    <tr style=\"text-align: right;\">\n      <th></th>\n      <th>Date</th>\n      <th>Status</th>\n    </tr>\n  </thead>\n  <tbody>\n    <tr>\n      <th>74396</th>\n      <td>2021-02-04</td>\n      <td>Partially open</td>\n    </tr>\n    <tr>\n      <th>82586</th>\n      <td>2021-03-15</td>\n      <td>Partially open</td>\n    </tr>\n    <tr>\n      <th>72716</th>\n      <td>2021-01-27</td>\n      <td>Partially open</td>\n    </tr>\n  </tbody>\n</table>\n</div>"
     },
     "metadata": {}
    }
   ]
  },
  {
   "cell_type": "markdown",
   "source": "### Exportar",
   "metadata": {
    "tags": [],
    "cell_id": "00012-c6dbf487-28c4-4631-901e-953115b60749",
    "deepnote_cell_type": "markdown"
   }
  },
  {
   "cell_type": "code",
   "metadata": {
    "tags": [],
    "cell_id": "00011-0410a9cd-0c39-4888-a07a-1fc6eb5475e9",
    "deepnote_to_be_reexecuted": false,
    "source_hash": "1f7171fa",
    "execution_start": 1640126755037,
    "execution_millis": 13,
    "deepnote_cell_type": "code"
   },
   "source": "monitoring_closures_ec.to_csv('/work/covid-ec/data/processed/closures_education.csv', index=False)",
   "execution_count": 8,
   "outputs": []
  },
  {
   "cell_type": "markdown",
   "source": "## Histórico educación Ecuador dataset",
   "metadata": {
    "tags": [],
    "cell_id": "00002-9fd6c425-c552-4c14-9c8f-5aa6c653f322",
    "deepnote_cell_type": "markdown"
   }
  },
  {
   "cell_type": "code",
   "metadata": {
    "tags": [],
    "cell_id": "00004-6e3de261-64e2-475b-9dfe-5734574dd771",
    "deepnote_to_be_reexecuted": false,
    "source_hash": "fd163cfc",
    "execution_start": 1640126755099,
    "execution_millis": 1575,
    "deepnote_cell_type": "code"
   },
   "source": "# Uso latin1 para que lea caracteres especiales\neducation_ec = pd.read_csv('/work/covid-ec/data/raw/ec_registro-administrativo-historico_2009-2021.csv', encoding='latin1')",
   "execution_count": 9,
   "outputs": []
  },
  {
   "cell_type": "code",
   "metadata": {
    "tags": [],
    "cell_id": "00015-a3c34e49-1955-48b7-bb85-1a4893256518",
    "deepnote_to_be_reexecuted": false,
    "source_hash": "14229e8d",
    "execution_start": 1640126756684,
    "execution_millis": 208,
    "deepnote_cell_type": "code"
   },
   "source": "education_ec.sample(5)",
   "execution_count": 10,
   "outputs": [
    {
     "output_type": "execute_result",
     "execution_count": 10,
     "data": {
      "application/vnd.deepnote.dataframe.v3+json": {
       "column_count": 26,
       "row_count": 5,
       "columns": [
        {
         "name": "Clave_primaria",
         "dtype": "object",
         "stats": {
          "unique_count": 5,
          "nan_count": 0,
          "categories": [
           {
            "name": "09H002932019-2020",
            "count": 1
           },
           {
            "name": "11H003102013-2014",
            "count": 1
           },
           {
            "name": "3 others",
            "count": 3
           }
          ]
         }
        },
        {
         "name": "Clave_periodo",
         "dtype": "object",
         "stats": {
          "unique_count": 5,
          "nan_count": 0,
          "categories": [
           {
            "name": "2019-2020",
            "count": 1
           },
           {
            "name": "2013-2014",
            "count": 1
           },
           {
            "name": "3 others",
            "count": 3
           }
          ]
         }
        },
        {
         "name": "Periodo",
         "dtype": "object",
         "stats": {
          "unique_count": 5,
          "nan_count": 0,
          "categories": [
           {
            "name": "2019-2020 Fin",
            "count": 1
           },
           {
            "name": "2013-2014 Fin",
            "count": 1
           },
           {
            "name": "3 others",
            "count": 3
           }
          ]
         }
        },
        {
         "name": "Zona",
         "dtype": "object",
         "stats": {
          "unique_count": 5,
          "nan_count": 0,
          "categories": [
           {
            "name": "Zona 8",
            "count": 1
           },
           {
            "name": "Zona 7",
            "count": 1
           },
           {
            "name": "3 others",
            "count": 3
           }
          ]
         }
        },
        {
         "name": "Provincia",
         "dtype": "object",
         "stats": {
          "unique_count": 5,
          "nan_count": 0,
          "categories": [
           {
            "name": "GUAYAS",
            "count": 1
           },
           {
            "name": "LOJA",
            "count": 1
           },
           {
            "name": "3 others",
            "count": 3
           }
          ]
         }
        },
        {
         "name": "Cod_Provincia",
         "dtype": "int64",
         "stats": {
          "unique_count": 5,
          "nan_count": 0,
          "min": "2",
          "max": "16",
          "histogram": [
           {
            "bin_start": 2,
            "bin_end": 3.4,
            "count": 1
           },
           {
            "bin_start": 3.4,
            "bin_end": 4.8,
            "count": 0
           },
           {
            "bin_start": 4.8,
            "bin_end": 6.199999999999999,
            "count": 0
           },
           {
            "bin_start": 6.199999999999999,
            "bin_end": 7.6,
            "count": 0
           },
           {
            "bin_start": 7.6,
            "bin_end": 9,
            "count": 0
           },
           {
            "bin_start": 9,
            "bin_end": 10.399999999999999,
            "count": 1
           },
           {
            "bin_start": 10.399999999999999,
            "bin_end": 11.799999999999999,
            "count": 1
           },
           {
            "bin_start": 11.799999999999999,
            "bin_end": 13.2,
            "count": 0
           },
           {
            "bin_start": 13.2,
            "bin_end": 14.6,
            "count": 1
           },
           {
            "bin_start": 14.6,
            "bin_end": 16,
            "count": 1
           }
          ]
         }
        },
        {
         "name": "Canton",
         "dtype": "object",
         "stats": {
          "unique_count": 5,
          "nan_count": 0,
          "categories": [
           {
            "name": "GUAYAQUIL",
            "count": 1
           },
           {
            "name": "LOJA",
            "count": 1
           },
           {
            "name": "3 others",
            "count": 3
           }
          ]
         }
        },
        {
         "name": "Cod_Canton",
         "dtype": "int64",
         "stats": {
          "unique_count": 5,
          "nan_count": 0,
          "min": "203",
          "max": "1601",
          "histogram": [
           {
            "bin_start": 203,
            "bin_end": 342.8,
            "count": 1
           },
           {
            "bin_start": 342.8,
            "bin_end": 482.6,
            "count": 0
           },
           {
            "bin_start": 482.6,
            "bin_end": 622.4000000000001,
            "count": 0
           },
           {
            "bin_start": 622.4000000000001,
            "bin_end": 762.2,
            "count": 0
           },
           {
            "bin_start": 762.2,
            "bin_end": 902,
            "count": 1
           },
           {
            "bin_start": 902,
            "bin_end": 1041.8000000000002,
            "count": 0
           },
           {
            "bin_start": 1041.8000000000002,
            "bin_end": 1181.6000000000001,
            "count": 1
           },
           {
            "bin_start": 1181.6000000000001,
            "bin_end": 1321.4,
            "count": 0
           },
           {
            "bin_start": 1321.4,
            "bin_end": 1461.2,
            "count": 1
           },
           {
            "bin_start": 1461.2,
            "bin_end": 1601,
            "count": 1
           }
          ]
         }
        },
        {
         "name": "Parroquia",
         "dtype": "object",
         "stats": {
          "unique_count": 5,
          "nan_count": 0,
          "categories": [
           {
            "name": "FEBRES CORDERO",
            "count": 1
           },
           {
            "name": "CHUQUIRIBAMBA",
            "count": 1
           },
           {
            "name": "3 others",
            "count": 3
           }
          ]
         }
        },
        {
         "name": "Cod_Parroquia",
         "dtype": "int64",
         "stats": {
          "unique_count": 5,
          "nan_count": 0,
          "min": "20355",
          "max": "160162",
          "histogram": [
           {
            "bin_start": 20355,
            "bin_end": 34335.7,
            "count": 1
           },
           {
            "bin_start": 34335.7,
            "bin_end": 48316.4,
            "count": 0
           },
           {
            "bin_start": 48316.4,
            "bin_end": 62297.100000000006,
            "count": 0
           },
           {
            "bin_start": 62297.100000000006,
            "bin_end": 76277.8,
            "count": 0
           },
           {
            "bin_start": 76277.8,
            "bin_end": 90258.5,
            "count": 1
           },
           {
            "bin_start": 90258.5,
            "bin_end": 104239.20000000001,
            "count": 0
           },
           {
            "bin_start": 104239.20000000001,
            "bin_end": 118219.90000000001,
            "count": 1
           },
           {
            "bin_start": 118219.90000000001,
            "bin_end": 132200.6,
            "count": 0
           },
           {
            "bin_start": 132200.6,
            "bin_end": 146181.3,
            "count": 1
           },
           {
            "bin_start": 146181.3,
            "bin_end": 160162,
            "count": 1
           }
          ]
         }
        },
        {
         "name": "Nombre_Institucion",
         "dtype": "object",
         "stats": {
          "unique_count": 5,
          "nan_count": 0,
          "categories": [
           {
            "name": "ESCUELA DE EDUCACION BASICA MARIA PEREGRINA",
            "count": 1
           },
           {
            "name": "COLEGIO DE BACHILLERATO SAN VICENTE FERRER",
            "count": 1
           },
           {
            "name": "3 others",
            "count": 3
           }
          ]
         }
        },
        {
         "name": "Codigo_Institucion",
         "dtype": "object",
         "stats": {
          "unique_count": 5,
          "nan_count": 0,
          "categories": [
           {
            "name": "09H00293",
            "count": 1
           },
           {
            "name": "11H00310",
            "count": 1
           },
           {
            "name": "3 others",
            "count": 3
           }
          ]
         }
        },
        {
         "name": "Escolarizacion",
         "dtype": "object",
         "stats": {
          "unique_count": 1,
          "nan_count": 0,
          "categories": [
           {
            "name": "Escolarizada",
            "count": 5
           }
          ]
         }
        },
        {
         "name": "Tipo_Educacion",
         "dtype": "object",
         "stats": {
          "unique_count": 1,
          "nan_count": 0,
          "categories": [
           {
            "name": "Educación Regular",
            "count": 5
           }
          ]
         }
        },
        {
         "name": "Sostenimiento",
         "dtype": "object",
         "stats": {
          "unique_count": 3,
          "nan_count": 0,
          "categories": [
           {
            "name": "Fiscomisional",
            "count": 2
           },
           {
            "name": "Fiscal",
            "count": 2
           },
           {
            "name": "Particular",
            "count": 1
           }
          ]
         }
        },
        {
         "name": "Area",
         "dtype": "object",
         "stats": {
          "unique_count": 2,
          "nan_count": 0,
          "categories": [
           {
            "name": "RuralINEC",
            "count": 4
           },
           {
            "name": "UrbanaINEC",
            "count": 1
           }
          ]
         }
        },
        {
         "name": "Regimen_Escolar",
         "dtype": "object",
         "stats": {
          "unique_count": 2,
          "nan_count": 0,
          "categories": [
           {
            "name": "Sierra",
            "count": 3
           },
           {
            "name": "Costa",
            "count": 2
           }
          ]
         }
        },
        {
         "name": "Jurisdiccion",
         "dtype": "object",
         "stats": {
          "unique_count": 3,
          "nan_count": 0,
          "categories": [
           {
            "name": "Intercultural",
            "count": 3
           },
           {
            "name": "Intercultural   ",
            "count": 1
           },
           {
            "name": "Intercultural Bilingüe",
            "count": 1
           }
          ]
         }
        },
        {
         "name": "Modallidad",
         "dtype": "object",
         "stats": {
          "unique_count": 1,
          "nan_count": 0,
          "categories": [
           {
            "name": "Presencial",
            "count": 5
           }
          ]
         }
        },
        {
         "name": "Jornada",
         "dtype": "object",
         "stats": {
          "unique_count": 1,
          "nan_count": 0,
          "categories": [
           {
            "name": "Matutina",
            "count": 5
           }
          ]
         }
        },
        {
         "name": "Acceso_Edificio",
         "dtype": "object",
         "stats": {
          "unique_count": 1,
          "nan_count": 0,
          "categories": [
           {
            "name": "Terrestre",
            "count": 5
           }
          ]
         }
        },
        {
         "name": "Total_estudiantes",
         "dtype": "int64",
         "stats": {
          "unique_count": 5,
          "nan_count": 0,
          "min": "6",
          "max": "473",
          "histogram": [
           {
            "bin_start": 6,
            "bin_end": 52.7,
            "count": 2
           },
           {
            "bin_start": 52.7,
            "bin_end": 99.4,
            "count": 1
           },
           {
            "bin_start": 99.4,
            "bin_end": 146.10000000000002,
            "count": 0
           },
           {
            "bin_start": 146.10000000000002,
            "bin_end": 192.8,
            "count": 0
           },
           {
            "bin_start": 192.8,
            "bin_end": 239.5,
            "count": 1
           },
           {
            "bin_start": 239.5,
            "bin_end": 286.20000000000005,
            "count": 0
           },
           {
            "bin_start": 286.20000000000005,
            "bin_end": 332.90000000000003,
            "count": 0
           },
           {
            "bin_start": 332.90000000000003,
            "bin_end": 379.6,
            "count": 0
           },
           {
            "bin_start": 379.6,
            "bin_end": 426.3,
            "count": 0
           },
           {
            "bin_start": 426.3,
            "bin_end": 473,
            "count": 1
           }
          ]
         }
        },
        {
         "name": "Promovidos",
         "dtype": "int64",
         "stats": {
          "unique_count": 5,
          "nan_count": 0,
          "min": "6",
          "max": "414",
          "histogram": [
           {
            "bin_start": 6,
            "bin_end": 46.8,
            "count": 2
           },
           {
            "bin_start": 46.8,
            "bin_end": 87.6,
            "count": 1
           },
           {
            "bin_start": 87.6,
            "bin_end": 128.39999999999998,
            "count": 0
           },
           {
            "bin_start": 128.39999999999998,
            "bin_end": 169.2,
            "count": 0
           },
           {
            "bin_start": 169.2,
            "bin_end": 210,
            "count": 1
           },
           {
            "bin_start": 210,
            "bin_end": 250.79999999999998,
            "count": 0
           },
           {
            "bin_start": 250.79999999999998,
            "bin_end": 291.59999999999997,
            "count": 0
           },
           {
            "bin_start": 291.59999999999997,
            "bin_end": 332.4,
            "count": 0
           },
           {
            "bin_start": 332.4,
            "bin_end": 373.2,
            "count": 0
           },
           {
            "bin_start": 373.2,
            "bin_end": 414,
            "count": 1
           }
          ]
         }
        },
        {
         "name": "No promovidos",
         "dtype": "int64",
         "stats": {
          "unique_count": 3,
          "nan_count": 0,
          "min": "0",
          "max": "52",
          "histogram": [
           {
            "bin_start": 0,
            "bin_end": 5.2,
            "count": 4
           },
           {
            "bin_start": 5.2,
            "bin_end": 10.4,
            "count": 0
           },
           {
            "bin_start": 10.4,
            "bin_end": 15.600000000000001,
            "count": 0
           },
           {
            "bin_start": 15.600000000000001,
            "bin_end": 20.8,
            "count": 0
           },
           {
            "bin_start": 20.8,
            "bin_end": 26,
            "count": 0
           },
           {
            "bin_start": 26,
            "bin_end": 31.200000000000003,
            "count": 0
           },
           {
            "bin_start": 31.200000000000003,
            "bin_end": 36.4,
            "count": 0
           },
           {
            "bin_start": 36.4,
            "bin_end": 41.6,
            "count": 0
           },
           {
            "bin_start": 41.6,
            "bin_end": 46.800000000000004,
            "count": 0
           },
           {
            "bin_start": 46.800000000000004,
            "bin_end": 52,
            "count": 1
           }
          ]
         }
        },
        {
         "name": "Abandono",
         "dtype": "int64",
         "stats": {
          "unique_count": 4,
          "nan_count": 0,
          "min": "0",
          "max": "7",
          "histogram": [
           {
            "bin_start": 0,
            "bin_end": 0.7,
            "count": 1
           },
           {
            "bin_start": 0.7,
            "bin_end": 1.4,
            "count": 0
           },
           {
            "bin_start": 1.4,
            "bin_end": 2.0999999999999996,
            "count": 2
           },
           {
            "bin_start": 2.0999999999999996,
            "bin_end": 2.8,
            "count": 0
           },
           {
            "bin_start": 2.8,
            "bin_end": 3.5,
            "count": 1
           },
           {
            "bin_start": 3.5,
            "bin_end": 4.199999999999999,
            "count": 0
           },
           {
            "bin_start": 4.199999999999999,
            "bin_end": 4.8999999999999995,
            "count": 0
           },
           {
            "bin_start": 4.8999999999999995,
            "bin_end": 5.6,
            "count": 0
           },
           {
            "bin_start": 5.6,
            "bin_end": 6.3,
            "count": 0
           },
           {
            "bin_start": 6.3,
            "bin_end": 7,
            "count": 1
           }
          ]
         }
        },
        {
         "name": "Pais",
         "dtype": "object",
         "stats": {
          "unique_count": 1,
          "nan_count": 0,
          "categories": [
           {
            "name": "ECUADOR",
            "count": 5
           }
          ]
         }
        },
        {
         "name": "_deepnote_index_column",
         "dtype": "int64"
        }
       ],
       "rows": [
        {
         "Clave_primaria": "09H002932019-2020",
         "Clave_periodo": "2019-2020",
         "Periodo": "2019-2020 Fin",
         "Zona": "Zona 8",
         "Provincia": "GUAYAS",
         "Cod_Provincia": 9,
         "Canton": "GUAYAQUIL",
         "Cod_Canton": 901,
         "Parroquia": "FEBRES CORDERO",
         "Cod_Parroquia": 90104,
         "Nombre_Institucion": "ESCUELA DE EDUCACION BASICA MARIA PEREGRINA",
         "Codigo_Institucion": "09H00293",
         "Escolarizacion": "Escolarizada",
         "Tipo_Educacion": "Educación Regular",
         "Sostenimiento": "Particular",
         "Area": "UrbanaINEC",
         "Regimen_Escolar": "Costa",
         "Jurisdiccion": "Intercultural",
         "Modallidad": "Presencial",
         "Jornada": "Matutina",
         "Acceso_Edificio": "Terrestre",
         "Total_estudiantes": 79,
         "Promovidos": 77,
         "No promovidos": 0,
         "Abandono": 2,
         "Pais": "ECUADOR",
         "_deepnote_index_column": 210060
        },
        {
         "Clave_primaria": "11H003102013-2014",
         "Clave_periodo": "2013-2014",
         "Periodo": "2013-2014 Fin",
         "Zona": "Zona 7",
         "Provincia": "LOJA",
         "Cod_Provincia": 11,
         "Canton": "LOJA",
         "Cod_Canton": 1101,
         "Parroquia": "CHUQUIRIBAMBA",
         "Cod_Parroquia": 110152,
         "Nombre_Institucion": "COLEGIO DE BACHILLERATO SAN VICENTE FERRER",
         "Codigo_Institucion": "11H00310",
         "Escolarizacion": "Escolarizada",
         "Tipo_Educacion": "Educación Regular",
         "Sostenimiento": "Fiscomisional",
         "Area": "RuralINEC",
         "Regimen_Escolar": "Sierra",
         "Jurisdiccion": "Intercultural",
         "Modallidad": "Presencial",
         "Jornada": "Matutina",
         "Acceso_Edificio": "Terrestre",
         "Total_estudiantes": 196,
         "Promovidos": 193,
         "No promovidos": 1,
         "Abandono": 2,
         "Pais": "ECUADOR",
         "_deepnote_index_column": 110386
        },
        {
         "Clave_primaria": "02H004072020-2021",
         "Clave_periodo": "2020-2021",
         "Periodo": "2020-2021 Fin",
         "Zona": "Zona 5",
         "Provincia": "BOLIVAR",
         "Cod_Provincia": 2,
         "Canton": "CHIMBO",
         "Cod_Canton": 203,
         "Parroquia": "TELIMBELA",
         "Cod_Parroquia": 20355,
         "Nombre_Institucion": "EEB JOSE DE ANTEPARA",
         "Codigo_Institucion": "02H00407",
         "Escolarizacion": "Escolarizada",
         "Tipo_Educacion": "Educación Regular",
         "Sostenimiento": "Fiscal",
         "Area": "RuralINEC",
         "Regimen_Escolar": "Costa",
         "Jurisdiccion": "Intercultural   ",
         "Modallidad": "Presencial",
         "Jornada": "Matutina",
         "Acceso_Edificio": "Terrestre",
         "Total_estudiantes": 6,
         "Promovidos": 6,
         "No promovidos": 0,
         "Abandono": 0,
         "Pais": "ECUADOR",
         "_deepnote_index_column": 223005
        },
        {
         "Clave_primaria": "16H001142018-2019",
         "Clave_periodo": "2018-2019",
         "Periodo": "2018-2019 Fin",
         "Zona": "Zona 3",
         "Provincia": "PASTAZA",
         "Cod_Provincia": 16,
         "Canton": "PASTAZA",
         "Cod_Canton": 1601,
         "Parroquia": "SIMON BOLIVAR",
         "Cod_Parroquia": 160162,
         "Nombre_Institucion": "UNIDAD EDUCATIVA MUSHULLACTA",
         "Codigo_Institucion": "16H00114",
         "Escolarizacion": "Escolarizada",
         "Tipo_Educacion": "Educación Regular",
         "Sostenimiento": "Fiscal",
         "Area": "RuralINEC",
         "Regimen_Escolar": "Sierra",
         "Jurisdiccion": "Intercultural",
         "Modallidad": "Presencial",
         "Jornada": "Matutina",
         "Acceso_Edificio": "Terrestre",
         "Total_estudiantes": 473,
         "Promovidos": 414,
         "No promovidos": 52,
         "Abandono": 7,
         "Pais": "ECUADOR",
         "_deepnote_index_column": 201921
        },
        {
         "Clave_primaria": "14B000812012-2013",
         "Clave_periodo": "2012-2013",
         "Periodo": "2012-2013 Fin",
         "Zona": "Zona 6",
         "Provincia": "MORONA SANTIAGO",
         "Cod_Provincia": 14,
         "Canton": "GUALAQUIZA",
         "Cod_Canton": 1402,
         "Parroquia": "BOMBOIZA",
         "Cod_Parroquia": 140253,
         "Nombre_Institucion": "TSANTSA",
         "Codigo_Institucion": "14B00081",
         "Escolarizacion": "Escolarizada",
         "Tipo_Educacion": "Educación Regular",
         "Sostenimiento": "Fiscomisional",
         "Area": "RuralINEC",
         "Regimen_Escolar": "Sierra",
         "Jurisdiccion": "Intercultural Bilingüe",
         "Modallidad": "Presencial",
         "Jornada": "Matutina",
         "Acceso_Edificio": "Terrestre",
         "Total_estudiantes": 34,
         "Promovidos": 30,
         "No promovidos": 1,
         "Abandono": 3,
         "Pais": "ECUADOR",
         "_deepnote_index_column": 93813
        }
       ]
      },
      "text/plain": "           Clave_primaria Clave_periodo        Periodo    Zona  \\\n210060  09H002932019-2020     2019-2020  2019-2020 Fin  Zona 8   \n110386  11H003102013-2014     2013-2014  2013-2014 Fin  Zona 7   \n223005  02H004072020-2021     2020-2021  2020-2021 Fin  Zona 5   \n201921  16H001142018-2019     2018-2019  2018-2019 Fin  Zona 3   \n93813   14B000812012-2013     2012-2013  2012-2013 Fin  Zona 6   \n\n              Provincia  Cod_Provincia      Canton  Cod_Canton  \\\n210060           GUAYAS              9   GUAYAQUIL         901   \n110386             LOJA             11        LOJA        1101   \n223005          BOLIVAR              2      CHIMBO         203   \n201921          PASTAZA             16     PASTAZA        1601   \n93813   MORONA SANTIAGO             14  GUALAQUIZA        1402   \n\n             Parroquia  Cod_Parroquia  ... Regimen_Escolar  \\\n210060  FEBRES CORDERO          90104  ...           Costa   \n110386   CHUQUIRIBAMBA         110152  ...          Sierra   \n223005       TELIMBELA          20355  ...           Costa   \n201921   SIMON BOLIVAR         160162  ...          Sierra   \n93813         BOMBOIZA         140253  ...          Sierra   \n\n                  Jurisdiccion  Modallidad   Jornada Acceso_Edificio  \\\n210060           Intercultural  Presencial  Matutina       Terrestre   \n110386           Intercultural  Presencial  Matutina       Terrestre   \n223005        Intercultural     Presencial  Matutina       Terrestre   \n201921           Intercultural  Presencial  Matutina       Terrestre   \n93813   Intercultural Bilingüe  Presencial  Matutina       Terrestre   \n\n       Total_estudiantes Promovidos No promovidos Abandono     Pais  \n210060                79         77             0        2  ECUADOR  \n110386               196        193             1        2  ECUADOR  \n223005                 6          6             0        0  ECUADOR  \n201921               473        414            52        7  ECUADOR  \n93813                 34         30             1        3  ECUADOR  \n\n[5 rows x 26 columns]",
      "text/html": "<div>\n<style scoped>\n    .dataframe tbody tr th:only-of-type {\n        vertical-align: middle;\n    }\n\n    .dataframe tbody tr th {\n        vertical-align: top;\n    }\n\n    .dataframe thead th {\n        text-align: right;\n    }\n</style>\n<table border=\"1\" class=\"dataframe\">\n  <thead>\n    <tr style=\"text-align: right;\">\n      <th></th>\n      <th>Clave_primaria</th>\n      <th>Clave_periodo</th>\n      <th>Periodo</th>\n      <th>Zona</th>\n      <th>Provincia</th>\n      <th>Cod_Provincia</th>\n      <th>Canton</th>\n      <th>Cod_Canton</th>\n      <th>Parroquia</th>\n      <th>Cod_Parroquia</th>\n      <th>...</th>\n      <th>Regimen_Escolar</th>\n      <th>Jurisdiccion</th>\n      <th>Modallidad</th>\n      <th>Jornada</th>\n      <th>Acceso_Edificio</th>\n      <th>Total_estudiantes</th>\n      <th>Promovidos</th>\n      <th>No promovidos</th>\n      <th>Abandono</th>\n      <th>Pais</th>\n    </tr>\n  </thead>\n  <tbody>\n    <tr>\n      <th>210060</th>\n      <td>09H002932019-2020</td>\n      <td>2019-2020</td>\n      <td>2019-2020 Fin</td>\n      <td>Zona 8</td>\n      <td>GUAYAS</td>\n      <td>9</td>\n      <td>GUAYAQUIL</td>\n      <td>901</td>\n      <td>FEBRES CORDERO</td>\n      <td>90104</td>\n      <td>...</td>\n      <td>Costa</td>\n      <td>Intercultural</td>\n      <td>Presencial</td>\n      <td>Matutina</td>\n      <td>Terrestre</td>\n      <td>79</td>\n      <td>77</td>\n      <td>0</td>\n      <td>2</td>\n      <td>ECUADOR</td>\n    </tr>\n    <tr>\n      <th>110386</th>\n      <td>11H003102013-2014</td>\n      <td>2013-2014</td>\n      <td>2013-2014 Fin</td>\n      <td>Zona 7</td>\n      <td>LOJA</td>\n      <td>11</td>\n      <td>LOJA</td>\n      <td>1101</td>\n      <td>CHUQUIRIBAMBA</td>\n      <td>110152</td>\n      <td>...</td>\n      <td>Sierra</td>\n      <td>Intercultural</td>\n      <td>Presencial</td>\n      <td>Matutina</td>\n      <td>Terrestre</td>\n      <td>196</td>\n      <td>193</td>\n      <td>1</td>\n      <td>2</td>\n      <td>ECUADOR</td>\n    </tr>\n    <tr>\n      <th>223005</th>\n      <td>02H004072020-2021</td>\n      <td>2020-2021</td>\n      <td>2020-2021 Fin</td>\n      <td>Zona 5</td>\n      <td>BOLIVAR</td>\n      <td>2</td>\n      <td>CHIMBO</td>\n      <td>203</td>\n      <td>TELIMBELA</td>\n      <td>20355</td>\n      <td>...</td>\n      <td>Costa</td>\n      <td>Intercultural</td>\n      <td>Presencial</td>\n      <td>Matutina</td>\n      <td>Terrestre</td>\n      <td>6</td>\n      <td>6</td>\n      <td>0</td>\n      <td>0</td>\n      <td>ECUADOR</td>\n    </tr>\n    <tr>\n      <th>201921</th>\n      <td>16H001142018-2019</td>\n      <td>2018-2019</td>\n      <td>2018-2019 Fin</td>\n      <td>Zona 3</td>\n      <td>PASTAZA</td>\n      <td>16</td>\n      <td>PASTAZA</td>\n      <td>1601</td>\n      <td>SIMON BOLIVAR</td>\n      <td>160162</td>\n      <td>...</td>\n      <td>Sierra</td>\n      <td>Intercultural</td>\n      <td>Presencial</td>\n      <td>Matutina</td>\n      <td>Terrestre</td>\n      <td>473</td>\n      <td>414</td>\n      <td>52</td>\n      <td>7</td>\n      <td>ECUADOR</td>\n    </tr>\n    <tr>\n      <th>93813</th>\n      <td>14B000812012-2013</td>\n      <td>2012-2013</td>\n      <td>2012-2013 Fin</td>\n      <td>Zona 6</td>\n      <td>MORONA SANTIAGO</td>\n      <td>14</td>\n      <td>GUALAQUIZA</td>\n      <td>1402</td>\n      <td>BOMBOIZA</td>\n      <td>140253</td>\n      <td>...</td>\n      <td>Sierra</td>\n      <td>Intercultural Bilingüe</td>\n      <td>Presencial</td>\n      <td>Matutina</td>\n      <td>Terrestre</td>\n      <td>34</td>\n      <td>30</td>\n      <td>1</td>\n      <td>3</td>\n      <td>ECUADOR</td>\n    </tr>\n  </tbody>\n</table>\n<p>5 rows × 26 columns</p>\n</div>"
     },
     "metadata": {}
    }
   ]
  },
  {
   "cell_type": "code",
   "metadata": {
    "tags": [],
    "cell_id": "00014-63292a34-5720-4507-bc93-c1eec555f375",
    "deepnote_to_be_reexecuted": false,
    "source_hash": "5f6e6b7e",
    "execution_start": 1640126756885,
    "execution_millis": 238,
    "deepnote_cell_type": "code"
   },
   "source": "education_ec.info()",
   "execution_count": 11,
   "outputs": [
    {
     "name": "stdout",
     "text": "<class 'pandas.core.frame.DataFrame'>\nRangeIndex: 237963 entries, 0 to 237962\nData columns (total 26 columns):\n #   Column              Non-Null Count   Dtype \n---  ------              --------------   ----- \n 0   Clave_primaria      237963 non-null  object\n 1   Clave_periodo       237963 non-null  object\n 2   Periodo             237963 non-null  object\n 3   Zona                237963 non-null  object\n 4   Provincia           237963 non-null  object\n 5   Cod_Provincia       237963 non-null  int64 \n 6   Canton              237963 non-null  object\n 7   Cod_Canton          237963 non-null  int64 \n 8   Parroquia           237963 non-null  object\n 9   Cod_Parroquia       237963 non-null  int64 \n 10  Nombre_Institucion  237963 non-null  object\n 11  Codigo_Institucion  237963 non-null  object\n 12  Escolarizacion      237963 non-null  object\n 13  Tipo_Educacion      237963 non-null  object\n 14  Sostenimiento       237963 non-null  object\n 15  Area                237963 non-null  object\n 16  Regimen_Escolar     237963 non-null  object\n 17  Jurisdiccion        237963 non-null  object\n 18  Modallidad          237963 non-null  object\n 19  Jornada             237963 non-null  object\n 20  Acceso_Edificio     237963 non-null  object\n 21  Total_estudiantes   237963 non-null  int64 \n 22  Promovidos          237963 non-null  int64 \n 23  No promovidos       237963 non-null  int64 \n 24  Abandono            237963 non-null  int64 \n 25  Pais                237963 non-null  object\ndtypes: int64(7), object(19)\nmemory usage: 47.2+ MB\n",
     "output_type": "stream",
     "data": {}
    }
   ]
  },
  {
   "cell_type": "markdown",
   "source": "El dataset es bastante extenso. Se eliminarán todas las columnas no relevantes para el análisis.",
   "metadata": {
    "tags": [],
    "cell_id": "00016-6365c445-bc86-462f-8a46-69214afe9e46",
    "deepnote_cell_type": "markdown"
   }
  },
  {
   "cell_type": "code",
   "metadata": {
    "tags": [],
    "cell_id": "00017-6c8942bf-6ec9-4a98-880e-f9ccc03fce12",
    "deepnote_to_be_reexecuted": false,
    "source_hash": "cbb0c6c5",
    "execution_start": 1640126757109,
    "execution_millis": 16307,
    "deepnote_cell_type": "code"
   },
   "source": "columns = [\n    \"Clave_primaria\",\n    \"Clave_periodo\",\n    \"Zona\",\n    \"Cod_Provincia\",\n    \"Canton\",\n    \"Cod_Canton\",\n    \"Parroquia\",\n    \"Cod_Parroquia\",\n    \"Nombre_Institucion\",\n    \"Codigo_Institucion\",\n    \"Escolarizacion\",\n    \"Tipo_Educacion\",\n    \"Regimen_Escolar\",\n    \"Jurisdiccion\",\n    \"Acceso_Edificio\",\n    \"Pais\",\n]",
   "execution_count": 12,
   "outputs": []
  },
  {
   "cell_type": "code",
   "metadata": {
    "tags": [],
    "cell_id": "00017-17c51cdb-8ea0-4778-bd06-00626f716a9c",
    "deepnote_to_be_reexecuted": false,
    "source_hash": "b9ea1526",
    "execution_start": 1640126757160,
    "execution_millis": 31,
    "deepnote_cell_type": "code"
   },
   "source": "education_ec.drop(columns=columns, inplace=True)",
   "execution_count": 13,
   "outputs": []
  },
  {
   "cell_type": "code",
   "metadata": {
    "tags": [],
    "cell_id": "00019-6a227b26-cd07-4fc4-969c-647713c66fc8",
    "deepnote_to_be_reexecuted": false,
    "source_hash": "14229e8d",
    "execution_start": 1640126757192,
    "execution_millis": 63,
    "deepnote_cell_type": "code"
   },
   "source": "education_ec.sample(5)",
   "execution_count": 14,
   "outputs": [
    {
     "output_type": "execute_result",
     "execution_count": 14,
     "data": {
      "application/vnd.deepnote.dataframe.v3+json": {
       "column_count": 10,
       "row_count": 5,
       "columns": [
        {
         "name": "Periodo",
         "dtype": "object",
         "stats": {
          "unique_count": 4,
          "nan_count": 0,
          "categories": [
           {
            "name": "2020-2021 Fin",
            "count": 2
           },
           {
            "name": "2016-2017 Fin",
            "count": 1
           },
           {
            "name": "2 others",
            "count": 2
           }
          ]
         }
        },
        {
         "name": "Provincia",
         "dtype": "object",
         "stats": {
          "unique_count": 5,
          "nan_count": 0,
          "categories": [
           {
            "name": "IMBABURA",
            "count": 1
           },
           {
            "name": "ESMERALDAS",
            "count": 1
           },
           {
            "name": "3 others",
            "count": 3
           }
          ]
         }
        },
        {
         "name": "Sostenimiento",
         "dtype": "object",
         "stats": {
          "unique_count": 3,
          "nan_count": 0,
          "categories": [
           {
            "name": "Particular",
            "count": 2
           },
           {
            "name": "Fiscomisional",
            "count": 2
           },
           {
            "name": "Fiscal",
            "count": 1
           }
          ]
         }
        },
        {
         "name": "Area",
         "dtype": "object",
         "stats": {
          "unique_count": 2,
          "nan_count": 0,
          "categories": [
           {
            "name": "UrbanaINEC",
            "count": 3
           },
           {
            "name": "RuralINEC",
            "count": 2
           }
          ]
         }
        },
        {
         "name": "Modallidad",
         "dtype": "object",
         "stats": {
          "unique_count": 1,
          "nan_count": 0,
          "categories": [
           {
            "name": "Presencial",
            "count": 5
           }
          ]
         }
        },
        {
         "name": "Jornada",
         "dtype": "object",
         "stats": {
          "unique_count": 1,
          "nan_count": 0,
          "categories": [
           {
            "name": "Matutina",
            "count": 5
           }
          ]
         }
        },
        {
         "name": "Total_estudiantes",
         "dtype": "int64",
         "stats": {
          "unique_count": 5,
          "nan_count": 0,
          "min": "12",
          "max": "901",
          "histogram": [
           {
            "bin_start": 12,
            "bin_end": 100.9,
            "count": 3
           },
           {
            "bin_start": 100.9,
            "bin_end": 189.8,
            "count": 0
           },
           {
            "bin_start": 189.8,
            "bin_end": 278.70000000000005,
            "count": 1
           },
           {
            "bin_start": 278.70000000000005,
            "bin_end": 367.6,
            "count": 0
           },
           {
            "bin_start": 367.6,
            "bin_end": 456.5,
            "count": 0
           },
           {
            "bin_start": 456.5,
            "bin_end": 545.4000000000001,
            "count": 0
           },
           {
            "bin_start": 545.4000000000001,
            "bin_end": 634.3000000000001,
            "count": 0
           },
           {
            "bin_start": 634.3000000000001,
            "bin_end": 723.2,
            "count": 0
           },
           {
            "bin_start": 723.2,
            "bin_end": 812.1,
            "count": 0
           },
           {
            "bin_start": 812.1,
            "bin_end": 901,
            "count": 1
           }
          ]
         }
        },
        {
         "name": "Promovidos",
         "dtype": "int64",
         "stats": {
          "unique_count": 5,
          "nan_count": 0,
          "min": "12",
          "max": "855",
          "histogram": [
           {
            "bin_start": 12,
            "bin_end": 96.3,
            "count": 3
           },
           {
            "bin_start": 96.3,
            "bin_end": 180.6,
            "count": 0
           },
           {
            "bin_start": 180.6,
            "bin_end": 264.9,
            "count": 1
           },
           {
            "bin_start": 264.9,
            "bin_end": 349.2,
            "count": 0
           },
           {
            "bin_start": 349.2,
            "bin_end": 433.5,
            "count": 0
           },
           {
            "bin_start": 433.5,
            "bin_end": 517.8,
            "count": 0
           },
           {
            "bin_start": 517.8,
            "bin_end": 602.1,
            "count": 0
           },
           {
            "bin_start": 602.1,
            "bin_end": 686.4,
            "count": 0
           },
           {
            "bin_start": 686.4,
            "bin_end": 770.6999999999999,
            "count": 0
           },
           {
            "bin_start": 770.6999999999999,
            "bin_end": 855,
            "count": 1
           }
          ]
         }
        },
        {
         "name": "No promovidos",
         "dtype": "int64",
         "stats": {
          "unique_count": 1,
          "nan_count": 0,
          "min": "0",
          "max": "0",
          "histogram": [
           {
            "bin_start": -0.5,
            "bin_end": -0.4,
            "count": 0
           },
           {
            "bin_start": -0.4,
            "bin_end": -0.3,
            "count": 0
           },
           {
            "bin_start": -0.3,
            "bin_end": -0.19999999999999996,
            "count": 0
           },
           {
            "bin_start": -0.19999999999999996,
            "bin_end": -0.09999999999999998,
            "count": 0
           },
           {
            "bin_start": -0.09999999999999998,
            "bin_end": 0,
            "count": 0
           },
           {
            "bin_start": 0,
            "bin_end": 0.10000000000000009,
            "count": 5
           },
           {
            "bin_start": 0.10000000000000009,
            "bin_end": 0.20000000000000007,
            "count": 0
           },
           {
            "bin_start": 0.20000000000000007,
            "bin_end": 0.30000000000000004,
            "count": 0
           },
           {
            "bin_start": 0.30000000000000004,
            "bin_end": 0.4,
            "count": 0
           },
           {
            "bin_start": 0.4,
            "bin_end": 0.5,
            "count": 0
           }
          ]
         }
        },
        {
         "name": "Abandono",
         "dtype": "int64",
         "stats": {
          "unique_count": 3,
          "nan_count": 0,
          "min": "0",
          "max": "46",
          "histogram": [
           {
            "bin_start": 0,
            "bin_end": 4.6,
            "count": 3
           },
           {
            "bin_start": 4.6,
            "bin_end": 9.2,
            "count": 1
           },
           {
            "bin_start": 9.2,
            "bin_end": 13.799999999999999,
            "count": 0
           },
           {
            "bin_start": 13.799999999999999,
            "bin_end": 18.4,
            "count": 0
           },
           {
            "bin_start": 18.4,
            "bin_end": 23,
            "count": 0
           },
           {
            "bin_start": 23,
            "bin_end": 27.599999999999998,
            "count": 0
           },
           {
            "bin_start": 27.599999999999998,
            "bin_end": 32.199999999999996,
            "count": 0
           },
           {
            "bin_start": 32.199999999999996,
            "bin_end": 36.8,
            "count": 0
           },
           {
            "bin_start": 36.8,
            "bin_end": 41.4,
            "count": 0
           },
           {
            "bin_start": 41.4,
            "bin_end": 46,
            "count": 1
           }
          ]
         }
        },
        {
         "name": "_deepnote_index_column",
         "dtype": "int64"
        }
       ],
       "rows": [
        {
         "Periodo": "2016-2017 Fin",
         "Provincia": "IMBABURA",
         "Sostenimiento": "Fiscal",
         "Area": "RuralINEC",
         "Modallidad": "Presencial",
         "Jornada": "Matutina",
         "Total_estudiantes": 901,
         "Promovidos": 855,
         "No promovidos": 0,
         "Abandono": 46,
         "_deepnote_index_column": 164111
        },
        {
         "Periodo": "2020-2021 Fin",
         "Provincia": "ESMERALDAS",
         "Sostenimiento": "Particular",
         "Area": "UrbanaINEC",
         "Modallidad": "Presencial",
         "Jornada": "Matutina",
         "Total_estudiantes": 22,
         "Promovidos": 22,
         "No promovidos": 0,
         "Abandono": 0,
         "_deepnote_index_column": 225302
        },
        {
         "Periodo": "2019-2020 Fin",
         "Provincia": "PICHINCHA",
         "Sostenimiento": "Particular",
         "Area": "UrbanaINEC",
         "Modallidad": "Presencial",
         "Jornada": "Matutina",
         "Total_estudiantes": 27,
         "Promovidos": 21,
         "No promovidos": 0,
         "Abandono": 6,
         "_deepnote_index_column": 219747
        },
        {
         "Periodo": "2020-2021 Fin",
         "Provincia": "GUAYAS",
         "Sostenimiento": "Fiscomisional",
         "Area": "UrbanaINEC",
         "Modallidad": "Presencial",
         "Jornada": "Matutina",
         "Total_estudiantes": 233,
         "Promovidos": 233,
         "No promovidos": 0,
         "Abandono": 0,
         "_deepnote_index_column": 226793
        },
        {
         "Periodo": "2011-2012 Fin",
         "Provincia": "MORONA SANTIAGO",
         "Sostenimiento": "Fiscomisional",
         "Area": "RuralINEC",
         "Modallidad": "Presencial",
         "Jornada": "Matutina",
         "Total_estudiantes": 12,
         "Promovidos": 12,
         "No promovidos": 0,
         "Abandono": 0,
         "_deepnote_index_column": 69114
        }
       ]
      },
      "text/plain": "              Periodo        Provincia  Sostenimiento        Area  Modallidad  \\\n164111  2016-2017 Fin         IMBABURA         Fiscal   RuralINEC  Presencial   \n225302  2020-2021 Fin       ESMERALDAS     Particular  UrbanaINEC  Presencial   \n219747  2019-2020 Fin        PICHINCHA     Particular  UrbanaINEC  Presencial   \n226793  2020-2021 Fin           GUAYAS  Fiscomisional  UrbanaINEC  Presencial   \n69114   2011-2012 Fin  MORONA SANTIAGO  Fiscomisional   RuralINEC  Presencial   \n\n         Jornada  Total_estudiantes  Promovidos  No promovidos  Abandono  \n164111  Matutina                901         855              0        46  \n225302  Matutina                 22          22              0         0  \n219747  Matutina                 27          21              0         6  \n226793  Matutina                233         233              0         0  \n69114   Matutina                 12          12              0         0  ",
      "text/html": "<div>\n<style scoped>\n    .dataframe tbody tr th:only-of-type {\n        vertical-align: middle;\n    }\n\n    .dataframe tbody tr th {\n        vertical-align: top;\n    }\n\n    .dataframe thead th {\n        text-align: right;\n    }\n</style>\n<table border=\"1\" class=\"dataframe\">\n  <thead>\n    <tr style=\"text-align: right;\">\n      <th></th>\n      <th>Periodo</th>\n      <th>Provincia</th>\n      <th>Sostenimiento</th>\n      <th>Area</th>\n      <th>Modallidad</th>\n      <th>Jornada</th>\n      <th>Total_estudiantes</th>\n      <th>Promovidos</th>\n      <th>No promovidos</th>\n      <th>Abandono</th>\n    </tr>\n  </thead>\n  <tbody>\n    <tr>\n      <th>164111</th>\n      <td>2016-2017 Fin</td>\n      <td>IMBABURA</td>\n      <td>Fiscal</td>\n      <td>RuralINEC</td>\n      <td>Presencial</td>\n      <td>Matutina</td>\n      <td>901</td>\n      <td>855</td>\n      <td>0</td>\n      <td>46</td>\n    </tr>\n    <tr>\n      <th>225302</th>\n      <td>2020-2021 Fin</td>\n      <td>ESMERALDAS</td>\n      <td>Particular</td>\n      <td>UrbanaINEC</td>\n      <td>Presencial</td>\n      <td>Matutina</td>\n      <td>22</td>\n      <td>22</td>\n      <td>0</td>\n      <td>0</td>\n    </tr>\n    <tr>\n      <th>219747</th>\n      <td>2019-2020 Fin</td>\n      <td>PICHINCHA</td>\n      <td>Particular</td>\n      <td>UrbanaINEC</td>\n      <td>Presencial</td>\n      <td>Matutina</td>\n      <td>27</td>\n      <td>21</td>\n      <td>0</td>\n      <td>6</td>\n    </tr>\n    <tr>\n      <th>226793</th>\n      <td>2020-2021 Fin</td>\n      <td>GUAYAS</td>\n      <td>Fiscomisional</td>\n      <td>UrbanaINEC</td>\n      <td>Presencial</td>\n      <td>Matutina</td>\n      <td>233</td>\n      <td>233</td>\n      <td>0</td>\n      <td>0</td>\n    </tr>\n    <tr>\n      <th>69114</th>\n      <td>2011-2012 Fin</td>\n      <td>MORONA SANTIAGO</td>\n      <td>Fiscomisional</td>\n      <td>RuralINEC</td>\n      <td>Presencial</td>\n      <td>Matutina</td>\n      <td>12</td>\n      <td>12</td>\n      <td>0</td>\n      <td>0</td>\n    </tr>\n  </tbody>\n</table>\n</div>"
     },
     "metadata": {}
    }
   ]
  },
  {
   "cell_type": "markdown",
   "source": "### Exportar",
   "metadata": {
    "tags": [],
    "cell_id": "00018-f9feccc7-e5f5-42d9-8155-ae88eead55c3",
    "deepnote_cell_type": "markdown"
   }
  },
  {
   "cell_type": "code",
   "metadata": {
    "tags": [],
    "cell_id": "00019-b484984a-5a97-4d8a-91f9-10a7a038477c",
    "deepnote_to_be_reexecuted": false,
    "source_hash": "5069cdbb",
    "execution_start": 1640126757257,
    "execution_millis": 1043,
    "deepnote_cell_type": "code"
   },
   "source": "education_ec.to_csv('/work/covid-ec/data/processed/education_ec.csv', index=False)",
   "execution_count": 15,
   "outputs": []
  },
  {
   "cell_type": "markdown",
   "source": "<a style='text-decoration:none;line-height:16px;display:flex;color:#5B5B62;padding:10px;justify-content:end;' href='https://deepnote.com?utm_source=created-in-deepnote-cell&projectId=e7b048df-fc9b-4970-aa88-df153b270a6f' target=\"_blank\">\n<img alt='Created in deepnote.com' style='display:inline;max-height:16px;margin:0px;margin-right:7.5px;' src='data:image/svg+xml;base64,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' > </img>\nCreated in <span style='font-weight:600;margin-left:4px;'>Deepnote</span></a>",
   "metadata": {
    "tags": [],
    "created_in_deepnote_cell": true,
    "deepnote_cell_type": "markdown"
   }
  }
 ],
 "nbformat": 4,
 "nbformat_minor": 2,
 "metadata": {
  "orig_nbformat": 2,
  "deepnote": {
   "is_reactive": false
  },
  "deepnote_notebook_id": "92703c2b-dcd0-4172-a6bb-5ed065982cd8",
  "deepnote_execution_queue": []
 }
}