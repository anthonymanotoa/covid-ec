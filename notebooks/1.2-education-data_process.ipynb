{
 "cells": [
  {
   "cell_type": "markdown",
   "source": "# Procesamiento data educación\n",
   "metadata": {
    "tags": [],
    "cell_id": "00001-9a4e9ec1-2eb2-4868-a22d-5d60aa6cbf10",
    "deepnote_cell_type": "markdown"
   }
  },
  {
   "cell_type": "code",
   "metadata": {
    "tags": [],
    "cell_id": "00001-962d092e-4ca9-4c1a-9ae6-86c20fc1af95",
    "deepnote_to_be_reexecuted": false,
    "source_hash": "9b82ee11",
    "execution_start": 1640278171921,
    "execution_millis": 1,
    "deepnote_cell_type": "code"
   },
   "source": "import pandas as pd",
   "execution_count": 1,
   "outputs": []
  },
  {
   "cell_type": "markdown",
   "source": "## UNESCO duración de cierres dataset",
   "metadata": {
    "tags": [],
    "cell_id": "00002-1bd2ff5e-d25e-42a9-b91d-26b4d02232d7",
    "deepnote_cell_type": "markdown"
   }
  },
  {
   "cell_type": "code",
   "metadata": {
    "tags": [],
    "cell_id": "00003-3e0b7eaf-8bf2-4edd-99b2-8461973ab6aa",
    "deepnote_to_be_reexecuted": false,
    "source_hash": "22619fc0",
    "execution_start": 1640278171922,
    "execution_millis": 94,
    "deepnote_cell_type": "code"
   },
   "source": "monitoring_closures = pd.read_csv('/work/covid-ec/data/raw/monitoring_school_closures.csv')",
   "execution_count": 2,
   "outputs": []
  },
  {
   "cell_type": "code",
   "metadata": {
    "tags": [],
    "cell_id": "00004-61ab70f3-f7a4-4131-b66d-adf60259d818",
    "deepnote_to_be_reexecuted": false,
    "source_hash": "ba28e204",
    "execution_start": 1640278172071,
    "execution_millis": 44,
    "deepnote_table_state": {
     "pageSize": 10,
     "pageIndex": 0,
     "filters": [],
     "sortBy": []
    },
    "deepnote_table_loading": false,
    "deepnote_table_invalid": false,
    "deepnote_cell_type": "code"
   },
   "source": "monitoring_closures.info()",
   "execution_count": 3,
   "outputs": [
    {
     "name": "stdout",
     "text": "<class 'pandas.core.frame.DataFrame'>\nRangeIndex: 131040 entries, 0 to 131039\nData columns (total 5 columns):\n #   Column   Non-Null Count   Dtype  \n---  ------   --------------   -----  \n 0   Date     131040 non-null  object \n 1   ISO      131040 non-null  object \n 2   Country  131040 non-null  object \n 3   Status   131040 non-null  object \n 4   Note     0 non-null       float64\ndtypes: float64(1), object(4)\nmemory usage: 5.0+ MB\n",
     "output_type": "stream",
     "data": {}
    }
   ]
  },
  {
   "cell_type": "markdown",
   "source": "Se debe cambiar `Date` a datetime. Se debe filtrar solo por datos de Ecuador. Por último, las columanas `Note`, `ISO` y `Country` no son relevantes para el análisis.",
   "metadata": {
    "tags": [],
    "cell_id": "00005-707ebb28-6557-4e0f-853d-11f1b6cd7c66",
    "deepnote_cell_type": "markdown"
   }
  },
  {
   "cell_type": "code",
   "metadata": {
    "tags": [],
    "cell_id": "00005-d3df59d4-9d87-4e5e-bb73-349b782730d4",
    "deepnote_to_be_reexecuted": false,
    "source_hash": "1308a9",
    "execution_start": 1640278172116,
    "execution_millis": 0,
    "deepnote_cell_type": "code"
   },
   "source": "monitoring_closures['Date'] = pd.to_datetime(monitoring_closures['Date'], dayfirst=True)",
   "execution_count": 4,
   "outputs": []
  },
  {
   "cell_type": "code",
   "metadata": {
    "tags": [],
    "cell_id": "00008-e3143bd6-6df1-4fb1-9341-2a1a3dc393a7",
    "deepnote_to_be_reexecuted": false,
    "source_hash": "8158900",
    "execution_start": 1640278172160,
    "execution_millis": 1,
    "deepnote_cell_type": "code"
   },
   "source": "monitoring_closures_ec = monitoring_closures[monitoring_closures['Country']=='Ecuador']",
   "execution_count": 5,
   "outputs": []
  },
  {
   "cell_type": "code",
   "metadata": {
    "tags": [],
    "cell_id": "00006-6faaa9a1-8ce0-41a6-9310-c891c80ae5e9",
    "deepnote_to_be_reexecuted": false,
    "source_hash": "22a49663",
    "execution_start": 1640278172161,
    "execution_millis": 2,
    "deepnote_output_heights": [
     231.078125
    ],
    "deepnote_cell_type": "code"
   },
   "source": "monitoring_closures_ec.drop(columns=['ISO', 'Note', 'Country'], inplace=True)",
   "execution_count": 6,
   "outputs": [
    {
     "name": "stderr",
     "text": "/shared-libs/python3.7/py/lib/python3.7/site-packages/pandas/core/frame.py:4315: SettingWithCopyWarning: \nA value is trying to be set on a copy of a slice from a DataFrame\n\nSee the caveats in the documentation: https://pandas.pydata.org/pandas-docs/stable/user_guide/indexing.html#returning-a-view-versus-a-copy\n  errors=errors,\n",
     "output_type": "stream",
     "data": {}
    }
   ]
  },
  {
   "cell_type": "code",
   "metadata": {
    "tags": [],
    "cell_id": "00010-db6fb54a-ab2f-4fb8-9ed9-65f1e0152fe8",
    "deepnote_to_be_reexecuted": false,
    "source_hash": "34035594",
    "execution_start": 1640278172210,
    "execution_millis": 7,
    "deepnote_cell_type": "code"
   },
   "source": "monitoring_closures_ec.sample(3)",
   "execution_count": 7,
   "outputs": [
    {
     "output_type": "execute_result",
     "execution_count": 7,
     "data": {
      "application/vnd.deepnote.dataframe.v3+json": {
       "column_count": 2,
       "row_count": 3,
       "columns": [
        {
         "name": "Date",
         "dtype": "datetime64[ns]",
         "stats": {
          "unique_count": 3,
          "nan_count": 0,
          "min": "2020-05-17 00:00:00",
          "max": "2020-09-17 00:00:00",
          "histogram": [
           {
            "bin_start": 1589673600000000000,
            "bin_end": 1590736320000000000,
            "count": 1
           },
           {
            "bin_start": 1590736320000000000,
            "bin_end": 1591799040000000000,
            "count": 0
           },
           {
            "bin_start": 1591799040000000000,
            "bin_end": 1592861760000000000,
            "count": 0
           },
           {
            "bin_start": 1592861760000000000,
            "bin_end": 1593924480000000000,
            "count": 0
           },
           {
            "bin_start": 1593924480000000000,
            "bin_end": 1594987200000000000,
            "count": 0
           },
           {
            "bin_start": 1594987200000000000,
            "bin_end": 1596049920000000000,
            "count": 0
           },
           {
            "bin_start": 1596049920000000000,
            "bin_end": 1597112640000000000,
            "count": 0
           },
           {
            "bin_start": 1597112640000000000,
            "bin_end": 1598175360000000000,
            "count": 0
           },
           {
            "bin_start": 1598175360000000000,
            "bin_end": 1599238080000000000,
            "count": 1
           },
           {
            "bin_start": 1599238080000000000,
            "bin_end": 1600300800000000000,
            "count": 1
           }
          ]
         }
        },
        {
         "name": "Status",
         "dtype": "object",
         "stats": {
          "unique_count": 2,
          "nan_count": 0,
          "categories": [
           {
            "name": "Closed due to COVID-19",
            "count": 2
           },
           {
            "name": "Academic break",
            "count": 1
           }
          ]
         }
        },
        {
         "name": "_deepnote_index_column",
         "dtype": "int64"
        }
       ],
       "rows": [
        {
         "Date": "2020-05-17T00:00:00.000000",
         "Status": "Closed due to COVID-19",
         "_deepnote_index_column": 19166
        },
        {
         "Date": "2020-08-28T00:00:00.000000",
         "Status": "Academic break",
         "_deepnote_index_column": 40796
        },
        {
         "Date": "2020-09-17T00:00:00.000000",
         "Status": "Closed due to COVID-19",
         "_deepnote_index_column": 44996
        }
       ]
      },
      "text/plain": "            Date                  Status\n19166 2020-05-17  Closed due to COVID-19\n40796 2020-08-28          Academic break\n44996 2020-09-17  Closed due to COVID-19",
      "text/html": "<div>\n<style scoped>\n    .dataframe tbody tr th:only-of-type {\n        vertical-align: middle;\n    }\n\n    .dataframe tbody tr th {\n        vertical-align: top;\n    }\n\n    .dataframe thead th {\n        text-align: right;\n    }\n</style>\n<table border=\"1\" class=\"dataframe\">\n  <thead>\n    <tr style=\"text-align: right;\">\n      <th></th>\n      <th>Date</th>\n      <th>Status</th>\n    </tr>\n  </thead>\n  <tbody>\n    <tr>\n      <th>19166</th>\n      <td>2020-05-17</td>\n      <td>Closed due to COVID-19</td>\n    </tr>\n    <tr>\n      <th>40796</th>\n      <td>2020-08-28</td>\n      <td>Academic break</td>\n    </tr>\n    <tr>\n      <th>44996</th>\n      <td>2020-09-17</td>\n      <td>Closed due to COVID-19</td>\n    </tr>\n  </tbody>\n</table>\n</div>"
     },
     "metadata": {}
    }
   ]
  },
  {
   "cell_type": "markdown",
   "source": "### Exportar",
   "metadata": {
    "tags": [],
    "cell_id": "00012-c6dbf487-28c4-4631-901e-953115b60749",
    "deepnote_cell_type": "markdown"
   }
  },
  {
   "cell_type": "code",
   "metadata": {
    "tags": [],
    "cell_id": "00011-0410a9cd-0c39-4888-a07a-1fc6eb5475e9",
    "deepnote_to_be_reexecuted": false,
    "source_hash": "d53a7b3a",
    "execution_start": 1640278172212,
    "execution_millis": 0,
    "deepnote_cell_type": "code"
   },
   "source": "monitoring_closures_ec.to_pickle('/work/covid-ec/data/processed/closures_education.pkl')",
   "execution_count": 8,
   "outputs": []
  },
  {
   "cell_type": "code",
   "metadata": {
    "tags": [],
    "cell_id": "00012-1ac4077e-1ff2-4fb9-ab61-ea868aa07f15",
    "deepnote_to_be_reexecuted": false,
    "source_hash": "d4da6879",
    "execution_start": 1640278172218,
    "execution_millis": 14,
    "deepnote_cell_type": "code"
   },
   "source": "# For SQL analysis\nmonitoring_closures_ec.to_csv('/work/covid-ec/data/processed/sql/closures_education.csv', index=None)",
   "execution_count": 9,
   "outputs": []
  },
  {
   "cell_type": "markdown",
   "source": "## Histórico educación Ecuador dataset",
   "metadata": {
    "tags": [],
    "cell_id": "00002-9fd6c425-c552-4c14-9c8f-5aa6c653f322",
    "deepnote_cell_type": "markdown"
   }
  },
  {
   "cell_type": "code",
   "metadata": {
    "tags": [],
    "cell_id": "00004-6e3de261-64e2-475b-9dfe-5734574dd771",
    "deepnote_to_be_reexecuted": false,
    "source_hash": "fd163cfc",
    "execution_start": 1640278172239,
    "execution_millis": 1232,
    "deepnote_cell_type": "code"
   },
   "source": "# Uso latin1 para que lea caracteres especiales\neducation_ec = pd.read_csv('/work/covid-ec/data/raw/ec_registro-administrativo-historico_2009-2021.csv', encoding='latin1')",
   "execution_count": 10,
   "outputs": []
  },
  {
   "cell_type": "code",
   "metadata": {
    "tags": [],
    "cell_id": "00015-a3c34e49-1955-48b7-bb85-1a4893256518",
    "deepnote_to_be_reexecuted": false,
    "source_hash": "14229e8d",
    "execution_start": 1640278173493,
    "execution_millis": 270,
    "deepnote_cell_type": "code"
   },
   "source": "education_ec.sample(5)",
   "execution_count": 11,
   "outputs": [
    {
     "output_type": "execute_result",
     "execution_count": 11,
     "data": {
      "application/vnd.deepnote.dataframe.v3+json": {
       "column_count": 26,
       "row_count": 5,
       "columns": [
        {
         "name": "Clave_primaria",
         "dtype": "object",
         "stats": {
          "unique_count": 5,
          "nan_count": 0,
          "categories": [
           {
            "name": "01H007382009-2010",
            "count": 1
           },
           {
            "name": "13H042772010-2011",
            "count": 1
           },
           {
            "name": "3 others",
            "count": 3
           }
          ]
         }
        },
        {
         "name": "Clave_periodo",
         "dtype": "object",
         "stats": {
          "unique_count": 5,
          "nan_count": 0,
          "categories": [
           {
            "name": "2009-2010",
            "count": 1
           },
           {
            "name": "2010-2011",
            "count": 1
           },
           {
            "name": "3 others",
            "count": 3
           }
          ]
         }
        },
        {
         "name": "Periodo",
         "dtype": "object",
         "stats": {
          "unique_count": 5,
          "nan_count": 0,
          "categories": [
           {
            "name": "2009-2010 Fin",
            "count": 1
           },
           {
            "name": "2010-2011 Fin",
            "count": 1
           },
           {
            "name": "3 others",
            "count": 3
           }
          ]
         }
        },
        {
         "name": "Zona",
         "dtype": "object",
         "stats": {
          "unique_count": 5,
          "nan_count": 0,
          "categories": [
           {
            "name": "Zona 6",
            "count": 1
           },
           {
            "name": "Zona 4",
            "count": 1
           },
           {
            "name": "3 others",
            "count": 3
           }
          ]
         }
        },
        {
         "name": "Provincia",
         "dtype": "object",
         "stats": {
          "unique_count": 5,
          "nan_count": 0,
          "categories": [
           {
            "name": "AZUAY",
            "count": 1
           },
           {
            "name": "MANABI",
            "count": 1
           },
           {
            "name": "3 others",
            "count": 3
           }
          ]
         }
        },
        {
         "name": "Cod_Provincia",
         "dtype": "int64",
         "stats": {
          "unique_count": 5,
          "nan_count": 0,
          "min": "1",
          "max": "13",
          "histogram": [
           {
            "bin_start": 1,
            "bin_end": 2.2,
            "count": 2
           },
           {
            "bin_start": 2.2,
            "bin_end": 3.4,
            "count": 0
           },
           {
            "bin_start": 3.4,
            "bin_end": 4.6,
            "count": 0
           },
           {
            "bin_start": 4.6,
            "bin_end": 5.8,
            "count": 0
           },
           {
            "bin_start": 5.8,
            "bin_end": 7,
            "count": 0
           },
           {
            "bin_start": 7,
            "bin_end": 8.2,
            "count": 1
           },
           {
            "bin_start": 8.2,
            "bin_end": 9.4,
            "count": 1
           },
           {
            "bin_start": 9.4,
            "bin_end": 10.6,
            "count": 0
           },
           {
            "bin_start": 10.6,
            "bin_end": 11.799999999999999,
            "count": 0
           },
           {
            "bin_start": 11.799999999999999,
            "bin_end": 13,
            "count": 1
           }
          ]
         }
        },
        {
         "name": "Canton",
         "dtype": "object",
         "stats": {
          "unique_count": 5,
          "nan_count": 0,
          "categories": [
           {
            "name": "CUENCA",
            "count": 1
           },
           {
            "name": "JARAMIJO",
            "count": 1
           },
           {
            "name": "3 others",
            "count": 3
           }
          ]
         }
        },
        {
         "name": "Cod_Canton",
         "dtype": "int64",
         "stats": {
          "unique_count": 5,
          "nan_count": 0,
          "min": "101",
          "max": "1321",
          "histogram": [
           {
            "bin_start": 101,
            "bin_end": 223,
            "count": 2
           },
           {
            "bin_start": 223,
            "bin_end": 345,
            "count": 0
           },
           {
            "bin_start": 345,
            "bin_end": 467,
            "count": 0
           },
           {
            "bin_start": 467,
            "bin_end": 589,
            "count": 0
           },
           {
            "bin_start": 589,
            "bin_end": 711,
            "count": 0
           },
           {
            "bin_start": 711,
            "bin_end": 833,
            "count": 1
           },
           {
            "bin_start": 833,
            "bin_end": 955,
            "count": 1
           },
           {
            "bin_start": 955,
            "bin_end": 1077,
            "count": 0
           },
           {
            "bin_start": 1077,
            "bin_end": 1199,
            "count": 0
           },
           {
            "bin_start": 1199,
            "bin_end": 1321,
            "count": 1
           }
          ]
         }
        },
        {
         "name": "Parroquia",
         "dtype": "object",
         "stats": {
          "unique_count": 5,
          "nan_count": 0,
          "categories": [
           {
            "name": "QUINGEO",
            "count": 1
           },
           {
            "name": "JARAMIJO",
            "count": 1
           },
           {
            "name": "3 others",
            "count": 3
           }
          ]
         }
        },
        {
         "name": "Cod_Parroquia",
         "dtype": "int64",
         "stats": {
          "unique_count": 5,
          "nan_count": 0,
          "min": "10161",
          "max": "132150",
          "histogram": [
           {
            "bin_start": 10161,
            "bin_end": 22359.9,
            "count": 2
           },
           {
            "bin_start": 22359.9,
            "bin_end": 34558.8,
            "count": 0
           },
           {
            "bin_start": 34558.8,
            "bin_end": 46757.7,
            "count": 0
           },
           {
            "bin_start": 46757.7,
            "bin_end": 58956.6,
            "count": 0
           },
           {
            "bin_start": 58956.6,
            "bin_end": 71155.5,
            "count": 0
           },
           {
            "bin_start": 71155.5,
            "bin_end": 83354.4,
            "count": 1
           },
           {
            "bin_start": 83354.4,
            "bin_end": 95553.3,
            "count": 1
           },
           {
            "bin_start": 95553.3,
            "bin_end": 107752.2,
            "count": 0
           },
           {
            "bin_start": 107752.2,
            "bin_end": 119951.09999999999,
            "count": 0
           },
           {
            "bin_start": 119951.09999999999,
            "bin_end": 132150,
            "count": 1
           }
          ]
         }
        },
        {
         "name": "Nombre_Institucion",
         "dtype": "object",
         "stats": {
          "unique_count": 5,
          "nan_count": 0,
          "categories": [
           {
            "name": "30 DE MAYO",
            "count": 1
           },
           {
            "name": "MIS LETRITAS",
            "count": 1
           },
           {
            "name": "3 others",
            "count": 3
           }
          ]
         }
        },
        {
         "name": "Codigo_Institucion",
         "dtype": "object",
         "stats": {
          "unique_count": 5,
          "nan_count": 0,
          "categories": [
           {
            "name": "01H00738",
            "count": 1
           },
           {
            "name": "13H04277",
            "count": 1
           },
           {
            "name": "3 others",
            "count": 3
           }
          ]
         }
        },
        {
         "name": "Escolarizacion",
         "dtype": "object",
         "stats": {
          "unique_count": 1,
          "nan_count": 0,
          "categories": [
           {
            "name": "Escolarizada",
            "count": 5
           }
          ]
         }
        },
        {
         "name": "Tipo_Educacion",
         "dtype": "object",
         "stats": {
          "unique_count": 1,
          "nan_count": 0,
          "categories": [
           {
            "name": "Educación Regular",
            "count": 5
           }
          ]
         }
        },
        {
         "name": "Sostenimiento",
         "dtype": "object",
         "stats": {
          "unique_count": 2,
          "nan_count": 0,
          "categories": [
           {
            "name": "Fiscal",
            "count": 3
           },
           {
            "name": "Particular",
            "count": 2
           }
          ]
         }
        },
        {
         "name": "Area",
         "dtype": "object",
         "stats": {
          "unique_count": 2,
          "nan_count": 0,
          "categories": [
           {
            "name": "UrbanaINEC",
            "count": 3
           },
           {
            "name": "RuralINEC",
            "count": 2
           }
          ]
         }
        },
        {
         "name": "Regimen_Escolar",
         "dtype": "object",
         "stats": {
          "unique_count": 2,
          "nan_count": 0,
          "categories": [
           {
            "name": "Costa",
            "count": 4
           },
           {
            "name": "Sierra",
            "count": 1
           }
          ]
         }
        },
        {
         "name": "Jurisdiccion",
         "dtype": "object",
         "stats": {
          "unique_count": 2,
          "nan_count": 0,
          "categories": [
           {
            "name": "Intercultural",
            "count": 4
           },
           {
            "name": "Intercultural   ",
            "count": 1
           }
          ]
         }
        },
        {
         "name": "Modallidad",
         "dtype": "object",
         "stats": {
          "unique_count": 1,
          "nan_count": 0,
          "categories": [
           {
            "name": "Presencial",
            "count": 5
           }
          ]
         }
        },
        {
         "name": "Jornada",
         "dtype": "object",
         "stats": {
          "unique_count": 2,
          "nan_count": 0,
          "categories": [
           {
            "name": "Matutina",
            "count": 4
           },
           {
            "name": "Vespertina",
            "count": 1
           }
          ]
         }
        },
        {
         "name": "Acceso_Edificio",
         "dtype": "object",
         "stats": {
          "unique_count": 1,
          "nan_count": 0,
          "categories": [
           {
            "name": "Terrestre",
            "count": 5
           }
          ]
         }
        },
        {
         "name": "Total_estudiantes",
         "dtype": "int64",
         "stats": {
          "unique_count": 5,
          "nan_count": 0,
          "min": "7",
          "max": "187",
          "histogram": [
           {
            "bin_start": 7,
            "bin_end": 25,
            "count": 1
           },
           {
            "bin_start": 25,
            "bin_end": 43,
            "count": 0
           },
           {
            "bin_start": 43,
            "bin_end": 61,
            "count": 1
           },
           {
            "bin_start": 61,
            "bin_end": 79,
            "count": 0
           },
           {
            "bin_start": 79,
            "bin_end": 97,
            "count": 0
           },
           {
            "bin_start": 97,
            "bin_end": 115,
            "count": 0
           },
           {
            "bin_start": 115,
            "bin_end": 133,
            "count": 2
           },
           {
            "bin_start": 133,
            "bin_end": 151,
            "count": 0
           },
           {
            "bin_start": 151,
            "bin_end": 169,
            "count": 0
           },
           {
            "bin_start": 169,
            "bin_end": 187,
            "count": 1
           }
          ]
         }
        },
        {
         "name": "Promovidos",
         "dtype": "int64",
         "stats": {
          "unique_count": 5,
          "nan_count": 0,
          "min": "7",
          "max": "187",
          "histogram": [
           {
            "bin_start": 7,
            "bin_end": 25,
            "count": 1
           },
           {
            "bin_start": 25,
            "bin_end": 43,
            "count": 0
           },
           {
            "bin_start": 43,
            "bin_end": 61,
            "count": 1
           },
           {
            "bin_start": 61,
            "bin_end": 79,
            "count": 0
           },
           {
            "bin_start": 79,
            "bin_end": 97,
            "count": 0
           },
           {
            "bin_start": 97,
            "bin_end": 115,
            "count": 0
           },
           {
            "bin_start": 115,
            "bin_end": 133,
            "count": 2
           },
           {
            "bin_start": 133,
            "bin_end": 151,
            "count": 0
           },
           {
            "bin_start": 151,
            "bin_end": 169,
            "count": 0
           },
           {
            "bin_start": 169,
            "bin_end": 187,
            "count": 1
           }
          ]
         }
        },
        {
         "name": "No promovidos",
         "dtype": "int64",
         "stats": {
          "unique_count": 2,
          "nan_count": 0,
          "min": "0",
          "max": "1",
          "histogram": [
           {
            "bin_start": 0,
            "bin_end": 0.1,
            "count": 4
           },
           {
            "bin_start": 0.1,
            "bin_end": 0.2,
            "count": 0
           },
           {
            "bin_start": 0.2,
            "bin_end": 0.30000000000000004,
            "count": 0
           },
           {
            "bin_start": 0.30000000000000004,
            "bin_end": 0.4,
            "count": 0
           },
           {
            "bin_start": 0.4,
            "bin_end": 0.5,
            "count": 0
           },
           {
            "bin_start": 0.5,
            "bin_end": 0.6000000000000001,
            "count": 0
           },
           {
            "bin_start": 0.6000000000000001,
            "bin_end": 0.7000000000000001,
            "count": 0
           },
           {
            "bin_start": 0.7000000000000001,
            "bin_end": 0.8,
            "count": 0
           },
           {
            "bin_start": 0.8,
            "bin_end": 0.9,
            "count": 0
           },
           {
            "bin_start": 0.9,
            "bin_end": 1,
            "count": 1
           }
          ]
         }
        },
        {
         "name": "Abandono",
         "dtype": "int64",
         "stats": {
          "unique_count": 3,
          "nan_count": 0,
          "min": "0",
          "max": "5",
          "histogram": [
           {
            "bin_start": 0,
            "bin_end": 0.5,
            "count": 3
           },
           {
            "bin_start": 0.5,
            "bin_end": 1,
            "count": 0
           },
           {
            "bin_start": 1,
            "bin_end": 1.5,
            "count": 0
           },
           {
            "bin_start": 1.5,
            "bin_end": 2,
            "count": 0
           },
           {
            "bin_start": 2,
            "bin_end": 2.5,
            "count": 0
           },
           {
            "bin_start": 2.5,
            "bin_end": 3,
            "count": 0
           },
           {
            "bin_start": 3,
            "bin_end": 3.5,
            "count": 1
           },
           {
            "bin_start": 3.5,
            "bin_end": 4,
            "count": 0
           },
           {
            "bin_start": 4,
            "bin_end": 4.5,
            "count": 0
           },
           {
            "bin_start": 4.5,
            "bin_end": 5,
            "count": 1
           }
          ]
         }
        },
        {
         "name": "Pais",
         "dtype": "object",
         "stats": {
          "unique_count": 1,
          "nan_count": 0,
          "categories": [
           {
            "name": "ECUADOR",
            "count": 5
           }
          ]
         }
        },
        {
         "name": "_deepnote_index_column",
         "dtype": "int64"
        }
       ],
       "rows": [
        {
         "Clave_primaria": "01H007382009-2010",
         "Clave_periodo": "2009-2010",
         "Periodo": "2009-2010 Fin",
         "Zona": "Zona 6",
         "Provincia": "AZUAY",
         "Cod_Provincia": 1,
         "Canton": "CUENCA",
         "Cod_Canton": 101,
         "Parroquia": "QUINGEO",
         "Cod_Parroquia": 10161,
         "Nombre_Institucion": "30 DE MAYO",
         "Codigo_Institucion": "01H00738",
         "Escolarizacion": "Escolarizada",
         "Tipo_Educacion": "Educación Regular",
         "Sostenimiento": "Fiscal",
         "Area": "RuralINEC",
         "Regimen_Escolar": "Sierra",
         "Jurisdiccion": "Intercultural",
         "Modallidad": "Presencial",
         "Jornada": "Matutina",
         "Acceso_Edificio": "Terrestre",
         "Total_estudiantes": 58,
         "Promovidos": 53,
         "No promovidos": 0,
         "Abandono": 5,
         "Pais": "ECUADOR",
         "_deepnote_index_column": 405
        },
        {
         "Clave_primaria": "13H042772010-2011",
         "Clave_periodo": "2010-2011",
         "Periodo": "2010-2011 Fin",
         "Zona": "Zona 4",
         "Provincia": "MANABI",
         "Cod_Provincia": 13,
         "Canton": "JARAMIJO",
         "Cod_Canton": 1321,
         "Parroquia": "JARAMIJO",
         "Cod_Parroquia": 132150,
         "Nombre_Institucion": "MIS LETRITAS",
         "Codigo_Institucion": "13H04277",
         "Escolarizacion": "Escolarizada",
         "Tipo_Educacion": "Educación Regular",
         "Sostenimiento": "Particular",
         "Area": "UrbanaINEC",
         "Regimen_Escolar": "Costa",
         "Jurisdiccion": "Intercultural",
         "Modallidad": "Presencial",
         "Jornada": "Vespertina",
         "Acceso_Edificio": "Terrestre",
         "Total_estudiantes": 7,
         "Promovidos": 7,
         "No promovidos": 0,
         "Abandono": 0,
         "Pais": "ECUADOR",
         "_deepnote_index_column": 43437
        },
        {
         "Clave_primaria": "02H006242017-2018",
         "Clave_periodo": "2017-2018",
         "Periodo": "2017-2018 Fin",
         "Zona": "Zona 5",
         "Provincia": "BOLIVAR",
         "Cod_Provincia": 2,
         "Canton": "CALUMA",
         "Cod_Canton": 206,
         "Parroquia": "CALUMA",
         "Cod_Parroquia": 20650,
         "Nombre_Institucion": "ESCUELA DE EDUCACIÓN BÁSICA FRANCISCO PIZARRO",
         "Codigo_Institucion": "02H00624",
         "Escolarizacion": "Escolarizada",
         "Tipo_Educacion": "Educación Regular",
         "Sostenimiento": "Fiscal",
         "Area": "UrbanaINEC",
         "Regimen_Escolar": "Costa",
         "Jurisdiccion": "Intercultural",
         "Modallidad": "Presencial",
         "Jornada": "Matutina",
         "Acceso_Edificio": "Terrestre",
         "Total_estudiantes": 118,
         "Promovidos": 118,
         "No promovidos": 0,
         "Abandono": 0,
         "Pais": "ECUADOR",
         "_deepnote_index_column": 174692
        },
        {
         "Clave_primaria": "09H001702016-2017",
         "Clave_periodo": "2016-2017",
         "Periodo": "2016-2017 Fin",
         "Zona": "Zona 8",
         "Provincia": "GUAYAS",
         "Cod_Provincia": 9,
         "Canton": "GUAYAQUIL",
         "Cod_Canton": 901,
         "Parroquia": "FEBRES CORDERO",
         "Cod_Parroquia": 90104,
         "Nombre_Institucion": "GUIDO GARAY VARGAS",
         "Codigo_Institucion": "09H00170",
         "Escolarizacion": "Escolarizada",
         "Tipo_Educacion": "Educación Regular",
         "Sostenimiento": "Particular",
         "Area": "UrbanaINEC",
         "Regimen_Escolar": "Costa",
         "Jurisdiccion": "Intercultural",
         "Modallidad": "Presencial",
         "Jornada": "Matutina",
         "Acceso_Edificio": "Terrestre",
         "Total_estudiantes": 123,
         "Promovidos": 119,
         "No promovidos": 1,
         "Abandono": 3,
         "Pais": "ECUADOR",
         "_deepnote_index_column": 161988
        },
        {
         "Clave_primaria": "07H012392020-2021",
         "Clave_periodo": "2020-2021",
         "Periodo": "2020-2021 Fin",
         "Zona": "Zona 7",
         "Provincia": "EL ORO",
         "Cod_Provincia": 7,
         "Canton": "ZARUMA",
         "Cod_Canton": 713,
         "Parroquia": "GUIZHAGUIÑA",
         "Cod_Parroquia": 71354,
         "Nombre_Institucion": "UNIDAD EDUCATIVA GÜIZHAGUIÑA",
         "Codigo_Institucion": "07H01239",
         "Escolarizacion": "Escolarizada",
         "Tipo_Educacion": "Educación Regular",
         "Sostenimiento": "Fiscal",
         "Area": "RuralINEC",
         "Regimen_Escolar": "Costa",
         "Jurisdiccion": "Intercultural   ",
         "Modallidad": "Presencial",
         "Jornada": "Matutina",
         "Acceso_Edificio": "Terrestre",
         "Total_estudiantes": 187,
         "Promovidos": 187,
         "No promovidos": 0,
         "Abandono": 0,
         "Pais": "ECUADOR",
         "_deepnote_index_column": 225179
        }
       ]
      },
      "text/plain": "           Clave_primaria Clave_periodo        Periodo    Zona Provincia  \\\n405     01H007382009-2010     2009-2010  2009-2010 Fin  Zona 6     AZUAY   \n43437   13H042772010-2011     2010-2011  2010-2011 Fin  Zona 4    MANABI   \n174692  02H006242017-2018     2017-2018  2017-2018 Fin  Zona 5   BOLIVAR   \n161988  09H001702016-2017     2016-2017  2016-2017 Fin  Zona 8    GUAYAS   \n225179  07H012392020-2021     2020-2021  2020-2021 Fin  Zona 7    EL ORO   \n\n        Cod_Provincia     Canton  Cod_Canton       Parroquia  Cod_Parroquia  \\\n405                 1     CUENCA         101         QUINGEO          10161   \n43437              13   JARAMIJO        1321        JARAMIJO         132150   \n174692              2     CALUMA         206          CALUMA          20650   \n161988              9  GUAYAQUIL         901  FEBRES CORDERO          90104   \n225179              7     ZARUMA         713     GUIZHAGUIÑA          71354   \n\n        ... Regimen_Escolar      Jurisdiccion  Modallidad     Jornada  \\\n405     ...          Sierra     Intercultural  Presencial    Matutina   \n43437   ...           Costa     Intercultural  Presencial  Vespertina   \n174692  ...           Costa     Intercultural  Presencial    Matutina   \n161988  ...           Costa     Intercultural  Presencial    Matutina   \n225179  ...           Costa  Intercultural     Presencial    Matutina   \n\n       Acceso_Edificio Total_estudiantes Promovidos No promovidos Abandono  \\\n405          Terrestre                58         53             0        5   \n43437        Terrestre                 7          7             0        0   \n174692       Terrestre               118        118             0        0   \n161988       Terrestre               123        119             1        3   \n225179       Terrestre               187        187             0        0   \n\n           Pais  \n405     ECUADOR  \n43437   ECUADOR  \n174692  ECUADOR  \n161988  ECUADOR  \n225179  ECUADOR  \n\n[5 rows x 26 columns]",
      "text/html": "<div>\n<style scoped>\n    .dataframe tbody tr th:only-of-type {\n        vertical-align: middle;\n    }\n\n    .dataframe tbody tr th {\n        vertical-align: top;\n    }\n\n    .dataframe thead th {\n        text-align: right;\n    }\n</style>\n<table border=\"1\" class=\"dataframe\">\n  <thead>\n    <tr style=\"text-align: right;\">\n      <th></th>\n      <th>Clave_primaria</th>\n      <th>Clave_periodo</th>\n      <th>Periodo</th>\n      <th>Zona</th>\n      <th>Provincia</th>\n      <th>Cod_Provincia</th>\n      <th>Canton</th>\n      <th>Cod_Canton</th>\n      <th>Parroquia</th>\n      <th>Cod_Parroquia</th>\n      <th>...</th>\n      <th>Regimen_Escolar</th>\n      <th>Jurisdiccion</th>\n      <th>Modallidad</th>\n      <th>Jornada</th>\n      <th>Acceso_Edificio</th>\n      <th>Total_estudiantes</th>\n      <th>Promovidos</th>\n      <th>No promovidos</th>\n      <th>Abandono</th>\n      <th>Pais</th>\n    </tr>\n  </thead>\n  <tbody>\n    <tr>\n      <th>405</th>\n      <td>01H007382009-2010</td>\n      <td>2009-2010</td>\n      <td>2009-2010 Fin</td>\n      <td>Zona 6</td>\n      <td>AZUAY</td>\n      <td>1</td>\n      <td>CUENCA</td>\n      <td>101</td>\n      <td>QUINGEO</td>\n      <td>10161</td>\n      <td>...</td>\n      <td>Sierra</td>\n      <td>Intercultural</td>\n      <td>Presencial</td>\n      <td>Matutina</td>\n      <td>Terrestre</td>\n      <td>58</td>\n      <td>53</td>\n      <td>0</td>\n      <td>5</td>\n      <td>ECUADOR</td>\n    </tr>\n    <tr>\n      <th>43437</th>\n      <td>13H042772010-2011</td>\n      <td>2010-2011</td>\n      <td>2010-2011 Fin</td>\n      <td>Zona 4</td>\n      <td>MANABI</td>\n      <td>13</td>\n      <td>JARAMIJO</td>\n      <td>1321</td>\n      <td>JARAMIJO</td>\n      <td>132150</td>\n      <td>...</td>\n      <td>Costa</td>\n      <td>Intercultural</td>\n      <td>Presencial</td>\n      <td>Vespertina</td>\n      <td>Terrestre</td>\n      <td>7</td>\n      <td>7</td>\n      <td>0</td>\n      <td>0</td>\n      <td>ECUADOR</td>\n    </tr>\n    <tr>\n      <th>174692</th>\n      <td>02H006242017-2018</td>\n      <td>2017-2018</td>\n      <td>2017-2018 Fin</td>\n      <td>Zona 5</td>\n      <td>BOLIVAR</td>\n      <td>2</td>\n      <td>CALUMA</td>\n      <td>206</td>\n      <td>CALUMA</td>\n      <td>20650</td>\n      <td>...</td>\n      <td>Costa</td>\n      <td>Intercultural</td>\n      <td>Presencial</td>\n      <td>Matutina</td>\n      <td>Terrestre</td>\n      <td>118</td>\n      <td>118</td>\n      <td>0</td>\n      <td>0</td>\n      <td>ECUADOR</td>\n    </tr>\n    <tr>\n      <th>161988</th>\n      <td>09H001702016-2017</td>\n      <td>2016-2017</td>\n      <td>2016-2017 Fin</td>\n      <td>Zona 8</td>\n      <td>GUAYAS</td>\n      <td>9</td>\n      <td>GUAYAQUIL</td>\n      <td>901</td>\n      <td>FEBRES CORDERO</td>\n      <td>90104</td>\n      <td>...</td>\n      <td>Costa</td>\n      <td>Intercultural</td>\n      <td>Presencial</td>\n      <td>Matutina</td>\n      <td>Terrestre</td>\n      <td>123</td>\n      <td>119</td>\n      <td>1</td>\n      <td>3</td>\n      <td>ECUADOR</td>\n    </tr>\n    <tr>\n      <th>225179</th>\n      <td>07H012392020-2021</td>\n      <td>2020-2021</td>\n      <td>2020-2021 Fin</td>\n      <td>Zona 7</td>\n      <td>EL ORO</td>\n      <td>7</td>\n      <td>ZARUMA</td>\n      <td>713</td>\n      <td>GUIZHAGUIÑA</td>\n      <td>71354</td>\n      <td>...</td>\n      <td>Costa</td>\n      <td>Intercultural</td>\n      <td>Presencial</td>\n      <td>Matutina</td>\n      <td>Terrestre</td>\n      <td>187</td>\n      <td>187</td>\n      <td>0</td>\n      <td>0</td>\n      <td>ECUADOR</td>\n    </tr>\n  </tbody>\n</table>\n<p>5 rows × 26 columns</p>\n</div>"
     },
     "metadata": {}
    }
   ]
  },
  {
   "cell_type": "code",
   "metadata": {
    "tags": [],
    "cell_id": "00014-63292a34-5720-4507-bc93-c1eec555f375",
    "deepnote_to_be_reexecuted": false,
    "source_hash": "5f6e6b7e",
    "execution_start": 1640278173670,
    "execution_millis": 220,
    "deepnote_cell_type": "code"
   },
   "source": "education_ec.info()",
   "execution_count": 12,
   "outputs": [
    {
     "name": "stdout",
     "text": "<class 'pandas.core.frame.DataFrame'>\nRangeIndex: 237963 entries, 0 to 237962\nData columns (total 26 columns):\n #   Column              Non-Null Count   Dtype \n---  ------              --------------   ----- \n 0   Clave_primaria      237963 non-null  object\n 1   Clave_periodo       237963 non-null  object\n 2   Periodo             237963 non-null  object\n 3   Zona                237963 non-null  object\n 4   Provincia           237963 non-null  object\n 5   Cod_Provincia       237963 non-null  int64 \n 6   Canton              237963 non-null  object\n 7   Cod_Canton          237963 non-null  int64 \n 8   Parroquia           237963 non-null  object\n 9   Cod_Parroquia       237963 non-null  int64 \n 10  Nombre_Institucion  237963 non-null  object\n 11  Codigo_Institucion  237963 non-null  object\n 12  Escolarizacion      237963 non-null  object\n 13  Tipo_Educacion      237963 non-null  object\n 14  Sostenimiento       237963 non-null  object\n 15  Area                237963 non-null  object\n 16  Regimen_Escolar     237963 non-null  object\n 17  Jurisdiccion        237963 non-null  object\n 18  Modallidad          237963 non-null  object\n 19  Jornada             237963 non-null  object\n 20  Acceso_Edificio     237963 non-null  object\n 21  Total_estudiantes   237963 non-null  int64 \n 22  Promovidos          237963 non-null  int64 \n 23  No promovidos       237963 non-null  int64 \n 24  Abandono            237963 non-null  int64 \n 25  Pais                237963 non-null  object\ndtypes: int64(7), object(19)\nmemory usage: 47.2+ MB\n",
     "output_type": "stream",
     "data": {}
    }
   ]
  },
  {
   "cell_type": "markdown",
   "source": "El dataset es bastante extenso. Se eliminarán todas las columnas no relevantes para el análisis.",
   "metadata": {
    "tags": [],
    "cell_id": "00016-6365c445-bc86-462f-8a46-69214afe9e46",
    "deepnote_cell_type": "markdown"
   }
  },
  {
   "cell_type": "code",
   "metadata": {
    "tags": [],
    "cell_id": "00017-6c8942bf-6ec9-4a98-880e-f9ccc03fce12",
    "deepnote_to_be_reexecuted": false,
    "source_hash": "cbb0c6c5",
    "execution_start": 1640278173893,
    "execution_millis": 3,
    "deepnote_cell_type": "code"
   },
   "source": "columns = [\n    \"Clave_primaria\",\n    \"Clave_periodo\",\n    \"Zona\",\n    \"Cod_Provincia\",\n    \"Canton\",\n    \"Cod_Canton\",\n    \"Parroquia\",\n    \"Cod_Parroquia\",\n    \"Nombre_Institucion\",\n    \"Codigo_Institucion\",\n    \"Escolarizacion\",\n    \"Tipo_Educacion\",\n    \"Regimen_Escolar\",\n    \"Jurisdiccion\",\n    \"Acceso_Edificio\",\n    \"Pais\",\n]",
   "execution_count": 13,
   "outputs": []
  },
  {
   "cell_type": "code",
   "metadata": {
    "tags": [],
    "cell_id": "00017-17c51cdb-8ea0-4778-bd06-00626f716a9c",
    "deepnote_to_be_reexecuted": false,
    "source_hash": "b9ea1526",
    "execution_start": 1640278173947,
    "execution_millis": 0,
    "deepnote_cell_type": "code"
   },
   "source": "education_ec.drop(columns=columns, inplace=True)",
   "execution_count": 14,
   "outputs": []
  },
  {
   "cell_type": "code",
   "metadata": {
    "tags": [],
    "cell_id": "00019-6a227b26-cd07-4fc4-969c-647713c66fc8",
    "deepnote_to_be_reexecuted": false,
    "source_hash": "14229e8d",
    "execution_start": 1640278173997,
    "execution_millis": 59,
    "deepnote_cell_type": "code"
   },
   "source": "education_ec.sample(5)",
   "execution_count": 15,
   "outputs": [
    {
     "output_type": "execute_result",
     "execution_count": 15,
     "data": {
      "application/vnd.deepnote.dataframe.v3+json": {
       "column_count": 10,
       "row_count": 5,
       "columns": [
        {
         "name": "Periodo",
         "dtype": "object",
         "stats": {
          "unique_count": 4,
          "nan_count": 0,
          "categories": [
           {
            "name": "2010-2011 Fin",
            "count": 2
           },
           {
            "name": "2009-2010 Fin",
            "count": 1
           },
           {
            "name": "2 others",
            "count": 2
           }
          ]
         }
        },
        {
         "name": "Provincia",
         "dtype": "object",
         "stats": {
          "unique_count": 4,
          "nan_count": 0,
          "categories": [
           {
            "name": "PICHINCHA",
            "count": 2
           },
           {
            "name": "MANABI",
            "count": 1
           },
           {
            "name": "2 others",
            "count": 2
           }
          ]
         }
        },
        {
         "name": "Sostenimiento",
         "dtype": "object",
         "stats": {
          "unique_count": 1,
          "nan_count": 0,
          "categories": [
           {
            "name": "Fiscal",
            "count": 5
           }
          ]
         }
        },
        {
         "name": "Area",
         "dtype": "object",
         "stats": {
          "unique_count": 2,
          "nan_count": 0,
          "categories": [
           {
            "name": "UrbanaINEC",
            "count": 3
           },
           {
            "name": "RuralINEC",
            "count": 2
           }
          ]
         }
        },
        {
         "name": "Modallidad",
         "dtype": "object",
         "stats": {
          "unique_count": 1,
          "nan_count": 0,
          "categories": [
           {
            "name": "Presencial",
            "count": 5
           }
          ]
         }
        },
        {
         "name": "Jornada",
         "dtype": "object",
         "stats": {
          "unique_count": 2,
          "nan_count": 0,
          "categories": [
           {
            "name": "Matutina",
            "count": 4
           },
           {
            "name": "Matutina y Vespertina",
            "count": 1
           }
          ]
         }
        },
        {
         "name": "Total_estudiantes",
         "dtype": "int64",
         "stats": {
          "unique_count": 5,
          "nan_count": 0,
          "min": "123",
          "max": "2835",
          "histogram": [
           {
            "bin_start": 123,
            "bin_end": 394.2,
            "count": 4
           },
           {
            "bin_start": 394.2,
            "bin_end": 665.4,
            "count": 0
           },
           {
            "bin_start": 665.4,
            "bin_end": 936.5999999999999,
            "count": 0
           },
           {
            "bin_start": 936.5999999999999,
            "bin_end": 1207.8,
            "count": 0
           },
           {
            "bin_start": 1207.8,
            "bin_end": 1479,
            "count": 0
           },
           {
            "bin_start": 1479,
            "bin_end": 1750.1999999999998,
            "count": 0
           },
           {
            "bin_start": 1750.1999999999998,
            "bin_end": 2021.3999999999999,
            "count": 0
           },
           {
            "bin_start": 2021.3999999999999,
            "bin_end": 2292.6,
            "count": 0
           },
           {
            "bin_start": 2292.6,
            "bin_end": 2563.7999999999997,
            "count": 0
           },
           {
            "bin_start": 2563.7999999999997,
            "bin_end": 2835,
            "count": 1
           }
          ]
         }
        },
        {
         "name": "Promovidos",
         "dtype": "int64",
         "stats": {
          "unique_count": 4,
          "nan_count": 0,
          "min": "81",
          "max": "2742",
          "histogram": [
           {
            "bin_start": 81,
            "bin_end": 347.1,
            "count": 4
           },
           {
            "bin_start": 347.1,
            "bin_end": 613.2,
            "count": 0
           },
           {
            "bin_start": 613.2,
            "bin_end": 879.3000000000001,
            "count": 0
           },
           {
            "bin_start": 879.3000000000001,
            "bin_end": 1145.4,
            "count": 0
           },
           {
            "bin_start": 1145.4,
            "bin_end": 1411.5,
            "count": 0
           },
           {
            "bin_start": 1411.5,
            "bin_end": 1677.6000000000001,
            "count": 0
           },
           {
            "bin_start": 1677.6000000000001,
            "bin_end": 1943.7000000000003,
            "count": 0
           },
           {
            "bin_start": 1943.7000000000003,
            "bin_end": 2209.8,
            "count": 0
           },
           {
            "bin_start": 2209.8,
            "bin_end": 2475.9,
            "count": 0
           },
           {
            "bin_start": 2475.9,
            "bin_end": 2742,
            "count": 1
           }
          ]
         }
        },
        {
         "name": "No promovidos",
         "dtype": "int64",
         "stats": {
          "unique_count": 4,
          "nan_count": 0,
          "min": "0",
          "max": "63",
          "histogram": [
           {
            "bin_start": 0,
            "bin_end": 6.3,
            "count": 2
           },
           {
            "bin_start": 6.3,
            "bin_end": 12.6,
            "count": 1
           },
           {
            "bin_start": 12.6,
            "bin_end": 18.9,
            "count": 0
           },
           {
            "bin_start": 18.9,
            "bin_end": 25.2,
            "count": 1
           },
           {
            "bin_start": 25.2,
            "bin_end": 31.5,
            "count": 0
           },
           {
            "bin_start": 31.5,
            "bin_end": 37.8,
            "count": 0
           },
           {
            "bin_start": 37.8,
            "bin_end": 44.1,
            "count": 0
           },
           {
            "bin_start": 44.1,
            "bin_end": 50.4,
            "count": 0
           },
           {
            "bin_start": 50.4,
            "bin_end": 56.699999999999996,
            "count": 0
           },
           {
            "bin_start": 56.699999999999996,
            "bin_end": 63,
            "count": 1
           }
          ]
         }
        },
        {
         "name": "Abandono",
         "dtype": "int64",
         "stats": {
          "unique_count": 5,
          "nan_count": 0,
          "min": "9",
          "max": "30",
          "histogram": [
           {
            "bin_start": 9,
            "bin_end": 11.1,
            "count": 1
           },
           {
            "bin_start": 11.1,
            "bin_end": 13.2,
            "count": 1
           },
           {
            "bin_start": 13.2,
            "bin_end": 15.3,
            "count": 0
           },
           {
            "bin_start": 15.3,
            "bin_end": 17.4,
            "count": 0
           },
           {
            "bin_start": 17.4,
            "bin_end": 19.5,
            "count": 0
           },
           {
            "bin_start": 19.5,
            "bin_end": 21.6,
            "count": 0
           },
           {
            "bin_start": 21.6,
            "bin_end": 23.700000000000003,
            "count": 1
           },
           {
            "bin_start": 23.700000000000003,
            "bin_end": 25.8,
            "count": 0
           },
           {
            "bin_start": 25.8,
            "bin_end": 27.900000000000002,
            "count": 1
           },
           {
            "bin_start": 27.900000000000002,
            "bin_end": 30,
            "count": 1
           }
          ]
         }
        },
        {
         "name": "_deepnote_index_column",
         "dtype": "int64"
        }
       ],
       "rows": [
        {
         "Periodo": "2009-2010 Fin",
         "Provincia": "MANABI",
         "Sostenimiento": "Fiscal",
         "Area": "UrbanaINEC",
         "Modallidad": "Presencial",
         "Jornada": "Matutina",
         "Total_estudiantes": 123,
         "Promovidos": 81,
         "No promovidos": 20,
         "Abandono": 22,
         "_deepnote_index_column": 18881
        },
        {
         "Periodo": "2019-2020 Fin",
         "Provincia": "IMBABURA",
         "Sostenimiento": "Fiscal",
         "Area": "RuralINEC",
         "Modallidad": "Presencial",
         "Jornada": "Matutina",
         "Total_estudiantes": 321,
         "Promovidos": 295,
         "No promovidos": 0,
         "Abandono": 26,
         "_deepnote_index_column": 212571
        },
        {
         "Periodo": "2010-2011 Fin",
         "Provincia": "COTOPAXI",
         "Sostenimiento": "Fiscal",
         "Area": "RuralINEC",
         "Modallidad": "Presencial",
         "Jornada": "Matutina",
         "Total_estudiantes": 320,
         "Promovidos": 295,
         "No promovidos": 12,
         "Abandono": 13,
         "_deepnote_index_column": 28895
        },
        {
         "Periodo": "2010-2011 Fin",
         "Provincia": "PICHINCHA",
         "Sostenimiento": "Fiscal",
         "Area": "UrbanaINEC",
         "Modallidad": "Presencial",
         "Jornada": "Matutina",
         "Total_estudiantes": 270,
         "Promovidos": 261,
         "No promovidos": 0,
         "Abandono": 9,
         "_deepnote_index_column": 46231
        },
        {
         "Periodo": "2017-2018 Fin",
         "Provincia": "PICHINCHA",
         "Sostenimiento": "Fiscal",
         "Area": "UrbanaINEC",
         "Modallidad": "Presencial",
         "Jornada": "Matutina y Vespertina",
         "Total_estudiantes": 2835,
         "Promovidos": 2742,
         "No promovidos": 63,
         "Abandono": 30,
         "_deepnote_index_column": 186158
        }
       ]
      },
      "text/plain": "              Periodo  Provincia Sostenimiento        Area  Modallidad  \\\n18881   2009-2010 Fin     MANABI        Fiscal  UrbanaINEC  Presencial   \n212571  2019-2020 Fin   IMBABURA        Fiscal   RuralINEC  Presencial   \n28895   2010-2011 Fin   COTOPAXI        Fiscal   RuralINEC  Presencial   \n46231   2010-2011 Fin  PICHINCHA        Fiscal  UrbanaINEC  Presencial   \n186158  2017-2018 Fin  PICHINCHA        Fiscal  UrbanaINEC  Presencial   \n\n                      Jornada  Total_estudiantes  Promovidos  No promovidos  \\\n18881                Matutina                123          81             20   \n212571               Matutina                321         295              0   \n28895                Matutina                320         295             12   \n46231                Matutina                270         261              0   \n186158  Matutina y Vespertina               2835        2742             63   \n\n        Abandono  \n18881         22  \n212571        26  \n28895         13  \n46231          9  \n186158        30  ",
      "text/html": "<div>\n<style scoped>\n    .dataframe tbody tr th:only-of-type {\n        vertical-align: middle;\n    }\n\n    .dataframe tbody tr th {\n        vertical-align: top;\n    }\n\n    .dataframe thead th {\n        text-align: right;\n    }\n</style>\n<table border=\"1\" class=\"dataframe\">\n  <thead>\n    <tr style=\"text-align: right;\">\n      <th></th>\n      <th>Periodo</th>\n      <th>Provincia</th>\n      <th>Sostenimiento</th>\n      <th>Area</th>\n      <th>Modallidad</th>\n      <th>Jornada</th>\n      <th>Total_estudiantes</th>\n      <th>Promovidos</th>\n      <th>No promovidos</th>\n      <th>Abandono</th>\n    </tr>\n  </thead>\n  <tbody>\n    <tr>\n      <th>18881</th>\n      <td>2009-2010 Fin</td>\n      <td>MANABI</td>\n      <td>Fiscal</td>\n      <td>UrbanaINEC</td>\n      <td>Presencial</td>\n      <td>Matutina</td>\n      <td>123</td>\n      <td>81</td>\n      <td>20</td>\n      <td>22</td>\n    </tr>\n    <tr>\n      <th>212571</th>\n      <td>2019-2020 Fin</td>\n      <td>IMBABURA</td>\n      <td>Fiscal</td>\n      <td>RuralINEC</td>\n      <td>Presencial</td>\n      <td>Matutina</td>\n      <td>321</td>\n      <td>295</td>\n      <td>0</td>\n      <td>26</td>\n    </tr>\n    <tr>\n      <th>28895</th>\n      <td>2010-2011 Fin</td>\n      <td>COTOPAXI</td>\n      <td>Fiscal</td>\n      <td>RuralINEC</td>\n      <td>Presencial</td>\n      <td>Matutina</td>\n      <td>320</td>\n      <td>295</td>\n      <td>12</td>\n      <td>13</td>\n    </tr>\n    <tr>\n      <th>46231</th>\n      <td>2010-2011 Fin</td>\n      <td>PICHINCHA</td>\n      <td>Fiscal</td>\n      <td>UrbanaINEC</td>\n      <td>Presencial</td>\n      <td>Matutina</td>\n      <td>270</td>\n      <td>261</td>\n      <td>0</td>\n      <td>9</td>\n    </tr>\n    <tr>\n      <th>186158</th>\n      <td>2017-2018 Fin</td>\n      <td>PICHINCHA</td>\n      <td>Fiscal</td>\n      <td>UrbanaINEC</td>\n      <td>Presencial</td>\n      <td>Matutina y Vespertina</td>\n      <td>2835</td>\n      <td>2742</td>\n      <td>63</td>\n      <td>30</td>\n    </tr>\n  </tbody>\n</table>\n</div>"
     },
     "metadata": {}
    }
   ]
  },
  {
   "cell_type": "markdown",
   "source": "### Exportar",
   "metadata": {
    "tags": [],
    "cell_id": "00018-f9feccc7-e5f5-42d9-8155-ae88eead55c3",
    "deepnote_cell_type": "markdown"
   }
  },
  {
   "cell_type": "code",
   "metadata": {
    "tags": [],
    "cell_id": "00019-b484984a-5a97-4d8a-91f9-10a7a038477c",
    "deepnote_to_be_reexecuted": false,
    "source_hash": "f273107a",
    "execution_start": 1640278174082,
    "execution_millis": 70,
    "deepnote_cell_type": "code"
   },
   "source": "education_ec.to_pickle('/work/covid-ec/data/processed/education_ec.pkl')",
   "execution_count": 16,
   "outputs": []
  },
  {
   "cell_type": "code",
   "source": "# For SQL analysis\neducation_ec.to_csv('/work/covid-ec/data/processed/sql/education_ec.csv', index=None)",
   "metadata": {
    "tags": [],
    "cell_id": "00023-bca17f42-88f7-4923-bb97-b095ad0897f0",
    "deepnote_to_be_reexecuted": false,
    "source_hash": "cf190af7",
    "execution_start": 1640278174199,
    "execution_millis": 973,
    "deepnote_cell_type": "code"
   },
   "outputs": [],
   "execution_count": 17
  },
  {
   "cell_type": "markdown",
   "source": "<a style='text-decoration:none;line-height:16px;display:flex;color:#5B5B62;padding:10px;justify-content:end;' href='https://deepnote.com?utm_source=created-in-deepnote-cell&projectId=e7b048df-fc9b-4970-aa88-df153b270a6f' target=\"_blank\">\n<img alt='Created in deepnote.com' style='display:inline;max-height:16px;margin:0px;margin-right:7.5px;' src='data:image/svg+xml;base64,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' > </img>\nCreated in <span style='font-weight:600;margin-left:4px;'>Deepnote</span></a>",
   "metadata": {
    "tags": [],
    "created_in_deepnote_cell": true,
    "deepnote_cell_type": "markdown"
   }
  }
 ],
 "nbformat": 4,
 "nbformat_minor": 2,
 "metadata": {
  "orig_nbformat": 2,
  "deepnote": {
   "is_reactive": false
  },
  "deepnote_notebook_id": "92703c2b-dcd0-4172-a6bb-5ed065982cd8",
  "deepnote_execution_queue": []
 }
}