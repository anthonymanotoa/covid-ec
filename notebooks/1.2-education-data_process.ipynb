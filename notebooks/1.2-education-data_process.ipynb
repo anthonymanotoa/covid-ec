{
 "cells": [
  {
   "cell_type": "markdown",
   "source": "# Procesamiento data educación\n",
   "metadata": {
    "tags": [],
    "cell_id": "00001-9a4e9ec1-2eb2-4868-a22d-5d60aa6cbf10",
    "deepnote_cell_type": "markdown"
   }
  },
  {
   "cell_type": "code",
   "metadata": {
    "tags": [],
    "cell_id": "00001-962d092e-4ca9-4c1a-9ae6-86c20fc1af95",
    "deepnote_to_be_reexecuted": false,
    "source_hash": "9b82ee11",
    "execution_start": 1640225380315,
    "execution_millis": 17508,
    "deepnote_cell_type": "code"
   },
   "source": "import pandas as pd",
   "outputs": [],
   "execution_count": null
  },
  {
   "cell_type": "markdown",
   "source": "## UNESCO duración de cierres dataset",
   "metadata": {
    "tags": [],
    "cell_id": "00002-1bd2ff5e-d25e-42a9-b91d-26b4d02232d7",
    "deepnote_cell_type": "markdown"
   }
  },
  {
   "cell_type": "code",
   "metadata": {
    "tags": [],
    "cell_id": "00003-3e0b7eaf-8bf2-4edd-99b2-8461973ab6aa",
    "deepnote_to_be_reexecuted": false,
    "source_hash": "22619fc0",
    "execution_start": 1640225380316,
    "execution_millis": 234,
    "deepnote_cell_type": "code"
   },
   "source": "monitoring_closures = pd.read_csv('/work/covid-ec/data/raw/monitoring_school_closures.csv')",
   "outputs": [],
   "execution_count": null
  },
  {
   "cell_type": "code",
   "metadata": {
    "tags": [],
    "cell_id": "00004-61ab70f3-f7a4-4131-b66d-adf60259d818",
    "deepnote_to_be_reexecuted": false,
    "source_hash": "ba28e204",
    "execution_start": 1640225380574,
    "execution_millis": 85,
    "deepnote_table_state": {
     "pageSize": 10,
     "pageIndex": 0,
     "filters": [],
     "sortBy": []
    },
    "deepnote_table_loading": false,
    "deepnote_table_invalid": false,
    "deepnote_cell_type": "code"
   },
   "source": "monitoring_closures.info()",
   "outputs": [
    {
     "name": "stdout",
     "text": "<class 'pandas.core.frame.DataFrame'>\nRangeIndex: 131040 entries, 0 to 131039\nData columns (total 5 columns):\n #   Column   Non-Null Count   Dtype  \n---  ------   --------------   -----  \n 0   Date     131040 non-null  object \n 1   ISO      131040 non-null  object \n 2   Country  131040 non-null  object \n 3   Status   131040 non-null  object \n 4   Note     0 non-null       float64\ndtypes: float64(1), object(4)\nmemory usage: 5.0+ MB\n",
     "output_type": "stream",
     "data": {}
    }
   ],
   "execution_count": null
  },
  {
   "cell_type": "markdown",
   "source": "Se debe cambiar `Date` a datetime. Se debe filtrar solo por datos de Ecuador. Por último, las columanas `Note`, `ISO` y `Country` no son relevantes para el análisis.",
   "metadata": {
    "tags": [],
    "cell_id": "00005-707ebb28-6557-4e0f-853d-11f1b6cd7c66",
    "deepnote_cell_type": "markdown"
   }
  },
  {
   "cell_type": "code",
   "metadata": {
    "tags": [],
    "cell_id": "00005-d3df59d4-9d87-4e5e-bb73-349b782730d4",
    "deepnote_to_be_reexecuted": false,
    "source_hash": "1308a9",
    "execution_start": 1640225380685,
    "execution_millis": 57,
    "deepnote_cell_type": "code"
   },
   "source": "monitoring_closures['Date'] = pd.to_datetime(monitoring_closures['Date'], dayfirst=True)",
   "outputs": [],
   "execution_count": null
  },
  {
   "cell_type": "code",
   "metadata": {
    "tags": [],
    "cell_id": "00008-e3143bd6-6df1-4fb1-9341-2a1a3dc393a7",
    "deepnote_to_be_reexecuted": false,
    "source_hash": "8158900",
    "execution_start": 1640225380782,
    "execution_millis": 1,
    "deepnote_cell_type": "code"
   },
   "source": "monitoring_closures_ec = monitoring_closures[monitoring_closures['Country']=='Ecuador']",
   "outputs": [],
   "execution_count": null
  },
  {
   "cell_type": "code",
   "metadata": {
    "tags": [],
    "cell_id": "00006-6faaa9a1-8ce0-41a6-9310-c891c80ae5e9",
    "deepnote_to_be_reexecuted": false,
    "source_hash": "22a49663",
    "execution_start": 1640225380800,
    "execution_millis": 1,
    "deepnote_output_heights": [
     231.078125
    ],
    "deepnote_cell_type": "code"
   },
   "source": "monitoring_closures_ec.drop(columns=['ISO', 'Note', 'Country'], inplace=True)",
   "outputs": [
    {
     "name": "stderr",
     "text": "/shared-libs/python3.7/py/lib/python3.7/site-packages/pandas/core/frame.py:4315: SettingWithCopyWarning: \nA value is trying to be set on a copy of a slice from a DataFrame\n\nSee the caveats in the documentation: https://pandas.pydata.org/pandas-docs/stable/user_guide/indexing.html#returning-a-view-versus-a-copy\n  errors=errors,\n",
     "output_type": "stream",
     "data": {}
    }
   ],
   "execution_count": null
  },
  {
   "cell_type": "code",
   "metadata": {
    "tags": [],
    "cell_id": "00010-db6fb54a-ab2f-4fb8-9ed9-65f1e0152fe8",
    "deepnote_to_be_reexecuted": false,
    "source_hash": "34035594",
    "execution_start": 1640225380872,
    "execution_millis": 130,
    "deepnote_cell_type": "code"
   },
   "source": "monitoring_closures_ec.sample(3)",
   "outputs": [
    {
     "output_type": "execute_result",
     "execution_count": 7,
     "data": {
      "application/vnd.deepnote.dataframe.v3+json": {
       "column_count": 2,
       "row_count": 3,
       "columns": [
        {
         "name": "Date",
         "dtype": "datetime64[ns]",
         "stats": {
          "unique_count": 3,
          "nan_count": 0,
          "min": "2020-09-09 00:00:00",
          "max": "2021-10-02 00:00:00",
          "histogram": [
           {
            "bin_start": 1599609600000000000,
            "bin_end": 1602961920000000000,
            "count": 1
           },
           {
            "bin_start": 1602961920000000000,
            "bin_end": 1606314240000000000,
            "count": 0
           },
           {
            "bin_start": 1606314240000000000,
            "bin_end": 1609666560000000000,
            "count": 0
           },
           {
            "bin_start": 1609666560000000000,
            "bin_end": 1613018880000000000,
            "count": 0
           },
           {
            "bin_start": 1613018880000000000,
            "bin_end": 1616371200000000000,
            "count": 1
           },
           {
            "bin_start": 1616371200000000000,
            "bin_end": 1619723520000000000,
            "count": 0
           },
           {
            "bin_start": 1619723520000000000,
            "bin_end": 1623075840000000000,
            "count": 0
           },
           {
            "bin_start": 1623075840000000000,
            "bin_end": 1626428160000000000,
            "count": 0
           },
           {
            "bin_start": 1626428160000000000,
            "bin_end": 1629780480000000000,
            "count": 0
           },
           {
            "bin_start": 1629780480000000000,
            "bin_end": 1633132800000000000,
            "count": 1
           }
          ]
         }
        },
        {
         "name": "Status",
         "dtype": "object",
         "stats": {
          "unique_count": 2,
          "nan_count": 0,
          "categories": [
           {
            "name": "Partially open",
            "count": 2
           },
           {
            "name": "Closed due to COVID-19",
            "count": 1
           }
          ]
         }
        },
        {
         "name": "_deepnote_index_column",
         "dtype": "int64"
        }
       ],
       "rows": [
        {
         "Date": "2020-09-09T00:00:00.000000",
         "Status": "Closed due to COVID-19",
         "_deepnote_index_column": 43316
        },
        {
         "Date": "2021-03-02T00:00:00.000000",
         "Status": "Partially open",
         "_deepnote_index_column": 79856
        },
        {
         "Date": "2021-10-02T00:00:00.000000",
         "Status": "Partially open",
         "_deepnote_index_column": 124796
        }
       ]
      },
      "text/plain": "             Date                  Status\n43316  2020-09-09  Closed due to COVID-19\n79856  2021-03-02          Partially open\n124796 2021-10-02          Partially open",
      "text/html": "<div>\n<style scoped>\n    .dataframe tbody tr th:only-of-type {\n        vertical-align: middle;\n    }\n\n    .dataframe tbody tr th {\n        vertical-align: top;\n    }\n\n    .dataframe thead th {\n        text-align: right;\n    }\n</style>\n<table border=\"1\" class=\"dataframe\">\n  <thead>\n    <tr style=\"text-align: right;\">\n      <th></th>\n      <th>Date</th>\n      <th>Status</th>\n    </tr>\n  </thead>\n  <tbody>\n    <tr>\n      <th>43316</th>\n      <td>2020-09-09</td>\n      <td>Closed due to COVID-19</td>\n    </tr>\n    <tr>\n      <th>79856</th>\n      <td>2021-03-02</td>\n      <td>Partially open</td>\n    </tr>\n    <tr>\n      <th>124796</th>\n      <td>2021-10-02</td>\n      <td>Partially open</td>\n    </tr>\n  </tbody>\n</table>\n</div>"
     },
     "metadata": {}
    }
   ],
   "execution_count": null
  },
  {
   "cell_type": "markdown",
   "source": "### Exportar",
   "metadata": {
    "tags": [],
    "cell_id": "00012-c6dbf487-28c4-4631-901e-953115b60749",
    "deepnote_cell_type": "markdown"
   }
  },
  {
   "cell_type": "code",
   "metadata": {
    "tags": [],
    "cell_id": "00011-0410a9cd-0c39-4888-a07a-1fc6eb5475e9",
    "deepnote_to_be_reexecuted": false,
    "source_hash": "d53a7b3a",
    "execution_start": 1640225381000,
    "execution_millis": 1,
    "deepnote_cell_type": "code"
   },
   "source": "monitoring_closures_ec.to_pickle('/work/covid-ec/data/processed/closures_education.pkl')",
   "outputs": [],
   "execution_count": null
  },
  {
   "cell_type": "code",
   "source": "monitoring_closures_ec.to_csv('/work/covid-ec/data/processed/sql/closures_education.csv', index=None)",
   "metadata": {
    "tags": [],
    "cell_id": "00012-1ac4077e-1ff2-4fb9-ab61-ea868aa07f15",
    "deepnote_to_be_reexecuted": false,
    "source_hash": "f6872e8",
    "execution_start": 1640225757259,
    "execution_millis": 156,
    "deepnote_cell_type": "code"
   },
   "outputs": [],
   "execution_count": null
  },
  {
   "cell_type": "markdown",
   "source": "## Histórico educación Ecuador dataset",
   "metadata": {
    "tags": [],
    "cell_id": "00002-9fd6c425-c552-4c14-9c8f-5aa6c653f322",
    "deepnote_cell_type": "markdown"
   }
  },
  {
   "cell_type": "code",
   "metadata": {
    "tags": [],
    "cell_id": "00004-6e3de261-64e2-475b-9dfe-5734574dd771",
    "deepnote_to_be_reexecuted": false,
    "source_hash": "fd163cfc",
    "execution_start": 1640225381001,
    "execution_millis": 2761,
    "deepnote_cell_type": "code"
   },
   "source": "# Uso latin1 para que lea caracteres especiales\neducation_ec = pd.read_csv('/work/covid-ec/data/raw/ec_registro-administrativo-historico_2009-2021.csv', encoding='latin1')",
   "outputs": [],
   "execution_count": null
  },
  {
   "cell_type": "code",
   "metadata": {
    "tags": [],
    "cell_id": "00015-a3c34e49-1955-48b7-bb85-1a4893256518",
    "deepnote_to_be_reexecuted": false,
    "source_hash": "14229e8d",
    "execution_start": 1640225383763,
    "execution_millis": 486,
    "deepnote_cell_type": "code"
   },
   "source": "education_ec.sample(5)",
   "outputs": [
    {
     "output_type": "execute_result",
     "execution_count": 10,
     "data": {
      "application/vnd.deepnote.dataframe.v3+json": {
       "column_count": 26,
       "row_count": 5,
       "columns": [
        {
         "name": "Clave_primaria",
         "dtype": "object",
         "stats": {
          "unique_count": 5,
          "nan_count": 0,
          "categories": [
           {
            "name": "05H000452015-2016",
            "count": 1
           },
           {
            "name": "03H003692010-2011",
            "count": 1
           },
           {
            "name": "3 others",
            "count": 3
           }
          ]
         }
        },
        {
         "name": "Clave_periodo",
         "dtype": "object",
         "stats": {
          "unique_count": 4,
          "nan_count": 0,
          "categories": [
           {
            "name": "2019-2020",
            "count": 2
           },
           {
            "name": "2015-2016",
            "count": 1
           },
           {
            "name": "2 others",
            "count": 2
           }
          ]
         }
        },
        {
         "name": "Periodo",
         "dtype": "object",
         "stats": {
          "unique_count": 4,
          "nan_count": 0,
          "categories": [
           {
            "name": "2019-2020 Fin",
            "count": 2
           },
           {
            "name": "2015-2016 Fin",
            "count": 1
           },
           {
            "name": "2 others",
            "count": 2
           }
          ]
         }
        },
        {
         "name": "Zona",
         "dtype": "object",
         "stats": {
          "unique_count": 4,
          "nan_count": 0,
          "categories": [
           {
            "name": "Zona 5",
            "count": 2
           },
           {
            "name": "Zona 3",
            "count": 1
           },
           {
            "name": "2 others",
            "count": 2
           }
          ]
         }
        },
        {
         "name": "Provincia",
         "dtype": "object",
         "stats": {
          "unique_count": 5,
          "nan_count": 0,
          "categories": [
           {
            "name": "COTOPAXI",
            "count": 1
           },
           {
            "name": "CAÑAR",
            "count": 1
           },
           {
            "name": "3 others",
            "count": 3
           }
          ]
         }
        },
        {
         "name": "Cod_Provincia",
         "dtype": "int64",
         "stats": {
          "unique_count": 5,
          "nan_count": 0,
          "min": "3",
          "max": "13",
          "histogram": [
           {
            "bin_start": 3,
            "bin_end": 4,
            "count": 1
           },
           {
            "bin_start": 4,
            "bin_end": 5,
            "count": 0
           },
           {
            "bin_start": 5,
            "bin_end": 6,
            "count": 1
           },
           {
            "bin_start": 6,
            "bin_end": 7,
            "count": 0
           },
           {
            "bin_start": 7,
            "bin_end": 8,
            "count": 0
           },
           {
            "bin_start": 8,
            "bin_end": 9,
            "count": 0
           },
           {
            "bin_start": 9,
            "bin_end": 10,
            "count": 1
           },
           {
            "bin_start": 10,
            "bin_end": 11,
            "count": 0
           },
           {
            "bin_start": 11,
            "bin_end": 12,
            "count": 0
           },
           {
            "bin_start": 12,
            "bin_end": 13,
            "count": 2
           }
          ]
         }
        },
        {
         "name": "Canton",
         "dtype": "object",
         "stats": {
          "unique_count": 5,
          "nan_count": 0,
          "categories": [
           {
            "name": "LATACUNGA",
            "count": 1
           },
           {
            "name": "CAÑAR",
            "count": 1
           },
           {
            "name": "3 others",
            "count": 3
           }
          ]
         }
        },
        {
         "name": "Cod_Canton",
         "dtype": "int64",
         "stats": {
          "unique_count": 5,
          "nan_count": 0,
          "min": "303",
          "max": "1301",
          "histogram": [
           {
            "bin_start": 303,
            "bin_end": 402.8,
            "count": 1
           },
           {
            "bin_start": 402.8,
            "bin_end": 502.6,
            "count": 1
           },
           {
            "bin_start": 502.6,
            "bin_end": 602.4,
            "count": 0
           },
           {
            "bin_start": 602.4,
            "bin_end": 702.2,
            "count": 0
           },
           {
            "bin_start": 702.2,
            "bin_end": 802,
            "count": 0
           },
           {
            "bin_start": 802,
            "bin_end": 901.8,
            "count": 0
           },
           {
            "bin_start": 901.8,
            "bin_end": 1001.6,
            "count": 1
           },
           {
            "bin_start": 1001.6,
            "bin_end": 1101.4,
            "count": 0
           },
           {
            "bin_start": 1101.4,
            "bin_end": 1201.1999999999998,
            "count": 0
           },
           {
            "bin_start": 1201.1999999999998,
            "bin_end": 1301,
            "count": 2
           }
          ]
         }
        },
        {
         "name": "Parroquia",
         "dtype": "object",
         "stats": {
          "unique_count": 5,
          "nan_count": 0,
          "categories": [
           {
            "name": "IGNACIO FLORES (PARQUE FLORES)",
            "count": 1
           },
           {
            "name": "GENERAL MORALES (SOCARTE)",
            "count": 1
           },
           {
            "name": "3 others",
            "count": 3
           }
          ]
         }
        },
        {
         "name": "Cod_Parroquia",
         "dtype": "int64",
         "stats": {
          "unique_count": 5,
          "nan_count": 0,
          "min": "30353",
          "max": "130151",
          "histogram": [
           {
            "bin_start": 30353,
            "bin_end": 40332.8,
            "count": 1
           },
           {
            "bin_start": 40332.8,
            "bin_end": 50312.6,
            "count": 1
           },
           {
            "bin_start": 50312.6,
            "bin_end": 60292.399999999994,
            "count": 0
           },
           {
            "bin_start": 60292.399999999994,
            "bin_end": 70272.2,
            "count": 0
           },
           {
            "bin_start": 70272.2,
            "bin_end": 80252,
            "count": 0
           },
           {
            "bin_start": 80252,
            "bin_end": 90231.79999999999,
            "count": 0
           },
           {
            "bin_start": 90231.79999999999,
            "bin_end": 100211.59999999999,
            "count": 1
           },
           {
            "bin_start": 100211.59999999999,
            "bin_end": 110191.4,
            "count": 0
           },
           {
            "bin_start": 110191.4,
            "bin_end": 120171.2,
            "count": 0
           },
           {
            "bin_start": 120171.2,
            "bin_end": 130151,
            "count": 2
           }
          ]
         }
        },
        {
         "name": "Nombre_Institucion",
         "dtype": "object",
         "stats": {
          "unique_count": 5,
          "nan_count": 0,
          "categories": [
           {
            "name": "UNIDAD EDUCATIVA CERIT",
            "count": 1
           },
           {
            "name": "SHUNGUMARCA",
            "count": 1
           },
           {
            "name": "3 others",
            "count": 3
           }
          ]
         }
        },
        {
         "name": "Codigo_Institucion",
         "dtype": "object",
         "stats": {
          "unique_count": 5,
          "nan_count": 0,
          "categories": [
           {
            "name": "05H00045",
            "count": 1
           },
           {
            "name": "03H00369",
            "count": 1
           },
           {
            "name": "3 others",
            "count": 3
           }
          ]
         }
        },
        {
         "name": "Escolarizacion",
         "dtype": "object",
         "stats": {
          "unique_count": 1,
          "nan_count": 0,
          "categories": [
           {
            "name": "Escolarizada",
            "count": 5
           }
          ]
         }
        },
        {
         "name": "Tipo_Educacion",
         "dtype": "object",
         "stats": {
          "unique_count": 2,
          "nan_count": 0,
          "categories": [
           {
            "name": "Educación Regular",
            "count": 4
           },
           {
            "name": "Educación Especial",
            "count": 1
           }
          ]
         }
        },
        {
         "name": "Sostenimiento",
         "dtype": "object",
         "stats": {
          "unique_count": 2,
          "nan_count": 0,
          "categories": [
           {
            "name": "Fiscal",
            "count": 4
           },
           {
            "name": "Particular",
            "count": 1
           }
          ]
         }
        },
        {
         "name": "Area",
         "dtype": "object",
         "stats": {
          "unique_count": 2,
          "nan_count": 0,
          "categories": [
           {
            "name": "RuralINEC",
            "count": 3
           },
           {
            "name": "UrbanaINEC",
            "count": 2
           }
          ]
         }
        },
        {
         "name": "Regimen_Escolar",
         "dtype": "object",
         "stats": {
          "unique_count": 2,
          "nan_count": 0,
          "categories": [
           {
            "name": "Costa",
            "count": 4
           },
           {
            "name": "Sierra",
            "count": 1
           }
          ]
         }
        },
        {
         "name": "Jurisdiccion",
         "dtype": "object",
         "stats": {
          "unique_count": 1,
          "nan_count": 0,
          "categories": [
           {
            "name": "Intercultural",
            "count": 5
           }
          ]
         }
        },
        {
         "name": "Modallidad",
         "dtype": "object",
         "stats": {
          "unique_count": 1,
          "nan_count": 0,
          "categories": [
           {
            "name": "Presencial",
            "count": 5
           }
          ]
         }
        },
        {
         "name": "Jornada",
         "dtype": "object",
         "stats": {
          "unique_count": 1,
          "nan_count": 0,
          "categories": [
           {
            "name": "Matutina",
            "count": 5
           }
          ]
         }
        },
        {
         "name": "Acceso_Edificio",
         "dtype": "object",
         "stats": {
          "unique_count": 1,
          "nan_count": 0,
          "categories": [
           {
            "name": "Terrestre",
            "count": 5
           }
          ]
         }
        },
        {
         "name": "Total_estudiantes",
         "dtype": "int64",
         "stats": {
          "unique_count": 5,
          "nan_count": 0,
          "min": "2",
          "max": "282",
          "histogram": [
           {
            "bin_start": 2,
            "bin_end": 30,
            "count": 1
           },
           {
            "bin_start": 30,
            "bin_end": 58,
            "count": 0
           },
           {
            "bin_start": 58,
            "bin_end": 86,
            "count": 1
           },
           {
            "bin_start": 86,
            "bin_end": 114,
            "count": 0
           },
           {
            "bin_start": 114,
            "bin_end": 142,
            "count": 1
           },
           {
            "bin_start": 142,
            "bin_end": 170,
            "count": 0
           },
           {
            "bin_start": 170,
            "bin_end": 198,
            "count": 0
           },
           {
            "bin_start": 198,
            "bin_end": 226,
            "count": 1
           },
           {
            "bin_start": 226,
            "bin_end": 254,
            "count": 0
           },
           {
            "bin_start": 254,
            "bin_end": 282,
            "count": 1
           }
          ]
         }
        },
        {
         "name": "Promovidos",
         "dtype": "int64",
         "stats": {
          "unique_count": 5,
          "nan_count": 0,
          "min": "2",
          "max": "282",
          "histogram": [
           {
            "bin_start": 2,
            "bin_end": 30,
            "count": 1
           },
           {
            "bin_start": 30,
            "bin_end": 58,
            "count": 1
           },
           {
            "bin_start": 58,
            "bin_end": 86,
            "count": 0
           },
           {
            "bin_start": 86,
            "bin_end": 114,
            "count": 0
           },
           {
            "bin_start": 114,
            "bin_end": 142,
            "count": 1
           },
           {
            "bin_start": 142,
            "bin_end": 170,
            "count": 0
           },
           {
            "bin_start": 170,
            "bin_end": 198,
            "count": 0
           },
           {
            "bin_start": 198,
            "bin_end": 226,
            "count": 1
           },
           {
            "bin_start": 226,
            "bin_end": 254,
            "count": 0
           },
           {
            "bin_start": 254,
            "bin_end": 282,
            "count": 1
           }
          ]
         }
        },
        {
         "name": "No promovidos",
         "dtype": "int64",
         "stats": {
          "unique_count": 2,
          "nan_count": 0,
          "min": "0",
          "max": "11",
          "histogram": [
           {
            "bin_start": 0,
            "bin_end": 1.1,
            "count": 4
           },
           {
            "bin_start": 1.1,
            "bin_end": 2.2,
            "count": 0
           },
           {
            "bin_start": 2.2,
            "bin_end": 3.3000000000000003,
            "count": 0
           },
           {
            "bin_start": 3.3000000000000003,
            "bin_end": 4.4,
            "count": 0
           },
           {
            "bin_start": 4.4,
            "bin_end": 5.5,
            "count": 0
           },
           {
            "bin_start": 5.5,
            "bin_end": 6.6000000000000005,
            "count": 0
           },
           {
            "bin_start": 6.6000000000000005,
            "bin_end": 7.700000000000001,
            "count": 0
           },
           {
            "bin_start": 7.700000000000001,
            "bin_end": 8.8,
            "count": 0
           },
           {
            "bin_start": 8.8,
            "bin_end": 9.9,
            "count": 0
           },
           {
            "bin_start": 9.9,
            "bin_end": 11,
            "count": 1
           }
          ]
         }
        },
        {
         "name": "Abandono",
         "dtype": "int64",
         "stats": {
          "unique_count": 3,
          "nan_count": 0,
          "min": "0",
          "max": "7",
          "histogram": [
           {
            "bin_start": 0,
            "bin_end": 0.7,
            "count": 3
           },
           {
            "bin_start": 0.7,
            "bin_end": 1.4,
            "count": 1
           },
           {
            "bin_start": 1.4,
            "bin_end": 2.0999999999999996,
            "count": 0
           },
           {
            "bin_start": 2.0999999999999996,
            "bin_end": 2.8,
            "count": 0
           },
           {
            "bin_start": 2.8,
            "bin_end": 3.5,
            "count": 0
           },
           {
            "bin_start": 3.5,
            "bin_end": 4.199999999999999,
            "count": 0
           },
           {
            "bin_start": 4.199999999999999,
            "bin_end": 4.8999999999999995,
            "count": 0
           },
           {
            "bin_start": 4.8999999999999995,
            "bin_end": 5.6,
            "count": 0
           },
           {
            "bin_start": 5.6,
            "bin_end": 6.3,
            "count": 0
           },
           {
            "bin_start": 6.3,
            "bin_end": 7,
            "count": 1
           }
          ]
         }
        },
        {
         "name": "Pais",
         "dtype": "object",
         "stats": {
          "unique_count": 1,
          "nan_count": 0,
          "categories": [
           {
            "name": "ECUADOR",
            "count": 5
           }
          ]
         }
        },
        {
         "name": "_deepnote_index_column",
         "dtype": "int64"
        }
       ],
       "rows": [
        {
         "Clave_primaria": "05H000452015-2016",
         "Clave_periodo": "2015-2016",
         "Periodo": "2015-2016 Fin",
         "Zona": "Zona 3",
         "Provincia": "COTOPAXI",
         "Cod_Provincia": 5,
         "Canton": "LATACUNGA",
         "Cod_Canton": 501,
         "Parroquia": "IGNACIO FLORES (PARQUE FLORES)",
         "Cod_Parroquia": 50102,
         "Nombre_Institucion": "UNIDAD EDUCATIVA CERIT",
         "Codigo_Institucion": "05H00045",
         "Escolarizacion": "Escolarizada",
         "Tipo_Educacion": "Educación Regular",
         "Sostenimiento": "Particular",
         "Area": "UrbanaINEC",
         "Regimen_Escolar": "Sierra",
         "Jurisdiccion": "Intercultural",
         "Modallidad": "Presencial",
         "Jornada": "Matutina",
         "Acceso_Edificio": "Terrestre",
         "Total_estudiantes": 282,
         "Promovidos": 282,
         "No promovidos": 0,
         "Abandono": 0,
         "Pais": "ECUADOR",
         "_deepnote_index_column": 142043
        },
        {
         "Clave_primaria": "03H003692010-2011",
         "Clave_periodo": "2010-2011",
         "Periodo": "2010-2011 Fin",
         "Zona": "Zona 6",
         "Provincia": "CAÑAR",
         "Cod_Provincia": 3,
         "Canton": "CAÑAR",
         "Cod_Canton": 303,
         "Parroquia": "GENERAL MORALES (SOCARTE)",
         "Cod_Parroquia": 30353,
         "Nombre_Institucion": "SHUNGUMARCA",
         "Codigo_Institucion": "03H00369",
         "Escolarizacion": "Escolarizada",
         "Tipo_Educacion": "Educación Regular",
         "Sostenimiento": "Fiscal",
         "Area": "RuralINEC",
         "Regimen_Escolar": "Costa",
         "Jurisdiccion": "Intercultural",
         "Modallidad": "Presencial",
         "Jornada": "Matutina",
         "Acceso_Edificio": "Terrestre",
         "Total_estudiantes": 2,
         "Promovidos": 2,
         "No promovidos": 0,
         "Abandono": 0,
         "Pais": "ECUADOR",
         "_deepnote_index_column": 27885
        },
        {
         "Clave_primaria": "09H042422011-2012",
         "Clave_periodo": "2011-2012",
         "Periodo": "2011-2012 Fin",
         "Zona": "Zona 5",
         "Provincia": "GUAYAS",
         "Cod_Provincia": 9,
         "Canton": "MILAGRO",
         "Cod_Canton": 910,
         "Parroquia": "MARISCAL SUCRE (HUAQUES)",
         "Cod_Parroquia": 91053,
         "Nombre_Institucion": "MIGUEL ANDRADE MANRIQUE",
         "Codigo_Institucion": "09H04242",
         "Escolarizacion": "Escolarizada",
         "Tipo_Educacion": "Educación Regular",
         "Sostenimiento": "Fiscal",
         "Area": "RuralINEC",
         "Regimen_Escolar": "Costa",
         "Jurisdiccion": "Intercultural",
         "Modallidad": "Presencial",
         "Jornada": "Matutina",
         "Acceso_Edificio": "Terrestre",
         "Total_estudiantes": 141,
         "Promovidos": 134,
         "No promovidos": 0,
         "Abandono": 7,
         "Pais": "ECUADOR",
         "_deepnote_index_column": 60860
        },
        {
         "Clave_primaria": "12H013812019-2020",
         "Clave_periodo": "2019-2020",
         "Periodo": "2019-2020 Fin",
         "Zona": "Zona 5",
         "Provincia": "LOS RIOS",
         "Cod_Provincia": 12,
         "Canton": "VINCES",
         "Cod_Canton": 1208,
         "Parroquia": "VINCES CENTRAL",
         "Cod_Parroquia": 120802,
         "Nombre_Institucion": "ESCUELA DE EDUCACION ESPECIAL 3 DE DICIEMBRE",
         "Codigo_Institucion": "12H01381",
         "Escolarizacion": "Escolarizada",
         "Tipo_Educacion": "Educación Especial",
         "Sostenimiento": "Fiscal",
         "Area": "UrbanaINEC",
         "Regimen_Escolar": "Costa",
         "Jurisdiccion": "Intercultural",
         "Modallidad": "Presencial",
         "Jornada": "Matutina",
         "Acceso_Edificio": "Terrestre",
         "Total_estudiantes": 59,
         "Promovidos": 48,
         "No promovidos": 11,
         "Abandono": 0,
         "Pais": "ECUADOR",
         "_deepnote_index_column": 214473
        },
        {
         "Clave_primaria": "13H005322019-2020",
         "Clave_periodo": "2019-2020",
         "Periodo": "2019-2020 Fin",
         "Zona": "Zona 4",
         "Provincia": "MANABI",
         "Cod_Provincia": 13,
         "Canton": "PORTOVIEJO",
         "Cod_Canton": 1301,
         "Parroquia": "ABDON CALDERON (SAN FRANCISCO)",
         "Cod_Parroquia": 130151,
         "Nombre_Institucion": "UNIDAD EDUCATIVA FISCAL ERNESTO MENDOZA LOOR",
         "Codigo_Institucion": "13H00532",
         "Escolarizacion": "Escolarizada",
         "Tipo_Educacion": "Educación Regular",
         "Sostenimiento": "Fiscal",
         "Area": "RuralINEC",
         "Regimen_Escolar": "Costa",
         "Jurisdiccion": "Intercultural",
         "Modallidad": "Presencial",
         "Jornada": "Matutina",
         "Acceso_Edificio": "Terrestre",
         "Total_estudiantes": 205,
         "Promovidos": 204,
         "No promovidos": 0,
         "Abandono": 1,
         "Pais": "ECUADOR",
         "_deepnote_index_column": 214932
        }
       ]
      },
      "text/plain": "           Clave_primaria Clave_periodo        Periodo    Zona Provincia  \\\n142043  05H000452015-2016     2015-2016  2015-2016 Fin  Zona 3  COTOPAXI   \n27885   03H003692010-2011     2010-2011  2010-2011 Fin  Zona 6     CAÑAR   \n60860   09H042422011-2012     2011-2012  2011-2012 Fin  Zona 5    GUAYAS   \n214473  12H013812019-2020     2019-2020  2019-2020 Fin  Zona 5  LOS RIOS   \n214932  13H005322019-2020     2019-2020  2019-2020 Fin  Zona 4    MANABI   \n\n        Cod_Provincia      Canton  Cod_Canton                       Parroquia  \\\n142043              5   LATACUNGA         501  IGNACIO FLORES (PARQUE FLORES)   \n27885               3       CAÑAR         303       GENERAL MORALES (SOCARTE)   \n60860               9     MILAGRO         910        MARISCAL SUCRE (HUAQUES)   \n214473             12      VINCES        1208                  VINCES CENTRAL   \n214932             13  PORTOVIEJO        1301  ABDON CALDERON (SAN FRANCISCO)   \n\n        Cod_Parroquia  ... Regimen_Escolar   Jurisdiccion  Modallidad  \\\n142043          50102  ...          Sierra  Intercultural  Presencial   \n27885           30353  ...           Costa  Intercultural  Presencial   \n60860           91053  ...           Costa  Intercultural  Presencial   \n214473         120802  ...           Costa  Intercultural  Presencial   \n214932         130151  ...           Costa  Intercultural  Presencial   \n\n         Jornada Acceso_Edificio Total_estudiantes Promovidos No promovidos  \\\n142043  Matutina       Terrestre               282        282             0   \n27885   Matutina       Terrestre                 2          2             0   \n60860   Matutina       Terrestre               141        134             0   \n214473  Matutina       Terrestre                59         48            11   \n214932  Matutina       Terrestre               205        204             0   \n\n       Abandono     Pais  \n142043        0  ECUADOR  \n27885         0  ECUADOR  \n60860         7  ECUADOR  \n214473        0  ECUADOR  \n214932        1  ECUADOR  \n\n[5 rows x 26 columns]",
      "text/html": "<div>\n<style scoped>\n    .dataframe tbody tr th:only-of-type {\n        vertical-align: middle;\n    }\n\n    .dataframe tbody tr th {\n        vertical-align: top;\n    }\n\n    .dataframe thead th {\n        text-align: right;\n    }\n</style>\n<table border=\"1\" class=\"dataframe\">\n  <thead>\n    <tr style=\"text-align: right;\">\n      <th></th>\n      <th>Clave_primaria</th>\n      <th>Clave_periodo</th>\n      <th>Periodo</th>\n      <th>Zona</th>\n      <th>Provincia</th>\n      <th>Cod_Provincia</th>\n      <th>Canton</th>\n      <th>Cod_Canton</th>\n      <th>Parroquia</th>\n      <th>Cod_Parroquia</th>\n      <th>...</th>\n      <th>Regimen_Escolar</th>\n      <th>Jurisdiccion</th>\n      <th>Modallidad</th>\n      <th>Jornada</th>\n      <th>Acceso_Edificio</th>\n      <th>Total_estudiantes</th>\n      <th>Promovidos</th>\n      <th>No promovidos</th>\n      <th>Abandono</th>\n      <th>Pais</th>\n    </tr>\n  </thead>\n  <tbody>\n    <tr>\n      <th>142043</th>\n      <td>05H000452015-2016</td>\n      <td>2015-2016</td>\n      <td>2015-2016 Fin</td>\n      <td>Zona 3</td>\n      <td>COTOPAXI</td>\n      <td>5</td>\n      <td>LATACUNGA</td>\n      <td>501</td>\n      <td>IGNACIO FLORES (PARQUE FLORES)</td>\n      <td>50102</td>\n      <td>...</td>\n      <td>Sierra</td>\n      <td>Intercultural</td>\n      <td>Presencial</td>\n      <td>Matutina</td>\n      <td>Terrestre</td>\n      <td>282</td>\n      <td>282</td>\n      <td>0</td>\n      <td>0</td>\n      <td>ECUADOR</td>\n    </tr>\n    <tr>\n      <th>27885</th>\n      <td>03H003692010-2011</td>\n      <td>2010-2011</td>\n      <td>2010-2011 Fin</td>\n      <td>Zona 6</td>\n      <td>CAÑAR</td>\n      <td>3</td>\n      <td>CAÑAR</td>\n      <td>303</td>\n      <td>GENERAL MORALES (SOCARTE)</td>\n      <td>30353</td>\n      <td>...</td>\n      <td>Costa</td>\n      <td>Intercultural</td>\n      <td>Presencial</td>\n      <td>Matutina</td>\n      <td>Terrestre</td>\n      <td>2</td>\n      <td>2</td>\n      <td>0</td>\n      <td>0</td>\n      <td>ECUADOR</td>\n    </tr>\n    <tr>\n      <th>60860</th>\n      <td>09H042422011-2012</td>\n      <td>2011-2012</td>\n      <td>2011-2012 Fin</td>\n      <td>Zona 5</td>\n      <td>GUAYAS</td>\n      <td>9</td>\n      <td>MILAGRO</td>\n      <td>910</td>\n      <td>MARISCAL SUCRE (HUAQUES)</td>\n      <td>91053</td>\n      <td>...</td>\n      <td>Costa</td>\n      <td>Intercultural</td>\n      <td>Presencial</td>\n      <td>Matutina</td>\n      <td>Terrestre</td>\n      <td>141</td>\n      <td>134</td>\n      <td>0</td>\n      <td>7</td>\n      <td>ECUADOR</td>\n    </tr>\n    <tr>\n      <th>214473</th>\n      <td>12H013812019-2020</td>\n      <td>2019-2020</td>\n      <td>2019-2020 Fin</td>\n      <td>Zona 5</td>\n      <td>LOS RIOS</td>\n      <td>12</td>\n      <td>VINCES</td>\n      <td>1208</td>\n      <td>VINCES CENTRAL</td>\n      <td>120802</td>\n      <td>...</td>\n      <td>Costa</td>\n      <td>Intercultural</td>\n      <td>Presencial</td>\n      <td>Matutina</td>\n      <td>Terrestre</td>\n      <td>59</td>\n      <td>48</td>\n      <td>11</td>\n      <td>0</td>\n      <td>ECUADOR</td>\n    </tr>\n    <tr>\n      <th>214932</th>\n      <td>13H005322019-2020</td>\n      <td>2019-2020</td>\n      <td>2019-2020 Fin</td>\n      <td>Zona 4</td>\n      <td>MANABI</td>\n      <td>13</td>\n      <td>PORTOVIEJO</td>\n      <td>1301</td>\n      <td>ABDON CALDERON (SAN FRANCISCO)</td>\n      <td>130151</td>\n      <td>...</td>\n      <td>Costa</td>\n      <td>Intercultural</td>\n      <td>Presencial</td>\n      <td>Matutina</td>\n      <td>Terrestre</td>\n      <td>205</td>\n      <td>204</td>\n      <td>0</td>\n      <td>1</td>\n      <td>ECUADOR</td>\n    </tr>\n  </tbody>\n</table>\n<p>5 rows × 26 columns</p>\n</div>"
     },
     "metadata": {}
    }
   ],
   "execution_count": null
  },
  {
   "cell_type": "code",
   "metadata": {
    "tags": [],
    "cell_id": "00014-63292a34-5720-4507-bc93-c1eec555f375",
    "deepnote_to_be_reexecuted": false,
    "source_hash": "5f6e6b7e",
    "execution_start": 1640225384247,
    "execution_millis": 386,
    "deepnote_cell_type": "code"
   },
   "source": "education_ec.info()",
   "outputs": [
    {
     "name": "stdout",
     "text": "<class 'pandas.core.frame.DataFrame'>\nRangeIndex: 237963 entries, 0 to 237962\nData columns (total 26 columns):\n #   Column              Non-Null Count   Dtype \n---  ------              --------------   ----- \n 0   Clave_primaria      237963 non-null  object\n 1   Clave_periodo       237963 non-null  object\n 2   Periodo             237963 non-null  object\n 3   Zona                237963 non-null  object\n 4   Provincia           237963 non-null  object\n 5   Cod_Provincia       237963 non-null  int64 \n 6   Canton              237963 non-null  object\n 7   Cod_Canton          237963 non-null  int64 \n 8   Parroquia           237963 non-null  object\n 9   Cod_Parroquia       237963 non-null  int64 \n 10  Nombre_Institucion  237963 non-null  object\n 11  Codigo_Institucion  237963 non-null  object\n 12  Escolarizacion      237963 non-null  object\n 13  Tipo_Educacion      237963 non-null  object\n 14  Sostenimiento       237963 non-null  object\n 15  Area                237963 non-null  object\n 16  Regimen_Escolar     237963 non-null  object\n 17  Jurisdiccion        237963 non-null  object\n 18  Modallidad          237963 non-null  object\n 19  Jornada             237963 non-null  object\n 20  Acceso_Edificio     237963 non-null  object\n 21  Total_estudiantes   237963 non-null  int64 \n 22  Promovidos          237963 non-null  int64 \n 23  No promovidos       237963 non-null  int64 \n 24  Abandono            237963 non-null  int64 \n 25  Pais                237963 non-null  object\ndtypes: int64(7), object(19)\nmemory usage: 47.2+ MB\n",
     "output_type": "stream",
     "data": {}
    }
   ],
   "execution_count": null
  },
  {
   "cell_type": "markdown",
   "source": "El dataset es bastante extenso. Se eliminarán todas las columnas no relevantes para el análisis.",
   "metadata": {
    "tags": [],
    "cell_id": "00016-6365c445-bc86-462f-8a46-69214afe9e46",
    "deepnote_cell_type": "markdown"
   }
  },
  {
   "cell_type": "code",
   "metadata": {
    "tags": [],
    "cell_id": "00017-6c8942bf-6ec9-4a98-880e-f9ccc03fce12",
    "deepnote_to_be_reexecuted": false,
    "source_hash": "cbb0c6c5",
    "execution_start": 1640225384638,
    "execution_millis": 18,
    "deepnote_cell_type": "code"
   },
   "source": "columns = [\n    \"Clave_primaria\",\n    \"Clave_periodo\",\n    \"Zona\",\n    \"Cod_Provincia\",\n    \"Canton\",\n    \"Cod_Canton\",\n    \"Parroquia\",\n    \"Cod_Parroquia\",\n    \"Nombre_Institucion\",\n    \"Codigo_Institucion\",\n    \"Escolarizacion\",\n    \"Tipo_Educacion\",\n    \"Regimen_Escolar\",\n    \"Jurisdiccion\",\n    \"Acceso_Edificio\",\n    \"Pais\",\n]",
   "outputs": [],
   "execution_count": null
  },
  {
   "cell_type": "code",
   "metadata": {
    "tags": [],
    "cell_id": "00017-17c51cdb-8ea0-4778-bd06-00626f716a9c",
    "deepnote_to_be_reexecuted": false,
    "source_hash": "b9ea1526",
    "execution_start": 1640225384670,
    "execution_millis": 76,
    "deepnote_cell_type": "code"
   },
   "source": "education_ec.drop(columns=columns, inplace=True)",
   "outputs": [],
   "execution_count": null
  },
  {
   "cell_type": "code",
   "metadata": {
    "tags": [],
    "cell_id": "00019-6a227b26-cd07-4fc4-969c-647713c66fc8",
    "deepnote_to_be_reexecuted": false,
    "source_hash": "14229e8d",
    "execution_start": 1640225384757,
    "execution_millis": 161,
    "deepnote_cell_type": "code"
   },
   "source": "education_ec.sample(5)",
   "outputs": [
    {
     "output_type": "execute_result",
     "execution_count": 14,
     "data": {
      "application/vnd.deepnote.dataframe.v3+json": {
       "column_count": 10,
       "row_count": 5,
       "columns": [
        {
         "name": "Periodo",
         "dtype": "object",
         "stats": {
          "unique_count": 3,
          "nan_count": 0,
          "categories": [
           {
            "name": "2011-2012 Fin",
            "count": 3
           },
           {
            "name": "2012-2013 Fin",
            "count": 1
           },
           {
            "name": "2013-2014 Fin",
            "count": 1
           }
          ]
         }
        },
        {
         "name": "Provincia",
         "dtype": "object",
         "stats": {
          "unique_count": 5,
          "nan_count": 0,
          "categories": [
           {
            "name": "ZAMORA CHINCHIPE",
            "count": 1
           },
           {
            "name": "LOJA",
            "count": 1
           },
           {
            "name": "3 others",
            "count": 3
           }
          ]
         }
        },
        {
         "name": "Sostenimiento",
         "dtype": "object",
         "stats": {
          "unique_count": 1,
          "nan_count": 0,
          "categories": [
           {
            "name": "Fiscal",
            "count": 5
           }
          ]
         }
        },
        {
         "name": "Area",
         "dtype": "object",
         "stats": {
          "unique_count": 2,
          "nan_count": 0,
          "categories": [
           {
            "name": "RuralINEC",
            "count": 4
           },
           {
            "name": "UrbanaINEC",
            "count": 1
           }
          ]
         }
        },
        {
         "name": "Modallidad",
         "dtype": "object",
         "stats": {
          "unique_count": 1,
          "nan_count": 0,
          "categories": [
           {
            "name": "Presencial",
            "count": 5
           }
          ]
         }
        },
        {
         "name": "Jornada",
         "dtype": "object",
         "stats": {
          "unique_count": 1,
          "nan_count": 0,
          "categories": [
           {
            "name": "Matutina",
            "count": 5
           }
          ]
         }
        },
        {
         "name": "Total_estudiantes",
         "dtype": "int64",
         "stats": {
          "unique_count": 5,
          "nan_count": 0,
          "min": "18",
          "max": "490",
          "histogram": [
           {
            "bin_start": 18,
            "bin_end": 65.2,
            "count": 3
           },
           {
            "bin_start": 65.2,
            "bin_end": 112.4,
            "count": 0
           },
           {
            "bin_start": 112.4,
            "bin_end": 159.60000000000002,
            "count": 0
           },
           {
            "bin_start": 159.60000000000002,
            "bin_end": 206.8,
            "count": 1
           },
           {
            "bin_start": 206.8,
            "bin_end": 254,
            "count": 0
           },
           {
            "bin_start": 254,
            "bin_end": 301.20000000000005,
            "count": 0
           },
           {
            "bin_start": 301.20000000000005,
            "bin_end": 348.40000000000003,
            "count": 0
           },
           {
            "bin_start": 348.40000000000003,
            "bin_end": 395.6,
            "count": 0
           },
           {
            "bin_start": 395.6,
            "bin_end": 442.8,
            "count": 0
           },
           {
            "bin_start": 442.8,
            "bin_end": 490,
            "count": 1
           }
          ]
         }
        },
        {
         "name": "Promovidos",
         "dtype": "int64",
         "stats": {
          "unique_count": 5,
          "nan_count": 0,
          "min": "18",
          "max": "466",
          "histogram": [
           {
            "bin_start": 18,
            "bin_end": 62.8,
            "count": 3
           },
           {
            "bin_start": 62.8,
            "bin_end": 107.6,
            "count": 0
           },
           {
            "bin_start": 107.6,
            "bin_end": 152.39999999999998,
            "count": 0
           },
           {
            "bin_start": 152.39999999999998,
            "bin_end": 197.2,
            "count": 1
           },
           {
            "bin_start": 197.2,
            "bin_end": 242,
            "count": 0
           },
           {
            "bin_start": 242,
            "bin_end": 286.79999999999995,
            "count": 0
           },
           {
            "bin_start": 286.79999999999995,
            "bin_end": 331.59999999999997,
            "count": 0
           },
           {
            "bin_start": 331.59999999999997,
            "bin_end": 376.4,
            "count": 0
           },
           {
            "bin_start": 376.4,
            "bin_end": 421.2,
            "count": 0
           },
           {
            "bin_start": 421.2,
            "bin_end": 466,
            "count": 1
           }
          ]
         }
        },
        {
         "name": "No promovidos",
         "dtype": "int64",
         "stats": {
          "unique_count": 2,
          "nan_count": 0,
          "min": "0",
          "max": "4",
          "histogram": [
           {
            "bin_start": 0,
            "bin_end": 0.4,
            "count": 4
           },
           {
            "bin_start": 0.4,
            "bin_end": 0.8,
            "count": 0
           },
           {
            "bin_start": 0.8,
            "bin_end": 1.2000000000000002,
            "count": 0
           },
           {
            "bin_start": 1.2000000000000002,
            "bin_end": 1.6,
            "count": 0
           },
           {
            "bin_start": 1.6,
            "bin_end": 2,
            "count": 0
           },
           {
            "bin_start": 2,
            "bin_end": 2.4000000000000004,
            "count": 0
           },
           {
            "bin_start": 2.4000000000000004,
            "bin_end": 2.8000000000000003,
            "count": 0
           },
           {
            "bin_start": 2.8000000000000003,
            "bin_end": 3.2,
            "count": 0
           },
           {
            "bin_start": 3.2,
            "bin_end": 3.6,
            "count": 0
           },
           {
            "bin_start": 3.6,
            "bin_end": 4,
            "count": 1
           }
          ]
         }
        },
        {
         "name": "Abandono",
         "dtype": "int64",
         "stats": {
          "unique_count": 3,
          "nan_count": 0,
          "min": "0",
          "max": "24",
          "histogram": [
           {
            "bin_start": 0,
            "bin_end": 2.4,
            "count": 3
           },
           {
            "bin_start": 2.4,
            "bin_end": 4.8,
            "count": 0
           },
           {
            "bin_start": 4.8,
            "bin_end": 7.199999999999999,
            "count": 0
           },
           {
            "bin_start": 7.199999999999999,
            "bin_end": 9.6,
            "count": 0
           },
           {
            "bin_start": 9.6,
            "bin_end": 12,
            "count": 0
           },
           {
            "bin_start": 12,
            "bin_end": 14.399999999999999,
            "count": 1
           },
           {
            "bin_start": 14.399999999999999,
            "bin_end": 16.8,
            "count": 0
           },
           {
            "bin_start": 16.8,
            "bin_end": 19.2,
            "count": 0
           },
           {
            "bin_start": 19.2,
            "bin_end": 21.599999999999998,
            "count": 0
           },
           {
            "bin_start": 21.599999999999998,
            "bin_end": 24,
            "count": 1
           }
          ]
         }
        },
        {
         "name": "_deepnote_index_column",
         "dtype": "int64"
        }
       ],
       "rows": [
        {
         "Periodo": "2011-2012 Fin",
         "Provincia": "ZAMORA CHINCHIPE",
         "Sostenimiento": "Fiscal",
         "Area": "RuralINEC",
         "Modallidad": "Presencial",
         "Jornada": "Matutina",
         "Total_estudiantes": 54,
         "Promovidos": 54,
         "No promovidos": 0,
         "Abandono": 0,
         "_deepnote_index_column": 73879
        },
        {
         "Periodo": "2012-2013 Fin",
         "Provincia": "LOJA",
         "Sostenimiento": "Fiscal",
         "Area": "RuralINEC",
         "Modallidad": "Presencial",
         "Jornada": "Matutina",
         "Total_estudiantes": 18,
         "Promovidos": 18,
         "No promovidos": 0,
         "Abandono": 0,
         "_deepnote_index_column": 88049
        },
        {
         "Periodo": "2013-2014 Fin",
         "Provincia": "LOS RIOS",
         "Sostenimiento": "Fiscal",
         "Area": "UrbanaINEC",
         "Modallidad": "Presencial",
         "Jornada": "Matutina",
         "Total_estudiantes": 490,
         "Promovidos": 466,
         "No promovidos": 0,
         "Abandono": 24,
         "_deepnote_index_column": 112141
        },
        {
         "Periodo": "2011-2012 Fin",
         "Provincia": "MORONA SANTIAGO",
         "Sostenimiento": "Fiscal",
         "Area": "RuralINEC",
         "Modallidad": "Presencial",
         "Jornada": "Matutina",
         "Total_estudiantes": 26,
         "Promovidos": 26,
         "No promovidos": 0,
         "Abandono": 0,
         "_deepnote_index_column": 69372
        },
        {
         "Periodo": "2011-2012 Fin",
         "Provincia": "CAÑAR",
         "Sostenimiento": "Fiscal",
         "Area": "RuralINEC",
         "Modallidad": "Presencial",
         "Jornada": "Matutina",
         "Total_estudiantes": 191,
         "Promovidos": 173,
         "No promovidos": 4,
         "Abandono": 14,
         "_deepnote_index_column": 53430
        }
       ]
      },
      "text/plain": "              Periodo         Provincia Sostenimiento        Area  Modallidad  \\\n73879   2011-2012 Fin  ZAMORA CHINCHIPE        Fiscal   RuralINEC  Presencial   \n88049   2012-2013 Fin              LOJA        Fiscal   RuralINEC  Presencial   \n112141  2013-2014 Fin          LOS RIOS        Fiscal  UrbanaINEC  Presencial   \n69372   2011-2012 Fin   MORONA SANTIAGO        Fiscal   RuralINEC  Presencial   \n53430   2011-2012 Fin             CAÑAR        Fiscal   RuralINEC  Presencial   \n\n         Jornada  Total_estudiantes  Promovidos  No promovidos  Abandono  \n73879   Matutina                 54          54              0         0  \n88049   Matutina                 18          18              0         0  \n112141  Matutina                490         466              0        24  \n69372   Matutina                 26          26              0         0  \n53430   Matutina                191         173              4        14  ",
      "text/html": "<div>\n<style scoped>\n    .dataframe tbody tr th:only-of-type {\n        vertical-align: middle;\n    }\n\n    .dataframe tbody tr th {\n        vertical-align: top;\n    }\n\n    .dataframe thead th {\n        text-align: right;\n    }\n</style>\n<table border=\"1\" class=\"dataframe\">\n  <thead>\n    <tr style=\"text-align: right;\">\n      <th></th>\n      <th>Periodo</th>\n      <th>Provincia</th>\n      <th>Sostenimiento</th>\n      <th>Area</th>\n      <th>Modallidad</th>\n      <th>Jornada</th>\n      <th>Total_estudiantes</th>\n      <th>Promovidos</th>\n      <th>No promovidos</th>\n      <th>Abandono</th>\n    </tr>\n  </thead>\n  <tbody>\n    <tr>\n      <th>73879</th>\n      <td>2011-2012 Fin</td>\n      <td>ZAMORA CHINCHIPE</td>\n      <td>Fiscal</td>\n      <td>RuralINEC</td>\n      <td>Presencial</td>\n      <td>Matutina</td>\n      <td>54</td>\n      <td>54</td>\n      <td>0</td>\n      <td>0</td>\n    </tr>\n    <tr>\n      <th>88049</th>\n      <td>2012-2013 Fin</td>\n      <td>LOJA</td>\n      <td>Fiscal</td>\n      <td>RuralINEC</td>\n      <td>Presencial</td>\n      <td>Matutina</td>\n      <td>18</td>\n      <td>18</td>\n      <td>0</td>\n      <td>0</td>\n    </tr>\n    <tr>\n      <th>112141</th>\n      <td>2013-2014 Fin</td>\n      <td>LOS RIOS</td>\n      <td>Fiscal</td>\n      <td>UrbanaINEC</td>\n      <td>Presencial</td>\n      <td>Matutina</td>\n      <td>490</td>\n      <td>466</td>\n      <td>0</td>\n      <td>24</td>\n    </tr>\n    <tr>\n      <th>69372</th>\n      <td>2011-2012 Fin</td>\n      <td>MORONA SANTIAGO</td>\n      <td>Fiscal</td>\n      <td>RuralINEC</td>\n      <td>Presencial</td>\n      <td>Matutina</td>\n      <td>26</td>\n      <td>26</td>\n      <td>0</td>\n      <td>0</td>\n    </tr>\n    <tr>\n      <th>53430</th>\n      <td>2011-2012 Fin</td>\n      <td>CAÑAR</td>\n      <td>Fiscal</td>\n      <td>RuralINEC</td>\n      <td>Presencial</td>\n      <td>Matutina</td>\n      <td>191</td>\n      <td>173</td>\n      <td>4</td>\n      <td>14</td>\n    </tr>\n  </tbody>\n</table>\n</div>"
     },
     "metadata": {}
    }
   ],
   "execution_count": null
  },
  {
   "cell_type": "markdown",
   "source": "### Exportar",
   "metadata": {
    "tags": [],
    "cell_id": "00018-f9feccc7-e5f5-42d9-8155-ae88eead55c3",
    "deepnote_cell_type": "markdown"
   }
  },
  {
   "cell_type": "code",
   "metadata": {
    "tags": [],
    "cell_id": "00019-b484984a-5a97-4d8a-91f9-10a7a038477c",
    "deepnote_to_be_reexecuted": false,
    "source_hash": "29e43a3f",
    "execution_start": 1640225411524,
    "execution_millis": 2326,
    "deepnote_cell_type": "code"
   },
   "source": "education_ec.to_pickle('/work/covid-ec/data/processed/education_ec.pkl')\neducation_ec.to_csv('/work/covid-ec/data/processed/sql/education_ec.csv', index=None)",
   "outputs": [],
   "execution_count": null
  },
  {
   "cell_type": "markdown",
   "source": "<a style='text-decoration:none;line-height:16px;display:flex;color:#5B5B62;padding:10px;justify-content:end;' href='https://deepnote.com?utm_source=created-in-deepnote-cell&projectId=e7b048df-fc9b-4970-aa88-df153b270a6f' target=\"_blank\">\n<img alt='Created in deepnote.com' style='display:inline;max-height:16px;margin:0px;margin-right:7.5px;' src='data:image/svg+xml;base64,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' > </img>\nCreated in <span style='font-weight:600;margin-left:4px;'>Deepnote</span></a>",
   "metadata": {
    "tags": [],
    "created_in_deepnote_cell": true,
    "deepnote_cell_type": "markdown"
   }
  }
 ],
 "nbformat": 4,
 "nbformat_minor": 2,
 "metadata": {
  "orig_nbformat": 2,
  "deepnote": {
   "is_reactive": false
  },
  "deepnote_notebook_id": "92703c2b-dcd0-4172-a6bb-5ed065982cd8",
  "deepnote_execution_queue": []
 }
}