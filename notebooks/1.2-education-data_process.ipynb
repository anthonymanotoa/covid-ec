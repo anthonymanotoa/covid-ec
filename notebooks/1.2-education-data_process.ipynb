{
 "cells": [
  {
   "cell_type": "markdown",
   "source": "# Procesamiento data educación\n",
   "metadata": {
    "tags": [],
    "cell_id": "00001-9a4e9ec1-2eb2-4868-a22d-5d60aa6cbf10",
    "deepnote_cell_type": "markdown"
   }
  },
  {
   "cell_type": "code",
   "metadata": {
    "tags": [],
    "cell_id": "00001-962d092e-4ca9-4c1a-9ae6-86c20fc1af95",
    "deepnote_to_be_reexecuted": false,
    "source_hash": "ca95b7f9",
    "execution_start": 1641348356806,
    "execution_millis": 44,
    "deepnote_cell_type": "code"
   },
   "source": "import pandas as pd\nimport os",
   "execution_count": 1,
   "outputs": []
  },
  {
   "cell_type": "markdown",
   "source": "## UNESCO duración de cierres dataset",
   "metadata": {
    "tags": [],
    "cell_id": "00002-1bd2ff5e-d25e-42a9-b91d-26b4d02232d7",
    "deepnote_cell_type": "markdown"
   }
  },
  {
   "cell_type": "code",
   "metadata": {
    "tags": [],
    "cell_id": "00003-3e0b7eaf-8bf2-4edd-99b2-8461973ab6aa",
    "deepnote_to_be_reexecuted": false,
    "source_hash": "fff81aa9",
    "execution_start": 1641348356851,
    "execution_millis": 104,
    "deepnote_cell_type": "code"
   },
   "source": "path_raw = os.path.join(os.getcwd(), os.pardir, 'data', 'raw')\nmonitoring_closures = pd.read_csv(os.path.join(path_raw, 'monitoring_school_closures.csv'))",
   "execution_count": 2,
   "outputs": []
  },
  {
   "cell_type": "code",
   "metadata": {
    "tags": [],
    "cell_id": "00004-61ab70f3-f7a4-4131-b66d-adf60259d818",
    "deepnote_to_be_reexecuted": false,
    "source_hash": "ba28e204",
    "execution_start": 1641348357023,
    "execution_millis": 2,
    "deepnote_table_state": {
     "pageSize": 10,
     "pageIndex": 0,
     "filters": [],
     "sortBy": []
    },
    "deepnote_table_loading": false,
    "deepnote_table_invalid": false,
    "deepnote_cell_type": "code"
   },
   "source": "monitoring_closures.info()",
   "execution_count": 3,
   "outputs": [
    {
     "name": "stdout",
     "text": "<class 'pandas.core.frame.DataFrame'>\nRangeIndex: 131040 entries, 0 to 131039\nData columns (total 5 columns):\n #   Column   Non-Null Count   Dtype  \n---  ------   --------------   -----  \n 0   Date     131040 non-null  object \n 1   ISO      131040 non-null  object \n 2   Country  131040 non-null  object \n 3   Status   131040 non-null  object \n 4   Note     0 non-null       float64\ndtypes: float64(1), object(4)\nmemory usage: 5.0+ MB\n",
     "output_type": "stream",
     "data": {}
    }
   ]
  },
  {
   "cell_type": "markdown",
   "source": "Se debe cambiar `Date` a datetime. Se debe filtrar solo por datos de Ecuador. Por último, las columanas `Note`, `ISO` y `Country` no son relevantes para el análisis.",
   "metadata": {
    "tags": [],
    "cell_id": "00005-707ebb28-6557-4e0f-853d-11f1b6cd7c66",
    "deepnote_cell_type": "markdown"
   }
  },
  {
   "cell_type": "code",
   "metadata": {
    "tags": [],
    "cell_id": "00005-d3df59d4-9d87-4e5e-bb73-349b782730d4",
    "deepnote_to_be_reexecuted": false,
    "source_hash": "1308a9",
    "execution_start": 1641348357024,
    "execution_millis": 42,
    "deepnote_cell_type": "code"
   },
   "source": "monitoring_closures['Date'] = pd.to_datetime(monitoring_closures['Date'], dayfirst=True)",
   "execution_count": 4,
   "outputs": []
  },
  {
   "cell_type": "code",
   "metadata": {
    "tags": [],
    "cell_id": "00008-e3143bd6-6df1-4fb1-9341-2a1a3dc393a7",
    "deepnote_to_be_reexecuted": false,
    "source_hash": "8158900",
    "execution_start": 1641348357067,
    "execution_millis": 0,
    "deepnote_cell_type": "code"
   },
   "source": "monitoring_closures_ec = monitoring_closures[monitoring_closures['Country']=='Ecuador']",
   "execution_count": 5,
   "outputs": []
  },
  {
   "cell_type": "code",
   "metadata": {
    "tags": [],
    "cell_id": "00006-6faaa9a1-8ce0-41a6-9310-c891c80ae5e9",
    "deepnote_to_be_reexecuted": false,
    "source_hash": "22a49663",
    "execution_start": 1641348357068,
    "execution_millis": 44,
    "deepnote_output_heights": [
     231.078125
    ],
    "deepnote_cell_type": "code"
   },
   "source": "monitoring_closures_ec.drop(columns=['ISO', 'Note', 'Country'], inplace=True)",
   "execution_count": 6,
   "outputs": [
    {
     "name": "stderr",
     "text": "/shared-libs/python3.7/py/lib/python3.7/site-packages/pandas/core/frame.py:4315: SettingWithCopyWarning: \nA value is trying to be set on a copy of a slice from a DataFrame\n\nSee the caveats in the documentation: https://pandas.pydata.org/pandas-docs/stable/user_guide/indexing.html#returning-a-view-versus-a-copy\n  errors=errors,\n",
     "output_type": "stream",
     "data": {}
    }
   ]
  },
  {
   "cell_type": "code",
   "metadata": {
    "tags": [],
    "cell_id": "00010-db6fb54a-ab2f-4fb8-9ed9-65f1e0152fe8",
    "deepnote_to_be_reexecuted": false,
    "source_hash": "34035594",
    "execution_start": 1641348357111,
    "execution_millis": 20,
    "deepnote_cell_type": "code"
   },
   "source": "monitoring_closures_ec.sample(3)",
   "execution_count": 7,
   "outputs": [
    {
     "output_type": "execute_result",
     "execution_count": 7,
     "data": {
      "application/vnd.deepnote.dataframe.v3+json": {
       "column_count": 2,
       "row_count": 3,
       "columns": [
        {
         "name": "Date",
         "dtype": "datetime64[ns]",
         "stats": {
          "unique_count": 3,
          "nan_count": 0,
          "min": "2020-07-22 00:00:00",
          "max": "2021-06-12 00:00:00",
          "histogram": [
           {
            "bin_start": 1595376000000000000,
            "bin_end": 1598184000000000000,
            "count": 1
           },
           {
            "bin_start": 1598184000000000000,
            "bin_end": 1600992000000000000,
            "count": 0
           },
           {
            "bin_start": 1600992000000000000,
            "bin_end": 1603800000000000000,
            "count": 1
           },
           {
            "bin_start": 1603800000000000000,
            "bin_end": 1606608000000000000,
            "count": 0
           },
           {
            "bin_start": 1606608000000000000,
            "bin_end": 1609416000000000000,
            "count": 0
           },
           {
            "bin_start": 1609416000000000000,
            "bin_end": 1612224000000000000,
            "count": 0
           },
           {
            "bin_start": 1612224000000000000,
            "bin_end": 1615032000000000000,
            "count": 0
           },
           {
            "bin_start": 1615032000000000000,
            "bin_end": 1617840000000000000,
            "count": 0
           },
           {
            "bin_start": 1617840000000000000,
            "bin_end": 1620648000000000000,
            "count": 0
           },
           {
            "bin_start": 1620648000000000000,
            "bin_end": 1623456000000000000,
            "count": 1
           }
          ]
         }
        },
        {
         "name": "Status",
         "dtype": "object",
         "stats": {
          "unique_count": 3,
          "nan_count": 0,
          "categories": [
           {
            "name": "Closed due to COVID-19",
            "count": 1
           },
           {
            "name": "Academic break",
            "count": 1
           },
           {
            "name": "Partially open",
            "count": 1
           }
          ]
         }
        },
        {
         "name": "_deepnote_index_column",
         "dtype": "int64"
        }
       ],
       "rows": [
        {
         "Date": "2020-10-04T00:00:00.000000",
         "Status": "Closed due to COVID-19",
         "_deepnote_index_column": 48566
        },
        {
         "Date": "2020-07-22T00:00:00.000000",
         "Status": "Academic break",
         "_deepnote_index_column": 33026
        },
        {
         "Date": "2021-06-12T00:00:00.000000",
         "Status": "Partially open",
         "_deepnote_index_column": 101276
        }
       ]
      },
      "text/plain": "             Date                  Status\n48566  2020-10-04  Closed due to COVID-19\n33026  2020-07-22          Academic break\n101276 2021-06-12          Partially open",
      "text/html": "<div>\n<style scoped>\n    .dataframe tbody tr th:only-of-type {\n        vertical-align: middle;\n    }\n\n    .dataframe tbody tr th {\n        vertical-align: top;\n    }\n\n    .dataframe thead th {\n        text-align: right;\n    }\n</style>\n<table border=\"1\" class=\"dataframe\">\n  <thead>\n    <tr style=\"text-align: right;\">\n      <th></th>\n      <th>Date</th>\n      <th>Status</th>\n    </tr>\n  </thead>\n  <tbody>\n    <tr>\n      <th>48566</th>\n      <td>2020-10-04</td>\n      <td>Closed due to COVID-19</td>\n    </tr>\n    <tr>\n      <th>33026</th>\n      <td>2020-07-22</td>\n      <td>Academic break</td>\n    </tr>\n    <tr>\n      <th>101276</th>\n      <td>2021-06-12</td>\n      <td>Partially open</td>\n    </tr>\n  </tbody>\n</table>\n</div>"
     },
     "metadata": {}
    }
   ]
  },
  {
   "cell_type": "markdown",
   "source": "### Exportar",
   "metadata": {
    "tags": [],
    "cell_id": "00012-c6dbf487-28c4-4631-901e-953115b60749",
    "deepnote_cell_type": "markdown"
   }
  },
  {
   "cell_type": "code",
   "metadata": {
    "tags": [],
    "cell_id": "00011-50c0def9-f481-4b98-9ddf-7b040bc19224",
    "deepnote_to_be_reexecuted": false,
    "source_hash": "80817e37",
    "execution_start": 1641348357133,
    "execution_millis": 3,
    "deepnote_cell_type": "code"
   },
   "source": "path_processed = os.path.join(os.getcwd(), os.pardir, 'data', 'processed')",
   "execution_count": 8,
   "outputs": []
  },
  {
   "cell_type": "code",
   "metadata": {
    "tags": [],
    "cell_id": "00011-0410a9cd-0c39-4888-a07a-1fc6eb5475e9",
    "deepnote_to_be_reexecuted": false,
    "source_hash": "b25510dd",
    "execution_start": 1641348357183,
    "execution_millis": 0,
    "deepnote_cell_type": "code"
   },
   "source": "monitoring_closures_ec.to_pickle(os.path.join(path_processed, 'closures_education.pkl'))",
   "execution_count": 9,
   "outputs": []
  },
  {
   "cell_type": "code",
   "metadata": {
    "tags": [],
    "cell_id": "00012-1ac4077e-1ff2-4fb9-ab61-ea868aa07f15",
    "deepnote_to_be_reexecuted": false,
    "source_hash": "b24a57ed",
    "execution_start": 1641348357183,
    "execution_millis": 1,
    "deepnote_cell_type": "code"
   },
   "source": "# For SQL analysis\nmonitoring_closures_ec.to_csv(os.path.join(path_processed, 'sql', 'closures_education.csv'), index=None)",
   "execution_count": 10,
   "outputs": []
  },
  {
   "cell_type": "markdown",
   "source": "## Histórico educación Ecuador dataset",
   "metadata": {
    "tags": [],
    "cell_id": "00002-9fd6c425-c552-4c14-9c8f-5aa6c653f322",
    "deepnote_cell_type": "markdown"
   }
  },
  {
   "cell_type": "code",
   "metadata": {
    "tags": [],
    "cell_id": "00004-6e3de261-64e2-475b-9dfe-5734574dd771",
    "deepnote_to_be_reexecuted": false,
    "source_hash": "dd2a929c",
    "execution_start": 1641348357185,
    "execution_millis": 1506,
    "deepnote_cell_type": "code"
   },
   "source": "# Uso latin1 para que lea caracteres especiales\neducation_ec = pd.read_csv(os.path.join(path_raw, 'ec_registro-administrativo-historico_2009-2021.csv'), encoding='latin1')",
   "execution_count": 11,
   "outputs": []
  },
  {
   "cell_type": "code",
   "metadata": {
    "tags": [],
    "cell_id": "00015-a3c34e49-1955-48b7-bb85-1a4893256518",
    "deepnote_to_be_reexecuted": false,
    "source_hash": "14229e8d",
    "execution_start": 1641348358696,
    "execution_millis": 190,
    "deepnote_cell_type": "code"
   },
   "source": "education_ec.sample(5)",
   "execution_count": 12,
   "outputs": [
    {
     "output_type": "execute_result",
     "execution_count": 12,
     "data": {
      "application/vnd.deepnote.dataframe.v3+json": {
       "column_count": 26,
       "row_count": 5,
       "columns": [
        {
         "name": "Clave_primaria",
         "dtype": "object",
         "stats": {
          "unique_count": 5,
          "nan_count": 0,
          "categories": [
           {
            "name": "19H002762019-2020",
            "count": 1
           },
           {
            "name": "07H003772009-2010",
            "count": 1
           },
           {
            "name": "3 others",
            "count": 3
           }
          ]
         }
        },
        {
         "name": "Clave_periodo",
         "dtype": "object",
         "stats": {
          "unique_count": 4,
          "nan_count": 0,
          "categories": [
           {
            "name": "2019-2020",
            "count": 2
           },
           {
            "name": "2009-2010",
            "count": 1
           },
           {
            "name": "2 others",
            "count": 2
           }
          ]
         }
        },
        {
         "name": "Periodo",
         "dtype": "object",
         "stats": {
          "unique_count": 4,
          "nan_count": 0,
          "categories": [
           {
            "name": "2019-2020 Fin",
            "count": 2
           },
           {
            "name": "2009-2010 Fin",
            "count": 1
           },
           {
            "name": "2 others",
            "count": 2
           }
          ]
         }
        },
        {
         "name": "Zona",
         "dtype": "object",
         "stats": {
          "unique_count": 3,
          "nan_count": 0,
          "categories": [
           {
            "name": "Zona 7",
            "count": 2
           },
           {
            "name": "Zona 2",
            "count": 2
           },
           {
            "name": "Zona 8",
            "count": 1
           }
          ]
         }
        },
        {
         "name": "Provincia",
         "dtype": "object",
         "stats": {
          "unique_count": 5,
          "nan_count": 0,
          "categories": [
           {
            "name": "ZAMORA CHINCHIPE",
            "count": 1
           },
           {
            "name": "EL ORO",
            "count": 1
           },
           {
            "name": "3 others",
            "count": 3
           }
          ]
         }
        },
        {
         "name": "Cod_Provincia",
         "dtype": "int64",
         "stats": {
          "unique_count": 5,
          "nan_count": 0,
          "min": "7",
          "max": "22",
          "histogram": [
           {
            "bin_start": 7,
            "bin_end": 8.5,
            "count": 1
           },
           {
            "bin_start": 8.5,
            "bin_end": 10,
            "count": 1
           },
           {
            "bin_start": 10,
            "bin_end": 11.5,
            "count": 0
           },
           {
            "bin_start": 11.5,
            "bin_end": 13,
            "count": 0
           },
           {
            "bin_start": 13,
            "bin_end": 14.5,
            "count": 0
           },
           {
            "bin_start": 14.5,
            "bin_end": 16,
            "count": 1
           },
           {
            "bin_start": 16,
            "bin_end": 17.5,
            "count": 0
           },
           {
            "bin_start": 17.5,
            "bin_end": 19,
            "count": 0
           },
           {
            "bin_start": 19,
            "bin_end": 20.5,
            "count": 1
           },
           {
            "bin_start": 20.5,
            "bin_end": 22,
            "count": 1
           }
          ]
         }
        },
        {
         "name": "Canton",
         "dtype": "object",
         "stats": {
          "unique_count": 5,
          "nan_count": 0,
          "categories": [
           {
            "name": "YANTZAZA (YANZATZA)",
            "count": 1
           },
           {
            "name": "MACHALA",
            "count": 1
           },
           {
            "name": "3 others",
            "count": 3
           }
          ]
         }
        },
        {
         "name": "Cod_Canton",
         "dtype": "int64",
         "stats": {
          "unique_count": 5,
          "nan_count": 0,
          "min": "701",
          "max": "2201",
          "histogram": [
           {
            "bin_start": 701,
            "bin_end": 851,
            "count": 1
           },
           {
            "bin_start": 851,
            "bin_end": 1001,
            "count": 1
           },
           {
            "bin_start": 1001,
            "bin_end": 1151,
            "count": 0
           },
           {
            "bin_start": 1151,
            "bin_end": 1301,
            "count": 0
           },
           {
            "bin_start": 1301,
            "bin_end": 1451,
            "count": 0
           },
           {
            "bin_start": 1451,
            "bin_end": 1601,
            "count": 1
           },
           {
            "bin_start": 1601,
            "bin_end": 1751,
            "count": 0
           },
           {
            "bin_start": 1751,
            "bin_end": 1901,
            "count": 0
           },
           {
            "bin_start": 1901,
            "bin_end": 2051,
            "count": 1
           },
           {
            "bin_start": 2051,
            "bin_end": 2201,
            "count": 1
           }
          ]
         }
        },
        {
         "name": "Parroquia",
         "dtype": "object",
         "stats": {
          "unique_count": 5,
          "nan_count": 0,
          "categories": [
           {
            "name": "YANTZAZA",
            "count": 1
           },
           {
            "name": "MACHALA",
            "count": 1
           },
           {
            "name": "3 others",
            "count": 3
           }
          ]
         }
        },
        {
         "name": "Cod_Parroquia",
         "dtype": "int64",
         "stats": {
          "unique_count": 5,
          "nan_count": 0,
          "min": "70102",
          "max": "220152",
          "histogram": [
           {
            "bin_start": 70102,
            "bin_end": 85107,
            "count": 1
           },
           {
            "bin_start": 85107,
            "bin_end": 100112,
            "count": 1
           },
           {
            "bin_start": 100112,
            "bin_end": 115117,
            "count": 0
           },
           {
            "bin_start": 115117,
            "bin_end": 130122,
            "count": 0
           },
           {
            "bin_start": 130122,
            "bin_end": 145127,
            "count": 0
           },
           {
            "bin_start": 145127,
            "bin_end": 160132,
            "count": 1
           },
           {
            "bin_start": 160132,
            "bin_end": 175137,
            "count": 0
           },
           {
            "bin_start": 175137,
            "bin_end": 190142,
            "count": 0
           },
           {
            "bin_start": 190142,
            "bin_end": 205147,
            "count": 1
           },
           {
            "bin_start": 205147,
            "bin_end": 220152,
            "count": 1
           }
          ]
         }
        },
        {
         "name": "Nombre_Institucion",
         "dtype": "object",
         "stats": {
          "unique_count": 5,
          "nan_count": 0,
          "categories": [
           {
            "name": "ESCUELA DE EDUCACION BASICA CRISTOBAL COLON",
            "count": 1
           },
           {
            "name": "LUZ DEL MUNDO",
            "count": 1
           },
           {
            "name": "3 others",
            "count": 3
           }
          ]
         }
        },
        {
         "name": "Codigo_Institucion",
         "dtype": "object",
         "stats": {
          "unique_count": 5,
          "nan_count": 0,
          "categories": [
           {
            "name": "19H00276",
            "count": 1
           },
           {
            "name": "07H00377",
            "count": 1
           },
           {
            "name": "3 others",
            "count": 3
           }
          ]
         }
        },
        {
         "name": "Escolarizacion",
         "dtype": "object",
         "stats": {
          "unique_count": 1,
          "nan_count": 0,
          "categories": [
           {
            "name": "Escolarizada",
            "count": 5
           }
          ]
         }
        },
        {
         "name": "Tipo_Educacion",
         "dtype": "object",
         "stats": {
          "unique_count": 1,
          "nan_count": 0,
          "categories": [
           {
            "name": "Educación Regular",
            "count": 5
           }
          ]
         }
        },
        {
         "name": "Sostenimiento",
         "dtype": "object",
         "stats": {
          "unique_count": 2,
          "nan_count": 0,
          "categories": [
           {
            "name": "Fiscal",
            "count": 4
           },
           {
            "name": "Particular",
            "count": 1
           }
          ]
         }
        },
        {
         "name": "Area",
         "dtype": "object",
         "stats": {
          "unique_count": 2,
          "nan_count": 0,
          "categories": [
           {
            "name": "RuralINEC",
            "count": 3
           },
           {
            "name": "UrbanaINEC",
            "count": 2
           }
          ]
         }
        },
        {
         "name": "Regimen_Escolar",
         "dtype": "object",
         "stats": {
          "unique_count": 2,
          "nan_count": 0,
          "categories": [
           {
            "name": "Sierra",
            "count": 3
           },
           {
            "name": "Costa",
            "count": 2
           }
          ]
         }
        },
        {
         "name": "Jurisdiccion",
         "dtype": "object",
         "stats": {
          "unique_count": 2,
          "nan_count": 0,
          "categories": [
           {
            "name": "Intercultural",
            "count": 4
           },
           {
            "name": "Intercultural Bilingüe",
            "count": 1
           }
          ]
         }
        },
        {
         "name": "Modallidad",
         "dtype": "object",
         "stats": {
          "unique_count": 1,
          "nan_count": 0,
          "categories": [
           {
            "name": "Presencial",
            "count": 5
           }
          ]
         }
        },
        {
         "name": "Jornada",
         "dtype": "object",
         "stats": {
          "unique_count": 1,
          "nan_count": 0,
          "categories": [
           {
            "name": "Matutina",
            "count": 5
           }
          ]
         }
        },
        {
         "name": "Acceso_Edificio",
         "dtype": "object",
         "stats": {
          "unique_count": 1,
          "nan_count": 0,
          "categories": [
           {
            "name": "Terrestre",
            "count": 5
           }
          ]
         }
        },
        {
         "name": "Total_estudiantes",
         "dtype": "int64",
         "stats": {
          "unique_count": 5,
          "nan_count": 0,
          "min": "20",
          "max": "514",
          "histogram": [
           {
            "bin_start": 20,
            "bin_end": 69.4,
            "count": 2
           },
           {
            "bin_start": 69.4,
            "bin_end": 118.8,
            "count": 1
           },
           {
            "bin_start": 118.8,
            "bin_end": 168.2,
            "count": 0
           },
           {
            "bin_start": 168.2,
            "bin_end": 217.6,
            "count": 0
           },
           {
            "bin_start": 217.6,
            "bin_end": 267,
            "count": 0
           },
           {
            "bin_start": 267,
            "bin_end": 316.4,
            "count": 0
           },
           {
            "bin_start": 316.4,
            "bin_end": 365.8,
            "count": 1
           },
           {
            "bin_start": 365.8,
            "bin_end": 415.2,
            "count": 0
           },
           {
            "bin_start": 415.2,
            "bin_end": 464.59999999999997,
            "count": 0
           },
           {
            "bin_start": 464.59999999999997,
            "bin_end": 514,
            "count": 1
           }
          ]
         }
        },
        {
         "name": "Promovidos",
         "dtype": "int64",
         "stats": {
          "unique_count": 5,
          "nan_count": 0,
          "min": "15",
          "max": "510",
          "histogram": [
           {
            "bin_start": 15,
            "bin_end": 64.5,
            "count": 2
           },
           {
            "bin_start": 64.5,
            "bin_end": 114,
            "count": 1
           },
           {
            "bin_start": 114,
            "bin_end": 163.5,
            "count": 0
           },
           {
            "bin_start": 163.5,
            "bin_end": 213,
            "count": 0
           },
           {
            "bin_start": 213,
            "bin_end": 262.5,
            "count": 0
           },
           {
            "bin_start": 262.5,
            "bin_end": 312,
            "count": 0
           },
           {
            "bin_start": 312,
            "bin_end": 361.5,
            "count": 1
           },
           {
            "bin_start": 361.5,
            "bin_end": 411,
            "count": 0
           },
           {
            "bin_start": 411,
            "bin_end": 460.5,
            "count": 0
           },
           {
            "bin_start": 460.5,
            "bin_end": 510,
            "count": 1
           }
          ]
         }
        },
        {
         "name": "No promovidos",
         "dtype": "int64",
         "stats": {
          "unique_count": 2,
          "nan_count": 0,
          "min": "0",
          "max": "1",
          "histogram": [
           {
            "bin_start": 0,
            "bin_end": 0.1,
            "count": 4
           },
           {
            "bin_start": 0.1,
            "bin_end": 0.2,
            "count": 0
           },
           {
            "bin_start": 0.2,
            "bin_end": 0.30000000000000004,
            "count": 0
           },
           {
            "bin_start": 0.30000000000000004,
            "bin_end": 0.4,
            "count": 0
           },
           {
            "bin_start": 0.4,
            "bin_end": 0.5,
            "count": 0
           },
           {
            "bin_start": 0.5,
            "bin_end": 0.6000000000000001,
            "count": 0
           },
           {
            "bin_start": 0.6000000000000001,
            "bin_end": 0.7000000000000001,
            "count": 0
           },
           {
            "bin_start": 0.7000000000000001,
            "bin_end": 0.8,
            "count": 0
           },
           {
            "bin_start": 0.8,
            "bin_end": 0.9,
            "count": 0
           },
           {
            "bin_start": 0.9,
            "bin_end": 1,
            "count": 1
           }
          ]
         }
        },
        {
         "name": "Abandono",
         "dtype": "int64",
         "stats": {
          "unique_count": 4,
          "nan_count": 0,
          "min": "0",
          "max": "5",
          "histogram": [
           {
            "bin_start": 0,
            "bin_end": 0.5,
            "count": 1
           },
           {
            "bin_start": 0.5,
            "bin_end": 1,
            "count": 0
           },
           {
            "bin_start": 1,
            "bin_end": 1.5,
            "count": 0
           },
           {
            "bin_start": 1.5,
            "bin_end": 2,
            "count": 0
           },
           {
            "bin_start": 2,
            "bin_end": 2.5,
            "count": 0
           },
           {
            "bin_start": 2.5,
            "bin_end": 3,
            "count": 0
           },
           {
            "bin_start": 3,
            "bin_end": 3.5,
            "count": 2
           },
           {
            "bin_start": 3.5,
            "bin_end": 4,
            "count": 0
           },
           {
            "bin_start": 4,
            "bin_end": 4.5,
            "count": 1
           },
           {
            "bin_start": 4.5,
            "bin_end": 5,
            "count": 1
           }
          ]
         }
        },
        {
         "name": "Pais",
         "dtype": "object",
         "stats": {
          "unique_count": 1,
          "nan_count": 0,
          "categories": [
           {
            "name": "ECUADOR",
            "count": 5
           }
          ]
         }
        },
        {
         "name": "_deepnote_index_column",
         "dtype": "int64"
        }
       ],
       "rows": [
        {
         "Clave_primaria": "19H002762019-2020",
         "Clave_periodo": "2019-2020",
         "Periodo": "2019-2020 Fin",
         "Zona": "Zona 7",
         "Provincia": "ZAMORA CHINCHIPE",
         "Cod_Provincia": 19,
         "Canton": "YANTZAZA (YANZATZA)",
         "Cod_Canton": 1905,
         "Parroquia": "YANTZAZA",
         "Cod_Parroquia": 190550,
         "Nombre_Institucion": "ESCUELA DE EDUCACION BASICA CRISTOBAL COLON",
         "Codigo_Institucion": "19H00276",
         "Escolarizacion": "Escolarizada",
         "Tipo_Educacion": "Educación Regular",
         "Sostenimiento": "Fiscal",
         "Area": "UrbanaINEC",
         "Regimen_Escolar": "Sierra",
         "Jurisdiccion": "Intercultural",
         "Modallidad": "Presencial",
         "Jornada": "Matutina",
         "Acceso_Edificio": "Terrestre",
         "Total_estudiantes": 23,
         "Promovidos": 23,
         "No promovidos": 0,
         "Abandono": 0,
         "Pais": "ECUADOR",
         "_deepnote_index_column": 220347
        },
        {
         "Clave_primaria": "07H003772009-2010",
         "Clave_periodo": "2009-2010",
         "Periodo": "2009-2010 Fin",
         "Zona": "Zona 7",
         "Provincia": "EL ORO",
         "Cod_Provincia": 7,
         "Canton": "MACHALA",
         "Cod_Canton": 701,
         "Parroquia": "MACHALA",
         "Cod_Parroquia": 70102,
         "Nombre_Institucion": "LUZ DEL MUNDO",
         "Codigo_Institucion": "07H00377",
         "Escolarizacion": "Escolarizada",
         "Tipo_Educacion": "Educación Regular",
         "Sostenimiento": "Particular",
         "Area": "UrbanaINEC",
         "Regimen_Escolar": "Costa",
         "Jurisdiccion": "Intercultural",
         "Modallidad": "Presencial",
         "Jornada": "Matutina",
         "Acceso_Edificio": "Terrestre",
         "Total_estudiantes": 92,
         "Promovidos": 88,
         "No promovidos": 1,
         "Abandono": 3,
         "Pais": "ECUADOR",
         "_deepnote_index_column": 4804
        },
        {
         "Clave_primaria": "09H026902019-2020",
         "Clave_periodo": "2019-2020",
         "Periodo": "2019-2020 Fin",
         "Zona": "Zona 8",
         "Provincia": "GUAYAS",
         "Cod_Provincia": 9,
         "Canton": "GUAYAQUIL",
         "Cod_Canton": 901,
         "Parroquia": "JUAN GOMEZ RENDON (PROGRESO)",
         "Cod_Parroquia": 90152,
         "Nombre_Institucion": "ESCUELA DE EDUCACIÓN BÁSICA FISCAL DR. ALBERTO GUERRERO MARTINEZ",
         "Codigo_Institucion": "09H02690",
         "Escolarizacion": "Escolarizada",
         "Tipo_Educacion": "Educación Regular",
         "Sostenimiento": "Fiscal",
         "Area": "RuralINEC",
         "Regimen_Escolar": "Costa",
         "Jurisdiccion": "Intercultural",
         "Modallidad": "Presencial",
         "Jornada": "Matutina",
         "Acceso_Edificio": "Terrestre",
         "Total_estudiantes": 514,
         "Promovidos": 510,
         "No promovidos": 0,
         "Abandono": 4,
         "Pais": "ECUADOR",
         "_deepnote_index_column": 210951
        },
        {
         "Clave_primaria": "15B001292018-2019",
         "Clave_periodo": "2018-2019",
         "Periodo": "2018-2019 Fin",
         "Zona": "Zona 2",
         "Provincia": "NAPO",
         "Cod_Provincia": 15,
         "Canton": "ARCHIDONA",
         "Cod_Canton": 1503,
         "Parroquia": "HATUN SUMAKU",
         "Cod_Parroquia": 150356,
         "Nombre_Institucion": "UNID EDUC COMUNIT INTERC BILINGÜE GONZALO DAVID AVILEZ TANGUILA",
         "Codigo_Institucion": "15B00129",
         "Escolarizacion": "Escolarizada",
         "Tipo_Educacion": "Educación Regular",
         "Sostenimiento": "Fiscal",
         "Area": "RuralINEC",
         "Regimen_Escolar": "Sierra",
         "Jurisdiccion": "Intercultural Bilingüe",
         "Modallidad": "Presencial",
         "Jornada": "Matutina",
         "Acceso_Edificio": "Terrestre",
         "Total_estudiantes": 333,
         "Promovidos": 330,
         "No promovidos": 0,
         "Abandono": 3,
         "Pais": "ECUADOR",
         "_deepnote_index_column": 201504
        },
        {
         "Clave_primaria": "22H002302011-2012",
         "Clave_periodo": "2011-2012",
         "Periodo": "2011-2012 Fin",
         "Zona": "Zona 2",
         "Provincia": "ORELLANA",
         "Cod_Provincia": 22,
         "Canton": "ORELLANA",
         "Cod_Canton": 2201,
         "Parroquia": "TARACOA",
         "Cod_Parroquia": 220152,
         "Nombre_Institucion": "JULIO JARAMILLO",
         "Codigo_Institucion": "22H00230",
         "Escolarizacion": "Escolarizada",
         "Tipo_Educacion": "Educación Regular",
         "Sostenimiento": "Fiscal",
         "Area": "RuralINEC",
         "Regimen_Escolar": "Sierra",
         "Jurisdiccion": "Intercultural",
         "Modallidad": "Presencial",
         "Jornada": "Matutina",
         "Acceso_Edificio": "Terrestre",
         "Total_estudiantes": 20,
         "Promovidos": 15,
         "No promovidos": 0,
         "Abandono": 5,
         "Pais": "ECUADOR",
         "_deepnote_index_column": 75128
        }
       ]
      },
      "text/plain": "           Clave_primaria Clave_periodo        Periodo    Zona  \\\n220347  19H002762019-2020     2019-2020  2019-2020 Fin  Zona 7   \n4804    07H003772009-2010     2009-2010  2009-2010 Fin  Zona 7   \n210951  09H026902019-2020     2019-2020  2019-2020 Fin  Zona 8   \n201504  15B001292018-2019     2018-2019  2018-2019 Fin  Zona 2   \n75128   22H002302011-2012     2011-2012  2011-2012 Fin  Zona 2   \n\n               Provincia  Cod_Provincia               Canton  Cod_Canton  \\\n220347  ZAMORA CHINCHIPE             19  YANTZAZA (YANZATZA)        1905   \n4804              EL ORO              7              MACHALA         701   \n210951            GUAYAS              9            GUAYAQUIL         901   \n201504              NAPO             15            ARCHIDONA        1503   \n75128           ORELLANA             22             ORELLANA        2201   \n\n                           Parroquia  Cod_Parroquia  ... Regimen_Escolar  \\\n220347                      YANTZAZA         190550  ...          Sierra   \n4804                         MACHALA          70102  ...           Costa   \n210951  JUAN GOMEZ RENDON (PROGRESO)          90152  ...           Costa   \n201504                  HATUN SUMAKU         150356  ...          Sierra   \n75128                        TARACOA         220152  ...          Sierra   \n\n                  Jurisdiccion  Modallidad   Jornada Acceso_Edificio  \\\n220347           Intercultural  Presencial  Matutina       Terrestre   \n4804             Intercultural  Presencial  Matutina       Terrestre   \n210951           Intercultural  Presencial  Matutina       Terrestre   \n201504  Intercultural Bilingüe  Presencial  Matutina       Terrestre   \n75128            Intercultural  Presencial  Matutina       Terrestre   \n\n       Total_estudiantes Promovidos No promovidos Abandono     Pais  \n220347                23         23             0        0  ECUADOR  \n4804                  92         88             1        3  ECUADOR  \n210951               514        510             0        4  ECUADOR  \n201504               333        330             0        3  ECUADOR  \n75128                 20         15             0        5  ECUADOR  \n\n[5 rows x 26 columns]",
      "text/html": "<div>\n<style scoped>\n    .dataframe tbody tr th:only-of-type {\n        vertical-align: middle;\n    }\n\n    .dataframe tbody tr th {\n        vertical-align: top;\n    }\n\n    .dataframe thead th {\n        text-align: right;\n    }\n</style>\n<table border=\"1\" class=\"dataframe\">\n  <thead>\n    <tr style=\"text-align: right;\">\n      <th></th>\n      <th>Clave_primaria</th>\n      <th>Clave_periodo</th>\n      <th>Periodo</th>\n      <th>Zona</th>\n      <th>Provincia</th>\n      <th>Cod_Provincia</th>\n      <th>Canton</th>\n      <th>Cod_Canton</th>\n      <th>Parroquia</th>\n      <th>Cod_Parroquia</th>\n      <th>...</th>\n      <th>Regimen_Escolar</th>\n      <th>Jurisdiccion</th>\n      <th>Modallidad</th>\n      <th>Jornada</th>\n      <th>Acceso_Edificio</th>\n      <th>Total_estudiantes</th>\n      <th>Promovidos</th>\n      <th>No promovidos</th>\n      <th>Abandono</th>\n      <th>Pais</th>\n    </tr>\n  </thead>\n  <tbody>\n    <tr>\n      <th>220347</th>\n      <td>19H002762019-2020</td>\n      <td>2019-2020</td>\n      <td>2019-2020 Fin</td>\n      <td>Zona 7</td>\n      <td>ZAMORA CHINCHIPE</td>\n      <td>19</td>\n      <td>YANTZAZA (YANZATZA)</td>\n      <td>1905</td>\n      <td>YANTZAZA</td>\n      <td>190550</td>\n      <td>...</td>\n      <td>Sierra</td>\n      <td>Intercultural</td>\n      <td>Presencial</td>\n      <td>Matutina</td>\n      <td>Terrestre</td>\n      <td>23</td>\n      <td>23</td>\n      <td>0</td>\n      <td>0</td>\n      <td>ECUADOR</td>\n    </tr>\n    <tr>\n      <th>4804</th>\n      <td>07H003772009-2010</td>\n      <td>2009-2010</td>\n      <td>2009-2010 Fin</td>\n      <td>Zona 7</td>\n      <td>EL ORO</td>\n      <td>7</td>\n      <td>MACHALA</td>\n      <td>701</td>\n      <td>MACHALA</td>\n      <td>70102</td>\n      <td>...</td>\n      <td>Costa</td>\n      <td>Intercultural</td>\n      <td>Presencial</td>\n      <td>Matutina</td>\n      <td>Terrestre</td>\n      <td>92</td>\n      <td>88</td>\n      <td>1</td>\n      <td>3</td>\n      <td>ECUADOR</td>\n    </tr>\n    <tr>\n      <th>210951</th>\n      <td>09H026902019-2020</td>\n      <td>2019-2020</td>\n      <td>2019-2020 Fin</td>\n      <td>Zona 8</td>\n      <td>GUAYAS</td>\n      <td>9</td>\n      <td>GUAYAQUIL</td>\n      <td>901</td>\n      <td>JUAN GOMEZ RENDON (PROGRESO)</td>\n      <td>90152</td>\n      <td>...</td>\n      <td>Costa</td>\n      <td>Intercultural</td>\n      <td>Presencial</td>\n      <td>Matutina</td>\n      <td>Terrestre</td>\n      <td>514</td>\n      <td>510</td>\n      <td>0</td>\n      <td>4</td>\n      <td>ECUADOR</td>\n    </tr>\n    <tr>\n      <th>201504</th>\n      <td>15B001292018-2019</td>\n      <td>2018-2019</td>\n      <td>2018-2019 Fin</td>\n      <td>Zona 2</td>\n      <td>NAPO</td>\n      <td>15</td>\n      <td>ARCHIDONA</td>\n      <td>1503</td>\n      <td>HATUN SUMAKU</td>\n      <td>150356</td>\n      <td>...</td>\n      <td>Sierra</td>\n      <td>Intercultural Bilingüe</td>\n      <td>Presencial</td>\n      <td>Matutina</td>\n      <td>Terrestre</td>\n      <td>333</td>\n      <td>330</td>\n      <td>0</td>\n      <td>3</td>\n      <td>ECUADOR</td>\n    </tr>\n    <tr>\n      <th>75128</th>\n      <td>22H002302011-2012</td>\n      <td>2011-2012</td>\n      <td>2011-2012 Fin</td>\n      <td>Zona 2</td>\n      <td>ORELLANA</td>\n      <td>22</td>\n      <td>ORELLANA</td>\n      <td>2201</td>\n      <td>TARACOA</td>\n      <td>220152</td>\n      <td>...</td>\n      <td>Sierra</td>\n      <td>Intercultural</td>\n      <td>Presencial</td>\n      <td>Matutina</td>\n      <td>Terrestre</td>\n      <td>20</td>\n      <td>15</td>\n      <td>0</td>\n      <td>5</td>\n      <td>ECUADOR</td>\n    </tr>\n  </tbody>\n</table>\n<p>5 rows × 26 columns</p>\n</div>"
     },
     "metadata": {}
    }
   ]
  },
  {
   "cell_type": "code",
   "metadata": {
    "tags": [],
    "cell_id": "00014-63292a34-5720-4507-bc93-c1eec555f375",
    "deepnote_to_be_reexecuted": false,
    "source_hash": "5f6e6b7e",
    "execution_start": 1641348358889,
    "execution_millis": 201,
    "deepnote_cell_type": "code"
   },
   "source": "education_ec.info()",
   "execution_count": 13,
   "outputs": [
    {
     "name": "stdout",
     "text": "<class 'pandas.core.frame.DataFrame'>\nRangeIndex: 237963 entries, 0 to 237962\nData columns (total 26 columns):\n #   Column              Non-Null Count   Dtype \n---  ------              --------------   ----- \n 0   Clave_primaria      237963 non-null  object\n 1   Clave_periodo       237963 non-null  object\n 2   Periodo             237963 non-null  object\n 3   Zona                237963 non-null  object\n 4   Provincia           237963 non-null  object\n 5   Cod_Provincia       237963 non-null  int64 \n 6   Canton              237963 non-null  object\n 7   Cod_Canton          237963 non-null  int64 \n 8   Parroquia           237963 non-null  object\n 9   Cod_Parroquia       237963 non-null  int64 \n 10  Nombre_Institucion  237963 non-null  object\n 11  Codigo_Institucion  237963 non-null  object\n 12  Escolarizacion      237963 non-null  object\n 13  Tipo_Educacion      237963 non-null  object\n 14  Sostenimiento       237963 non-null  object\n 15  Area                237963 non-null  object\n 16  Regimen_Escolar     237963 non-null  object\n 17  Jurisdiccion        237963 non-null  object\n 18  Modallidad          237963 non-null  object\n 19  Jornada             237963 non-null  object\n 20  Acceso_Edificio     237963 non-null  object\n 21  Total_estudiantes   237963 non-null  int64 \n 22  Promovidos          237963 non-null  int64 \n 23  No promovidos       237963 non-null  int64 \n 24  Abandono            237963 non-null  int64 \n 25  Pais                237963 non-null  object\ndtypes: int64(7), object(19)\nmemory usage: 47.2+ MB\n",
     "output_type": "stream",
     "data": {}
    }
   ]
  },
  {
   "cell_type": "markdown",
   "source": "El dataset es bastante extenso. Se eliminarán todas las columnas no relevantes para el análisis.",
   "metadata": {
    "tags": [],
    "cell_id": "00016-6365c445-bc86-462f-8a46-69214afe9e46",
    "deepnote_cell_type": "markdown"
   }
  },
  {
   "cell_type": "code",
   "metadata": {
    "tags": [],
    "cell_id": "00017-6c8942bf-6ec9-4a98-880e-f9ccc03fce12",
    "deepnote_to_be_reexecuted": false,
    "source_hash": "cbb0c6c5",
    "execution_start": 1641348359138,
    "execution_millis": 0,
    "deepnote_cell_type": "code"
   },
   "source": "columns = [\n    \"Clave_primaria\",\n    \"Clave_periodo\",\n    \"Zona\",\n    \"Cod_Provincia\",\n    \"Canton\",\n    \"Cod_Canton\",\n    \"Parroquia\",\n    \"Cod_Parroquia\",\n    \"Nombre_Institucion\",\n    \"Codigo_Institucion\",\n    \"Escolarizacion\",\n    \"Tipo_Educacion\",\n    \"Regimen_Escolar\",\n    \"Jurisdiccion\",\n    \"Acceso_Edificio\",\n    \"Pais\",\n]",
   "execution_count": 14,
   "outputs": []
  },
  {
   "cell_type": "code",
   "metadata": {
    "tags": [],
    "cell_id": "00017-17c51cdb-8ea0-4778-bd06-00626f716a9c",
    "deepnote_to_be_reexecuted": false,
    "source_hash": "b9ea1526",
    "execution_start": 1641348359139,
    "execution_millis": 44,
    "deepnote_cell_type": "code"
   },
   "source": "education_ec.drop(columns=columns, inplace=True)",
   "execution_count": 15,
   "outputs": []
  },
  {
   "cell_type": "code",
   "metadata": {
    "tags": [],
    "cell_id": "00019-6a227b26-cd07-4fc4-969c-647713c66fc8",
    "deepnote_to_be_reexecuted": false,
    "source_hash": "14229e8d",
    "execution_start": 1641348359184,
    "execution_millis": 103,
    "deepnote_cell_type": "code"
   },
   "source": "education_ec.sample(5)",
   "execution_count": 16,
   "outputs": [
    {
     "output_type": "execute_result",
     "execution_count": 16,
     "data": {
      "application/vnd.deepnote.dataframe.v3+json": {
       "column_count": 10,
       "row_count": 5,
       "columns": [
        {
         "name": "Periodo",
         "dtype": "object",
         "stats": {
          "unique_count": 4,
          "nan_count": 0,
          "categories": [
           {
            "name": "2016-2017 Fin",
            "count": 2
           },
           {
            "name": "2019-2020 Fin",
            "count": 1
           },
           {
            "name": "2 others",
            "count": 2
           }
          ]
         }
        },
        {
         "name": "Provincia",
         "dtype": "object",
         "stats": {
          "unique_count": 4,
          "nan_count": 0,
          "categories": [
           {
            "name": "GUAYAS",
            "count": 2
           },
           {
            "name": "EL ORO",
            "count": 1
           },
           {
            "name": "2 others",
            "count": 2
           }
          ]
         }
        },
        {
         "name": "Sostenimiento",
         "dtype": "object",
         "stats": {
          "unique_count": 2,
          "nan_count": 0,
          "categories": [
           {
            "name": "Fiscal",
            "count": 4
           },
           {
            "name": "Particular",
            "count": 1
           }
          ]
         }
        },
        {
         "name": "Area",
         "dtype": "object",
         "stats": {
          "unique_count": 2,
          "nan_count": 0,
          "categories": [
           {
            "name": "UrbanaINEC",
            "count": 3
           },
           {
            "name": "RuralINEC",
            "count": 2
           }
          ]
         }
        },
        {
         "name": "Modallidad",
         "dtype": "object",
         "stats": {
          "unique_count": 1,
          "nan_count": 0,
          "categories": [
           {
            "name": "Presencial",
            "count": 5
           }
          ]
         }
        },
        {
         "name": "Jornada",
         "dtype": "object",
         "stats": {
          "unique_count": 2,
          "nan_count": 0,
          "categories": [
           {
            "name": "Matutina",
            "count": 3
           },
           {
            "name": "Matutina y Vespertina",
            "count": 2
           }
          ]
         }
        },
        {
         "name": "Total_estudiantes",
         "dtype": "int64",
         "stats": {
          "unique_count": 5,
          "nan_count": 0,
          "min": "3",
          "max": "2070",
          "histogram": [
           {
            "bin_start": 3,
            "bin_end": 209.7,
            "count": 3
           },
           {
            "bin_start": 209.7,
            "bin_end": 416.4,
            "count": 0
           },
           {
            "bin_start": 416.4,
            "bin_end": 623.0999999999999,
            "count": 0
           },
           {
            "bin_start": 623.0999999999999,
            "bin_end": 829.8,
            "count": 0
           },
           {
            "bin_start": 829.8,
            "bin_end": 1036.5,
            "count": 1
           },
           {
            "bin_start": 1036.5,
            "bin_end": 1243.1999999999998,
            "count": 0
           },
           {
            "bin_start": 1243.1999999999998,
            "bin_end": 1449.8999999999999,
            "count": 0
           },
           {
            "bin_start": 1449.8999999999999,
            "bin_end": 1656.6,
            "count": 0
           },
           {
            "bin_start": 1656.6,
            "bin_end": 1863.3,
            "count": 0
           },
           {
            "bin_start": 1863.3,
            "bin_end": 2070,
            "count": 1
           }
          ]
         }
        },
        {
         "name": "Promovidos",
         "dtype": "int64",
         "stats": {
          "unique_count": 5,
          "nan_count": 0,
          "min": "3",
          "max": "2026",
          "histogram": [
           {
            "bin_start": 3,
            "bin_end": 205.3,
            "count": 3
           },
           {
            "bin_start": 205.3,
            "bin_end": 407.6,
            "count": 0
           },
           {
            "bin_start": 407.6,
            "bin_end": 609.9000000000001,
            "count": 0
           },
           {
            "bin_start": 609.9000000000001,
            "bin_end": 812.2,
            "count": 0
           },
           {
            "bin_start": 812.2,
            "bin_end": 1014.5,
            "count": 1
           },
           {
            "bin_start": 1014.5,
            "bin_end": 1216.8000000000002,
            "count": 0
           },
           {
            "bin_start": 1216.8000000000002,
            "bin_end": 1419.1000000000001,
            "count": 0
           },
           {
            "bin_start": 1419.1000000000001,
            "bin_end": 1621.4,
            "count": 0
           },
           {
            "bin_start": 1621.4,
            "bin_end": 1823.7,
            "count": 0
           },
           {
            "bin_start": 1823.7,
            "bin_end": 2026,
            "count": 1
           }
          ]
         }
        },
        {
         "name": "No promovidos",
         "dtype": "int64",
         "stats": {
          "unique_count": 3,
          "nan_count": 0,
          "min": "0",
          "max": "44",
          "histogram": [
           {
            "bin_start": 0,
            "bin_end": 4.4,
            "count": 4
           },
           {
            "bin_start": 4.4,
            "bin_end": 8.8,
            "count": 0
           },
           {
            "bin_start": 8.8,
            "bin_end": 13.200000000000001,
            "count": 0
           },
           {
            "bin_start": 13.200000000000001,
            "bin_end": 17.6,
            "count": 0
           },
           {
            "bin_start": 17.6,
            "bin_end": 22,
            "count": 0
           },
           {
            "bin_start": 22,
            "bin_end": 26.400000000000002,
            "count": 0
           },
           {
            "bin_start": 26.400000000000002,
            "bin_end": 30.800000000000004,
            "count": 0
           },
           {
            "bin_start": 30.800000000000004,
            "bin_end": 35.2,
            "count": 0
           },
           {
            "bin_start": 35.2,
            "bin_end": 39.6,
            "count": 0
           },
           {
            "bin_start": 39.6,
            "bin_end": 44,
            "count": 1
           }
          ]
         }
        },
        {
         "name": "Abandono",
         "dtype": "int64",
         "stats": {
          "unique_count": 1,
          "nan_count": 0,
          "min": "0",
          "max": "0",
          "histogram": [
           {
            "bin_start": -0.5,
            "bin_end": -0.4,
            "count": 0
           },
           {
            "bin_start": -0.4,
            "bin_end": -0.3,
            "count": 0
           },
           {
            "bin_start": -0.3,
            "bin_end": -0.19999999999999996,
            "count": 0
           },
           {
            "bin_start": -0.19999999999999996,
            "bin_end": -0.09999999999999998,
            "count": 0
           },
           {
            "bin_start": -0.09999999999999998,
            "bin_end": 0,
            "count": 0
           },
           {
            "bin_start": 0,
            "bin_end": 0.10000000000000009,
            "count": 5
           },
           {
            "bin_start": 0.10000000000000009,
            "bin_end": 0.20000000000000007,
            "count": 0
           },
           {
            "bin_start": 0.20000000000000007,
            "bin_end": 0.30000000000000004,
            "count": 0
           },
           {
            "bin_start": 0.30000000000000004,
            "bin_end": 0.4,
            "count": 0
           },
           {
            "bin_start": 0.4,
            "bin_end": 0.5,
            "count": 0
           }
          ]
         }
        },
        {
         "name": "_deepnote_index_column",
         "dtype": "int64"
        }
       ],
       "rows": [
        {
         "Periodo": "2016-2017 Fin",
         "Provincia": "EL ORO",
         "Sostenimiento": "Fiscal",
         "Area": "RuralINEC",
         "Modallidad": "Presencial",
         "Jornada": "Matutina",
         "Total_estudiantes": 3,
         "Promovidos": 3,
         "No promovidos": 0,
         "Abandono": 0,
         "_deepnote_index_column": 160448
        },
        {
         "Periodo": "2019-2020 Fin",
         "Provincia": "ZAMORA CHINCHIPE",
         "Sostenimiento": "Fiscal",
         "Area": "UrbanaINEC",
         "Modallidad": "Presencial",
         "Jornada": "Matutina",
         "Total_estudiantes": 7,
         "Promovidos": 7,
         "No promovidos": 0,
         "Abandono": 0,
         "_deepnote_index_column": 220295
        },
        {
         "Periodo": "2018-2019 Fin",
         "Provincia": "GUAYAS",
         "Sostenimiento": "Fiscal",
         "Area": "UrbanaINEC",
         "Modallidad": "Presencial",
         "Jornada": "Matutina y Vespertina",
         "Total_estudiantes": 2070,
         "Promovidos": 2026,
         "No promovidos": 44,
         "Abandono": 0,
         "_deepnote_index_column": 194199
        },
        {
         "Periodo": "2016-2017 Fin",
         "Provincia": "MANABI",
         "Sostenimiento": "Fiscal",
         "Area": "RuralINEC",
         "Modallidad": "Presencial",
         "Jornada": "Matutina",
         "Total_estudiantes": 5,
         "Promovidos": 5,
         "No promovidos": 0,
         "Abandono": 0,
         "_deepnote_index_column": 166481
        },
        {
         "Periodo": "2017-2018 Fin",
         "Provincia": "GUAYAS",
         "Sostenimiento": "Particular",
         "Area": "UrbanaINEC",
         "Modallidad": "Presencial",
         "Jornada": "Matutina y Vespertina",
         "Total_estudiantes": 893,
         "Promovidos": 892,
         "No promovidos": 1,
         "Abandono": 0,
         "_deepnote_index_column": 178258
        }
       ]
      },
      "text/plain": "              Periodo         Provincia Sostenimiento        Area  Modallidad  \\\n160448  2016-2017 Fin            EL ORO        Fiscal   RuralINEC  Presencial   \n220295  2019-2020 Fin  ZAMORA CHINCHIPE        Fiscal  UrbanaINEC  Presencial   \n194199  2018-2019 Fin            GUAYAS        Fiscal  UrbanaINEC  Presencial   \n166481  2016-2017 Fin            MANABI        Fiscal   RuralINEC  Presencial   \n178258  2017-2018 Fin            GUAYAS    Particular  UrbanaINEC  Presencial   \n\n                      Jornada  Total_estudiantes  Promovidos  No promovidos  \\\n160448               Matutina                  3           3              0   \n220295               Matutina                  7           7              0   \n194199  Matutina y Vespertina               2070        2026             44   \n166481               Matutina                  5           5              0   \n178258  Matutina y Vespertina                893         892              1   \n\n        Abandono  \n160448         0  \n220295         0  \n194199         0  \n166481         0  \n178258         0  ",
      "text/html": "<div>\n<style scoped>\n    .dataframe tbody tr th:only-of-type {\n        vertical-align: middle;\n    }\n\n    .dataframe tbody tr th {\n        vertical-align: top;\n    }\n\n    .dataframe thead th {\n        text-align: right;\n    }\n</style>\n<table border=\"1\" class=\"dataframe\">\n  <thead>\n    <tr style=\"text-align: right;\">\n      <th></th>\n      <th>Periodo</th>\n      <th>Provincia</th>\n      <th>Sostenimiento</th>\n      <th>Area</th>\n      <th>Modallidad</th>\n      <th>Jornada</th>\n      <th>Total_estudiantes</th>\n      <th>Promovidos</th>\n      <th>No promovidos</th>\n      <th>Abandono</th>\n    </tr>\n  </thead>\n  <tbody>\n    <tr>\n      <th>160448</th>\n      <td>2016-2017 Fin</td>\n      <td>EL ORO</td>\n      <td>Fiscal</td>\n      <td>RuralINEC</td>\n      <td>Presencial</td>\n      <td>Matutina</td>\n      <td>3</td>\n      <td>3</td>\n      <td>0</td>\n      <td>0</td>\n    </tr>\n    <tr>\n      <th>220295</th>\n      <td>2019-2020 Fin</td>\n      <td>ZAMORA CHINCHIPE</td>\n      <td>Fiscal</td>\n      <td>UrbanaINEC</td>\n      <td>Presencial</td>\n      <td>Matutina</td>\n      <td>7</td>\n      <td>7</td>\n      <td>0</td>\n      <td>0</td>\n    </tr>\n    <tr>\n      <th>194199</th>\n      <td>2018-2019 Fin</td>\n      <td>GUAYAS</td>\n      <td>Fiscal</td>\n      <td>UrbanaINEC</td>\n      <td>Presencial</td>\n      <td>Matutina y Vespertina</td>\n      <td>2070</td>\n      <td>2026</td>\n      <td>44</td>\n      <td>0</td>\n    </tr>\n    <tr>\n      <th>166481</th>\n      <td>2016-2017 Fin</td>\n      <td>MANABI</td>\n      <td>Fiscal</td>\n      <td>RuralINEC</td>\n      <td>Presencial</td>\n      <td>Matutina</td>\n      <td>5</td>\n      <td>5</td>\n      <td>0</td>\n      <td>0</td>\n    </tr>\n    <tr>\n      <th>178258</th>\n      <td>2017-2018 Fin</td>\n      <td>GUAYAS</td>\n      <td>Particular</td>\n      <td>UrbanaINEC</td>\n      <td>Presencial</td>\n      <td>Matutina y Vespertina</td>\n      <td>893</td>\n      <td>892</td>\n      <td>1</td>\n      <td>0</td>\n    </tr>\n  </tbody>\n</table>\n</div>"
     },
     "metadata": {}
    }
   ]
  },
  {
   "cell_type": "markdown",
   "source": "### Exportar",
   "metadata": {
    "tags": [],
    "cell_id": "00018-f9feccc7-e5f5-42d9-8155-ae88eead55c3",
    "deepnote_cell_type": "markdown"
   }
  },
  {
   "cell_type": "code",
   "metadata": {
    "tags": [],
    "cell_id": "00019-b484984a-5a97-4d8a-91f9-10a7a038477c",
    "deepnote_to_be_reexecuted": false,
    "source_hash": "fff6fb49",
    "execution_start": 1641348359286,
    "execution_millis": 54,
    "deepnote_cell_type": "code"
   },
   "source": "education_ec.to_pickle(os.path.join(path_processed, 'education_ec.pkl'))",
   "execution_count": 17,
   "outputs": []
  },
  {
   "cell_type": "code",
   "metadata": {
    "tags": [],
    "cell_id": "00023-bca17f42-88f7-4923-bb97-b095ad0897f0",
    "deepnote_to_be_reexecuted": false,
    "source_hash": "2952a263",
    "execution_start": 1641348359390,
    "execution_millis": 894,
    "deepnote_cell_type": "code"
   },
   "source": "# For SQL analysis\neducation_ec.to_csv(os.path.join(path_processed, 'sql', 'education_ec.csv'), index=None)",
   "execution_count": 18,
   "outputs": []
  },
  {
   "cell_type": "markdown",
   "source": "<a style='text-decoration:none;line-height:16px;display:flex;color:#5B5B62;padding:10px;justify-content:end;' href='https://deepnote.com?utm_source=created-in-deepnote-cell&projectId=e7b048df-fc9b-4970-aa88-df153b270a6f' target=\"_blank\">\n<img alt='Created in deepnote.com' style='display:inline;max-height:16px;margin:0px;margin-right:7.5px;' src='data:image/svg+xml;base64,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' > </img>\nCreated in <span style='font-weight:600;margin-left:4px;'>Deepnote</span></a>",
   "metadata": {
    "tags": [],
    "created_in_deepnote_cell": true,
    "deepnote_cell_type": "markdown"
   }
  }
 ],
 "nbformat": 4,
 "nbformat_minor": 2,
 "metadata": {
  "orig_nbformat": 2,
  "deepnote": {
   "is_reactive": false
  },
  "deepnote_notebook_id": "92703c2b-dcd0-4172-a6bb-5ed065982cd8",
  "deepnote_execution_queue": []
 }
}