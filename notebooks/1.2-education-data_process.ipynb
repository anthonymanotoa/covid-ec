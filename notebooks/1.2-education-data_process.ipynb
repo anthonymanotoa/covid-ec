{
 "cells": [
  {
   "cell_type": "markdown",
   "source": "# Procesamiento data educación\n",
   "metadata": {
    "tags": [],
    "cell_id": "00001-9a4e9ec1-2eb2-4868-a22d-5d60aa6cbf10",
    "deepnote_cell_type": "markdown"
   }
  },
  {
   "cell_type": "code",
   "metadata": {
    "tags": [],
    "cell_id": "00001-962d092e-4ca9-4c1a-9ae6-86c20fc1af95",
    "deepnote_to_be_reexecuted": false,
    "source_hash": "9b82ee11",
    "execution_start": 1640133986141,
    "execution_millis": 44,
    "deepnote_cell_type": "code"
   },
   "source": "import pandas as pd",
   "outputs": [],
   "execution_count": null
  },
  {
   "cell_type": "markdown",
   "source": "## UNESCO duración de cierres dataset",
   "metadata": {
    "tags": [],
    "cell_id": "00002-1bd2ff5e-d25e-42a9-b91d-26b4d02232d7",
    "deepnote_cell_type": "markdown"
   }
  },
  {
   "cell_type": "code",
   "metadata": {
    "tags": [],
    "cell_id": "00003-3e0b7eaf-8bf2-4edd-99b2-8461973ab6aa",
    "deepnote_to_be_reexecuted": false,
    "source_hash": "22619fc0",
    "execution_start": 1640133986186,
    "execution_millis": 98,
    "deepnote_cell_type": "code"
   },
   "source": "monitoring_closures = pd.read_csv('/work/covid-ec/data/raw/monitoring_school_closures.csv')",
   "outputs": [],
   "execution_count": null
  },
  {
   "cell_type": "code",
   "metadata": {
    "tags": [],
    "cell_id": "00004-61ab70f3-f7a4-4131-b66d-adf60259d818",
    "deepnote_to_be_reexecuted": false,
    "source_hash": "ba28e204",
    "execution_start": 1640133986291,
    "execution_millis": 68,
    "deepnote_table_state": {
     "pageSize": 10,
     "pageIndex": 0,
     "filters": [],
     "sortBy": []
    },
    "deepnote_table_loading": false,
    "deepnote_table_invalid": false,
    "deepnote_cell_type": "code"
   },
   "source": "monitoring_closures.info()",
   "outputs": [
    {
     "name": "stdout",
     "text": "<class 'pandas.core.frame.DataFrame'>\nRangeIndex: 131040 entries, 0 to 131039\nData columns (total 5 columns):\n #   Column   Non-Null Count   Dtype  \n---  ------   --------------   -----  \n 0   Date     131040 non-null  object \n 1   ISO      131040 non-null  object \n 2   Country  131040 non-null  object \n 3   Status   131040 non-null  object \n 4   Note     0 non-null       float64\ndtypes: float64(1), object(4)\nmemory usage: 5.0+ MB\n",
     "output_type": "stream",
     "data": {}
    }
   ],
   "execution_count": null
  },
  {
   "cell_type": "markdown",
   "source": "Se debe cambiar `Date` a datetime. Se debe filtrar solo por datos de Ecuador. Por último, las columanas `Note`, `ISO` y `Country` no son relevantes para el análisis.",
   "metadata": {
    "tags": [],
    "cell_id": "00005-707ebb28-6557-4e0f-853d-11f1b6cd7c66",
    "deepnote_cell_type": "markdown"
   }
  },
  {
   "cell_type": "code",
   "metadata": {
    "tags": [],
    "cell_id": "00005-d3df59d4-9d87-4e5e-bb73-349b782730d4",
    "deepnote_to_be_reexecuted": false,
    "source_hash": "1308a9",
    "execution_start": 1640133986367,
    "execution_millis": 51,
    "deepnote_cell_type": "code"
   },
   "source": "monitoring_closures['Date'] = pd.to_datetime(monitoring_closures['Date'], dayfirst=True)",
   "outputs": [],
   "execution_count": null
  },
  {
   "cell_type": "code",
   "metadata": {
    "tags": [],
    "cell_id": "00008-e3143bd6-6df1-4fb1-9341-2a1a3dc393a7",
    "deepnote_to_be_reexecuted": false,
    "source_hash": "8158900",
    "execution_start": 1640133986475,
    "execution_millis": 1,
    "deepnote_cell_type": "code"
   },
   "source": "monitoring_closures_ec = monitoring_closures[monitoring_closures['Country']=='Ecuador']",
   "outputs": [],
   "execution_count": null
  },
  {
   "cell_type": "code",
   "metadata": {
    "tags": [],
    "cell_id": "00006-6faaa9a1-8ce0-41a6-9310-c891c80ae5e9",
    "deepnote_to_be_reexecuted": false,
    "source_hash": "22a49663",
    "execution_start": 1640133986476,
    "execution_millis": 226,
    "deepnote_output_heights": [
     231.078125
    ],
    "deepnote_cell_type": "code"
   },
   "source": "monitoring_closures_ec.drop(columns=['ISO', 'Note', 'Country'], inplace=True)",
   "outputs": [
    {
     "name": "stderr",
     "text": "/shared-libs/python3.7/py/lib/python3.7/site-packages/pandas/core/frame.py:4315: SettingWithCopyWarning: \nA value is trying to be set on a copy of a slice from a DataFrame\n\nSee the caveats in the documentation: https://pandas.pydata.org/pandas-docs/stable/user_guide/indexing.html#returning-a-view-versus-a-copy\n  errors=errors,\n",
     "output_type": "stream",
     "data": {}
    }
   ],
   "execution_count": null
  },
  {
   "cell_type": "code",
   "metadata": {
    "tags": [],
    "cell_id": "00010-db6fb54a-ab2f-4fb8-9ed9-65f1e0152fe8",
    "deepnote_to_be_reexecuted": false,
    "source_hash": "34035594",
    "execution_start": 1640133986519,
    "execution_millis": 183,
    "deepnote_cell_type": "code"
   },
   "source": "monitoring_closures_ec.sample(3)",
   "outputs": [
    {
     "output_type": "execute_result",
     "execution_count": 7,
     "data": {
      "application/vnd.deepnote.dataframe.v3+json": {
       "column_count": 2,
       "row_count": 3,
       "columns": [
        {
         "name": "Date",
         "dtype": "datetime64[ns]",
         "stats": {
          "unique_count": 3,
          "nan_count": 0,
          "min": "2020-11-29 00:00:00",
          "max": "2021-02-20 00:00:00",
          "histogram": [
           {
            "bin_start": 1606608000000000000,
            "bin_end": 1607325120000000000,
            "count": 1
           },
           {
            "bin_start": 1607325120000000000,
            "bin_end": 1608042240000000000,
            "count": 1
           },
           {
            "bin_start": 1608042240000000000,
            "bin_end": 1608759360000000000,
            "count": 0
           },
           {
            "bin_start": 1608759360000000000,
            "bin_end": 1609476480000000000,
            "count": 0
           },
           {
            "bin_start": 1609476480000000000,
            "bin_end": 1610193600000000000,
            "count": 0
           },
           {
            "bin_start": 1610193600000000000,
            "bin_end": 1610910720000000000,
            "count": 0
           },
           {
            "bin_start": 1610910720000000000,
            "bin_end": 1611627840000000000,
            "count": 0
           },
           {
            "bin_start": 1611627840000000000,
            "bin_end": 1612344960000000000,
            "count": 0
           },
           {
            "bin_start": 1612344960000000000,
            "bin_end": 1613062080000000000,
            "count": 0
           },
           {
            "bin_start": 1613062080000000000,
            "bin_end": 1613779200000000000,
            "count": 1
           }
          ]
         }
        },
        {
         "name": "Status",
         "dtype": "object",
         "stats": {
          "unique_count": 2,
          "nan_count": 0,
          "categories": [
           {
            "name": "Closed due to COVID-19",
            "count": 2
           },
           {
            "name": "Partially open",
            "count": 1
           }
          ]
         }
        },
        {
         "name": "_deepnote_index_column",
         "dtype": "int64"
        }
       ],
       "rows": [
        {
         "Date": "2021-02-20T00:00:00.000000",
         "Status": "Partially open",
         "_deepnote_index_column": 77756
        },
        {
         "Date": "2020-12-08T00:00:00.000000",
         "Status": "Closed due to COVID-19",
         "_deepnote_index_column": 62216
        },
        {
         "Date": "2020-11-29T00:00:00.000000",
         "Status": "Closed due to COVID-19",
         "_deepnote_index_column": 60326
        }
       ]
      },
      "text/plain": "            Date                  Status\n77756 2021-02-20          Partially open\n62216 2020-12-08  Closed due to COVID-19\n60326 2020-11-29  Closed due to COVID-19",
      "text/html": "<div>\n<style scoped>\n    .dataframe tbody tr th:only-of-type {\n        vertical-align: middle;\n    }\n\n    .dataframe tbody tr th {\n        vertical-align: top;\n    }\n\n    .dataframe thead th {\n        text-align: right;\n    }\n</style>\n<table border=\"1\" class=\"dataframe\">\n  <thead>\n    <tr style=\"text-align: right;\">\n      <th></th>\n      <th>Date</th>\n      <th>Status</th>\n    </tr>\n  </thead>\n  <tbody>\n    <tr>\n      <th>77756</th>\n      <td>2021-02-20</td>\n      <td>Partially open</td>\n    </tr>\n    <tr>\n      <th>62216</th>\n      <td>2020-12-08</td>\n      <td>Closed due to COVID-19</td>\n    </tr>\n    <tr>\n      <th>60326</th>\n      <td>2020-11-29</td>\n      <td>Closed due to COVID-19</td>\n    </tr>\n  </tbody>\n</table>\n</div>"
     },
     "metadata": {}
    }
   ],
   "execution_count": null
  },
  {
   "cell_type": "markdown",
   "source": "### Exportar",
   "metadata": {
    "tags": [],
    "cell_id": "00012-c6dbf487-28c4-4631-901e-953115b60749",
    "deepnote_cell_type": "markdown"
   }
  },
  {
   "cell_type": "code",
   "metadata": {
    "tags": [],
    "cell_id": "00011-0410a9cd-0c39-4888-a07a-1fc6eb5475e9",
    "deepnote_to_be_reexecuted": false,
    "source_hash": "d53a7b3a",
    "execution_start": 1640133986552,
    "execution_millis": 2,
    "deepnote_cell_type": "code"
   },
   "source": "monitoring_closures_ec.to_pickle('/work/covid-ec/data/processed/closures_education.pkl')",
   "outputs": [],
   "execution_count": null
  },
  {
   "cell_type": "markdown",
   "source": "## Histórico educación Ecuador dataset",
   "metadata": {
    "tags": [],
    "cell_id": "00002-9fd6c425-c552-4c14-9c8f-5aa6c653f322",
    "deepnote_cell_type": "markdown"
   }
  },
  {
   "cell_type": "code",
   "metadata": {
    "tags": [],
    "cell_id": "00004-6e3de261-64e2-475b-9dfe-5734574dd771",
    "deepnote_to_be_reexecuted": false,
    "source_hash": "fd163cfc",
    "execution_start": 1640133986599,
    "execution_millis": 1521,
    "deepnote_cell_type": "code"
   },
   "source": "# Uso latin1 para que lea caracteres especiales\neducation_ec = pd.read_csv('/work/covid-ec/data/raw/ec_registro-administrativo-historico_2009-2021.csv', encoding='latin1')",
   "outputs": [],
   "execution_count": null
  },
  {
   "cell_type": "code",
   "metadata": {
    "tags": [],
    "cell_id": "00015-a3c34e49-1955-48b7-bb85-1a4893256518",
    "deepnote_to_be_reexecuted": false,
    "source_hash": "14229e8d",
    "execution_start": 1640133988126,
    "execution_millis": 192,
    "deepnote_cell_type": "code"
   },
   "source": "education_ec.sample(5)",
   "outputs": [
    {
     "output_type": "execute_result",
     "execution_count": 10,
     "data": {
      "application/vnd.deepnote.dataframe.v3+json": {
       "column_count": 26,
       "row_count": 5,
       "columns": [
        {
         "name": "Clave_primaria",
         "dtype": "object",
         "stats": {
          "unique_count": 5,
          "nan_count": 0,
          "categories": [
           {
            "name": "09H051532013-2014",
            "count": 1
           },
           {
            "name": "02H004852013-2014",
            "count": 1
           },
           {
            "name": "3 others",
            "count": 3
           }
          ]
         }
        },
        {
         "name": "Clave_periodo",
         "dtype": "object",
         "stats": {
          "unique_count": 3,
          "nan_count": 0,
          "categories": [
           {
            "name": "2013-2014",
            "count": 3
           },
           {
            "name": "2011-2012",
            "count": 1
           },
           {
            "name": "2019-2020",
            "count": 1
           }
          ]
         }
        },
        {
         "name": "Periodo",
         "dtype": "object",
         "stats": {
          "unique_count": 3,
          "nan_count": 0,
          "categories": [
           {
            "name": "2013-2014 Fin",
            "count": 3
           },
           {
            "name": "2011-2012 Fin",
            "count": 1
           },
           {
            "name": "2019-2020 Fin",
            "count": 1
           }
          ]
         }
        },
        {
         "name": "Zona",
         "dtype": "object",
         "stats": {
          "unique_count": 3,
          "nan_count": 0,
          "categories": [
           {
            "name": "Zona 5",
            "count": 3
           },
           {
            "name": "Zona 4",
            "count": 1
           },
           {
            "name": "Zona 1",
            "count": 1
           }
          ]
         }
        },
        {
         "name": "Provincia",
         "dtype": "object",
         "stats": {
          "unique_count": 4,
          "nan_count": 0,
          "categories": [
           {
            "name": "GUAYAS",
            "count": 2
           },
           {
            "name": "BOLIVAR",
            "count": 1
           },
           {
            "name": "2 others",
            "count": 2
           }
          ]
         }
        },
        {
         "name": "Cod_Provincia",
         "dtype": "int64",
         "stats": {
          "unique_count": 4,
          "nan_count": 0,
          "min": "2",
          "max": "23",
          "histogram": [
           {
            "bin_start": 2,
            "bin_end": 4.1,
            "count": 1
           },
           {
            "bin_start": 4.1,
            "bin_end": 6.2,
            "count": 0
           },
           {
            "bin_start": 6.2,
            "bin_end": 8.3,
            "count": 0
           },
           {
            "bin_start": 8.3,
            "bin_end": 10.4,
            "count": 2
           },
           {
            "bin_start": 10.4,
            "bin_end": 12.5,
            "count": 0
           },
           {
            "bin_start": 12.5,
            "bin_end": 14.600000000000001,
            "count": 0
           },
           {
            "bin_start": 14.600000000000001,
            "bin_end": 16.700000000000003,
            "count": 0
           },
           {
            "bin_start": 16.700000000000003,
            "bin_end": 18.8,
            "count": 0
           },
           {
            "bin_start": 18.8,
            "bin_end": 20.900000000000002,
            "count": 0
           },
           {
            "bin_start": 20.900000000000002,
            "bin_end": 23,
            "count": 2
           }
          ]
         }
        },
        {
         "name": "Canton",
         "dtype": "object",
         "stats": {
          "unique_count": 5,
          "nan_count": 0,
          "categories": [
           {
            "name": "NOBOL",
            "count": 1
           },
           {
            "name": "ECHEANDIA",
            "count": 1
           },
           {
            "name": "3 others",
            "count": 3
           }
          ]
         }
        },
        {
         "name": "Cod_Canton",
         "dtype": "int64",
         "stats": {
          "unique_count": 5,
          "nan_count": 0,
          "min": "204",
          "max": "2301",
          "histogram": [
           {
            "bin_start": 204,
            "bin_end": 413.7,
            "count": 1
           },
           {
            "bin_start": 413.7,
            "bin_end": 623.4,
            "count": 0
           },
           {
            "bin_start": 623.4,
            "bin_end": 833.0999999999999,
            "count": 0
           },
           {
            "bin_start": 833.0999999999999,
            "bin_end": 1042.8,
            "count": 2
           },
           {
            "bin_start": 1042.8,
            "bin_end": 1252.5,
            "count": 0
           },
           {
            "bin_start": 1252.5,
            "bin_end": 1462.1999999999998,
            "count": 0
           },
           {
            "bin_start": 1462.1999999999998,
            "bin_end": 1671.8999999999999,
            "count": 0
           },
           {
            "bin_start": 1671.8999999999999,
            "bin_end": 1881.6,
            "count": 0
           },
           {
            "bin_start": 1881.6,
            "bin_end": 2091.3,
            "count": 0
           },
           {
            "bin_start": 2091.3,
            "bin_end": 2301,
            "count": 2
           }
          ]
         }
        },
        {
         "name": "Parroquia",
         "dtype": "object",
         "stats": {
          "unique_count": 5,
          "nan_count": 0,
          "categories": [
           {
            "name": "NARCISA DE JESUS",
            "count": 1
           },
           {
            "name": "ECHEANDIA",
            "count": 1
           },
           {
            "name": "3 others",
            "count": 3
           }
          ]
         }
        },
        {
         "name": "Cod_Parroquia",
         "dtype": "int64",
         "stats": {
          "unique_count": 5,
          "nan_count": 0,
          "min": "20450",
          "max": "230151",
          "histogram": [
           {
            "bin_start": 20450,
            "bin_end": 41420.1,
            "count": 1
           },
           {
            "bin_start": 41420.1,
            "bin_end": 62390.2,
            "count": 0
           },
           {
            "bin_start": 62390.2,
            "bin_end": 83360.29999999999,
            "count": 0
           },
           {
            "bin_start": 83360.29999999999,
            "bin_end": 104330.4,
            "count": 2
           },
           {
            "bin_start": 104330.4,
            "bin_end": 125300.5,
            "count": 0
           },
           {
            "bin_start": 125300.5,
            "bin_end": 146270.59999999998,
            "count": 0
           },
           {
            "bin_start": 146270.59999999998,
            "bin_end": 167240.69999999998,
            "count": 0
           },
           {
            "bin_start": 167240.69999999998,
            "bin_end": 188210.8,
            "count": 0
           },
           {
            "bin_start": 188210.8,
            "bin_end": 209180.9,
            "count": 0
           },
           {
            "bin_start": 209180.9,
            "bin_end": 230151,
            "count": 2
           }
          ]
         }
        },
        {
         "name": "Nombre_Institucion",
         "dtype": "object",
         "stats": {
          "unique_count": 5,
          "nan_count": 0,
          "categories": [
           {
            "name": "26 DE SEPTIEMBRE",
            "count": 1
           },
           {
            "name": "EEB MIGUEL ANGEL DEL POZO",
            "count": 1
           },
           {
            "name": "3 others",
            "count": 3
           }
          ]
         }
        },
        {
         "name": "Codigo_Institucion",
         "dtype": "object",
         "stats": {
          "unique_count": 5,
          "nan_count": 0,
          "categories": [
           {
            "name": "09H05153",
            "count": 1
           },
           {
            "name": "02H00485",
            "count": 1
           },
           {
            "name": "3 others",
            "count": 3
           }
          ]
         }
        },
        {
         "name": "Escolarizacion",
         "dtype": "object",
         "stats": {
          "unique_count": 1,
          "nan_count": 0,
          "categories": [
           {
            "name": "Escolarizada",
            "count": 5
           }
          ]
         }
        },
        {
         "name": "Tipo_Educacion",
         "dtype": "object",
         "stats": {
          "unique_count": 1,
          "nan_count": 0,
          "categories": [
           {
            "name": "Educación Regular",
            "count": 5
           }
          ]
         }
        },
        {
         "name": "Sostenimiento",
         "dtype": "object",
         "stats": {
          "unique_count": 2,
          "nan_count": 0,
          "categories": [
           {
            "name": "Fiscal",
            "count": 4
           },
           {
            "name": "Particular",
            "count": 1
           }
          ]
         }
        },
        {
         "name": "Area",
         "dtype": "object",
         "stats": {
          "unique_count": 2,
          "nan_count": 0,
          "categories": [
           {
            "name": "UrbanaINEC",
            "count": 4
           },
           {
            "name": "RuralINEC",
            "count": 1
           }
          ]
         }
        },
        {
         "name": "Regimen_Escolar",
         "dtype": "object",
         "stats": {
          "unique_count": 2,
          "nan_count": 0,
          "categories": [
           {
            "name": "Costa",
            "count": 4
           },
           {
            "name": "Sierra",
            "count": 1
           }
          ]
         }
        },
        {
         "name": "Jurisdiccion",
         "dtype": "object",
         "stats": {
          "unique_count": 1,
          "nan_count": 0,
          "categories": [
           {
            "name": "Intercultural",
            "count": 5
           }
          ]
         }
        },
        {
         "name": "Modallidad",
         "dtype": "object",
         "stats": {
          "unique_count": 1,
          "nan_count": 0,
          "categories": [
           {
            "name": "Presencial",
            "count": 5
           }
          ]
         }
        },
        {
         "name": "Jornada",
         "dtype": "object",
         "stats": {
          "unique_count": 1,
          "nan_count": 0,
          "categories": [
           {
            "name": "Matutina",
            "count": 5
           }
          ]
         }
        },
        {
         "name": "Acceso_Edificio",
         "dtype": "object",
         "stats": {
          "unique_count": 1,
          "nan_count": 0,
          "categories": [
           {
            "name": "Terrestre",
            "count": 5
           }
          ]
         }
        },
        {
         "name": "Total_estudiantes",
         "dtype": "int64",
         "stats": {
          "unique_count": 5,
          "nan_count": 0,
          "min": "11",
          "max": "383",
          "histogram": [
           {
            "bin_start": 11,
            "bin_end": 48.2,
            "count": 3
           },
           {
            "bin_start": 48.2,
            "bin_end": 85.4,
            "count": 0
           },
           {
            "bin_start": 85.4,
            "bin_end": 122.60000000000001,
            "count": 0
           },
           {
            "bin_start": 122.60000000000001,
            "bin_end": 159.8,
            "count": 0
           },
           {
            "bin_start": 159.8,
            "bin_end": 197,
            "count": 0
           },
           {
            "bin_start": 197,
            "bin_end": 234.20000000000002,
            "count": 1
           },
           {
            "bin_start": 234.20000000000002,
            "bin_end": 271.40000000000003,
            "count": 0
           },
           {
            "bin_start": 271.40000000000003,
            "bin_end": 308.6,
            "count": 0
           },
           {
            "bin_start": 308.6,
            "bin_end": 345.8,
            "count": 0
           },
           {
            "bin_start": 345.8,
            "bin_end": 383,
            "count": 1
           }
          ]
         }
        },
        {
         "name": "Promovidos",
         "dtype": "int64",
         "stats": {
          "unique_count": 5,
          "nan_count": 0,
          "min": "10",
          "max": "373",
          "histogram": [
           {
            "bin_start": 10,
            "bin_end": 46.3,
            "count": 3
           },
           {
            "bin_start": 46.3,
            "bin_end": 82.6,
            "count": 0
           },
           {
            "bin_start": 82.6,
            "bin_end": 118.89999999999999,
            "count": 0
           },
           {
            "bin_start": 118.89999999999999,
            "bin_end": 155.2,
            "count": 0
           },
           {
            "bin_start": 155.2,
            "bin_end": 191.5,
            "count": 0
           },
           {
            "bin_start": 191.5,
            "bin_end": 227.79999999999998,
            "count": 1
           },
           {
            "bin_start": 227.79999999999998,
            "bin_end": 264.09999999999997,
            "count": 0
           },
           {
            "bin_start": 264.09999999999997,
            "bin_end": 300.4,
            "count": 0
           },
           {
            "bin_start": 300.4,
            "bin_end": 336.7,
            "count": 0
           },
           {
            "bin_start": 336.7,
            "bin_end": 373,
            "count": 1
           }
          ]
         }
        },
        {
         "name": "No promovidos",
         "dtype": "int64",
         "stats": {
          "unique_count": 3,
          "nan_count": 0,
          "min": "0",
          "max": "10",
          "histogram": [
           {
            "bin_start": 0,
            "bin_end": 1,
            "count": 3
           },
           {
            "bin_start": 1,
            "bin_end": 2,
            "count": 0
           },
           {
            "bin_start": 2,
            "bin_end": 3,
            "count": 0
           },
           {
            "bin_start": 3,
            "bin_end": 4,
            "count": 1
           },
           {
            "bin_start": 4,
            "bin_end": 5,
            "count": 0
           },
           {
            "bin_start": 5,
            "bin_end": 6,
            "count": 0
           },
           {
            "bin_start": 6,
            "bin_end": 7,
            "count": 0
           },
           {
            "bin_start": 7,
            "bin_end": 8,
            "count": 0
           },
           {
            "bin_start": 8,
            "bin_end": 9,
            "count": 0
           },
           {
            "bin_start": 9,
            "bin_end": 10,
            "count": 1
           }
          ]
         }
        },
        {
         "name": "Abandono",
         "dtype": "int64",
         "stats": {
          "unique_count": 3,
          "nan_count": 0,
          "min": "0",
          "max": "4",
          "histogram": [
           {
            "bin_start": 0,
            "bin_end": 0.4,
            "count": 1
           },
           {
            "bin_start": 0.4,
            "bin_end": 0.8,
            "count": 0
           },
           {
            "bin_start": 0.8,
            "bin_end": 1.2000000000000002,
            "count": 3
           },
           {
            "bin_start": 1.2000000000000002,
            "bin_end": 1.6,
            "count": 0
           },
           {
            "bin_start": 1.6,
            "bin_end": 2,
            "count": 0
           },
           {
            "bin_start": 2,
            "bin_end": 2.4000000000000004,
            "count": 0
           },
           {
            "bin_start": 2.4000000000000004,
            "bin_end": 2.8000000000000003,
            "count": 0
           },
           {
            "bin_start": 2.8000000000000003,
            "bin_end": 3.2,
            "count": 0
           },
           {
            "bin_start": 3.2,
            "bin_end": 3.6,
            "count": 0
           },
           {
            "bin_start": 3.6,
            "bin_end": 4,
            "count": 1
           }
          ]
         }
        },
        {
         "name": "Pais",
         "dtype": "object",
         "stats": {
          "unique_count": 1,
          "nan_count": 0,
          "categories": [
           {
            "name": "ECUADOR",
            "count": 5
           }
          ]
         }
        },
        {
         "name": "_deepnote_index_column",
         "dtype": "int64"
        }
       ],
       "rows": [
        {
         "Clave_primaria": "09H051532013-2014",
         "Clave_periodo": "2013-2014",
         "Periodo": "2013-2014 Fin",
         "Zona": "Zona 5",
         "Provincia": "GUAYAS",
         "Cod_Provincia": 9,
         "Canton": "NOBOL",
         "Cod_Canton": 925,
         "Parroquia": "NARCISA DE JESUS",
         "Cod_Parroquia": 92550,
         "Nombre_Institucion": "26 DE SEPTIEMBRE",
         "Codigo_Institucion": "09H05153",
         "Escolarizacion": "Escolarizada",
         "Tipo_Educacion": "Educación Regular",
         "Sostenimiento": "Fiscal",
         "Area": "UrbanaINEC",
         "Regimen_Escolar": "Costa",
         "Jurisdiccion": "Intercultural",
         "Modallidad": "Presencial",
         "Jornada": "Matutina",
         "Acceso_Edificio": "Terrestre",
         "Total_estudiantes": 48,
         "Promovidos": 41,
         "No promovidos": 3,
         "Abandono": 4,
         "Pais": "ECUADOR",
         "_deepnote_index_column": 109207
        },
        {
         "Clave_primaria": "02H004852013-2014",
         "Clave_periodo": "2013-2014",
         "Periodo": "2013-2014 Fin",
         "Zona": "Zona 5",
         "Provincia": "BOLIVAR",
         "Cod_Provincia": 2,
         "Canton": "ECHEANDIA",
         "Cod_Canton": 204,
         "Parroquia": "ECHEANDIA",
         "Cod_Parroquia": 20450,
         "Nombre_Institucion": "EEB MIGUEL ANGEL DEL POZO",
         "Codigo_Institucion": "02H00485",
         "Escolarizacion": "Escolarizada",
         "Tipo_Educacion": "Educación Regular",
         "Sostenimiento": "Fiscal",
         "Area": "UrbanaINEC",
         "Regimen_Escolar": "Costa",
         "Jurisdiccion": "Intercultural",
         "Modallidad": "Presencial",
         "Jornada": "Matutina",
         "Acceso_Edificio": "Terrestre",
         "Total_estudiantes": 11,
         "Promovidos": 10,
         "No promovidos": 0,
         "Abandono": 1,
         "Pais": "ECUADOR",
         "_deepnote_index_column": 101827
        },
        {
         "Clave_primaria": "23H004702011-2012",
         "Clave_periodo": "2011-2012",
         "Periodo": "2011-2012 Fin",
         "Zona": "Zona 4",
         "Provincia": "SANTO DOMINGO DE LOS TSACHILAS",
         "Cod_Provincia": 23,
         "Canton": "SANTO DOMINGO DE LOS TSACHILAS",
         "Cod_Canton": 2301,
         "Parroquia": "ALLURIQUIN",
         "Cod_Parroquia": 230151,
         "Nombre_Institucion": "JOSE JOAQUIN DE OLMEDO",
         "Codigo_Institucion": "23H00470",
         "Escolarizacion": "Escolarizada",
         "Tipo_Educacion": "Educación Regular",
         "Sostenimiento": "Fiscal",
         "Area": "RuralINEC",
         "Regimen_Escolar": "Costa",
         "Jurisdiccion": "Intercultural",
         "Modallidad": "Presencial",
         "Jornada": "Matutina",
         "Acceso_Edificio": "Terrestre",
         "Total_estudiantes": 34,
         "Promovidos": 33,
         "No promovidos": 0,
         "Abandono": 1,
         "Pais": "ECUADOR",
         "_deepnote_index_column": 75741
        },
        {
         "Clave_primaria": "09H032712019-2020",
         "Clave_periodo": "2019-2020",
         "Periodo": "2019-2020 Fin",
         "Zona": "Zona 5",
         "Provincia": "GUAYAS",
         "Cod_Provincia": 9,
         "Canton": "DAULE",
         "Cod_Canton": 906,
         "Parroquia": "DAULE",
         "Cod_Parroquia": 90601,
         "Nombre_Institucion": "ESCUELA DE EDUCACIÓN BÁSICA VELASCO IBARRA",
         "Codigo_Institucion": "09H03271",
         "Escolarizacion": "Escolarizada",
         "Tipo_Educacion": "Educación Regular",
         "Sostenimiento": "Fiscal",
         "Area": "UrbanaINEC",
         "Regimen_Escolar": "Costa",
         "Jurisdiccion": "Intercultural",
         "Modallidad": "Presencial",
         "Jornada": "Matutina",
         "Acceso_Edificio": "Terrestre",
         "Total_estudiantes": 215,
         "Promovidos": 214,
         "No promovidos": 0,
         "Abandono": 1,
         "Pais": "ECUADOR",
         "_deepnote_index_column": 211241
        },
        {
         "Clave_primaria": "21H001362013-2014",
         "Clave_periodo": "2013-2014",
         "Periodo": "2013-2014 Fin",
         "Zona": "Zona 1",
         "Provincia": "SUCUMBIOS",
         "Cod_Provincia": 21,
         "Canton": "LAGO AGRIO",
         "Cod_Canton": 2101,
         "Parroquia": "NUEVA LOJA (LAGO AGRIO)",
         "Cod_Parroquia": 210150,
         "Nombre_Institucion": "SIMON BOLIVAR",
         "Codigo_Institucion": "21H00136",
         "Escolarizacion": "Escolarizada",
         "Tipo_Educacion": "Educación Regular",
         "Sostenimiento": "Particular",
         "Area": "UrbanaINEC",
         "Regimen_Escolar": "Sierra",
         "Jurisdiccion": "Intercultural",
         "Modallidad": "Presencial",
         "Jornada": "Matutina",
         "Acceso_Edificio": "Terrestre",
         "Total_estudiantes": 383,
         "Promovidos": 373,
         "No promovidos": 10,
         "Abandono": 0,
         "Pais": "ECUADOR",
         "_deepnote_index_column": 120178
        }
       ]
      },
      "text/plain": "           Clave_primaria Clave_periodo        Periodo    Zona  \\\n109207  09H051532013-2014     2013-2014  2013-2014 Fin  Zona 5   \n101827  02H004852013-2014     2013-2014  2013-2014 Fin  Zona 5   \n75741   23H004702011-2012     2011-2012  2011-2012 Fin  Zona 4   \n211241  09H032712019-2020     2019-2020  2019-2020 Fin  Zona 5   \n120178  21H001362013-2014     2013-2014  2013-2014 Fin  Zona 1   \n\n                             Provincia  Cod_Provincia  \\\n109207                          GUAYAS              9   \n101827                         BOLIVAR              2   \n75741   SANTO DOMINGO DE LOS TSACHILAS             23   \n211241                          GUAYAS              9   \n120178                       SUCUMBIOS             21   \n\n                                Canton  Cod_Canton                Parroquia  \\\n109207                           NOBOL         925         NARCISA DE JESUS   \n101827                       ECHEANDIA         204                ECHEANDIA   \n75741   SANTO DOMINGO DE LOS TSACHILAS        2301               ALLURIQUIN   \n211241                           DAULE         906                    DAULE   \n120178                      LAGO AGRIO        2101  NUEVA LOJA (LAGO AGRIO)   \n\n        Cod_Parroquia  ... Regimen_Escolar   Jurisdiccion  Modallidad  \\\n109207          92550  ...           Costa  Intercultural  Presencial   \n101827          20450  ...           Costa  Intercultural  Presencial   \n75741          230151  ...           Costa  Intercultural  Presencial   \n211241          90601  ...           Costa  Intercultural  Presencial   \n120178         210150  ...          Sierra  Intercultural  Presencial   \n\n         Jornada Acceso_Edificio Total_estudiantes Promovidos No promovidos  \\\n109207  Matutina       Terrestre                48         41             3   \n101827  Matutina       Terrestre                11         10             0   \n75741   Matutina       Terrestre                34         33             0   \n211241  Matutina       Terrestre               215        214             0   \n120178  Matutina       Terrestre               383        373            10   \n\n       Abandono     Pais  \n109207        4  ECUADOR  \n101827        1  ECUADOR  \n75741         1  ECUADOR  \n211241        1  ECUADOR  \n120178        0  ECUADOR  \n\n[5 rows x 26 columns]",
      "text/html": "<div>\n<style scoped>\n    .dataframe tbody tr th:only-of-type {\n        vertical-align: middle;\n    }\n\n    .dataframe tbody tr th {\n        vertical-align: top;\n    }\n\n    .dataframe thead th {\n        text-align: right;\n    }\n</style>\n<table border=\"1\" class=\"dataframe\">\n  <thead>\n    <tr style=\"text-align: right;\">\n      <th></th>\n      <th>Clave_primaria</th>\n      <th>Clave_periodo</th>\n      <th>Periodo</th>\n      <th>Zona</th>\n      <th>Provincia</th>\n      <th>Cod_Provincia</th>\n      <th>Canton</th>\n      <th>Cod_Canton</th>\n      <th>Parroquia</th>\n      <th>Cod_Parroquia</th>\n      <th>...</th>\n      <th>Regimen_Escolar</th>\n      <th>Jurisdiccion</th>\n      <th>Modallidad</th>\n      <th>Jornada</th>\n      <th>Acceso_Edificio</th>\n      <th>Total_estudiantes</th>\n      <th>Promovidos</th>\n      <th>No promovidos</th>\n      <th>Abandono</th>\n      <th>Pais</th>\n    </tr>\n  </thead>\n  <tbody>\n    <tr>\n      <th>109207</th>\n      <td>09H051532013-2014</td>\n      <td>2013-2014</td>\n      <td>2013-2014 Fin</td>\n      <td>Zona 5</td>\n      <td>GUAYAS</td>\n      <td>9</td>\n      <td>NOBOL</td>\n      <td>925</td>\n      <td>NARCISA DE JESUS</td>\n      <td>92550</td>\n      <td>...</td>\n      <td>Costa</td>\n      <td>Intercultural</td>\n      <td>Presencial</td>\n      <td>Matutina</td>\n      <td>Terrestre</td>\n      <td>48</td>\n      <td>41</td>\n      <td>3</td>\n      <td>4</td>\n      <td>ECUADOR</td>\n    </tr>\n    <tr>\n      <th>101827</th>\n      <td>02H004852013-2014</td>\n      <td>2013-2014</td>\n      <td>2013-2014 Fin</td>\n      <td>Zona 5</td>\n      <td>BOLIVAR</td>\n      <td>2</td>\n      <td>ECHEANDIA</td>\n      <td>204</td>\n      <td>ECHEANDIA</td>\n      <td>20450</td>\n      <td>...</td>\n      <td>Costa</td>\n      <td>Intercultural</td>\n      <td>Presencial</td>\n      <td>Matutina</td>\n      <td>Terrestre</td>\n      <td>11</td>\n      <td>10</td>\n      <td>0</td>\n      <td>1</td>\n      <td>ECUADOR</td>\n    </tr>\n    <tr>\n      <th>75741</th>\n      <td>23H004702011-2012</td>\n      <td>2011-2012</td>\n      <td>2011-2012 Fin</td>\n      <td>Zona 4</td>\n      <td>SANTO DOMINGO DE LOS TSACHILAS</td>\n      <td>23</td>\n      <td>SANTO DOMINGO DE LOS TSACHILAS</td>\n      <td>2301</td>\n      <td>ALLURIQUIN</td>\n      <td>230151</td>\n      <td>...</td>\n      <td>Costa</td>\n      <td>Intercultural</td>\n      <td>Presencial</td>\n      <td>Matutina</td>\n      <td>Terrestre</td>\n      <td>34</td>\n      <td>33</td>\n      <td>0</td>\n      <td>1</td>\n      <td>ECUADOR</td>\n    </tr>\n    <tr>\n      <th>211241</th>\n      <td>09H032712019-2020</td>\n      <td>2019-2020</td>\n      <td>2019-2020 Fin</td>\n      <td>Zona 5</td>\n      <td>GUAYAS</td>\n      <td>9</td>\n      <td>DAULE</td>\n      <td>906</td>\n      <td>DAULE</td>\n      <td>90601</td>\n      <td>...</td>\n      <td>Costa</td>\n      <td>Intercultural</td>\n      <td>Presencial</td>\n      <td>Matutina</td>\n      <td>Terrestre</td>\n      <td>215</td>\n      <td>214</td>\n      <td>0</td>\n      <td>1</td>\n      <td>ECUADOR</td>\n    </tr>\n    <tr>\n      <th>120178</th>\n      <td>21H001362013-2014</td>\n      <td>2013-2014</td>\n      <td>2013-2014 Fin</td>\n      <td>Zona 1</td>\n      <td>SUCUMBIOS</td>\n      <td>21</td>\n      <td>LAGO AGRIO</td>\n      <td>2101</td>\n      <td>NUEVA LOJA (LAGO AGRIO)</td>\n      <td>210150</td>\n      <td>...</td>\n      <td>Sierra</td>\n      <td>Intercultural</td>\n      <td>Presencial</td>\n      <td>Matutina</td>\n      <td>Terrestre</td>\n      <td>383</td>\n      <td>373</td>\n      <td>10</td>\n      <td>0</td>\n      <td>ECUADOR</td>\n    </tr>\n  </tbody>\n</table>\n<p>5 rows × 26 columns</p>\n</div>"
     },
     "metadata": {}
    }
   ],
   "execution_count": null
  },
  {
   "cell_type": "code",
   "metadata": {
    "tags": [],
    "cell_id": "00014-63292a34-5720-4507-bc93-c1eec555f375",
    "deepnote_to_be_reexecuted": false,
    "source_hash": "5f6e6b7e",
    "execution_start": 1640133988321,
    "execution_millis": 267,
    "deepnote_cell_type": "code"
   },
   "source": "education_ec.info()",
   "outputs": [
    {
     "name": "stdout",
     "text": "<class 'pandas.core.frame.DataFrame'>\nRangeIndex: 237963 entries, 0 to 237962\nData columns (total 26 columns):\n #   Column              Non-Null Count   Dtype \n---  ------              --------------   ----- \n 0   Clave_primaria      237963 non-null  object\n 1   Clave_periodo       237963 non-null  object\n 2   Periodo             237963 non-null  object\n 3   Zona                237963 non-null  object\n 4   Provincia           237963 non-null  object\n 5   Cod_Provincia       237963 non-null  int64 \n 6   Canton              237963 non-null  object\n 7   Cod_Canton          237963 non-null  int64 \n 8   Parroquia           237963 non-null  object\n 9   Cod_Parroquia       237963 non-null  int64 \n 10  Nombre_Institucion  237963 non-null  object\n 11  Codigo_Institucion  237963 non-null  object\n 12  Escolarizacion      237963 non-null  object\n 13  Tipo_Educacion      237963 non-null  object\n 14  Sostenimiento       237963 non-null  object\n 15  Area                237963 non-null  object\n 16  Regimen_Escolar     237963 non-null  object\n 17  Jurisdiccion        237963 non-null  object\n 18  Modallidad          237963 non-null  object\n 19  Jornada             237963 non-null  object\n 20  Acceso_Edificio     237963 non-null  object\n 21  Total_estudiantes   237963 non-null  int64 \n 22  Promovidos          237963 non-null  int64 \n 23  No promovidos       237963 non-null  int64 \n 24  Abandono            237963 non-null  int64 \n 25  Pais                237963 non-null  object\ndtypes: int64(7), object(19)\nmemory usage: 47.2+ MB\n",
     "output_type": "stream",
     "data": {}
    }
   ],
   "execution_count": null
  },
  {
   "cell_type": "markdown",
   "source": "El dataset es bastante extenso. Se eliminarán todas las columnas no relevantes para el análisis.",
   "metadata": {
    "tags": [],
    "cell_id": "00016-6365c445-bc86-462f-8a46-69214afe9e46",
    "deepnote_cell_type": "markdown"
   }
  },
  {
   "cell_type": "code",
   "metadata": {
    "tags": [],
    "cell_id": "00017-6c8942bf-6ec9-4a98-880e-f9ccc03fce12",
    "deepnote_to_be_reexecuted": false,
    "source_hash": "cbb0c6c5",
    "execution_start": 1640133988596,
    "execution_millis": 6,
    "deepnote_cell_type": "code"
   },
   "source": "columns = [\n    \"Clave_primaria\",\n    \"Clave_periodo\",\n    \"Zona\",\n    \"Cod_Provincia\",\n    \"Canton\",\n    \"Cod_Canton\",\n    \"Parroquia\",\n    \"Cod_Parroquia\",\n    \"Nombre_Institucion\",\n    \"Codigo_Institucion\",\n    \"Escolarizacion\",\n    \"Tipo_Educacion\",\n    \"Regimen_Escolar\",\n    \"Jurisdiccion\",\n    \"Acceso_Edificio\",\n    \"Pais\",\n]",
   "outputs": [],
   "execution_count": null
  },
  {
   "cell_type": "code",
   "metadata": {
    "tags": [],
    "cell_id": "00017-17c51cdb-8ea0-4778-bd06-00626f716a9c",
    "deepnote_to_be_reexecuted": false,
    "source_hash": "b9ea1526",
    "execution_start": 1640133988606,
    "execution_millis": 83,
    "deepnote_cell_type": "code"
   },
   "source": "education_ec.drop(columns=columns, inplace=True)",
   "outputs": [],
   "execution_count": null
  },
  {
   "cell_type": "code",
   "metadata": {
    "tags": [],
    "cell_id": "00019-6a227b26-cd07-4fc4-969c-647713c66fc8",
    "deepnote_to_be_reexecuted": false,
    "source_hash": "14229e8d",
    "execution_start": 1640133988709,
    "execution_millis": 333,
    "deepnote_cell_type": "code"
   },
   "source": "education_ec.sample(5)",
   "outputs": [
    {
     "output_type": "execute_result",
     "execution_count": 14,
     "data": {
      "application/vnd.deepnote.dataframe.v3+json": {
       "column_count": 10,
       "row_count": 5,
       "columns": [
        {
         "name": "Periodo",
         "dtype": "object",
         "stats": {
          "unique_count": 5,
          "nan_count": 0,
          "categories": [
           {
            "name": "2014-2015 Fin",
            "count": 1
           },
           {
            "name": "2018-2019 Fin",
            "count": 1
           },
           {
            "name": "3 others",
            "count": 3
           }
          ]
         }
        },
        {
         "name": "Provincia",
         "dtype": "object",
         "stats": {
          "unique_count": 4,
          "nan_count": 0,
          "categories": [
           {
            "name": "GUAYAS",
            "count": 2
           },
           {
            "name": "ORELLANA",
            "count": 1
           },
           {
            "name": "2 others",
            "count": 2
           }
          ]
         }
        },
        {
         "name": "Sostenimiento",
         "dtype": "object",
         "stats": {
          "unique_count": 2,
          "nan_count": 0,
          "categories": [
           {
            "name": "Fiscal",
            "count": 4
           },
           {
            "name": "Particular",
            "count": 1
           }
          ]
         }
        },
        {
         "name": "Area",
         "dtype": "object",
         "stats": {
          "unique_count": 2,
          "nan_count": 0,
          "categories": [
           {
            "name": "UrbanaINEC",
            "count": 3
           },
           {
            "name": "RuralINEC",
            "count": 2
           }
          ]
         }
        },
        {
         "name": "Modallidad",
         "dtype": "object",
         "stats": {
          "unique_count": 2,
          "nan_count": 0,
          "categories": [
           {
            "name": "Presencial",
            "count": 4
           },
           {
            "name": "Semipresencial",
            "count": 1
           }
          ]
         }
        },
        {
         "name": "Jornada",
         "dtype": "object",
         "stats": {
          "unique_count": 2,
          "nan_count": 0,
          "categories": [
           {
            "name": "Matutina",
            "count": 3
           },
           {
            "name": "Matutina y Vespertina",
            "count": 2
           }
          ]
         }
        },
        {
         "name": "Total_estudiantes",
         "dtype": "int64",
         "stats": {
          "unique_count": 5,
          "nan_count": 0,
          "min": "18",
          "max": "269",
          "histogram": [
           {
            "bin_start": 18,
            "bin_end": 43.1,
            "count": 3
           },
           {
            "bin_start": 43.1,
            "bin_end": 68.2,
            "count": 1
           },
           {
            "bin_start": 68.2,
            "bin_end": 93.30000000000001,
            "count": 0
           },
           {
            "bin_start": 93.30000000000001,
            "bin_end": 118.4,
            "count": 0
           },
           {
            "bin_start": 118.4,
            "bin_end": 143.5,
            "count": 0
           },
           {
            "bin_start": 143.5,
            "bin_end": 168.60000000000002,
            "count": 0
           },
           {
            "bin_start": 168.60000000000002,
            "bin_end": 193.70000000000002,
            "count": 0
           },
           {
            "bin_start": 193.70000000000002,
            "bin_end": 218.8,
            "count": 0
           },
           {
            "bin_start": 218.8,
            "bin_end": 243.9,
            "count": 0
           },
           {
            "bin_start": 243.9,
            "bin_end": 269,
            "count": 1
           }
          ]
         }
        },
        {
         "name": "Promovidos",
         "dtype": "int64",
         "stats": {
          "unique_count": 5,
          "nan_count": 0,
          "min": "18",
          "max": "256",
          "histogram": [
           {
            "bin_start": 18,
            "bin_end": 41.8,
            "count": 3
           },
           {
            "bin_start": 41.8,
            "bin_end": 65.6,
            "count": 0
           },
           {
            "bin_start": 65.6,
            "bin_end": 89.4,
            "count": 1
           },
           {
            "bin_start": 89.4,
            "bin_end": 113.2,
            "count": 0
           },
           {
            "bin_start": 113.2,
            "bin_end": 137,
            "count": 0
           },
           {
            "bin_start": 137,
            "bin_end": 160.8,
            "count": 0
           },
           {
            "bin_start": 160.8,
            "bin_end": 184.6,
            "count": 0
           },
           {
            "bin_start": 184.6,
            "bin_end": 208.4,
            "count": 0
           },
           {
            "bin_start": 208.4,
            "bin_end": 232.20000000000002,
            "count": 0
           },
           {
            "bin_start": 232.20000000000002,
            "bin_end": 256,
            "count": 1
           }
          ]
         }
        },
        {
         "name": "No promovidos",
         "dtype": "int64",
         "stats": {
          "unique_count": 1,
          "nan_count": 0,
          "min": "0",
          "max": "0",
          "histogram": [
           {
            "bin_start": -0.5,
            "bin_end": -0.4,
            "count": 0
           },
           {
            "bin_start": -0.4,
            "bin_end": -0.3,
            "count": 0
           },
           {
            "bin_start": -0.3,
            "bin_end": -0.19999999999999996,
            "count": 0
           },
           {
            "bin_start": -0.19999999999999996,
            "bin_end": -0.09999999999999998,
            "count": 0
           },
           {
            "bin_start": -0.09999999999999998,
            "bin_end": 0,
            "count": 0
           },
           {
            "bin_start": 0,
            "bin_end": 0.10000000000000009,
            "count": 5
           },
           {
            "bin_start": 0.10000000000000009,
            "bin_end": 0.20000000000000007,
            "count": 0
           },
           {
            "bin_start": 0.20000000000000007,
            "bin_end": 0.30000000000000004,
            "count": 0
           },
           {
            "bin_start": 0.30000000000000004,
            "bin_end": 0.4,
            "count": 0
           },
           {
            "bin_start": 0.4,
            "bin_end": 0.5,
            "count": 0
           }
          ]
         }
        },
        {
         "name": "Abandono",
         "dtype": "int64",
         "stats": {
          "unique_count": 3,
          "nan_count": 0,
          "min": "0",
          "max": "13",
          "histogram": [
           {
            "bin_start": 0,
            "bin_end": 1.3,
            "count": 4
           },
           {
            "bin_start": 1.3,
            "bin_end": 2.6,
            "count": 0
           },
           {
            "bin_start": 2.6,
            "bin_end": 3.9000000000000004,
            "count": 0
           },
           {
            "bin_start": 3.9000000000000004,
            "bin_end": 5.2,
            "count": 0
           },
           {
            "bin_start": 5.2,
            "bin_end": 6.5,
            "count": 0
           },
           {
            "bin_start": 6.5,
            "bin_end": 7.800000000000001,
            "count": 0
           },
           {
            "bin_start": 7.800000000000001,
            "bin_end": 9.1,
            "count": 0
           },
           {
            "bin_start": 9.1,
            "bin_end": 10.4,
            "count": 0
           },
           {
            "bin_start": 10.4,
            "bin_end": 11.700000000000001,
            "count": 0
           },
           {
            "bin_start": 11.700000000000001,
            "bin_end": 13,
            "count": 1
           }
          ]
         }
        },
        {
         "name": "_deepnote_index_column",
         "dtype": "int64"
        }
       ],
       "rows": [
        {
         "Periodo": "2014-2015 Fin",
         "Provincia": "ORELLANA",
         "Sostenimiento": "Fiscal",
         "Area": "RuralINEC",
         "Modallidad": "Presencial",
         "Jornada": "Matutina",
         "Total_estudiantes": 67,
         "Promovidos": 66,
         "No promovidos": 0,
         "Abandono": 1,
         "_deepnote_index_column": 139234
        },
        {
         "Periodo": "2018-2019 Fin",
         "Provincia": "GUAYAS",
         "Sostenimiento": "Particular",
         "Area": "UrbanaINEC",
         "Modallidad": "Semipresencial",
         "Jornada": "Matutina y Vespertina",
         "Total_estudiantes": 269,
         "Promovidos": 256,
         "No promovidos": 0,
         "Abandono": 13,
         "_deepnote_index_column": 196260
        },
        {
         "Periodo": "2010-2011 Fin",
         "Provincia": "LOS RIOS",
         "Sostenimiento": "Fiscal",
         "Area": "UrbanaINEC",
         "Modallidad": "Presencial",
         "Jornada": "Matutina y Vespertina",
         "Total_estudiantes": 18,
         "Promovidos": 18,
         "No promovidos": 0,
         "Abandono": 0,
         "_deepnote_index_column": 40265
        },
        {
         "Periodo": "2011-2012 Fin",
         "Provincia": "PICHINCHA",
         "Sostenimiento": "Fiscal",
         "Area": "RuralINEC",
         "Modallidad": "Presencial",
         "Jornada": "Matutina",
         "Total_estudiantes": 41,
         "Promovidos": 41,
         "No promovidos": 0,
         "Abandono": 0,
         "_deepnote_index_column": 72583
        },
        {
         "Periodo": "2017-2018 Fin",
         "Provincia": "GUAYAS",
         "Sostenimiento": "Fiscal",
         "Area": "UrbanaINEC",
         "Modallidad": "Presencial",
         "Jornada": "Matutina",
         "Total_estudiantes": 31,
         "Promovidos": 31,
         "No promovidos": 0,
         "Abandono": 0,
         "_deepnote_index_column": 178871
        }
       ]
      },
      "text/plain": "              Periodo  Provincia Sostenimiento        Area      Modallidad  \\\n139234  2014-2015 Fin   ORELLANA        Fiscal   RuralINEC      Presencial   \n196260  2018-2019 Fin     GUAYAS    Particular  UrbanaINEC  Semipresencial   \n40265   2010-2011 Fin   LOS RIOS        Fiscal  UrbanaINEC      Presencial   \n72583   2011-2012 Fin  PICHINCHA        Fiscal   RuralINEC      Presencial   \n178871  2017-2018 Fin     GUAYAS        Fiscal  UrbanaINEC      Presencial   \n\n                      Jornada  Total_estudiantes  Promovidos  No promovidos  \\\n139234               Matutina                 67          66              0   \n196260  Matutina y Vespertina                269         256              0   \n40265   Matutina y Vespertina                 18          18              0   \n72583                Matutina                 41          41              0   \n178871               Matutina                 31          31              0   \n\n        Abandono  \n139234         1  \n196260        13  \n40265          0  \n72583          0  \n178871         0  ",
      "text/html": "<div>\n<style scoped>\n    .dataframe tbody tr th:only-of-type {\n        vertical-align: middle;\n    }\n\n    .dataframe tbody tr th {\n        vertical-align: top;\n    }\n\n    .dataframe thead th {\n        text-align: right;\n    }\n</style>\n<table border=\"1\" class=\"dataframe\">\n  <thead>\n    <tr style=\"text-align: right;\">\n      <th></th>\n      <th>Periodo</th>\n      <th>Provincia</th>\n      <th>Sostenimiento</th>\n      <th>Area</th>\n      <th>Modallidad</th>\n      <th>Jornada</th>\n      <th>Total_estudiantes</th>\n      <th>Promovidos</th>\n      <th>No promovidos</th>\n      <th>Abandono</th>\n    </tr>\n  </thead>\n  <tbody>\n    <tr>\n      <th>139234</th>\n      <td>2014-2015 Fin</td>\n      <td>ORELLANA</td>\n      <td>Fiscal</td>\n      <td>RuralINEC</td>\n      <td>Presencial</td>\n      <td>Matutina</td>\n      <td>67</td>\n      <td>66</td>\n      <td>0</td>\n      <td>1</td>\n    </tr>\n    <tr>\n      <th>196260</th>\n      <td>2018-2019 Fin</td>\n      <td>GUAYAS</td>\n      <td>Particular</td>\n      <td>UrbanaINEC</td>\n      <td>Semipresencial</td>\n      <td>Matutina y Vespertina</td>\n      <td>269</td>\n      <td>256</td>\n      <td>0</td>\n      <td>13</td>\n    </tr>\n    <tr>\n      <th>40265</th>\n      <td>2010-2011 Fin</td>\n      <td>LOS RIOS</td>\n      <td>Fiscal</td>\n      <td>UrbanaINEC</td>\n      <td>Presencial</td>\n      <td>Matutina y Vespertina</td>\n      <td>18</td>\n      <td>18</td>\n      <td>0</td>\n      <td>0</td>\n    </tr>\n    <tr>\n      <th>72583</th>\n      <td>2011-2012 Fin</td>\n      <td>PICHINCHA</td>\n      <td>Fiscal</td>\n      <td>RuralINEC</td>\n      <td>Presencial</td>\n      <td>Matutina</td>\n      <td>41</td>\n      <td>41</td>\n      <td>0</td>\n      <td>0</td>\n    </tr>\n    <tr>\n      <th>178871</th>\n      <td>2017-2018 Fin</td>\n      <td>GUAYAS</td>\n      <td>Fiscal</td>\n      <td>UrbanaINEC</td>\n      <td>Presencial</td>\n      <td>Matutina</td>\n      <td>31</td>\n      <td>31</td>\n      <td>0</td>\n      <td>0</td>\n    </tr>\n  </tbody>\n</table>\n</div>"
     },
     "metadata": {}
    }
   ],
   "execution_count": null
  },
  {
   "cell_type": "markdown",
   "source": "### Exportar",
   "metadata": {
    "tags": [],
    "cell_id": "00018-f9feccc7-e5f5-42d9-8155-ae88eead55c3",
    "deepnote_cell_type": "markdown"
   }
  },
  {
   "cell_type": "code",
   "metadata": {
    "tags": [],
    "cell_id": "00019-b484984a-5a97-4d8a-91f9-10a7a038477c",
    "deepnote_to_be_reexecuted": false,
    "source_hash": "f273107a",
    "execution_start": 1640133988878,
    "execution_millis": 137,
    "deepnote_cell_type": "code"
   },
   "source": "education_ec.to_pickle('/work/covid-ec/data/processed/education_ec.pkl')",
   "outputs": [],
   "execution_count": null
  },
  {
   "cell_type": "markdown",
   "source": "<a style='text-decoration:none;line-height:16px;display:flex;color:#5B5B62;padding:10px;justify-content:end;' href='https://deepnote.com?utm_source=created-in-deepnote-cell&projectId=e7b048df-fc9b-4970-aa88-df153b270a6f' target=\"_blank\">\n<img alt='Created in deepnote.com' style='display:inline;max-height:16px;margin:0px;margin-right:7.5px;' src='data:image/svg+xml;base64,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' > </img>\nCreated in <span style='font-weight:600;margin-left:4px;'>Deepnote</span></a>",
   "metadata": {
    "tags": [],
    "created_in_deepnote_cell": true,
    "deepnote_cell_type": "markdown"
   }
  }
 ],
 "nbformat": 4,
 "nbformat_minor": 2,
 "metadata": {
  "orig_nbformat": 2,
  "deepnote": {
   "is_reactive": false
  },
  "deepnote_notebook_id": "92703c2b-dcd0-4172-a6bb-5ed065982cd8",
  "deepnote_execution_queue": []
 }
}