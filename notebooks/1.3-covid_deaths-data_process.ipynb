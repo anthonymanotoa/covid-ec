{
 "cells": [
  {
   "cell_type": "markdown",
   "source": "# Procesamiento data deaths covid-19\n\nDisclaimer: por la cantidad de registros del dataset, el procesamiento de la información volvía muy lento el notebook, así que se creó un notebook aparte y no se mostrará el DataFrame original, sino solo el código del procesamiento y su resultado.",
   "metadata": {
    "tags": [],
    "cell_id": "00000-de1ad872-73c8-48d5-972d-b36bbbff9f81",
    "deepnote_cell_type": "markdown"
   }
  },
  {
   "cell_type": "code",
   "metadata": {
    "tags": [],
    "cell_id": "00001-ea7131e3-9c51-4e8b-9369-b507f773c13f",
    "deepnote_to_be_reexecuted": false,
    "source_hash": "dfe35b4b",
    "execution_start": 1640133723191,
    "execution_millis": 1140,
    "deepnote_cell_type": "code"
   },
   "source": "import pandas as pd\nimport matplotlib.pyplot as plt",
   "outputs": [],
   "execution_count": null
  },
  {
   "cell_type": "code",
   "metadata": {
    "tags": [],
    "cell_id": "00001-f48f2b08-f097-4642-aef7-93f8b327a65c",
    "deepnote_to_be_reexecuted": false,
    "source_hash": "5a9c6481",
    "execution_start": 1640133724341,
    "execution_millis": 106,
    "deepnote_cell_type": "code"
   },
   "source": "deaths = pd.read_csv('/work/covid-ec/data/raw/deaths.csv', index_col=0)",
   "outputs": [],
   "execution_count": null
  },
  {
   "cell_type": "markdown",
   "source": "Del dataset mundial, se toma solo los valores para Ecuador y se los traspone para obtener las fechas como registros.",
   "metadata": {
    "tags": [],
    "cell_id": "00003-f733a65b-fb81-4f73-83bd-7a285ba96c45",
    "deepnote_cell_type": "markdown"
   }
  },
  {
   "cell_type": "code",
   "metadata": {
    "tags": [],
    "cell_id": "00002-97802318-c74b-4707-8a10-36cc25486a3c",
    "deepnote_to_be_reexecuted": false,
    "source_hash": "8f4a4d22",
    "execution_start": 1640133724462,
    "execution_millis": 5,
    "deepnote_cell_type": "code"
   },
   "source": "deaths = deaths[deaths['Country/Region']=='Ecuador']\ndeaths.drop(columns=['Province/State', 'Country/Region', 'Lat', 'Long'], inplace=True)",
   "outputs": [],
   "execution_count": null
  },
  {
   "cell_type": "code",
   "metadata": {
    "tags": [],
    "cell_id": "00004-eaca28dd-460f-468b-ad32-576e095b11f6",
    "deepnote_to_be_reexecuted": false,
    "source_hash": "55adac1a",
    "execution_start": 1640133724476,
    "execution_millis": 3,
    "deepnote_cell_type": "code"
   },
   "source": "deaths = deaths.transpose()",
   "outputs": [],
   "execution_count": null
  },
  {
   "cell_type": "code",
   "metadata": {
    "tags": [],
    "cell_id": "00005-553fd4d0-545d-43f1-ba6b-16da9d4617f7",
    "deepnote_to_be_reexecuted": false,
    "source_hash": "d5a66aa7",
    "execution_start": 1640133724488,
    "execution_millis": 3,
    "deepnote_cell_type": "code"
   },
   "source": "deaths.reset_index(inplace=True)",
   "outputs": [],
   "execution_count": null
  },
  {
   "cell_type": "code",
   "metadata": {
    "tags": [],
    "cell_id": "00006-12d155d0-41be-4001-bf31-86e936e80c8d",
    "deepnote_to_be_reexecuted": false,
    "source_hash": "52e3f8fd",
    "execution_start": 1640133724536,
    "execution_millis": 0,
    "deepnote_cell_type": "code"
   },
   "source": "columns=['date', 'accumulated']",
   "outputs": [],
   "execution_count": null
  },
  {
   "cell_type": "code",
   "metadata": {
    "tags": [],
    "cell_id": "00007-378dd3bf-f095-453f-9050-a53b832e13c8",
    "deepnote_to_be_reexecuted": false,
    "source_hash": "c3ebcd8d",
    "execution_start": 1640133724536,
    "execution_millis": 1,
    "deepnote_cell_type": "code"
   },
   "source": "deaths.columns = columns",
   "outputs": [],
   "execution_count": null
  },
  {
   "cell_type": "code",
   "metadata": {
    "tags": [],
    "cell_id": "00008-e0d040e5-dcf7-4806-b588-1eac9187c899",
    "deepnote_to_be_reexecuted": false,
    "source_hash": "96318a67",
    "execution_start": 1640133724537,
    "execution_millis": 58,
    "deepnote_cell_type": "code"
   },
   "source": "deaths['date'] = pd.to_datetime(deaths['date'])",
   "outputs": [],
   "execution_count": null
  },
  {
   "cell_type": "code",
   "metadata": {
    "tags": [],
    "cell_id": "00009-b5f8ff1a-cde8-4b26-9328-4be483653ee4",
    "deepnote_to_be_reexecuted": false,
    "source_hash": "32920a1e",
    "execution_start": 1640133724652,
    "execution_millis": 1,
    "deepnote_cell_type": "code"
   },
   "source": "deaths.info()",
   "outputs": [
    {
     "name": "stdout",
     "text": "<class 'pandas.core.frame.DataFrame'>\nRangeIndex: 698 entries, 0 to 697\nData columns (total 2 columns):\n #   Column       Non-Null Count  Dtype         \n---  ------       --------------  -----         \n 0   date         698 non-null    datetime64[ns]\n 1   accumulated  698 non-null    int64         \ndtypes: datetime64[ns](1), int64(1)\nmemory usage: 11.0 KB\n",
     "output_type": "stream",
     "data": {}
    }
   ],
   "execution_count": null
  },
  {
   "cell_type": "code",
   "metadata": {
    "tags": [],
    "cell_id": "00010-e3050299-84e5-4940-b283-634b4d5c01ab",
    "deepnote_to_be_reexecuted": false,
    "source_hash": "87e46fe6",
    "execution_start": 1640133724678,
    "execution_millis": 2,
    "deepnote_cell_type": "code"
   },
   "source": "deaths.head()",
   "outputs": [
    {
     "output_type": "execute_result",
     "execution_count": 10,
     "data": {
      "application/vnd.deepnote.dataframe.v3+json": {
       "column_count": 2,
       "row_count": 5,
       "columns": [
        {
         "name": "date",
         "dtype": "datetime64[ns]",
         "stats": {
          "unique_count": 5,
          "nan_count": 0,
          "min": "2020-01-22 00:00:00",
          "max": "2020-01-26 00:00:00",
          "histogram": [
           {
            "bin_start": 1579651200000000000,
            "bin_end": 1579685760000000000,
            "count": 1
           },
           {
            "bin_start": 1579685760000000000,
            "bin_end": 1579720320000000000,
            "count": 0
           },
           {
            "bin_start": 1579720320000000000,
            "bin_end": 1579754880000000000,
            "count": 1
           },
           {
            "bin_start": 1579754880000000000,
            "bin_end": 1579789440000000000,
            "count": 0
           },
           {
            "bin_start": 1579789440000000000,
            "bin_end": 1579824000000000000,
            "count": 0
           },
           {
            "bin_start": 1579824000000000000,
            "bin_end": 1579858560000000000,
            "count": 1
           },
           {
            "bin_start": 1579858560000000000,
            "bin_end": 1579893120000000000,
            "count": 0
           },
           {
            "bin_start": 1579893120000000000,
            "bin_end": 1579927680000000000,
            "count": 1
           },
           {
            "bin_start": 1579927680000000000,
            "bin_end": 1579962240000000000,
            "count": 0
           },
           {
            "bin_start": 1579962240000000000,
            "bin_end": 1579996800000000000,
            "count": 1
           }
          ]
         }
        },
        {
         "name": "accumulated",
         "dtype": "int64",
         "stats": {
          "unique_count": 1,
          "nan_count": 0,
          "min": "0",
          "max": "0",
          "histogram": [
           {
            "bin_start": -0.5,
            "bin_end": -0.4,
            "count": 0
           },
           {
            "bin_start": -0.4,
            "bin_end": -0.3,
            "count": 0
           },
           {
            "bin_start": -0.3,
            "bin_end": -0.19999999999999996,
            "count": 0
           },
           {
            "bin_start": -0.19999999999999996,
            "bin_end": -0.09999999999999998,
            "count": 0
           },
           {
            "bin_start": -0.09999999999999998,
            "bin_end": 0,
            "count": 0
           },
           {
            "bin_start": 0,
            "bin_end": 0.10000000000000009,
            "count": 5
           },
           {
            "bin_start": 0.10000000000000009,
            "bin_end": 0.20000000000000007,
            "count": 0
           },
           {
            "bin_start": 0.20000000000000007,
            "bin_end": 0.30000000000000004,
            "count": 0
           },
           {
            "bin_start": 0.30000000000000004,
            "bin_end": 0.4,
            "count": 0
           },
           {
            "bin_start": 0.4,
            "bin_end": 0.5,
            "count": 0
           }
          ]
         }
        },
        {
         "name": "_deepnote_index_column",
         "dtype": "int64"
        }
       ],
       "rows": [
        {
         "date": "2020-01-22T00:00:00.000000",
         "accumulated": 0,
         "_deepnote_index_column": 0
        },
        {
         "date": "2020-01-23T00:00:00.000000",
         "accumulated": 0,
         "_deepnote_index_column": 1
        },
        {
         "date": "2020-01-24T00:00:00.000000",
         "accumulated": 0,
         "_deepnote_index_column": 2
        },
        {
         "date": "2020-01-25T00:00:00.000000",
         "accumulated": 0,
         "_deepnote_index_column": 3
        },
        {
         "date": "2020-01-26T00:00:00.000000",
         "accumulated": 0,
         "_deepnote_index_column": 4
        }
       ]
      },
      "text/plain": "        date  accumulated\n0 2020-01-22            0\n1 2020-01-23            0\n2 2020-01-24            0\n3 2020-01-25            0\n4 2020-01-26            0",
      "text/html": "<div>\n<style scoped>\n    .dataframe tbody tr th:only-of-type {\n        vertical-align: middle;\n    }\n\n    .dataframe tbody tr th {\n        vertical-align: top;\n    }\n\n    .dataframe thead th {\n        text-align: right;\n    }\n</style>\n<table border=\"1\" class=\"dataframe\">\n  <thead>\n    <tr style=\"text-align: right;\">\n      <th></th>\n      <th>date</th>\n      <th>accumulated</th>\n    </tr>\n  </thead>\n  <tbody>\n    <tr>\n      <th>0</th>\n      <td>2020-01-22</td>\n      <td>0</td>\n    </tr>\n    <tr>\n      <th>1</th>\n      <td>2020-01-23</td>\n      <td>0</td>\n    </tr>\n    <tr>\n      <th>2</th>\n      <td>2020-01-24</td>\n      <td>0</td>\n    </tr>\n    <tr>\n      <th>3</th>\n      <td>2020-01-25</td>\n      <td>0</td>\n    </tr>\n    <tr>\n      <th>4</th>\n      <td>2020-01-26</td>\n      <td>0</td>\n    </tr>\n  </tbody>\n</table>\n</div>"
     },
     "metadata": {}
    }
   ],
   "execution_count": null
  },
  {
   "cell_type": "code",
   "metadata": {
    "tags": [],
    "cell_id": "00011-ee8d96bf-857e-40ab-8d4b-ca992f50243e",
    "deepnote_to_be_reexecuted": false,
    "source_hash": "613c5d1e",
    "execution_start": 1640133724681,
    "execution_millis": 364,
    "deepnote_output_heights": [
     468.96875
    ],
    "deepnote_cell_type": "code"
   },
   "source": "plt.figure(figsize=[14, 8])\nplt.plot(deaths.date, deaths.accumulated)\nplt.show()",
   "outputs": [
    {
     "data": {
      "text/plain": "<Figure size 1008x576 with 1 Axes>",
      "image/png": "[encoded data removed]"
     },
     "metadata": {
      "needs_background": "light",
      "image/png": {
       "width": 834,
       "height": 467
      }
     },
     "output_type": "display_data"
    }
   ],
   "execution_count": null
  },
  {
   "cell_type": "markdown",
   "source": "Como ya se tiene los fallecimientos acumulados, se crea una columna con los fallecimientos diarios.",
   "metadata": {
    "tags": [],
    "cell_id": "00012-dbcc64dd-fabb-40c5-ab4f-1883376a7bcc",
    "deepnote_cell_type": "markdown"
   }
  },
  {
   "cell_type": "code",
   "metadata": {
    "tags": [],
    "cell_id": "00012-fee0c7b3-52b0-4efa-8652-1fc99c9e7adb",
    "deepnote_to_be_reexecuted": false,
    "source_hash": "92516c8f",
    "execution_start": 1640133725095,
    "execution_millis": 1,
    "deepnote_output_heights": [
     21.078125
    ],
    "deepnote_table_state": {
     "pageSize": 10,
     "pageIndex": 69,
     "filters": [],
     "sortBy": []
    },
    "deepnote_table_loading": false,
    "deepnote_cell_type": "code"
   },
   "source": "deaths['new'] = deaths['accumulated'].diff()",
   "outputs": [],
   "execution_count": null
  },
  {
   "cell_type": "code",
   "metadata": {
    "tags": [],
    "cell_id": "00013-b2657b52-7074-42a6-b44f-03d276716560",
    "deepnote_to_be_reexecuted": false,
    "source_hash": "6e7f74d5",
    "execution_start": 1640133725096,
    "execution_millis": 542,
    "deepnote_output_heights": [
     467.984375
    ],
    "deepnote_cell_type": "code"
   },
   "source": "plt.figure(figsize=[14, 8])\nplt.plot(deaths.date, deaths.new)\nplt.show()",
   "outputs": [
    {
     "data": {
      "text/plain": "<Figure size 1008x576 with 1 Axes>",
      "image/png": "[encoded data removed]"
     },
     "metadata": {
      "needs_background": "light",
      "image/png": {
       "width": 827,
       "height": 466
      }
     },
     "output_type": "display_data"
    }
   ],
   "execution_count": null
  },
  {
   "cell_type": "markdown",
   "source": "## Exportar",
   "metadata": {
    "tags": [],
    "cell_id": "00015-64d27f9c-6a39-4716-a08d-dc8e24a75cf6",
    "deepnote_cell_type": "markdown"
   }
  },
  {
   "cell_type": "code",
   "metadata": {
    "tags": [],
    "cell_id": "00016-8b43272c-1ece-4464-9a4d-7d29b92e1083",
    "deepnote_to_be_reexecuted": false,
    "source_hash": "25a04645",
    "execution_start": 1640133725460,
    "execution_millis": 0,
    "deepnote_cell_type": "code"
   },
   "source": "deaths.to_pickle('/work/covid-ec/data/processed/deaths.pkl')",
   "outputs": [],
   "execution_count": null
  },
  {
   "cell_type": "markdown",
   "source": "<a style='text-decoration:none;line-height:16px;display:flex;color:#5B5B62;padding:10px;justify-content:end;' href='https://deepnote.com?utm_source=created-in-deepnote-cell&projectId=e7b048df-fc9b-4970-aa88-df153b270a6f' target=\"_blank\">\n<img alt='Created in deepnote.com' style='display:inline;max-height:16px;margin:0px;margin-right:7.5px;' src='data:image/svg+xml;base64,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' > </img>\nCreated in <span style='font-weight:600;margin-left:4px;'>Deepnote</span></a>",
   "metadata": {
    "tags": [],
    "created_in_deepnote_cell": true,
    "deepnote_cell_type": "markdown"
   }
  }
 ],
 "nbformat": 4,
 "nbformat_minor": 2,
 "metadata": {
  "orig_nbformat": 2,
  "deepnote": {
   "is_reactive": false
  },
  "deepnote_notebook_id": "b40f05bc-6d85-454a-abb3-57e6f97811d2",
  "deepnote_execution_queue": []
 }
}