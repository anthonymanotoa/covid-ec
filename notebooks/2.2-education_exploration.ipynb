{
 "cells": [
  {
   "cell_type": "markdown",
   "source": "# Análisis exploratorio de datos - Educación",
   "metadata": {
    "tags": [],
    "cell_id": "00001-e5fd9571-a876-429a-9a90-0319f2c2bde3",
    "deepnote_cell_type": "markdown"
   }
  },
  {
   "cell_type": "code",
   "metadata": {
    "tags": [],
    "cell_id": "00001-e5ad5bb5-8d89-4caf-b46a-4db071574cf5",
    "deepnote_to_be_reexecuted": false,
    "source_hash": "3bc44cd8",
    "execution_start": 1640126767597,
    "execution_millis": 2413,
    "deepnote_cell_type": "code"
   },
   "source": "import pandas as pd\nimport matplotlib.pyplot as plt\nimport seaborn as sns",
   "execution_count": 1,
   "outputs": []
  },
  {
   "cell_type": "code",
   "source": "sns.set_theme()",
   "metadata": {
    "tags": [],
    "cell_id": "00002-41019ba3-910b-4c0f-ab5f-8b45bc308e3c",
    "deepnote_to_be_reexecuted": false,
    "source_hash": "f2f79983",
    "execution_start": 1640126770023,
    "execution_millis": 3,
    "deepnote_cell_type": "code"
   },
   "outputs": [],
   "execution_count": 2
  },
  {
   "cell_type": "code",
   "metadata": {
    "tags": [],
    "cell_id": "00002-30f32366-bda0-4aff-9ece-cc97916036f2",
    "deepnote_to_be_reexecuted": false,
    "source_hash": "72452da2",
    "execution_start": 1640126770045,
    "execution_millis": 363,
    "deepnote_cell_type": "code"
   },
   "source": "# Load data\npath = '/work/covid-ec/data/processed/'\n\nclosures_education = pd.read_csv(path + 'closures_education.csv')\neducation_ec = pd.read_csv(path + 'education_ec.csv')",
   "execution_count": 3,
   "outputs": []
  },
  {
   "cell_type": "code",
   "metadata": {
    "tags": [],
    "cell_id": "00003-bff68055-ca06-4385-b534-7363b43d8a04",
    "deepnote_to_be_reexecuted": false,
    "source_hash": "41f36c0c",
    "execution_start": 1640126770408,
    "execution_millis": 18,
    "deepnote_cell_type": "code"
   },
   "source": "# Transform to datetime\nclosures_education['Date'] = pd.to_datetime(closures_education['Date'])",
   "execution_count": 4,
   "outputs": []
  },
  {
   "cell_type": "markdown",
   "source": "## UNESCO\n\n### Visión general ",
   "metadata": {
    "tags": [],
    "cell_id": "00001-af1b919f-c7d6-42a8-b34c-a83b04b34ef9",
    "deepnote_cell_type": "markdown"
   }
  },
  {
   "cell_type": "code",
   "metadata": {
    "tags": [],
    "cell_id": "00002-609b2d71-a922-4610-8fa3-d465e32562a3",
    "deepnote_to_be_reexecuted": false,
    "source_hash": "740c77bb",
    "execution_start": 1640126770427,
    "execution_millis": 31,
    "deepnote_cell_type": "code"
   },
   "source": "closures_education.info()",
   "execution_count": 5,
   "outputs": [
    {
     "name": "stdout",
     "text": "<class 'pandas.core.frame.DataFrame'>\nRangeIndex: 624 entries, 0 to 623\nData columns (total 2 columns):\n #   Column  Non-Null Count  Dtype         \n---  ------  --------------  -----         \n 0   Date    624 non-null    datetime64[ns]\n 1   Status  624 non-null    object        \ndtypes: datetime64[ns](1), object(1)\nmemory usage: 9.9+ KB\n",
     "output_type": "stream",
     "data": {}
    }
   ]
  },
  {
   "cell_type": "markdown",
   "source": "### Análisis unidimensional\n\nConteo de aparición de variables categóricas.",
   "metadata": {
    "tags": [],
    "cell_id": "00003-2b78c530-7eae-4191-b389-3c420e038909",
    "deepnote_cell_type": "markdown"
   }
  },
  {
   "cell_type": "code",
   "source": "min_d = closures_education['Date'].min()\nmax_d = closures_education['Date'].max()\nprint('Inicial date: ' + str(min_d))\nprint('Final date: ' + str(max_d))\nprint('Total days: ' + str(max_d - min_d))",
   "metadata": {
    "tags": [],
    "cell_id": "00008-66f4a32a-43c9-44fb-a31d-d37a46a190db",
    "deepnote_to_be_reexecuted": false,
    "source_hash": "9aafc838",
    "execution_start": 1640126770461,
    "execution_millis": 17,
    "deepnote_output_heights": [
     21.078125
    ],
    "deepnote_cell_type": "code"
   },
   "outputs": [
    {
     "name": "stdout",
     "text": "Inicial date: 2020-02-16 00:00:00\nFinal date: 2021-10-31 00:00:00\nTotal days: 623 days 00:00:00\n",
     "output_type": "stream",
     "data": {}
    }
   ],
   "execution_count": 6
  },
  {
   "cell_type": "code",
   "metadata": {
    "tags": [],
    "cell_id": "00006-209f07e0-2e87-49c1-acea-9fe8164a21ce",
    "deepnote_to_be_reexecuted": false,
    "source_hash": "80344d19",
    "execution_start": 1640126770486,
    "execution_millis": 13,
    "deepnote_output_heights": [
     97.4375
    ],
    "deepnote_cell_type": "code"
   },
   "source": "closures_education['Status'].value_counts()",
   "execution_count": 7,
   "outputs": [
    {
     "output_type": "execute_result",
     "execution_count": 7,
     "data": {
      "text/plain": "Closed due to COVID-19    282\nPartially open            242\nAcademic break             74\nFully open                 26\nName: Status, dtype: int64"
     },
     "metadata": {}
    }
   ]
  },
  {
   "cell_type": "code",
   "metadata": {
    "tags": [],
    "cell_id": "00001-2cb2654e-63ac-48bb-b78e-d1b8b56fb0b2",
    "deepnote_to_be_reexecuted": false,
    "source_hash": "f0661e67",
    "execution_start": 1640126770507,
    "execution_millis": 544,
    "deepnote_output_heights": [
     269.984375
    ],
    "deepnote_cell_type": "code"
   },
   "source": "sns.countplot(data=closures_education, y='Status')\nplt.show()",
   "execution_count": 8,
   "outputs": [
    {
     "data": {
      "text/plain": "<Figure size 432x288 with 1 Axes>",
      "image/png": "[encoded data removed]"
     },
     "metadata": {
      "image/png": {
       "width": 508,
       "height": 268
      }
     },
     "output_type": "display_data"
    }
   ]
  },
  {
   "cell_type": "code",
   "source": "closures_education['Status'].value_counts(normalize=True)",
   "metadata": {
    "tags": [],
    "cell_id": "00011-c5bf7109-2cec-4244-b76a-cd933508e9dc",
    "deepnote_to_be_reexecuted": false,
    "source_hash": "80822f3",
    "execution_start": 1640126770919,
    "execution_millis": 140,
    "deepnote_output_heights": [
     97.4375
    ],
    "deepnote_cell_type": "code"
   },
   "outputs": [
    {
     "output_type": "execute_result",
     "execution_count": 9,
     "data": {
      "text/plain": "Closed due to COVID-19    0.451923\nPartially open            0.387821\nAcademic break            0.118590\nFully open                0.041667\nName: Status, dtype: float64"
     },
     "metadata": {}
    }
   ],
   "execution_count": 9
  },
  {
   "cell_type": "markdown",
   "source": "En los últimos 623 días los centros educativos pasaron cerrados un **45%** del tiempo.",
   "metadata": {
    "tags": [],
    "cell_id": "00011-c1bfdba7-0fad-4f01-ae9f-eac012c8790b",
    "deepnote_cell_type": "markdown"
   },
   "outputs": [],
   "execution_count": null
  },
  {
   "cell_type": "markdown",
   "source": "### Análisis multidimensional\n\nProgreso de los cierres de establecimientos educativos en el tiempo.",
   "metadata": {
    "tags": [],
    "cell_id": "00007-51e07b79-fa6b-4672-89b1-36d1a668e9b4",
    "deepnote_cell_type": "markdown"
   }
  },
  {
   "cell_type": "code",
   "metadata": {
    "tags": [],
    "cell_id": "00002-a6405a17-b7b7-4a27-870b-fe9fdd17f3d9",
    "deepnote_to_be_reexecuted": false,
    "source_hash": "71b908fd",
    "execution_start": 1640126770921,
    "execution_millis": 918,
    "deepnote_output_heights": [
     522.984375
    ],
    "deepnote_cell_type": "code"
   },
   "source": "plt.figure(figsize=[14, 8])\nsns.scatterplot(data=closures_education, x='Date', y='Status', hue='Status')\nplt.xticks(rotation=90)\nplt.show()",
   "execution_count": 10,
   "outputs": [
    {
     "data": {
      "text/plain": "<Figure size 1008x576 with 1 Axes>",
      "image/png": "[encoded data removed]"
     },
     "metadata": {
      "image/png": {
       "width": 954,
       "height": 521
      }
     },
     "output_type": "display_data"
    }
   ]
  },
  {
   "cell_type": "markdown",
   "source": "## Gobierno de Ecuador\n\n### Visión general",
   "metadata": {
    "tags": [],
    "cell_id": "00009-f9174877-fda0-4386-a6c2-d4d9067c1c1f",
    "deepnote_cell_type": "markdown"
   }
  },
  {
   "cell_type": "code",
   "metadata": {
    "tags": [],
    "cell_id": "00010-b9857d49-24f1-4bc4-b7f3-8e2f4a69962f",
    "deepnote_to_be_reexecuted": false,
    "source_hash": "5f6e6b7e",
    "execution_start": 1640126771927,
    "execution_millis": 4,
    "deepnote_cell_type": "code"
   },
   "source": "education_ec.info()",
   "execution_count": 11,
   "outputs": [
    {
     "name": "stdout",
     "text": "<class 'pandas.core.frame.DataFrame'>\nRangeIndex: 237963 entries, 0 to 237962\nData columns (total 10 columns):\n #   Column             Non-Null Count   Dtype \n---  ------             --------------   ----- \n 0   Periodo            237963 non-null  object\n 1   Provincia          237963 non-null  object\n 2   Sostenimiento      237963 non-null  object\n 3   Area               237963 non-null  object\n 4   Modallidad         237963 non-null  object\n 5   Jornada            237963 non-null  object\n 6   Total_estudiantes  237963 non-null  int64 \n 7   Promovidos         237963 non-null  int64 \n 8   No promovidos      237963 non-null  int64 \n 9   Abandono           237963 non-null  int64 \ndtypes: int64(4), object(6)\nmemory usage: 18.2+ MB\n",
     "output_type": "stream",
     "data": {}
    }
   ]
  },
  {
   "cell_type": "code",
   "source": "education_ec.describe()",
   "metadata": {
    "tags": [],
    "cell_id": "00018-6c9ac447-32a4-4a0b-8b94-0f03f031a7e3",
    "deepnote_to_be_reexecuted": false,
    "source_hash": "407decc2",
    "execution_start": 1640126771944,
    "execution_millis": 103,
    "deepnote_cell_type": "code"
   },
   "outputs": [
    {
     "output_type": "execute_result",
     "execution_count": 12,
     "data": {
      "application/vnd.deepnote.dataframe.v3+json": {
       "column_count": 4,
       "row_count": 8,
       "columns": [
        {
         "name": "Total_estudiantes",
         "dtype": "float64",
         "stats": {
          "unique_count": 8,
          "nan_count": 0,
          "min": "1.0",
          "max": "237963.0",
          "histogram": [
           {
            "bin_start": 1,
            "bin_end": 23797.2,
            "count": 7
           },
           {
            "bin_start": 23797.2,
            "bin_end": 47593.4,
            "count": 0
           },
           {
            "bin_start": 47593.4,
            "bin_end": 71389.6,
            "count": 0
           },
           {
            "bin_start": 71389.6,
            "bin_end": 95185.8,
            "count": 0
           },
           {
            "bin_start": 95185.8,
            "bin_end": 118982,
            "count": 0
           },
           {
            "bin_start": 118982,
            "bin_end": 142778.2,
            "count": 0
           },
           {
            "bin_start": 142778.2,
            "bin_end": 166574.4,
            "count": 0
           },
           {
            "bin_start": 166574.4,
            "bin_end": 190370.6,
            "count": 0
           },
           {
            "bin_start": 190370.6,
            "bin_end": 214166.80000000002,
            "count": 0
           },
           {
            "bin_start": 214166.80000000002,
            "bin_end": 237963,
            "count": 1
           }
          ]
         }
        },
        {
         "name": "Promovidos",
         "dtype": "float64",
         "stats": {
          "unique_count": 8,
          "nan_count": 0,
          "min": "0.0",
          "max": "237963.0",
          "histogram": [
           {
            "bin_start": 0,
            "bin_end": 23796.3,
            "count": 7
           },
           {
            "bin_start": 23796.3,
            "bin_end": 47592.6,
            "count": 0
           },
           {
            "bin_start": 47592.6,
            "bin_end": 71388.9,
            "count": 0
           },
           {
            "bin_start": 71388.9,
            "bin_end": 95185.2,
            "count": 0
           },
           {
            "bin_start": 95185.2,
            "bin_end": 118981.5,
            "count": 0
           },
           {
            "bin_start": 118981.5,
            "bin_end": 142777.8,
            "count": 0
           },
           {
            "bin_start": 142777.8,
            "bin_end": 166574.1,
            "count": 0
           },
           {
            "bin_start": 166574.1,
            "bin_end": 190370.4,
            "count": 0
           },
           {
            "bin_start": 190370.4,
            "bin_end": 214166.69999999998,
            "count": 0
           },
           {
            "bin_start": 214166.69999999998,
            "bin_end": 237963,
            "count": 1
           }
          ]
         }
        },
        {
         "name": "No promovidos",
         "dtype": "float64",
         "stats": {
          "unique_count": 6,
          "nan_count": 0,
          "min": "0.0",
          "max": "237963.0",
          "histogram": [
           {
            "bin_start": 0,
            "bin_end": 23796.3,
            "count": 7
           },
           {
            "bin_start": 23796.3,
            "bin_end": 47592.6,
            "count": 0
           },
           {
            "bin_start": 47592.6,
            "bin_end": 71388.9,
            "count": 0
           },
           {
            "bin_start": 71388.9,
            "bin_end": 95185.2,
            "count": 0
           },
           {
            "bin_start": 95185.2,
            "bin_end": 118981.5,
            "count": 0
           },
           {
            "bin_start": 118981.5,
            "bin_end": 142777.8,
            "count": 0
           },
           {
            "bin_start": 142777.8,
            "bin_end": 166574.1,
            "count": 0
           },
           {
            "bin_start": 166574.1,
            "bin_end": 190370.4,
            "count": 0
           },
           {
            "bin_start": 190370.4,
            "bin_end": 214166.69999999998,
            "count": 0
           },
           {
            "bin_start": 214166.69999999998,
            "bin_end": 237963,
            "count": 1
           }
          ]
         }
        },
        {
         "name": "Abandono",
         "dtype": "float64",
         "stats": {
          "unique_count": 7,
          "nan_count": 0,
          "min": "0.0",
          "max": "237963.0",
          "histogram": [
           {
            "bin_start": 0,
            "bin_end": 23796.3,
            "count": 7
           },
           {
            "bin_start": 23796.3,
            "bin_end": 47592.6,
            "count": 0
           },
           {
            "bin_start": 47592.6,
            "bin_end": 71388.9,
            "count": 0
           },
           {
            "bin_start": 71388.9,
            "bin_end": 95185.2,
            "count": 0
           },
           {
            "bin_start": 95185.2,
            "bin_end": 118981.5,
            "count": 0
           },
           {
            "bin_start": 118981.5,
            "bin_end": 142777.8,
            "count": 0
           },
           {
            "bin_start": 142777.8,
            "bin_end": 166574.1,
            "count": 0
           },
           {
            "bin_start": 166574.1,
            "bin_end": 190370.4,
            "count": 0
           },
           {
            "bin_start": 190370.4,
            "bin_end": 214166.69999999998,
            "count": 0
           },
           {
            "bin_start": 214166.69999999998,
            "bin_end": 237963,
            "count": 1
           }
          ]
         }
        },
        {
         "name": "_deepnote_index_column",
         "dtype": "object"
        }
       ],
       "rows": [
        {
         "Total_estudiantes": 237963,
         "Promovidos": 237963,
         "No promovidos": 237963,
         "Abandono": 237963,
         "_deepnote_index_column": "count"
        },
        {
         "Total_estudiantes": 213.6344053487307,
         "Promovidos": 202.98417401024528,
         "No promovidos": 3.5556620146829547,
         "Abandono": 7.09456932380244,
         "_deepnote_index_column": "mean"
        },
        {
         "Total_estudiantes": 394.7064289356629,
         "Promovidos": 375.1343538041671,
         "No promovidos": 18.5592816325299,
         "Abandono": 22.85069879964978,
         "_deepnote_index_column": "std"
        },
        {
         "Total_estudiantes": 1,
         "Promovidos": 0,
         "No promovidos": 0,
         "Abandono": 0,
         "_deepnote_index_column": "min"
        },
        {
         "Total_estudiantes": 23,
         "Promovidos": 21,
         "No promovidos": 0,
         "Abandono": 0,
         "_deepnote_index_column": "25%"
        },
        {
         "Total_estudiantes": 61,
         "Promovidos": 57,
         "No promovidos": 0,
         "Abandono": 1,
         "_deepnote_index_column": "50%"
        },
        {
         "Total_estudiantes": 221,
         "Promovidos": 210,
         "No promovidos": 1,
         "Abandono": 5,
         "_deepnote_index_column": "75%"
        },
        {
         "Total_estudiantes": 8838,
         "Promovidos": 8573,
         "No promovidos": 1856,
         "Abandono": 1408,
         "_deepnote_index_column": "max"
        }
       ]
      },
      "text/plain": "       Total_estudiantes     Promovidos  No promovidos       Abandono\ncount      237963.000000  237963.000000  237963.000000  237963.000000\nmean          213.634405     202.984174       3.555662       7.094569\nstd           394.706429     375.134354      18.559282      22.850699\nmin             1.000000       0.000000       0.000000       0.000000\n25%            23.000000      21.000000       0.000000       0.000000\n50%            61.000000      57.000000       0.000000       1.000000\n75%           221.000000     210.000000       1.000000       5.000000\nmax          8838.000000    8573.000000    1856.000000    1408.000000",
      "text/html": "<div>\n<style scoped>\n    .dataframe tbody tr th:only-of-type {\n        vertical-align: middle;\n    }\n\n    .dataframe tbody tr th {\n        vertical-align: top;\n    }\n\n    .dataframe thead th {\n        text-align: right;\n    }\n</style>\n<table border=\"1\" class=\"dataframe\">\n  <thead>\n    <tr style=\"text-align: right;\">\n      <th></th>\n      <th>Total_estudiantes</th>\n      <th>Promovidos</th>\n      <th>No promovidos</th>\n      <th>Abandono</th>\n    </tr>\n  </thead>\n  <tbody>\n    <tr>\n      <th>count</th>\n      <td>237963.000000</td>\n      <td>237963.000000</td>\n      <td>237963.000000</td>\n      <td>237963.000000</td>\n    </tr>\n    <tr>\n      <th>mean</th>\n      <td>213.634405</td>\n      <td>202.984174</td>\n      <td>3.555662</td>\n      <td>7.094569</td>\n    </tr>\n    <tr>\n      <th>std</th>\n      <td>394.706429</td>\n      <td>375.134354</td>\n      <td>18.559282</td>\n      <td>22.850699</td>\n    </tr>\n    <tr>\n      <th>min</th>\n      <td>1.000000</td>\n      <td>0.000000</td>\n      <td>0.000000</td>\n      <td>0.000000</td>\n    </tr>\n    <tr>\n      <th>25%</th>\n      <td>23.000000</td>\n      <td>21.000000</td>\n      <td>0.000000</td>\n      <td>0.000000</td>\n    </tr>\n    <tr>\n      <th>50%</th>\n      <td>61.000000</td>\n      <td>57.000000</td>\n      <td>0.000000</td>\n      <td>1.000000</td>\n    </tr>\n    <tr>\n      <th>75%</th>\n      <td>221.000000</td>\n      <td>210.000000</td>\n      <td>1.000000</td>\n      <td>5.000000</td>\n    </tr>\n    <tr>\n      <th>max</th>\n      <td>8838.000000</td>\n      <td>8573.000000</td>\n      <td>1856.000000</td>\n      <td>1408.000000</td>\n    </tr>\n  </tbody>\n</table>\n</div>"
     },
     "metadata": {}
    }
   ],
   "execution_count": 12
  },
  {
   "cell_type": "markdown",
   "source": "Hay más estudiantes que abandonan que no promovidos.",
   "metadata": {
    "tags": [],
    "cell_id": "00019-6409346b-e097-476c-bdd6-8bbbd234b0ad",
    "deepnote_cell_type": "markdown"
   },
   "outputs": [],
   "execution_count": null
  },
  {
   "cell_type": "markdown",
   "source": "### Análisis unidimensional",
   "metadata": {
    "tags": [],
    "cell_id": "00011-428ab457-1166-4656-b87c-3fa4675ccb24",
    "deepnote_cell_type": "markdown"
   }
  },
  {
   "cell_type": "code",
   "metadata": {
    "tags": [],
    "cell_id": "00012-8a11b993-a6f6-429c-96ea-e6f88aa7777d",
    "deepnote_to_be_reexecuted": false,
    "source_hash": "f325dc29",
    "execution_start": 1640126772060,
    "execution_millis": 14,
    "deepnote_output_heights": [
     21.078125
    ],
    "deepnote_cell_type": "code"
   },
   "source": "# Número de periodos escolares\nlen(education_ec['Periodo'].unique())",
   "execution_count": 13,
   "outputs": [
    {
     "output_type": "execute_result",
     "execution_count": 13,
     "data": {
      "text/plain": "12"
     },
     "metadata": {}
    }
   ]
  },
  {
   "cell_type": "markdown",
   "source": "Exploración de variables categóricas:",
   "metadata": {
    "tags": [],
    "cell_id": "00022-47bb6344-5b6a-4d62-b630-dd9a05a8dbfd",
    "deepnote_cell_type": "markdown"
   },
   "outputs": [],
   "execution_count": null
  },
  {
   "cell_type": "code",
   "source": "education_ec['Sostenimiento'].value_counts(normalize=True)\n",
   "metadata": {
    "tags": [],
    "cell_id": "00024-63402105-9312-489b-8f67-14ca37a85b12",
    "deepnote_to_be_reexecuted": false,
    "source_hash": "1ab70436",
    "execution_start": 1640126772107,
    "execution_millis": 8,
    "deepnote_output_heights": [
     97.4375
    ],
    "deepnote_cell_type": "code"
   },
   "outputs": [
    {
     "output_type": "execute_result",
     "execution_count": 14,
     "data": {
      "text/plain": "Fiscal           0.764384\nParticular       0.185945\nFiscomisional    0.040737\nMunicipal        0.008934\nName: Sostenimiento, dtype: float64"
     },
     "metadata": {}
    }
   ],
   "execution_count": 14
  },
  {
   "cell_type": "code",
   "source": "education_ec['Area'].value_counts(normalize=True)",
   "metadata": {
    "tags": [],
    "cell_id": "00025-e6bd9c5e-2e12-4017-b761-537db70fcda9",
    "deepnote_to_be_reexecuted": false,
    "source_hash": "68aed6fd",
    "execution_start": 1640126772195,
    "execution_millis": 3,
    "deepnote_output_heights": [
     59.265625
    ],
    "deepnote_cell_type": "code"
   },
   "outputs": [
    {
     "output_type": "execute_result",
     "execution_count": 15,
     "data": {
      "text/plain": "UrbanaINEC    0.548539\nRuralINEC     0.451461\nName: Area, dtype: float64"
     },
     "metadata": {}
    }
   ],
   "execution_count": 15
  },
  {
   "cell_type": "code",
   "source": "education_ec['Modallidad'].value_counts(normalize=True)",
   "metadata": {
    "tags": [],
    "cell_id": "00026-f3614e06-0b63-4f05-a5bf-feb31c8bc127",
    "deepnote_to_be_reexecuted": false,
    "source_hash": "4922cda0",
    "execution_start": 1640126772196,
    "execution_millis": 46,
    "deepnote_output_heights": [
     555.625
    ],
    "deepnote_cell_type": "code"
   },
   "outputs": [
    {
     "output_type": "execute_result",
     "execution_count": 16,
     "data": {
      "text/plain": "Presencial                                                                                 0.973702\nA Distancia                                                                                0.015280\nSemipresencial                                                                             0.006673\nPresencial y Semipresencial                                                                0.002047\nSemipresencial y A Distancia                                                               0.000794\nPresencial, Semipresencial y A Distancia                                                   0.000525\nRadiofónica                                                                                0.000261\nA Distancia y Red Virtual                                                                  0.000143\nVirtual                                                                                    0.000109\nSemipresencial y Radiofónica                                                               0.000092\nEducación en línea                                                                         0.000084\nRed Virtual                                                                                0.000055\nPresencial y Radiofónica                                                                   0.000050\nSemipresencial y Educación en línea                                                        0.000038\nSemipresencial y Red Virtual                                                               0.000029\nA Distancia y Radiofónica                                                                  0.000025\nPresencial, Educación en casa y Educación Abierta (en línea y virtual)                     0.000025\nSemipresencial y Virtual                                                                   0.000013\nEducación en casa                                                                          0.000013\nPresencial y A Distancia                                                                   0.000008\nPresencial y Educación en línea                                                            0.000004\nSemipresencial, A Distancia y Educación en casa                                            0.000004\nPresencial, Semipresencial y Educación el casa                                             0.000004\nPresencial, Semipresencial, A Distancia, Educación el casa y Virtual                       0.000004\nSemipresencial, Red Virtual, Educación Abierta (en línea y virtual) y Educación en casa    0.000004\nPresencial, Semipresencial, Educación Abierta (en línea y virtual) y Educación en casa     0.000004\nSemipresencial, A Distancia y Virtual                                                      0.000004\nSemipresencial, Educación en casa y Virtual                                                0.000004\nName: Modallidad, dtype: float64"
     },
     "metadata": {}
    }
   ],
   "execution_count": 16
  },
  {
   "cell_type": "code",
   "source": "education_ec['Jornada'].value_counts(normalize=True)",
   "metadata": {
    "tags": [],
    "cell_id": "00027-52341191-fbef-4c6c-b454-981f5629b8f6",
    "deepnote_to_be_reexecuted": false,
    "source_hash": "af393168",
    "execution_start": 1640126772241,
    "execution_millis": 11,
    "deepnote_output_heights": [
     154.71875
    ],
    "deepnote_cell_type": "code"
   },
   "outputs": [
    {
     "output_type": "execute_result",
     "execution_count": 17,
     "data": {
      "text/plain": "Matutina                          0.855280\nMatutina y Vespertina             0.084459\nVespertina                        0.029332\nMatutina, Vesperina y Nocturna    0.011939\nNocturna                          0.009863\nMatutino y Nocturno               0.007665\nVespertina y Nocturna             0.001462\nName: Jornada, dtype: float64"
     },
     "metadata": {}
    }
   ],
   "execution_count": 17
  },
  {
   "cell_type": "markdown",
   "source": "### Análisis multidimensional",
   "metadata": {
    "tags": [],
    "cell_id": "00013-791d8d83-fd76-4910-9ea6-41f439d39cf6",
    "deepnote_cell_type": "markdown"
   }
  },
  {
   "cell_type": "markdown",
   "source": "Evolución de promovidos, no promovidos y abandonos en los 12 años:",
   "metadata": {
    "tags": [],
    "cell_id": "00027-24c7c1ee-4e3a-4b52-9a31-fc9d118e72af",
    "deepnote_cell_type": "markdown"
   },
   "outputs": [],
   "execution_count": null
  },
  {
   "cell_type": "code",
   "metadata": {
    "tags": [],
    "cell_id": "00014-6fe2e202-562c-4f1a-b462-2d7492a8161c",
    "deepnote_to_be_reexecuted": false,
    "source_hash": "c127d86c",
    "execution_start": 1640128207415,
    "execution_millis": 89,
    "deepnote_output_heights": [
     269.265625
    ],
    "deepnote_cell_type": "code"
   },
   "source": "# Group values in a new DataFrame\nstudents = pd.DataFrame()\nstudents['total_students'] = education_ec.groupby('Periodo')['Total_estudiantes'].sum()\nstudents['promoted'] = education_ec.groupby('Periodo')['Promovidos'].sum()\nstudents['reproved'] = education_ec.groupby('Periodo')['No promovidos'].sum()\nstudents['dropout'] = education_ec.groupby('Periodo')['Abandono'].sum()",
   "execution_count": 26,
   "outputs": []
  },
  {
   "cell_type": "code",
   "source": "# Percentages\nstudents['p_promoted'] = students['promoted'] / students['total_students'] * 100\nstudents['p_reproved'] = students['reproved'] / students['total_students'] * 100\nstudents['p_dropout'] = students['dropout'] / students['total_students'] * 100",
   "metadata": {
    "tags": [],
    "cell_id": "00029-8e923ba0-5d4d-4aed-81dc-fccdd2662675",
    "deepnote_to_be_reexecuted": false,
    "source_hash": "3cbf0f9c",
    "execution_start": 1640129160247,
    "execution_millis": 3,
    "deepnote_cell_type": "code"
   },
   "outputs": [],
   "execution_count": 39
  },
  {
   "cell_type": "code",
   "source": "# Plot\nfig, ax = plt.subplots(2, 1, sharex=True, figsize=[14,7])\nax[0].plot(students.index, students.p_dropout, marker='v', label='Dropout')\nax[0].plot(students.index, students.p_reproved, marker='o', label='Repoved')\nax[0].legend()\nax[0].set_title('Percentage of reproved & dropout')\nax[1].plot(students.index, students.p_promoted, marker='s', c='r')\nax[1].set_title('Percentage of aproved')\n\nplt.xticks(rotation=90)\nplt.show()",
   "metadata": {
    "tags": [],
    "cell_id": "00030-1fe44f3b-9d2e-499b-8b4b-eadba1d8f3d5",
    "deepnote_to_be_reexecuted": false,
    "source_hash": "709e8fdc",
    "execution_start": 1640131144367,
    "execution_millis": 544,
    "deepnote_output_heights": [
     500.984375,
     500.984375
    ],
    "deepnote_cell_type": "code"
   },
   "outputs": [
    {
     "data": {
      "text/plain": "<Figure size 1008x504 with 2 Axes>",
      "image/png": "[encoded data removed]"
     },
     "metadata": {
      "image/png": {
       "width": 819,
       "height": 499
      }
     },
     "output_type": "display_data"
    }
   ],
   "execution_count": 61
  },
  {
   "cell_type": "markdown",
   "source": "Si se compara como panorama general, se ve que ha ido mejorando la tasa de aprobación y disminuyendo la de reprobados y abandonos. Sin embargo, en el periodo '2020-2021', correspondiente a la pandemia, se ve como se detiene la evolución y hay un retroceso.",
   "metadata": {
    "tags": [],
    "cell_id": "00031-45038f39-23d3-4c93-bec7-b775db69a820",
    "deepnote_cell_type": "markdown"
   },
   "outputs": [],
   "execution_count": null
  },
  {
   "cell_type": "markdown",
   "source": "<a style='text-decoration:none;line-height:16px;display:flex;color:#5B5B62;padding:10px;justify-content:end;' href='https://deepnote.com?utm_source=created-in-deepnote-cell&projectId=e7b048df-fc9b-4970-aa88-df153b270a6f' target=\"_blank\">\n<img alt='Created in deepnote.com' style='display:inline;max-height:16px;margin:0px;margin-right:7.5px;' src='data:image/svg+xml;base64,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' > </img>\nCreated in <span style='font-weight:600;margin-left:4px;'>Deepnote</span></a>",
   "metadata": {
    "tags": [],
    "created_in_deepnote_cell": true,
    "deepnote_cell_type": "markdown"
   }
  }
 ],
 "nbformat": 4,
 "nbformat_minor": 2,
 "metadata": {
  "orig_nbformat": 2,
  "deepnote": {
   "is_reactive": false
  },
  "deepnote_notebook_id": "70e3aa4e-06d0-4866-9b77-82daaa5c6e67",
  "deepnote_execution_queue": []
 }
}