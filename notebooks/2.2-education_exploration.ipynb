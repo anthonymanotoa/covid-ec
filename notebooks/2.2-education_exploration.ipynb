{
 "cells": [
  {
   "cell_type": "markdown",
   "source": "# Análisis exploratorio de datos - Educación",
   "metadata": {
    "tags": [],
    "cell_id": "00001-e5fd9571-a876-429a-9a90-0319f2c2bde3",
    "deepnote_cell_type": "markdown"
   }
  },
  {
   "cell_type": "code",
   "source": "import pandas as pd\nimport matplotlib.pyplot as plt\nimport seaborn as sns",
   "metadata": {
    "tags": [],
    "cell_id": "00001-e5ad5bb5-8d89-4caf-b46a-4db071574cf5",
    "deepnote_to_be_reexecuted": false,
    "source_hash": "3bc44cd8",
    "execution_start": 1640102494648,
    "execution_millis": 1863,
    "deepnote_cell_type": "code"
   },
   "outputs": [],
   "execution_count": 1
  },
  {
   "cell_type": "code",
   "source": "# Load data\npath = '/work/covid-ec/data/processed/'\n\nclosures_education = pd.read_csv(path + 'closures_education.csv')\neducation_ec = pd.read_csv(path + 'education_ec.csv')",
   "metadata": {
    "tags": [],
    "cell_id": "00002-30f32366-bda0-4aff-9ece-cc97916036f2",
    "deepnote_to_be_reexecuted": false,
    "source_hash": "72452da2",
    "execution_start": 1640102560601,
    "execution_millis": 445,
    "deepnote_cell_type": "code"
   },
   "outputs": [],
   "execution_count": 2
  },
  {
   "cell_type": "code",
   "source": "# Transform to datetime\nclosures_education['Date'] = pd.to_datetime(closures_education['Date'])",
   "metadata": {
    "tags": [],
    "cell_id": "00003-bff68055-ca06-4385-b534-7363b43d8a04",
    "deepnote_to_be_reexecuted": false,
    "source_hash": "41f36c0c",
    "execution_start": 1640102619851,
    "execution_millis": 5,
    "deepnote_cell_type": "code"
   },
   "outputs": [],
   "execution_count": 5
  },
  {
   "cell_type": "markdown",
   "source": "## UNESCO\n\nPuedes categorizar por:\n- Nivel educativo\n- Sostenimiento (particular o no)\n- Area (rural o urbana)\n- Modalidad\n- Jornada\n\n### Visión general ",
   "metadata": {
    "tags": [],
    "cell_id": "00001-af1b919f-c7d6-42a8-b34c-a83b04b34ef9",
    "deepnote_cell_type": "markdown"
   },
   "outputs": [],
   "execution_count": null
  },
  {
   "cell_type": "code",
   "source": "closures_education.info()",
   "metadata": {
    "tags": [],
    "cell_id": "00002-609b2d71-a922-4610-8fa3-d465e32562a3",
    "deepnote_to_be_reexecuted": false,
    "source_hash": "740c77bb",
    "execution_start": 1640102620801,
    "execution_millis": 0,
    "deepnote_cell_type": "code"
   },
   "outputs": [
    {
     "name": "stdout",
     "text": "<class 'pandas.core.frame.DataFrame'>\nRangeIndex: 624 entries, 0 to 623\nData columns (total 2 columns):\n #   Column  Non-Null Count  Dtype         \n---  ------  --------------  -----         \n 0   Date    624 non-null    datetime64[ns]\n 1   Status  624 non-null    object        \ndtypes: datetime64[ns](1), object(1)\nmemory usage: 9.9+ KB\n",
     "output_type": "stream",
     "data": {}
    }
   ],
   "execution_count": 6
  },
  {
   "cell_type": "code",
   "source": "closures_education['Status'].value_counts()",
   "metadata": {
    "tags": [],
    "cell_id": "00006-209f07e0-2e87-49c1-acea-9fe8164a21ce",
    "deepnote_to_be_reexecuted": false,
    "source_hash": "80344d19",
    "execution_start": 1640102727867,
    "execution_millis": 18,
    "deepnote_output_heights": [
     97.4375
    ],
    "deepnote_cell_type": "code"
   },
   "outputs": [
    {
     "output_type": "execute_result",
     "execution_count": 8,
     "data": {
      "text/plain": "Closed due to COVID-19    282\nPartially open            242\nAcademic break             74\nFully open                 26\nName: Status, dtype: int64"
     },
     "metadata": {}
    }
   ],
   "execution_count": 8
  },
  {
   "cell_type": "markdown",
   "source": "### Análisis unidimensional\n\nHaz conteos para las variables categóricas",
   "metadata": {
    "tags": [],
    "cell_id": "00003-2b78c530-7eae-4191-b389-3c420e038909",
    "deepnote_cell_type": "markdown"
   },
   "outputs": [],
   "execution_count": null
  },
  {
   "cell_type": "code",
   "source": "",
   "metadata": {
    "tags": [],
    "cell_id": "00004-f764de84-71d9-4289-8b60-ae8a2f0edeb2",
    "deepnote_cell_type": "code"
   },
   "outputs": [],
   "execution_count": null
  },
  {
   "cell_type": "code",
   "metadata": {
    "tags": [],
    "cell_id": "00000-560e7c87-62ed-43b3-a243-d793a97f543a",
    "deepnote_cell_type": "code"
   },
   "source": "monitoring_closures_ec['Status'].unique()",
   "execution_count": null,
   "outputs": []
  },
  {
   "cell_type": "code",
   "metadata": {
    "tags": [],
    "cell_id": "00001-2cb2654e-63ac-48bb-b78e-d1b8b56fb0b2",
    "deepnote_cell_type": "code"
   },
   "source": "sns.countplot(data=monitoring_closures_ec, y='Status')\nplt.show()",
   "execution_count": null,
   "outputs": []
  },
  {
   "cell_type": "code",
   "metadata": {
    "tags": [],
    "cell_id": "00002-a6405a17-b7b7-4a27-870b-fe9fdd17f3d9",
    "deepnote_cell_type": "code"
   },
   "source": "plt.figure(figsize=[14, 8])\nsns.scatterplot(data=monitoring_closures_ec, x='Date', y='Status', hue='Status')\nplt.xticks(rotation=90)\nplt.show()",
   "execution_count": null,
   "outputs": []
  },
  {
   "cell_type": "markdown",
   "source": "### Análisis multidimensional",
   "metadata": {
    "tags": [],
    "cell_id": "00007-51e07b79-fa6b-4672-89b1-36d1a668e9b4",
    "deepnote_cell_type": "markdown"
   },
   "outputs": [],
   "execution_count": null
  },
  {
   "cell_type": "code",
   "source": "",
   "metadata": {
    "tags": [],
    "cell_id": "00008-e72a6c3e-22b0-417a-a26e-d24cd88d7cc0",
    "deepnote_cell_type": "code"
   },
   "outputs": [],
   "execution_count": null
  },
  {
   "cell_type": "markdown",
   "source": "## Gobierno de Ecuador\n\n### Visión general",
   "metadata": {
    "tags": [],
    "cell_id": "00009-f9174877-fda0-4386-a6c2-d4d9067c1c1f",
    "deepnote_cell_type": "markdown"
   },
   "outputs": [],
   "execution_count": null
  },
  {
   "cell_type": "code",
   "source": "",
   "metadata": {
    "tags": [],
    "cell_id": "00010-b9857d49-24f1-4bc4-b7f3-8e2f4a69962f",
    "deepnote_cell_type": "code"
   },
   "outputs": [],
   "execution_count": null
  },
  {
   "cell_type": "markdown",
   "source": "### Análisis unidimensional",
   "metadata": {
    "tags": [],
    "cell_id": "00011-428ab457-1166-4656-b87c-3fa4675ccb24",
    "deepnote_cell_type": "markdown"
   },
   "outputs": [],
   "execution_count": null
  },
  {
   "cell_type": "code",
   "source": "",
   "metadata": {
    "tags": [],
    "cell_id": "00012-8a11b993-a6f6-429c-96ea-e6f88aa7777d",
    "deepnote_cell_type": "code"
   },
   "outputs": [],
   "execution_count": null
  },
  {
   "cell_type": "markdown",
   "source": "### Análisis multidimensional",
   "metadata": {
    "tags": [],
    "cell_id": "00013-791d8d83-fd76-4910-9ea6-41f439d39cf6",
    "deepnote_cell_type": "markdown"
   },
   "outputs": [],
   "execution_count": null
  },
  {
   "cell_type": "code",
   "source": "",
   "metadata": {
    "tags": [],
    "cell_id": "00014-6fe2e202-562c-4f1a-b462-2d7492a8161c",
    "deepnote_cell_type": "code"
   },
   "outputs": [],
   "execution_count": null
  },
  {
   "cell_type": "markdown",
   "source": "<a style='text-decoration:none;line-height:16px;display:flex;color:#5B5B62;padding:10px;justify-content:end;' href='https://deepnote.com?utm_source=created-in-deepnote-cell&projectId=e7b048df-fc9b-4970-aa88-df153b270a6f' target=\"_blank\">\n<img alt='Created in deepnote.com' style='display:inline;max-height:16px;margin:0px;margin-right:7.5px;' src='data:image/svg+xml;base64,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' > </img>\nCreated in <span style='font-weight:600;margin-left:4px;'>Deepnote</span></a>",
   "metadata": {
    "tags": [],
    "created_in_deepnote_cell": true,
    "deepnote_cell_type": "markdown"
   }
  }
 ],
 "nbformat": 4,
 "nbformat_minor": 2,
 "metadata": {
  "orig_nbformat": 2,
  "deepnote": {
   "is_reactive": false
  },
  "deepnote_notebook_id": "70e3aa4e-06d0-4866-9b77-82daaa5c6e67",
  "deepnote_execution_queue": []
 }
}