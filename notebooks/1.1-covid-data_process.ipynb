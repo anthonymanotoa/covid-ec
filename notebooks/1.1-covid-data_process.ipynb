{
 "cells": [
  {
   "cell_type": "markdown",
   "source": "# Procesamiento data covid 19",
   "metadata": {
    "tags": [],
    "cell_id": "00006-ae0a20a2-c5fb-4e29-896b-3b377b17dcf7",
    "deepnote_cell_type": "markdown"
   }
  },
  {
   "cell_type": "code",
   "metadata": {
    "tags": [],
    "cell_id": "00000-e6187b3a-44b6-4a13-9834-8215e1fcc7e0",
    "deepnote_to_be_reexecuted": false,
    "source_hash": "3bc44cd8",
    "execution_start": 1640047382541,
    "execution_millis": 2278,
    "deepnote_cell_type": "code"
   },
   "source": "import pandas as pd\nimport matplotlib.pyplot as plt\nimport seaborn as sns",
   "outputs": [],
   "execution_count": 1
  },
  {
   "cell_type": "code",
   "metadata": {
    "tags": [],
    "cell_id": "00007-5b6ac6dd-2e63-442d-b4bb-23fa40b62621",
    "deepnote_to_be_reexecuted": false,
    "source_hash": "4e1e1cb1",
    "execution_start": 1640047384836,
    "execution_millis": 7,
    "deepnote_cell_type": "code"
   },
   "source": "# Function to create DataFrames\ndef create_df(path: str, name: str):\n    return pd.read_csv(path + name, index_col=0)",
   "outputs": [],
   "execution_count": 2
  },
  {
   "cell_type": "code",
   "source": "path = '/work/covid-ec/data/raw/'",
   "metadata": {
    "tags": [],
    "cell_id": "00003-7f7178e0-b1c6-4220-9b43-620aa73502f7",
    "deepnote_to_be_reexecuted": false,
    "source_hash": "fd091802",
    "execution_start": 1640047384852,
    "execution_millis": 229934,
    "deepnote_cell_type": "code"
   },
   "outputs": [],
   "execution_count": 3
  },
  {
   "cell_type": "code",
   "metadata": {
    "tags": [],
    "cell_id": "00007-03dc3925-7de9-433a-a37a-759c2829714b",
    "deepnote_to_be_reexecuted": false,
    "source_hash": "85d7e8e0",
    "execution_start": 1640047384897,
    "execution_millis": 44,
    "deepnote_output_heights": [
     231.078125
    ],
    "deepnote_cell_type": "code"
   },
   "source": "# Creating DataFrames\ndeaths_2021 = create_df(path, 'deaths_2021.csv')\ndeaths_2020 = create_df(path, 'deaths_2020.csv')\npositives_2021 = create_df(path, 'positives_2021.csv')\npositives_2020 = create_df(path, 'positives_2020.csv')\nvaccines = create_df(path, 'vaccines.csv')",
   "outputs": [],
   "execution_count": 4
  },
  {
   "cell_type": "code",
   "metadata": {
    "tags": [],
    "cell_id": "00008-19a389d6-0225-4700-b04e-d65baa01706a",
    "deepnote_to_be_reexecuted": false,
    "source_hash": "617a5a10",
    "execution_start": 1640047384942,
    "execution_millis": 45,
    "deepnote_cell_type": "code"
   },
   "source": "print(deaths_2020.sample(2))",
   "outputs": [
    {
     "name": "stdout",
     "text": "      provincia  poblacion  total  acumuladas       lat        lng  created_at\n8226  Pichincha    3228233     48       18504 -0.218611 -78.509722  08/12/2020\n6501  Sucumbíos     230503      0         741  0.084722 -76.882778  27/09/2020\n",
     "output_type": "stream",
     "data": {}
    }
   ],
   "execution_count": 5
  },
  {
   "cell_type": "code",
   "metadata": {
    "tags": [],
    "cell_id": "00009-da123e0d-7f1c-4839-9cc7-171ab15c4a7b",
    "deepnote_to_be_reexecuted": false,
    "source_hash": "b39958ec",
    "execution_start": 1640047384986,
    "execution_millis": 2,
    "deepnote_cell_type": "code"
   },
   "source": "print(positives_2020.sample(2))",
   "outputs": [
    {
     "name": "stdout",
     "text": "     provincia  poblacion  total  nuevas       lat        lng  created_at\n3985   Bolívar     209933   1417      10 -1.605556 -79.003056  26/08/2020\n1393   Bolívar     209933    167       4 -1.605556 -79.003056  10/05/2020\n",
     "output_type": "stream",
     "data": {}
    }
   ],
   "execution_count": 6
  },
  {
   "cell_type": "code",
   "metadata": {
    "tags": [],
    "cell_id": "00009-0a984298-14ea-4790-ab38-1272ab9961fe",
    "deepnote_to_be_reexecuted": false,
    "source_hash": "8e8e0ce0",
    "execution_start": 1640047384987,
    "execution_millis": 1,
    "deepnote_cell_type": "code"
   },
   "source": "print(vaccines.sample(2))",
   "outputs": [
    {
     "name": "stdout",
     "text": "          fecha  dosis_total  primera_dosis  segunda_dosis  refuerzo\n75   08/06/2021      2788245        1877548         910697         0\n185  18/10/2021     21475888       11401817       10072729      1342\n",
     "output_type": "stream",
     "data": {}
    }
   ],
   "execution_count": 7
  },
  {
   "cell_type": "markdown",
   "source": "Los DataFrames de 2021 tienen la misma estructura que los de 2020, así que se analizan los 3 de distinta estructura para realizar su limpieza.",
   "metadata": {
    "tags": [],
    "cell_id": "00011-46aab445-ea70-46d1-a076-49c23424d917",
    "deepnote_cell_type": "markdown"
   }
  },
  {
   "cell_type": "markdown",
   "source": "## Tipos de datos correctos y no nulos",
   "metadata": {
    "tags": [],
    "cell_id": "00007-04768b41-ba76-4b05-984a-f9bb61788678",
    "deepnote_cell_type": "markdown"
   }
  },
  {
   "cell_type": "code",
   "metadata": {
    "tags": [],
    "cell_id": "00008-f35cb63a-7528-4e89-9eaf-53ee379a4b8c",
    "deepnote_to_be_reexecuted": false,
    "source_hash": "8aa9f11e",
    "execution_start": 1640047385030,
    "execution_millis": 1,
    "deepnote_cell_type": "code"
   },
   "source": "print(deaths_2020.info(), positives_2020.info(), vaccines.info(), sep='\\n')",
   "outputs": [
    {
     "name": "stdout",
     "text": "<class 'pandas.core.frame.DataFrame'>\nInt64Index: 8784 entries, 0 to 8783\nData columns (total 7 columns):\n #   Column      Non-Null Count  Dtype  \n---  ------      --------------  -----  \n 0   provincia   8784 non-null   object \n 1   poblacion   8784 non-null   int64  \n 2   total       8784 non-null   int64  \n 3   acumuladas  8784 non-null   int64  \n 4   lat         8784 non-null   float64\n 5   lng         8784 non-null   float64\n 6   created_at  8784 non-null   object \ndtypes: float64(2), int64(3), object(2)\nmemory usage: 549.0+ KB\n<class 'pandas.core.frame.DataFrame'>\nInt64Index: 7056 entries, 0 to 7055\nData columns (total 7 columns):\n #   Column      Non-Null Count  Dtype  \n---  ------      --------------  -----  \n 0   provincia   7056 non-null   object \n 1   poblacion   7056 non-null   int64  \n 2   total       7056 non-null   int64  \n 3   nuevas      7056 non-null   int64  \n 4   lat         7056 non-null   float64\n 5   lng         7056 non-null   float64\n 6   created_at  7056 non-null   object \ndtypes: float64(2), int64(3), object(2)\nmemory usage: 441.0+ KB\n<class 'pandas.core.frame.DataFrame'>\nInt64Index: 243 entries, 0 to 242\nData columns (total 5 columns):\n #   Column         Non-Null Count  Dtype \n---  ------         --------------  ----- \n 0   fecha          243 non-null    object\n 1   dosis_total    243 non-null    int64 \n 2   primera_dosis  243 non-null    int64 \n 3   segunda_dosis  243 non-null    int64 \n 4   refuerzo       243 non-null    int64 \ndtypes: int64(4), object(1)\nmemory usage: 11.4+ KB\nNone\nNone\nNone\n",
     "output_type": "stream",
     "data": {}
    }
   ],
   "execution_count": 8
  },
  {
   "cell_type": "markdown",
   "source": "No hay datos nulos. Se debe cambiar el tipo `object` por `datetime`:",
   "metadata": {
    "tags": [],
    "cell_id": "00014-0360556b-af43-4084-92a8-e65490a4ba63",
    "deepnote_cell_type": "markdown"
   }
  },
  {
   "cell_type": "code",
   "metadata": {
    "tags": [],
    "cell_id": "00012-bbfb09fc-2e56-42e2-a4fb-f5bb674a5f11",
    "deepnote_to_be_reexecuted": false,
    "source_hash": "ee46f626",
    "execution_start": 1640047385039,
    "execution_millis": 11,
    "deepnote_output_heights": [
     231.078125
    ],
    "deepnote_cell_type": "code"
   },
   "source": "deaths_2021['created_at'] = pd.to_datetime(deaths_2021['created_at'], dayfirst=True)\ndeaths_2020['created_at'] = pd.to_datetime(deaths_2020['created_at'], dayfirst=True)\npositives_2021['created_at'] = pd.to_datetime(positives_2021['created_at'], dayfirst=True)\npositives_2020['created_at'] = pd.to_datetime(positives_2020['created_at'], dayfirst=True)\nvaccines['fecha'] = pd.to_datetime(vaccines['fecha'], dayfirst=True)",
   "outputs": [],
   "execution_count": 9
  },
  {
   "cell_type": "markdown",
   "source": "## Concatenar datasets\n\nSe concatena los datasets de deaths y positives (2020 y 2021) para facilitar el análisis.",
   "metadata": {
    "tags": [],
    "cell_id": "00018-6185ed83-3f2d-491f-a85b-d312671dd308",
    "deepnote_cell_type": "markdown"
   }
  },
  {
   "cell_type": "code",
   "metadata": {
    "tags": [],
    "cell_id": "00019-59aafc88-3cb1-4a08-8e38-e77ba5293654",
    "deepnote_to_be_reexecuted": false,
    "source_hash": "da4092cb",
    "execution_start": 1640047385101,
    "execution_millis": 0,
    "deepnote_output_heights": [
     517.4375
    ],
    "deepnote_cell_type": "code"
   },
   "source": "deaths = pd.concat([deaths_2020, deaths_2021])\npositives = pd.concat([positives_2020, positives_2021])",
   "outputs": [],
   "execution_count": 10
  },
  {
   "cell_type": "markdown",
   "source": "## Datos homogéneos\n\nSe busca posibles errores (números fuera de lo común o negativos).",
   "metadata": {
    "tags": [],
    "cell_id": "00014-3a7908a7-579c-4c02-a73b-8d71fd5f5031",
    "deepnote_cell_type": "markdown"
   }
  },
  {
   "cell_type": "markdown",
   "source": "### Positives dataset",
   "metadata": {
    "tags": [],
    "cell_id": "00016-19cbb3c2-a424-40ec-b4ea-6cef08b292fd",
    "deepnote_cell_type": "markdown"
   },
   "outputs": [],
   "execution_count": null
  },
  {
   "cell_type": "code",
   "metadata": {
    "tags": [],
    "cell_id": "00010-a1a40f20-47f9-430a-bc42-0665c2a77528",
    "deepnote_to_be_reexecuted": false,
    "source_hash": "a7999c2",
    "execution_start": 1640047385102,
    "execution_millis": 330,
    "deepnote_output_heights": [
     467.984375
    ],
    "deepnote_cell_type": "code"
   },
   "source": "plt.figure(figsize=[14, 8])\nplt.plot(positives.created_at, positives.nuevas)\nplt.show()",
   "outputs": [
    {
     "data": {
      "text/plain": "<Figure size 1008x576 with 1 Axes>",
      "image/png": "[encoded data removed]"
     },
     "metadata": {
      "needs_background": "light",
      "image/png": {
       "width": 836,
       "height": 466
      }
     },
     "output_type": "display_data"
    }
   ],
   "execution_count": 11
  },
  {
   "cell_type": "markdown",
   "source": "Hay datos negativos de casos positivos, debe ser un error, así que se hace la transformación.",
   "metadata": {
    "tags": [],
    "cell_id": "00017-ee90fd17-c5ea-4df1-8d8f-5a4cad0ac895",
    "deepnote_cell_type": "markdown"
   },
   "outputs": [],
   "execution_count": null
  },
  {
   "cell_type": "code",
   "metadata": {
    "tags": [],
    "cell_id": "00020-3e101217-9f4b-458f-95d0-efc2e844be0e",
    "deepnote_to_be_reexecuted": false,
    "source_hash": "1e38eac7",
    "execution_start": 1640047385481,
    "execution_millis": 0,
    "deepnote_output_heights": [
     231.078125
    ],
    "deepnote_cell_type": "code"
   },
   "source": "to_replace = positives.query('nuevas < 0')['nuevas'].values\nreplaced = to_replace * (-1)\npositives['nuevas'].replace(to_replace, replaced, inplace=True)",
   "outputs": [],
   "execution_count": 12
  },
  {
   "cell_type": "code",
   "metadata": {
    "tags": [],
    "cell_id": "00021-78d1ddcf-a090-4bf1-b9ee-a81d19d62d77",
    "deepnote_to_be_reexecuted": false,
    "source_hash": "2a419c57",
    "execution_start": 1640047385525,
    "execution_millis": 283,
    "deepnote_output_heights": [
     282.984375
    ],
    "deepnote_cell_type": "code"
   },
   "source": "plt.plot(positives.created_at, positives.nuevas)\nplt.xticks(rotation=90)\nplt.show()",
   "outputs": [
    {
     "data": {
      "text/plain": "<Figure size 432x288 with 1 Axes>",
      "image/png": "[encoded data removed]"
     },
     "metadata": {
      "needs_background": "light",
      "image/png": {
       "width": 381,
       "height": 281
      }
     },
     "output_type": "display_data"
    }
   ],
   "execution_count": 13
  },
  {
   "cell_type": "markdown",
   "source": "Se sigue con la revisión de los datasets para asegurarse de que no haya más anomalías.",
   "metadata": {
    "tags": [],
    "cell_id": "00020-3067d18d-5711-48e4-aef8-512a6fa95ce6",
    "deepnote_cell_type": "markdown"
   },
   "outputs": [],
   "execution_count": null
  },
  {
   "cell_type": "code",
   "source": "x=positives.query('provincia==\"Azuay\"')['created_at']\ny=positives.query('provincia==\"Azuay\"')['total']\nplt.plot(x, y)\nplt.xticks(rotation=90)\nplt.show()",
   "metadata": {
    "tags": [],
    "cell_id": "00021-e2923593-db60-4c1e-acf9-63729a26d4e1",
    "deepnote_to_be_reexecuted": false,
    "source_hash": "71b6986f",
    "execution_start": 1640047385857,
    "execution_millis": 299,
    "deepnote_output_heights": [
     281.984375
    ],
    "deepnote_cell_type": "code"
   },
   "outputs": [
    {
     "data": {
      "text/plain": "<Figure size 432x288 with 1 Axes>",
      "image/png": "[encoded data removed]"
     },
     "metadata": {
      "needs_background": "light",
      "image/png": {
       "width": 387,
       "height": 280
      }
     },
     "output_type": "display_data"
    }
   ],
   "execution_count": 14
  },
  {
   "cell_type": "markdown",
   "source": "La columna `total` muestra el acumulado por provincias, por lo que se la renombrará por `acumulados_provincia`.",
   "metadata": {
    "tags": [],
    "cell_id": "00021-8403c457-12ef-4c39-af23-3e77fb3f5a1e",
    "deepnote_to_be_reexecuted": false,
    "source_hash": "b623e53d",
    "execution_start": 1640042934778,
    "execution_millis": 0,
    "deepnote_cell_type": "markdown"
   },
   "outputs": [],
   "execution_count": 14
  },
  {
   "cell_type": "code",
   "source": "positives.rename(columns={'total': 'acumulados_provincia'}, inplace=True)",
   "metadata": {
    "tags": [],
    "cell_id": "00025-ad188517-091a-4655-bacf-7b847e62d4a6",
    "deepnote_to_be_reexecuted": false,
    "source_hash": "14192636",
    "execution_start": 1640047386153,
    "execution_millis": 229941,
    "deepnote_cell_type": "code"
   },
   "outputs": [],
   "execution_count": 15
  },
  {
   "cell_type": "markdown",
   "source": "Las columnas `lat` y `lng` no las ocuparé para el análisis, se las elimina.",
   "metadata": {
    "tags": [],
    "cell_id": "00024-d97ff261-ac67-4b17-8ec4-b9d81024d022",
    "deepnote_cell_type": "markdown"
   },
   "outputs": [],
   "execution_count": null
  },
  {
   "cell_type": "code",
   "source": "positives.drop(['lat', 'lng'], axis='columns', inplace=True)",
   "metadata": {
    "tags": [],
    "cell_id": "00023-42cb8749-8ee3-435f-9217-4dbeb05301f4",
    "deepnote_to_be_reexecuted": false,
    "source_hash": "3c1f44a2",
    "execution_start": 1640047386201,
    "execution_millis": 229897,
    "deepnote_cell_type": "code"
   },
   "outputs": [],
   "execution_count": 16
  },
  {
   "cell_type": "markdown",
   "source": "Se crea la nueva columna `acumulados` que llevará nuevos casos positivos acumulados por fechas.",
   "metadata": {
    "tags": [],
    "cell_id": "00027-ee6963fc-5014-4900-9660-567c9bd5c20f",
    "deepnote_to_be_reexecuted": false,
    "source_hash": "100eb702",
    "execution_start": 1640047139017,
    "execution_millis": 3,
    "deepnote_cell_type": "markdown"
   },
   "outputs": [],
   "execution_count": 33
  },
  {
   "cell_type": "code",
   "source": "positives['acumulados'] = positives['nuevas'].cumsum()",
   "metadata": {
    "tags": [],
    "cell_id": "00024-48390dbb-3cd6-47b2-beeb-db74dec0377c",
    "deepnote_to_be_reexecuted": false,
    "source_hash": "f56c332",
    "execution_start": 1640047386202,
    "execution_millis": 229943,
    "deepnote_cell_type": "code"
   },
   "outputs": [],
   "execution_count": 17
  },
  {
   "cell_type": "code",
   "source": "plt.plot(positives.created_at, positives.acumulados)\nplt.xticks(rotation=90)\nplt.show()",
   "metadata": {
    "tags": [],
    "cell_id": "00026-b503c330-4f0f-41ec-a822-ee24d3b4252a",
    "deepnote_to_be_reexecuted": false,
    "source_hash": "c39912ac",
    "execution_start": 1640047386202,
    "execution_millis": 259,
    "deepnote_output_heights": [
     281.984375
    ],
    "deepnote_cell_type": "code"
   },
   "outputs": [
    {
     "data": {
      "text/plain": "<Figure size 432x288 with 1 Axes>",
      "image/png": "[encoded data removed]"
     },
     "metadata": {
      "needs_background": "light",
      "image/png": {
       "width": 393,
       "height": 280
      }
     },
     "output_type": "display_data"
    }
   ],
   "execution_count": 18
  },
  {
   "cell_type": "markdown",
   "source": "Mucho mejor. Ahora los siguientes 2 datasets:",
   "metadata": {
    "tags": [],
    "cell_id": "00019-1ffeb819-8325-4cd0-a645-cc50887a59df",
    "deepnote_cell_type": "markdown"
   },
   "outputs": [],
   "execution_count": null
  },
  {
   "cell_type": "markdown",
   "source": "### Deaths dataset",
   "metadata": {
    "tags": [],
    "cell_id": "00029-e95969bc-5072-4782-8303-ea357738ef53",
    "deepnote_cell_type": "markdown"
   },
   "outputs": [],
   "execution_count": null
  },
  {
   "cell_type": "markdown",
   "source": "Comprobar que `poblacion` es el mismo valor (debería tener 24 valores únicos para las 24 provincias).",
   "metadata": {
    "tags": [],
    "cell_id": "00031-f8c1940e-c74c-4aa0-a57b-21b384b9b7b8",
    "deepnote_cell_type": "markdown"
   },
   "outputs": [],
   "execution_count": null
  },
  {
   "cell_type": "code",
   "source": "len(deaths['poblacion'].unique())",
   "metadata": {
    "tags": [],
    "cell_id": "00031-3231e574-649a-4fc5-ae78-72e67abcc5d7",
    "deepnote_to_be_reexecuted": false,
    "source_hash": "a146707d",
    "execution_start": 1640047386509,
    "execution_millis": 2,
    "deepnote_output_heights": [
     21.078125
    ],
    "deepnote_cell_type": "code"
   },
   "outputs": [
    {
     "output_type": "execute_result",
     "execution_count": 19,
     "data": {
      "text/plain": "24"
     },
     "metadata": {}
    }
   ],
   "execution_count": 19
  },
  {
   "cell_type": "markdown",
   "source": "Se verifica la columna `acumuladas`.",
   "metadata": {
    "tags": [],
    "cell_id": "00033-43b87038-1259-4745-b975-6a2d954d70c2",
    "deepnote_to_be_reexecuted": false,
    "source_hash": "c4bf1d81",
    "execution_start": 1640044999876,
    "execution_millis": 341,
    "deepnote_output_heights": [
     281.984375
    ],
    "deepnote_cell_type": "markdown"
   },
   "outputs": [],
   "execution_count": 31
  },
  {
   "cell_type": "code",
   "source": "plt.plot(deaths.created_at, deaths.acumuladas)\nplt.xticks(rotation=90)\nplt.show()",
   "metadata": {
    "tags": [],
    "cell_id": "00034-a5b90886-6381-48d4-b50a-9a2aefa49bbe",
    "deepnote_to_be_reexecuted": false,
    "source_hash": "a0361fc8",
    "execution_start": 1640047386510,
    "execution_millis": 302,
    "deepnote_output_heights": [
     282.984375
    ],
    "deepnote_cell_type": "code"
   },
   "outputs": [
    {
     "data": {
      "text/plain": "<Figure size 432x288 with 1 Axes>",
      "image/png": "[encoded data removed]"
     },
     "metadata": {
      "needs_background": "light",
      "image/png": {
       "width": 387,
       "height": 281
      }
     },
     "output_type": "display_data"
    }
   ],
   "execution_count": 20
  },
  {
   "cell_type": "markdown",
   "source": "El dataset se reinicia en el año 2021. Así que se reemplaza dicha columna por los valores correctos y también se crea las acumuladas por provincia. Además, se renombrará la columna `total` por `nuevas` para mantener homogeneidad con el dataset anterior.",
   "metadata": {
    "tags": [],
    "cell_id": "00035-0a9dcadb-7267-447d-92f0-dc414316d589",
    "deepnote_cell_type": "markdown"
   },
   "outputs": [],
   "execution_count": null
  },
  {
   "cell_type": "code",
   "source": "deaths.rename(columns={'total': 'nuevas'}, inplace=True)",
   "metadata": {
    "tags": [],
    "cell_id": "00036-0125eff4-0d4f-4807-8f3d-4e3f542e0eb8",
    "deepnote_to_be_reexecuted": false,
    "source_hash": "cc7ce8ae",
    "execution_start": 1640047386861,
    "execution_millis": 0,
    "deepnote_cell_type": "code"
   },
   "outputs": [],
   "execution_count": 21
  },
  {
   "cell_type": "code",
   "source": "# Drop unnecessary columns\ndeaths.drop(['lat', 'lng'], axis='columns', inplace=True)",
   "metadata": {
    "tags": [],
    "cell_id": "00036-93cfb1ff-4910-447e-af3d-2888856ef32b",
    "deepnote_to_be_reexecuted": false,
    "source_hash": "943d05d6",
    "execution_start": 1640047386862,
    "execution_millis": 0,
    "deepnote_cell_type": "code"
   },
   "outputs": [],
   "execution_count": 22
  },
  {
   "cell_type": "code",
   "source": "deaths['acumuladas'] = deaths['nuevas'].cumsum()\ndeaths['acumuladas_provincia'] = deaths.groupby('provincia')['nuevas'].cumsum()",
   "metadata": {
    "tags": [],
    "cell_id": "00038-caa32d88-2a6d-4193-92ee-650e65dda33a",
    "deepnote_to_be_reexecuted": false,
    "source_hash": "25769610",
    "execution_start": 1640047386863,
    "execution_millis": 0,
    "deepnote_cell_type": "code"
   },
   "outputs": [],
   "execution_count": 23
  },
  {
   "cell_type": "code",
   "source": "plt.plot(deaths.created_at, deaths.acumuladas)\nplt.xticks(rotation=90)\nplt.show()",
   "metadata": {
    "tags": [],
    "cell_id": "00041-7fafb2a6-6438-490a-931b-137ab162f1e5",
    "deepnote_to_be_reexecuted": false,
    "source_hash": "a0361fc8",
    "execution_start": 1640047386905,
    "execution_millis": 241,
    "deepnote_output_heights": [
     281.984375
    ],
    "deepnote_cell_type": "code"
   },
   "outputs": [
    {
     "data": {
      "text/plain": "<Figure size 432x288 with 1 Axes>",
      "image/png": "[encoded data removed]"
     },
     "metadata": {
      "needs_background": "light",
      "image/png": {
       "width": 393,
       "height": 280
      }
     },
     "output_type": "display_data"
    }
   ],
   "execution_count": 24
  },
  {
   "cell_type": "code",
   "source": "x=deaths.query('provincia==\"Azuay\"')['created_at']\ny=deaths.query('provincia==\"Azuay\"')['acumuladas_provincia']\nplt.plot(x, y)\nplt.xticks(rotation=90)\nplt.show()",
   "metadata": {
    "tags": [],
    "cell_id": "00040-8dc434ec-6395-4dad-93d1-de8f05c5e095",
    "deepnote_to_be_reexecuted": false,
    "source_hash": "38da558",
    "execution_start": 1640047387149,
    "execution_millis": 302,
    "deepnote_output_heights": [
     281.984375
    ],
    "deepnote_cell_type": "code"
   },
   "outputs": [
    {
     "data": {
      "text/plain": "<Figure size 432x288 with 1 Axes>",
      "image/png": "[encoded data removed]"
     },
     "metadata": {
      "needs_background": "light",
      "image/png": {
       "width": 387,
       "height": 280
      }
     },
     "output_type": "display_data"
    }
   ],
   "execution_count": 25
  },
  {
   "cell_type": "markdown",
   "source": "### Vaccines dataset",
   "metadata": {
    "tags": [],
    "cell_id": "00032-5ac26e38-bd80-41ae-837b-29805ad8246b",
    "deepnote_cell_type": "markdown"
   },
   "outputs": [],
   "execution_count": null
  },
  {
   "cell_type": "code",
   "source": "plt.figure(figsize=[14, 8])\nplt.plot(vaccines.fecha, vaccines.dosis_total, label='total')\nplt.plot(vaccines.fecha, vaccines.primera_dosis, label='primera')\nplt.plot(vaccines.fecha, vaccines.segunda_dosis, label='segunda')\nplt.plot(vaccines.fecha, vaccines.refuerzo, label='refuerzo')\nplt.show()",
   "metadata": {
    "tags": [],
    "cell_id": "00033-37cc6024-26b9-4d95-89ec-52b46a2c6f53",
    "deepnote_to_be_reexecuted": false,
    "source_hash": "cb81128",
    "execution_start": 1640047387549,
    "execution_millis": 284,
    "deepnote_output_heights": [
     478.96875
    ],
    "deepnote_cell_type": "code"
   },
   "outputs": [
    {
     "data": {
      "text/plain": "<Figure size 1008x576 with 1 Axes>",
      "image/png": "[encoded data removed]"
     },
     "metadata": {
      "needs_background": "light",
      "image/png": {
       "width": 838,
       "height": 477
      }
     },
     "output_type": "display_data"
    }
   ],
   "execution_count": 26
  },
  {
   "cell_type": "markdown",
   "source": "### Exportar data procesada\n\nResumen de cómo quedaron los datasets para exportarlos y analizarlos:",
   "metadata": {
    "tags": [],
    "cell_id": "00019-9054ad2d-b092-44e5-9258-e1549ad93a0c",
    "deepnote_cell_type": "markdown"
   }
  },
  {
   "cell_type": "code",
   "source": "positives.head()",
   "metadata": {
    "tags": [],
    "cell_id": "00031-fa83c022-ee9c-4e76-b668-2c2479727515",
    "deepnote_to_be_reexecuted": false,
    "source_hash": "b66319f9",
    "execution_start": 1640047387844,
    "execution_millis": 74,
    "deepnote_cell_type": "code"
   },
   "outputs": [
    {
     "output_type": "execute_result",
     "execution_count": 27,
     "data": {
      "application/vnd.deepnote.dataframe.v3+json": {
       "column_count": 6,
       "row_count": 5,
       "columns": [
        {
         "name": "provincia",
         "dtype": "object",
         "stats": {
          "unique_count": 5,
          "nan_count": 0,
          "categories": [
           {
            "name": "Azuay",
            "count": 1
           },
           {
            "name": "Bolívar",
            "count": 1
           },
           {
            "name": "3 others",
            "count": 3
           }
          ]
         }
        },
        {
         "name": "poblacion",
         "dtype": "int64",
         "stats": {
          "unique_count": 5,
          "nan_count": 0,
          "min": "186869",
          "max": "881394",
          "histogram": [
           {
            "bin_start": 186869,
            "bin_end": 256321.5,
            "count": 2
           },
           {
            "bin_start": 256321.5,
            "bin_end": 325774,
            "count": 1
           },
           {
            "bin_start": 325774,
            "bin_end": 395226.5,
            "count": 0
           },
           {
            "bin_start": 395226.5,
            "bin_end": 464679,
            "count": 0
           },
           {
            "bin_start": 464679,
            "bin_end": 534131.5,
            "count": 1
           },
           {
            "bin_start": 534131.5,
            "bin_end": 603584,
            "count": 0
           },
           {
            "bin_start": 603584,
            "bin_end": 673036.5,
            "count": 0
           },
           {
            "bin_start": 673036.5,
            "bin_end": 742489,
            "count": 0
           },
           {
            "bin_start": 742489,
            "bin_end": 811941.5,
            "count": 0
           },
           {
            "bin_start": 811941.5,
            "bin_end": 881394,
            "count": 1
           }
          ]
         }
        },
        {
         "name": "acumulados_provincia",
         "dtype": "int64",
         "stats": {
          "unique_count": 1,
          "nan_count": 0,
          "min": "0",
          "max": "0",
          "histogram": [
           {
            "bin_start": -0.5,
            "bin_end": -0.4,
            "count": 0
           },
           {
            "bin_start": -0.4,
            "bin_end": -0.3,
            "count": 0
           },
           {
            "bin_start": -0.3,
            "bin_end": -0.19999999999999996,
            "count": 0
           },
           {
            "bin_start": -0.19999999999999996,
            "bin_end": -0.09999999999999998,
            "count": 0
           },
           {
            "bin_start": -0.09999999999999998,
            "bin_end": 0,
            "count": 0
           },
           {
            "bin_start": 0,
            "bin_end": 0.10000000000000009,
            "count": 5
           },
           {
            "bin_start": 0.10000000000000009,
            "bin_end": 0.20000000000000007,
            "count": 0
           },
           {
            "bin_start": 0.20000000000000007,
            "bin_end": 0.30000000000000004,
            "count": 0
           },
           {
            "bin_start": 0.30000000000000004,
            "bin_end": 0.4,
            "count": 0
           },
           {
            "bin_start": 0.4,
            "bin_end": 0.5,
            "count": 0
           }
          ]
         }
        },
        {
         "name": "nuevas",
         "dtype": "int64",
         "stats": {
          "unique_count": 1,
          "nan_count": 0,
          "min": "0",
          "max": "0",
          "histogram": [
           {
            "bin_start": -0.5,
            "bin_end": -0.4,
            "count": 0
           },
           {
            "bin_start": -0.4,
            "bin_end": -0.3,
            "count": 0
           },
           {
            "bin_start": -0.3,
            "bin_end": -0.19999999999999996,
            "count": 0
           },
           {
            "bin_start": -0.19999999999999996,
            "bin_end": -0.09999999999999998,
            "count": 0
           },
           {
            "bin_start": -0.09999999999999998,
            "bin_end": 0,
            "count": 0
           },
           {
            "bin_start": 0,
            "bin_end": 0.10000000000000009,
            "count": 5
           },
           {
            "bin_start": 0.10000000000000009,
            "bin_end": 0.20000000000000007,
            "count": 0
           },
           {
            "bin_start": 0.20000000000000007,
            "bin_end": 0.30000000000000004,
            "count": 0
           },
           {
            "bin_start": 0.30000000000000004,
            "bin_end": 0.4,
            "count": 0
           },
           {
            "bin_start": 0.4,
            "bin_end": 0.5,
            "count": 0
           }
          ]
         }
        },
        {
         "name": "created_at",
         "dtype": "datetime64[ns]",
         "stats": {
          "unique_count": 1,
          "nan_count": 0,
          "min": "2020-03-13 00:00:00",
          "max": "2020-03-13 00:00:00",
          "histogram": null
         }
        },
        {
         "name": "acumulados",
         "dtype": "int64",
         "stats": {
          "unique_count": 1,
          "nan_count": 0,
          "min": "0",
          "max": "0",
          "histogram": [
           {
            "bin_start": -0.5,
            "bin_end": -0.4,
            "count": 0
           },
           {
            "bin_start": -0.4,
            "bin_end": -0.3,
            "count": 0
           },
           {
            "bin_start": -0.3,
            "bin_end": -0.19999999999999996,
            "count": 0
           },
           {
            "bin_start": -0.19999999999999996,
            "bin_end": -0.09999999999999998,
            "count": 0
           },
           {
            "bin_start": -0.09999999999999998,
            "bin_end": 0,
            "count": 0
           },
           {
            "bin_start": 0,
            "bin_end": 0.10000000000000009,
            "count": 5
           },
           {
            "bin_start": 0.10000000000000009,
            "bin_end": 0.20000000000000007,
            "count": 0
           },
           {
            "bin_start": 0.20000000000000007,
            "bin_end": 0.30000000000000004,
            "count": 0
           },
           {
            "bin_start": 0.30000000000000004,
            "bin_end": 0.4,
            "count": 0
           },
           {
            "bin_start": 0.4,
            "bin_end": 0.5,
            "count": 0
           }
          ]
         }
        },
        {
         "name": "_deepnote_index_column",
         "dtype": "int64"
        }
       ],
       "rows": [
        {
         "provincia": "Azuay",
         "poblacion": 881394,
         "acumulados_provincia": 0,
         "nuevas": 0,
         "created_at": "2020-03-13T00:00:00.000000",
         "acumulados": 0,
         "_deepnote_index_column": 0
        },
        {
         "provincia": "Bolívar",
         "poblacion": 209933,
         "acumulados_provincia": 0,
         "nuevas": 0,
         "created_at": "2020-03-13T00:00:00.000000",
         "acumulados": 0,
         "_deepnote_index_column": 1
        },
        {
         "provincia": "Carchi",
         "poblacion": 186869,
         "acumulados_provincia": 0,
         "nuevas": 0,
         "created_at": "2020-03-13T00:00:00.000000",
         "acumulados": 0,
         "_deepnote_index_column": 2
        },
        {
         "provincia": "Cañar",
         "poblacion": 281396,
         "acumulados_provincia": 0,
         "nuevas": 0,
         "created_at": "2020-03-13T00:00:00.000000",
         "acumulados": 0,
         "_deepnote_index_column": 3
        },
        {
         "provincia": "Chimborazo",
         "poblacion": 524004,
         "acumulados_provincia": 0,
         "nuevas": 0,
         "created_at": "2020-03-13T00:00:00.000000",
         "acumulados": 0,
         "_deepnote_index_column": 4
        }
       ]
      },
      "text/plain": "    provincia  poblacion  acumulados_provincia  nuevas created_at  acumulados\n0       Azuay     881394                     0       0 2020-03-13           0\n1     Bolívar     209933                     0       0 2020-03-13           0\n2      Carchi     186869                     0       0 2020-03-13           0\n3       Cañar     281396                     0       0 2020-03-13           0\n4  Chimborazo     524004                     0       0 2020-03-13           0",
      "text/html": "<div>\n<style scoped>\n    .dataframe tbody tr th:only-of-type {\n        vertical-align: middle;\n    }\n\n    .dataframe tbody tr th {\n        vertical-align: top;\n    }\n\n    .dataframe thead th {\n        text-align: right;\n    }\n</style>\n<table border=\"1\" class=\"dataframe\">\n  <thead>\n    <tr style=\"text-align: right;\">\n      <th></th>\n      <th>provincia</th>\n      <th>poblacion</th>\n      <th>acumulados_provincia</th>\n      <th>nuevas</th>\n      <th>created_at</th>\n      <th>acumulados</th>\n    </tr>\n  </thead>\n  <tbody>\n    <tr>\n      <th>0</th>\n      <td>Azuay</td>\n      <td>881394</td>\n      <td>0</td>\n      <td>0</td>\n      <td>2020-03-13</td>\n      <td>0</td>\n    </tr>\n    <tr>\n      <th>1</th>\n      <td>Bolívar</td>\n      <td>209933</td>\n      <td>0</td>\n      <td>0</td>\n      <td>2020-03-13</td>\n      <td>0</td>\n    </tr>\n    <tr>\n      <th>2</th>\n      <td>Carchi</td>\n      <td>186869</td>\n      <td>0</td>\n      <td>0</td>\n      <td>2020-03-13</td>\n      <td>0</td>\n    </tr>\n    <tr>\n      <th>3</th>\n      <td>Cañar</td>\n      <td>281396</td>\n      <td>0</td>\n      <td>0</td>\n      <td>2020-03-13</td>\n      <td>0</td>\n    </tr>\n    <tr>\n      <th>4</th>\n      <td>Chimborazo</td>\n      <td>524004</td>\n      <td>0</td>\n      <td>0</td>\n      <td>2020-03-13</td>\n      <td>0</td>\n    </tr>\n  </tbody>\n</table>\n</div>"
     },
     "metadata": {}
    }
   ],
   "execution_count": 27
  },
  {
   "cell_type": "code",
   "source": "deaths.head()",
   "metadata": {
    "tags": [],
    "cell_id": "00032-e8f31b04-ad1b-49ad-8992-bf12dce12854",
    "deepnote_to_be_reexecuted": false,
    "source_hash": "87e46fe6",
    "execution_start": 1640047387926,
    "execution_millis": 67,
    "deepnote_cell_type": "code"
   },
   "outputs": [
    {
     "output_type": "execute_result",
     "execution_count": 28,
     "data": {
      "application/vnd.deepnote.dataframe.v3+json": {
       "column_count": 6,
       "row_count": 5,
       "columns": [
        {
         "name": "provincia",
         "dtype": "object",
         "stats": {
          "unique_count": 5,
          "nan_count": 0,
          "categories": [
           {
            "name": "Azuay",
            "count": 1
           },
           {
            "name": "Bolívar",
            "count": 1
           },
           {
            "name": "3 others",
            "count": 3
           }
          ]
         }
        },
        {
         "name": "poblacion",
         "dtype": "int64",
         "stats": {
          "unique_count": 5,
          "nan_count": 0,
          "min": "186869",
          "max": "881394",
          "histogram": [
           {
            "bin_start": 186869,
            "bin_end": 256321.5,
            "count": 2
           },
           {
            "bin_start": 256321.5,
            "bin_end": 325774,
            "count": 1
           },
           {
            "bin_start": 325774,
            "bin_end": 395226.5,
            "count": 0
           },
           {
            "bin_start": 395226.5,
            "bin_end": 464679,
            "count": 0
           },
           {
            "bin_start": 464679,
            "bin_end": 534131.5,
            "count": 1
           },
           {
            "bin_start": 534131.5,
            "bin_end": 603584,
            "count": 0
           },
           {
            "bin_start": 603584,
            "bin_end": 673036.5,
            "count": 0
           },
           {
            "bin_start": 673036.5,
            "bin_end": 742489,
            "count": 0
           },
           {
            "bin_start": 742489,
            "bin_end": 811941.5,
            "count": 0
           },
           {
            "bin_start": 811941.5,
            "bin_end": 881394,
            "count": 1
           }
          ]
         }
        },
        {
         "name": "nuevas",
         "dtype": "int64",
         "stats": {
          "unique_count": 5,
          "nan_count": 0,
          "min": "1",
          "max": "21",
          "histogram": [
           {
            "bin_start": 1,
            "bin_end": 3,
            "count": 2
           },
           {
            "bin_start": 3,
            "bin_end": 5,
            "count": 0
           },
           {
            "bin_start": 5,
            "bin_end": 7,
            "count": 0
           },
           {
            "bin_start": 7,
            "bin_end": 9,
            "count": 2
           },
           {
            "bin_start": 9,
            "bin_end": 11,
            "count": 0
           },
           {
            "bin_start": 11,
            "bin_end": 13,
            "count": 0
           },
           {
            "bin_start": 13,
            "bin_end": 15,
            "count": 0
           },
           {
            "bin_start": 15,
            "bin_end": 17,
            "count": 0
           },
           {
            "bin_start": 17,
            "bin_end": 19,
            "count": 0
           },
           {
            "bin_start": 19,
            "bin_end": 21,
            "count": 1
           }
          ]
         }
        },
        {
         "name": "acumuladas",
         "dtype": "int64",
         "stats": {
          "unique_count": 5,
          "nan_count": 0,
          "min": "21",
          "max": "39",
          "histogram": [
           {
            "bin_start": 21,
            "bin_end": 22.8,
            "count": 1
           },
           {
            "bin_start": 22.8,
            "bin_end": 24.6,
            "count": 2
           },
           {
            "bin_start": 24.6,
            "bin_end": 26.4,
            "count": 0
           },
           {
            "bin_start": 26.4,
            "bin_end": 28.2,
            "count": 0
           },
           {
            "bin_start": 28.2,
            "bin_end": 30,
            "count": 0
           },
           {
            "bin_start": 30,
            "bin_end": 31.8,
            "count": 0
           },
           {
            "bin_start": 31.8,
            "bin_end": 33.6,
            "count": 1
           },
           {
            "bin_start": 33.6,
            "bin_end": 35.4,
            "count": 0
           },
           {
            "bin_start": 35.4,
            "bin_end": 37.2,
            "count": 0
           },
           {
            "bin_start": 37.2,
            "bin_end": 39,
            "count": 1
           }
          ]
         }
        },
        {
         "name": "created_at",
         "dtype": "datetime64[ns]",
         "stats": {
          "unique_count": 1,
          "nan_count": 0,
          "min": "2020-01-01 00:00:00",
          "max": "2020-01-01 00:00:00",
          "histogram": null
         }
        },
        {
         "name": "acumuladas_provincia",
         "dtype": "int64",
         "stats": {
          "unique_count": 5,
          "nan_count": 0,
          "min": "1",
          "max": "21",
          "histogram": [
           {
            "bin_start": 1,
            "bin_end": 3,
            "count": 2
           },
           {
            "bin_start": 3,
            "bin_end": 5,
            "count": 0
           },
           {
            "bin_start": 5,
            "bin_end": 7,
            "count": 0
           },
           {
            "bin_start": 7,
            "bin_end": 9,
            "count": 2
           },
           {
            "bin_start": 9,
            "bin_end": 11,
            "count": 0
           },
           {
            "bin_start": 11,
            "bin_end": 13,
            "count": 0
           },
           {
            "bin_start": 13,
            "bin_end": 15,
            "count": 0
           },
           {
            "bin_start": 15,
            "bin_end": 17,
            "count": 0
           },
           {
            "bin_start": 17,
            "bin_end": 19,
            "count": 0
           },
           {
            "bin_start": 19,
            "bin_end": 21,
            "count": 1
           }
          ]
         }
        },
        {
         "name": "_deepnote_index_column",
         "dtype": "int64"
        }
       ],
       "rows": [
        {
         "provincia": "Azuay",
         "poblacion": 881394,
         "nuevas": 21,
         "acumuladas": 21,
         "created_at": "2020-01-01T00:00:00.000000",
         "acumuladas_provincia": 21,
         "_deepnote_index_column": 0
        },
        {
         "provincia": "Bolívar",
         "poblacion": 209933,
         "nuevas": 2,
         "acumuladas": 23,
         "created_at": "2020-01-01T00:00:00.000000",
         "acumuladas_provincia": 2,
         "_deepnote_index_column": 1
        },
        {
         "provincia": "Carchi",
         "poblacion": 186869,
         "nuevas": 1,
         "acumuladas": 24,
         "created_at": "2020-01-01T00:00:00.000000",
         "acumuladas_provincia": 1,
         "_deepnote_index_column": 2
        },
        {
         "provincia": "Cañar",
         "poblacion": 281396,
         "nuevas": 8,
         "acumuladas": 32,
         "created_at": "2020-01-01T00:00:00.000000",
         "acumuladas_provincia": 8,
         "_deepnote_index_column": 3
        },
        {
         "provincia": "Chimborazo",
         "poblacion": 524004,
         "nuevas": 7,
         "acumuladas": 39,
         "created_at": "2020-01-01T00:00:00.000000",
         "acumuladas_provincia": 7,
         "_deepnote_index_column": 4
        }
       ]
      },
      "text/plain": "    provincia  poblacion  nuevas  acumuladas created_at  acumuladas_provincia\n0       Azuay     881394      21          21 2020-01-01                    21\n1     Bolívar     209933       2          23 2020-01-01                     2\n2      Carchi     186869       1          24 2020-01-01                     1\n3       Cañar     281396       8          32 2020-01-01                     8\n4  Chimborazo     524004       7          39 2020-01-01                     7",
      "text/html": "<div>\n<style scoped>\n    .dataframe tbody tr th:only-of-type {\n        vertical-align: middle;\n    }\n\n    .dataframe tbody tr th {\n        vertical-align: top;\n    }\n\n    .dataframe thead th {\n        text-align: right;\n    }\n</style>\n<table border=\"1\" class=\"dataframe\">\n  <thead>\n    <tr style=\"text-align: right;\">\n      <th></th>\n      <th>provincia</th>\n      <th>poblacion</th>\n      <th>nuevas</th>\n      <th>acumuladas</th>\n      <th>created_at</th>\n      <th>acumuladas_provincia</th>\n    </tr>\n  </thead>\n  <tbody>\n    <tr>\n      <th>0</th>\n      <td>Azuay</td>\n      <td>881394</td>\n      <td>21</td>\n      <td>21</td>\n      <td>2020-01-01</td>\n      <td>21</td>\n    </tr>\n    <tr>\n      <th>1</th>\n      <td>Bolívar</td>\n      <td>209933</td>\n      <td>2</td>\n      <td>23</td>\n      <td>2020-01-01</td>\n      <td>2</td>\n    </tr>\n    <tr>\n      <th>2</th>\n      <td>Carchi</td>\n      <td>186869</td>\n      <td>1</td>\n      <td>24</td>\n      <td>2020-01-01</td>\n      <td>1</td>\n    </tr>\n    <tr>\n      <th>3</th>\n      <td>Cañar</td>\n      <td>281396</td>\n      <td>8</td>\n      <td>32</td>\n      <td>2020-01-01</td>\n      <td>8</td>\n    </tr>\n    <tr>\n      <th>4</th>\n      <td>Chimborazo</td>\n      <td>524004</td>\n      <td>7</td>\n      <td>39</td>\n      <td>2020-01-01</td>\n      <td>7</td>\n    </tr>\n  </tbody>\n</table>\n</div>"
     },
     "metadata": {}
    }
   ],
   "execution_count": 28
  },
  {
   "cell_type": "code",
   "source": "vaccines.head()",
   "metadata": {
    "tags": [],
    "cell_id": "00033-f070439f-e991-44dd-9f0e-9b8c029dd8d7",
    "deepnote_to_be_reexecuted": false,
    "source_hash": "8a396fdb",
    "execution_start": 1640047388035,
    "execution_millis": 32,
    "deepnote_cell_type": "code"
   },
   "outputs": [
    {
     "output_type": "execute_result",
     "execution_count": 29,
     "data": {
      "application/vnd.deepnote.dataframe.v3+json": {
       "column_count": 5,
       "row_count": 5,
       "columns": [
        {
         "name": "fecha",
         "dtype": "datetime64[ns]",
         "stats": {
          "unique_count": 5,
          "nan_count": 0,
          "min": "2021-01-20 00:00:00",
          "max": "2021-02-04 00:00:00",
          "histogram": [
           {
            "bin_start": 1611100800000000000,
            "bin_end": 1611230400000000000,
            "count": 2
           },
           {
            "bin_start": 1611230400000000000,
            "bin_end": 1611360000000000000,
            "count": 1
           },
           {
            "bin_start": 1611360000000000000,
            "bin_end": 1611489600000000000,
            "count": 0
           },
           {
            "bin_start": 1611489600000000000,
            "bin_end": 1611619200000000000,
            "count": 0
           },
           {
            "bin_start": 1611619200000000000,
            "bin_end": 1611748800000000000,
            "count": 1
           },
           {
            "bin_start": 1611748800000000000,
            "bin_end": 1611878400000000000,
            "count": 0
           },
           {
            "bin_start": 1611878400000000000,
            "bin_end": 1612008000000000000,
            "count": 0
           },
           {
            "bin_start": 1612008000000000000,
            "bin_end": 1612137600000000000,
            "count": 0
           },
           {
            "bin_start": 1612137600000000000,
            "bin_end": 1612267200000000000,
            "count": 0
           },
           {
            "bin_start": 1612267200000000000,
            "bin_end": 1612396800000000000,
            "count": 1
           }
          ]
         }
        },
        {
         "name": "dosis_total",
         "dtype": "int64",
         "stats": {
          "unique_count": 4,
          "nan_count": 0,
          "min": "0",
          "max": "6228",
          "histogram": [
           {
            "bin_start": 0,
            "bin_end": 622.8,
            "count": 3
           },
           {
            "bin_start": 622.8,
            "bin_end": 1245.6,
            "count": 0
           },
           {
            "bin_start": 1245.6,
            "bin_end": 1868.3999999999999,
            "count": 0
           },
           {
            "bin_start": 1868.3999999999999,
            "bin_end": 2491.2,
            "count": 0
           },
           {
            "bin_start": 2491.2,
            "bin_end": 3114,
            "count": 1
           },
           {
            "bin_start": 3114,
            "bin_end": 3736.7999999999997,
            "count": 0
           },
           {
            "bin_start": 3736.7999999999997,
            "bin_end": 4359.599999999999,
            "count": 0
           },
           {
            "bin_start": 4359.599999999999,
            "bin_end": 4982.4,
            "count": 0
           },
           {
            "bin_start": 4982.4,
            "bin_end": 5605.2,
            "count": 0
           },
           {
            "bin_start": 5605.2,
            "bin_end": 6228,
            "count": 1
           }
          ]
         }
        },
        {
         "name": "primera_dosis",
         "dtype": "int64",
         "stats": {
          "unique_count": 4,
          "nan_count": 0,
          "min": "0",
          "max": "6228",
          "histogram": [
           {
            "bin_start": 0,
            "bin_end": 622.8,
            "count": 3
           },
           {
            "bin_start": 622.8,
            "bin_end": 1245.6,
            "count": 0
           },
           {
            "bin_start": 1245.6,
            "bin_end": 1868.3999999999999,
            "count": 0
           },
           {
            "bin_start": 1868.3999999999999,
            "bin_end": 2491.2,
            "count": 0
           },
           {
            "bin_start": 2491.2,
            "bin_end": 3114,
            "count": 1
           },
           {
            "bin_start": 3114,
            "bin_end": 3736.7999999999997,
            "count": 0
           },
           {
            "bin_start": 3736.7999999999997,
            "bin_end": 4359.599999999999,
            "count": 0
           },
           {
            "bin_start": 4359.599999999999,
            "bin_end": 4982.4,
            "count": 0
           },
           {
            "bin_start": 4982.4,
            "bin_end": 5605.2,
            "count": 0
           },
           {
            "bin_start": 5605.2,
            "bin_end": 6228,
            "count": 1
           }
          ]
         }
        },
        {
         "name": "segunda_dosis",
         "dtype": "int64",
         "stats": {
          "unique_count": 1,
          "nan_count": 0,
          "min": "0",
          "max": "0",
          "histogram": [
           {
            "bin_start": -0.5,
            "bin_end": -0.4,
            "count": 0
           },
           {
            "bin_start": -0.4,
            "bin_end": -0.3,
            "count": 0
           },
           {
            "bin_start": -0.3,
            "bin_end": -0.19999999999999996,
            "count": 0
           },
           {
            "bin_start": -0.19999999999999996,
            "bin_end": -0.09999999999999998,
            "count": 0
           },
           {
            "bin_start": -0.09999999999999998,
            "bin_end": 0,
            "count": 0
           },
           {
            "bin_start": 0,
            "bin_end": 0.10000000000000009,
            "count": 5
           },
           {
            "bin_start": 0.10000000000000009,
            "bin_end": 0.20000000000000007,
            "count": 0
           },
           {
            "bin_start": 0.20000000000000007,
            "bin_end": 0.30000000000000004,
            "count": 0
           },
           {
            "bin_start": 0.30000000000000004,
            "bin_end": 0.4,
            "count": 0
           },
           {
            "bin_start": 0.4,
            "bin_end": 0.5,
            "count": 0
           }
          ]
         }
        },
        {
         "name": "refuerzo",
         "dtype": "int64",
         "stats": {
          "unique_count": 1,
          "nan_count": 0,
          "min": "0",
          "max": "0",
          "histogram": [
           {
            "bin_start": -0.5,
            "bin_end": -0.4,
            "count": 0
           },
           {
            "bin_start": -0.4,
            "bin_end": -0.3,
            "count": 0
           },
           {
            "bin_start": -0.3,
            "bin_end": -0.19999999999999996,
            "count": 0
           },
           {
            "bin_start": -0.19999999999999996,
            "bin_end": -0.09999999999999998,
            "count": 0
           },
           {
            "bin_start": -0.09999999999999998,
            "bin_end": 0,
            "count": 0
           },
           {
            "bin_start": 0,
            "bin_end": 0.10000000000000009,
            "count": 5
           },
           {
            "bin_start": 0.10000000000000009,
            "bin_end": 0.20000000000000007,
            "count": 0
           },
           {
            "bin_start": 0.20000000000000007,
            "bin_end": 0.30000000000000004,
            "count": 0
           },
           {
            "bin_start": 0.30000000000000004,
            "bin_end": 0.4,
            "count": 0
           },
           {
            "bin_start": 0.4,
            "bin_end": 0.5,
            "count": 0
           }
          ]
         }
        },
        {
         "name": "_deepnote_index_column",
         "dtype": "int64"
        }
       ],
       "rows": [
        {
         "fecha": "2021-01-20T00:00:00.000000",
         "dosis_total": 0,
         "primera_dosis": 0,
         "segunda_dosis": 0,
         "refuerzo": 0,
         "_deepnote_index_column": 0
        },
        {
         "fecha": "2021-01-21T00:00:00.000000",
         "dosis_total": 0,
         "primera_dosis": 0,
         "segunda_dosis": 0,
         "refuerzo": 0,
         "_deepnote_index_column": 1
        },
        {
         "fecha": "2021-01-22T00:00:00.000000",
         "dosis_total": 108,
         "primera_dosis": 108,
         "segunda_dosis": 0,
         "refuerzo": 0,
         "_deepnote_index_column": 2
        },
        {
         "fecha": "2021-01-27T00:00:00.000000",
         "dosis_total": 2982,
         "primera_dosis": 2982,
         "segunda_dosis": 0,
         "refuerzo": 0,
         "_deepnote_index_column": 3
        },
        {
         "fecha": "2021-02-04T00:00:00.000000",
         "dosis_total": 6228,
         "primera_dosis": 6228,
         "segunda_dosis": 0,
         "refuerzo": 0,
         "_deepnote_index_column": 4
        }
       ]
      },
      "text/plain": "       fecha  dosis_total  primera_dosis  segunda_dosis  refuerzo\n0 2021-01-20            0              0              0         0\n1 2021-01-21            0              0              0         0\n2 2021-01-22          108            108              0         0\n3 2021-01-27         2982           2982              0         0\n4 2021-02-04         6228           6228              0         0",
      "text/html": "<div>\n<style scoped>\n    .dataframe tbody tr th:only-of-type {\n        vertical-align: middle;\n    }\n\n    .dataframe tbody tr th {\n        vertical-align: top;\n    }\n\n    .dataframe thead th {\n        text-align: right;\n    }\n</style>\n<table border=\"1\" class=\"dataframe\">\n  <thead>\n    <tr style=\"text-align: right;\">\n      <th></th>\n      <th>fecha</th>\n      <th>dosis_total</th>\n      <th>primera_dosis</th>\n      <th>segunda_dosis</th>\n      <th>refuerzo</th>\n    </tr>\n  </thead>\n  <tbody>\n    <tr>\n      <th>0</th>\n      <td>2021-01-20</td>\n      <td>0</td>\n      <td>0</td>\n      <td>0</td>\n      <td>0</td>\n    </tr>\n    <tr>\n      <th>1</th>\n      <td>2021-01-21</td>\n      <td>0</td>\n      <td>0</td>\n      <td>0</td>\n      <td>0</td>\n    </tr>\n    <tr>\n      <th>2</th>\n      <td>2021-01-22</td>\n      <td>108</td>\n      <td>108</td>\n      <td>0</td>\n      <td>0</td>\n    </tr>\n    <tr>\n      <th>3</th>\n      <td>2021-01-27</td>\n      <td>2982</td>\n      <td>2982</td>\n      <td>0</td>\n      <td>0</td>\n    </tr>\n    <tr>\n      <th>4</th>\n      <td>2021-02-04</td>\n      <td>6228</td>\n      <td>6228</td>\n      <td>0</td>\n      <td>0</td>\n    </tr>\n  </tbody>\n</table>\n</div>"
     },
     "metadata": {}
    }
   ],
   "execution_count": 29
  },
  {
   "cell_type": "code",
   "metadata": {
    "tags": [],
    "cell_id": "00021-cec06c41-499a-4aa5-b1de-1248d9537aa1",
    "deepnote_to_be_reexecuted": false,
    "source_hash": "3f4d9658",
    "execution_start": 1640047388070,
    "execution_millis": 1,
    "deepnote_cell_type": "code"
   },
   "source": "# df_name.to_csv('/work/covid-ec/data/processed/name.csv', index=None)",
   "outputs": [],
   "execution_count": 30
  },
  {
   "cell_type": "markdown",
   "source": "<a style='text-decoration:none;line-height:16px;display:flex;color:#5B5B62;padding:10px;justify-content:end;' href='https://deepnote.com?utm_source=created-in-deepnote-cell&projectId=e7b048df-fc9b-4970-aa88-df153b270a6f' target=\"_blank\">\n<img alt='Created in deepnote.com' style='display:inline;max-height:16px;margin:0px;margin-right:7.5px;' src='data:image/svg+xml;base64,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' > </img>\nCreated in <span style='font-weight:600;margin-left:4px;'>Deepnote</span></a>",
   "metadata": {
    "tags": [],
    "created_in_deepnote_cell": true,
    "deepnote_cell_type": "markdown"
   }
  }
 ],
 "nbformat": 4,
 "nbformat_minor": 2,
 "metadata": {
  "orig_nbformat": 2,
  "deepnote": {
   "is_reactive": false
  },
  "deepnote_notebook_id": "ba19da34-598f-4227-a7cd-d37c76200091",
  "deepnote_execution_queue": []
 }
}