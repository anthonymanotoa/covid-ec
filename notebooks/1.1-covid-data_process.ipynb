{
 "cells": [
  {
   "cell_type": "markdown",
   "source": "# Procesamiento",
   "metadata": {
    "tags": [],
    "cell_id": "00006-ae0a20a2-c5fb-4e29-896b-3b377b17dcf7",
    "deepnote_cell_type": "markdown"
   }
  },
  {
   "cell_type": "code",
   "metadata": {
    "tags": [],
    "cell_id": "00000-e6187b3a-44b6-4a13-9834-8215e1fcc7e0",
    "deepnote_to_be_reexecuted": false,
    "source_hash": "3bc44cd8",
    "execution_start": 1640037500602,
    "execution_millis": 2909,
    "deepnote_cell_type": "code"
   },
   "source": "import pandas as pd\nimport matplotlib.pyplot as plt\nimport seaborn as sns",
   "outputs": [],
   "execution_count": 1
  },
  {
   "cell_type": "code",
   "metadata": {
    "tags": [],
    "cell_id": "00007-5b6ac6dd-2e63-442d-b4bb-23fa40b62621",
    "deepnote_to_be_reexecuted": false,
    "source_hash": "4e1e1cb1",
    "execution_start": 1640037504062,
    "execution_millis": 11,
    "deepnote_cell_type": "code"
   },
   "source": "# Function to create DataFrames\ndef create_df(path: str, name: str):\n    return pd.read_csv(path + name, index_col=0)",
   "outputs": [],
   "execution_count": 6
  },
  {
   "cell_type": "code",
   "metadata": {
    "tags": [],
    "cell_id": "00007-03dc3925-7de9-433a-a37a-759c2829714b",
    "deepnote_to_be_reexecuted": false,
    "source_hash": "85d7e8e0",
    "execution_start": 1640037504087,
    "execution_millis": 92,
    "deepnote_output_heights": [
     231.078125
    ],
    "deepnote_cell_type": "code"
   },
   "source": "# Creating DataFrames\ndeaths_2021 = create_df(path, 'deaths_2021.csv')\ndeaths_2020 = create_df(path, 'deaths_2020.csv')\npositives_2021 = create_df(path, 'positives_2021.csv')\npositives_2020 = create_df(path, 'positives_2020.csv')\nvaccines = create_df(path, 'vaccines.csv')",
   "outputs": [],
   "execution_count": 7
  },
  {
   "cell_type": "code",
   "metadata": {
    "tags": [],
    "cell_id": "00008-19a389d6-0225-4700-b04e-d65baa01706a",
    "deepnote_to_be_reexecuted": false,
    "source_hash": "617a5a10",
    "execution_start": 1640037504198,
    "execution_millis": 120,
    "deepnote_cell_type": "code"
   },
   "source": "print(deaths_2020.sample(2))",
   "outputs": [
    {
     "name": "stdout",
     "text": "     provincia  poblacion  total  acumuladas       lat        lng  created_at\n2485    Manabí    1562079     74        2532 -1.056181 -80.455217  13/04/2020\n1787      Loja     521154      4         487 -3.983333 -79.200000  15/03/2020\n",
     "output_type": "stream",
     "data": {}
    }
   ],
   "execution_count": 8
  },
  {
   "cell_type": "code",
   "metadata": {
    "tags": [],
    "cell_id": "00009-da123e0d-7f1c-4839-9cc7-171ab15c4a7b",
    "deepnote_to_be_reexecuted": false,
    "source_hash": "b39958ec",
    "execution_start": 1640037504244,
    "execution_millis": 2,
    "deepnote_cell_type": "code"
   },
   "source": "print(positives_2020.sample(2))",
   "outputs": [
    {
     "name": "stdout",
     "text": "             provincia  poblacion  total  nuevas       lat        lng  \\\n3335  Zamora Chinchipe     120416    912       7 -4.120000 -78.800000   \n6489            Guayas    4387434  25639     179 -2.183333 -79.883333   \n\n      created_at  \n3335  29/07/2020  \n6489  08/12/2020  \n",
     "output_type": "stream",
     "data": {}
    }
   ],
   "execution_count": 9
  },
  {
   "cell_type": "code",
   "metadata": {
    "tags": [],
    "cell_id": "00009-0a984298-14ea-4790-ab38-1272ab9961fe",
    "deepnote_to_be_reexecuted": false,
    "source_hash": "8e8e0ce0",
    "execution_start": 1640037504290,
    "execution_millis": 29,
    "deepnote_cell_type": "code"
   },
   "source": "print(vaccines.sample(2))",
   "outputs": [
    {
     "name": "stdout",
     "text": "          fecha  dosis_total  primera_dosis  segunda_dosis  refuerzo\n167  30/09/2021     20896804       10978191        9918613         0\n151  08/09/2021     20225580       10699102        9526478         0\n",
     "output_type": "stream",
     "data": {}
    }
   ],
   "execution_count": 10
  },
  {
   "cell_type": "markdown",
   "source": "Los DataFrames de 2021 tienen la misma estructura que los de 2020, así que se analizan los 3 de distinta estructura para realizar su limpieza.",
   "metadata": {
    "tags": [],
    "cell_id": "00011-46aab445-ea70-46d1-a076-49c23424d917",
    "deepnote_cell_type": "markdown"
   }
  },
  {
   "cell_type": "markdown",
   "source": "### Tipos de datos correctos y no nulos",
   "metadata": {
    "tags": [],
    "cell_id": "00007-04768b41-ba76-4b05-984a-f9bb61788678",
    "deepnote_cell_type": "markdown"
   }
  },
  {
   "cell_type": "code",
   "metadata": {
    "tags": [],
    "cell_id": "00008-f35cb63a-7528-4e89-9eaf-53ee379a4b8c",
    "deepnote_to_be_reexecuted": false,
    "source_hash": "44d8854b",
    "execution_start": 1640037504291,
    "execution_millis": 48,
    "deepnote_cell_type": "code"
   },
   "source": "# Mejor usa .info() desde antes\nprint(deaths_2020.info(), positives_2020.info(), vaccines.info(), sep='\\n')",
   "outputs": [
    {
     "name": "stdout",
     "text": "<class 'pandas.core.frame.DataFrame'>\nInt64Index: 8784 entries, 0 to 8783\nData columns (total 7 columns):\n #   Column      Non-Null Count  Dtype  \n---  ------      --------------  -----  \n 0   provincia   8784 non-null   object \n 1   poblacion   8784 non-null   int64  \n 2   total       8784 non-null   int64  \n 3   acumuladas  8784 non-null   int64  \n 4   lat         8784 non-null   float64\n 5   lng         8784 non-null   float64\n 6   created_at  8784 non-null   object \ndtypes: float64(2), int64(3), object(2)\nmemory usage: 549.0+ KB\n<class 'pandas.core.frame.DataFrame'>\nInt64Index: 7056 entries, 0 to 7055\nData columns (total 7 columns):\n #   Column      Non-Null Count  Dtype  \n---  ------      --------------  -----  \n 0   provincia   7056 non-null   object \n 1   poblacion   7056 non-null   int64  \n 2   total       7056 non-null   int64  \n 3   nuevas      7056 non-null   int64  \n 4   lat         7056 non-null   float64\n 5   lng         7056 non-null   float64\n 6   created_at  7056 non-null   object \ndtypes: float64(2), int64(3), object(2)\nmemory usage: 441.0+ KB\n<class 'pandas.core.frame.DataFrame'>\nInt64Index: 243 entries, 0 to 242\nData columns (total 5 columns):\n #   Column         Non-Null Count  Dtype \n---  ------         --------------  ----- \n 0   fecha          243 non-null    object\n 1   dosis_total    243 non-null    int64 \n 2   primera_dosis  243 non-null    int64 \n 3   segunda_dosis  243 non-null    int64 \n 4   refuerzo       243 non-null    int64 \ndtypes: int64(4), object(1)\nmemory usage: 11.4+ KB\nNone\nNone\nNone\n",
     "output_type": "stream",
     "data": {}
    }
   ],
   "execution_count": 11
  },
  {
   "cell_type": "markdown",
   "source": "No hay datos nulos. Se debe cambiar el tipo `object` por `datetime`:",
   "metadata": {
    "tags": [],
    "cell_id": "00014-0360556b-af43-4084-92a8-e65490a4ba63",
    "deepnote_cell_type": "markdown"
   }
  },
  {
   "cell_type": "code",
   "metadata": {
    "tags": [],
    "cell_id": "00012-bbfb09fc-2e56-42e2-a4fb-f5bb674a5f11",
    "deepnote_to_be_reexecuted": false,
    "source_hash": "fc152b43",
    "execution_start": 1640037504385,
    "execution_millis": 0,
    "deepnote_output_heights": [
     231.078125
    ],
    "deepnote_cell_type": "code"
   },
   "source": "deaths_2021['created_at'] = pd.to_datetime(deaths_2021['created_at'])\ndeaths_2020['created_at'] = pd.to_datetime(deaths_2020['created_at'])\npositives_2021['created_at'] = pd.to_datetime(positives_2021['created_at'])\npositives_2020['created_at'] = pd.to_datetime(positives_2020['created_at'])\nvaccines['fecha'] = pd.to_datetime(vaccines['fecha'])",
   "outputs": [],
   "execution_count": 12
  },
  {
   "cell_type": "markdown",
   "source": "### Concatenar datasets\n\nSe concatena los datasets de deaths y positives para facilitar el análisis.",
   "metadata": {
    "tags": [],
    "cell_id": "00018-6185ed83-3f2d-491f-a85b-d312671dd308",
    "deepnote_cell_type": "markdown"
   }
  },
  {
   "cell_type": "code",
   "metadata": {
    "tags": [],
    "cell_id": "00019-59aafc88-3cb1-4a08-8e38-e77ba5293654",
    "deepnote_to_be_reexecuted": false,
    "source_hash": "da4092cb",
    "execution_start": 1640037504431,
    "execution_millis": 618285,
    "deepnote_output_heights": [
     517.4375
    ],
    "deepnote_cell_type": "code"
   },
   "source": "deaths = pd.concat([deaths_2020, deaths_2021])\npositives = pd.concat([positives_2020, positives_2021])",
   "outputs": [],
   "execution_count": 13
  },
  {
   "cell_type": "markdown",
   "source": "### Datos homogéneos\n\nEncontrar posibles errores (números fuera de lo común o negativos) y seleccionar las columnas de datos que se van a necesitar.",
   "metadata": {
    "tags": [],
    "cell_id": "00014-3a7908a7-579c-4c02-a73b-8d71fd5f5031",
    "deepnote_cell_type": "markdown"
   }
  },
  {
   "cell_type": "code",
   "metadata": {
    "tags": [],
    "cell_id": "00018-7693961f-1c61-47e7-bb0f-b2d81a695464",
    "deepnote_to_be_reexecuted": false,
    "source_hash": "4153ea51",
    "execution_start": 1640037504431,
    "execution_millis": 3,
    "deepnote_output_heights": [
     154.71875
    ],
    "deepnote_cell_type": "code"
   },
   "source": "print(deaths.isnull().any(), positives.isnull().any(), vaccines.isnull().any(), sep='\\n')",
   "outputs": [
    {
     "name": "stdout",
     "text": "provincia     False\npoblacion     False\ntotal         False\nacumuladas    False\nlat           False\nlng           False\ncreated_at    False\ndtype: bool\nprovincia     False\npoblacion     False\ntotal         False\nnuevas        False\nlat           False\nlng           False\ncreated_at    False\ndtype: bool\nfecha            False\ndosis_total      False\nprimera_dosis    False\nsegunda_dosis    False\nrefuerzo         False\ndtype: bool\n",
     "output_type": "stream",
     "data": {}
    }
   ],
   "execution_count": 14
  },
  {
   "cell_type": "code",
   "metadata": {
    "tags": [],
    "cell_id": "00010-a1a40f20-47f9-430a-bc42-0665c2a77528",
    "deepnote_to_be_reexecuted": false,
    "source_hash": "cadad0aa",
    "execution_start": 1640037504473,
    "execution_millis": 373,
    "deepnote_output_heights": [
     249.984375
    ],
    "deepnote_cell_type": "code"
   },
   "source": "plt.plot(positives.created_at, positives.nuevas)\nplt.show()",
   "outputs": [
    {
     "data": {
      "text/plain": "<Figure size 432x288 with 1 Axes>",
      "image/png": "[encoded data removed]"
     },
     "metadata": {
      "needs_background": "light",
      "image/png": {
       "width": 400,
       "height": 248
      }
     },
     "output_type": "display_data"
    }
   ],
   "execution_count": 15
  },
  {
   "cell_type": "code",
   "metadata": {
    "tags": [],
    "cell_id": "00020-3e101217-9f4b-458f-95d0-efc2e844be0e",
    "deepnote_to_be_reexecuted": false,
    "source_hash": "1e38eac7",
    "execution_start": 1640037504861,
    "execution_millis": 35,
    "deepnote_output_heights": [
     231.078125
    ],
    "deepnote_cell_type": "code"
   },
   "source": "to_replace = positives.query('nuevas < 0')['nuevas'].values\nreplaced = to_replace * (-1)\npositives['nuevas'].replace(to_replace, replaced, inplace=True)",
   "outputs": [],
   "execution_count": 16
  },
  {
   "cell_type": "code",
   "metadata": {
    "tags": [],
    "cell_id": "00021-78d1ddcf-a090-4bf1-b9ee-a81d19d62d77",
    "deepnote_to_be_reexecuted": false,
    "source_hash": "cadad0aa",
    "execution_start": 1640037505000,
    "execution_millis": 420,
    "deepnote_output_heights": [
     250.984375
    ],
    "deepnote_cell_type": "code"
   },
   "source": "plt.plot(positives.created_at, positives.nuevas)\nplt.show()",
   "outputs": [
    {
     "data": {
      "text/plain": "<Figure size 432x288 with 1 Axes>",
      "image/png": "[encoded data removed]"
     },
     "metadata": {
      "needs_background": "light",
      "image/png": {
       "width": 392,
       "height": 249
      }
     },
     "output_type": "display_data"
    }
   ],
   "execution_count": 17
  },
  {
   "cell_type": "code",
   "metadata": {
    "tags": [],
    "cell_id": "00014-4b84b4c9-1404-434d-a12f-79759e9ad921",
    "deepnote_to_be_reexecuted": false,
    "source_hash": "660d8c01",
    "execution_start": 1640037505426,
    "execution_millis": 6,
    "deepnote_output_heights": [
     154.71875
    ],
    "deepnote_cell_type": "code"
   },
   "source": "deaths_2021.dtypes",
   "outputs": [
    {
     "output_type": "execute_result",
     "execution_count": 18,
     "data": {
      "text/plain": "provincia             object\npoblacion              int64\ntotal                  int64\nacumuladas             int64\nlat                  float64\nlng                  float64\ncreated_at    datetime64[ns]\ndtype: object"
     },
     "metadata": {}
    }
   ],
   "execution_count": 18
  },
  {
   "cell_type": "markdown",
   "source": "### Exportar data procesada\n\nIdea: crea una columna de año y otra de mes",
   "metadata": {
    "tags": [],
    "cell_id": "00019-9054ad2d-b092-44e5-9258-e1549ad93a0c",
    "deepnote_cell_type": "markdown"
   }
  },
  {
   "cell_type": "code",
   "metadata": {
    "tags": [],
    "cell_id": "00021-cec06c41-499a-4aa5-b1de-1248d9537aa1",
    "deepnote_to_be_reexecuted": false,
    "source_hash": "b623e53d",
    "execution_start": 1640037505493,
    "execution_millis": 618353,
    "deepnote_cell_type": "code"
   },
   "source": "",
   "outputs": [],
   "execution_count": 18
  },
  {
   "cell_type": "markdown",
   "source": "<a style='text-decoration:none;line-height:16px;display:flex;color:#5B5B62;padding:10px;justify-content:end;' href='https://deepnote.com?utm_source=created-in-deepnote-cell&projectId=e7b048df-fc9b-4970-aa88-df153b270a6f' target=\"_blank\">\n<img alt='Created in deepnote.com' style='display:inline;max-height:16px;margin:0px;margin-right:7.5px;' src='data:image/svg+xml;base64,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' > </img>\nCreated in <span style='font-weight:600;margin-left:4px;'>Deepnote</span></a>",
   "metadata": {
    "tags": [],
    "created_in_deepnote_cell": true,
    "deepnote_cell_type": "markdown"
   }
  }
 ],
 "nbformat": 4,
 "nbformat_minor": 2,
 "metadata": {
  "orig_nbformat": 2,
  "deepnote": {
   "is_reactive": false
  },
  "deepnote_notebook_id": "ba19da34-598f-4227-a7cd-d37c76200091",
  "deepnote_execution_queue": []
 }
}